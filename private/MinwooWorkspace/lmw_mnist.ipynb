{
  "nbformat": 4,
  "nbformat_minor": 0,
  "metadata": {
    "colab": {
      "provenance": [],
      "authorship_tag": "ABX9TyO813tgvPcZ0QrONRTg8mTd",
      "include_colab_link": true
    },
    "kernelspec": {
      "name": "python3",
      "display_name": "Python 3"
    },
    "language_info": {
      "name": "python"
    }
  },
  "cells": [
    {
      "cell_type": "markdown",
      "metadata": {
        "id": "view-in-github",
        "colab_type": "text"
      },
      "source": [
        "<a href=\"https://colab.research.google.com/github/hs0224/a-professor-student-research-club/blob/MinWooooooo/MinwooWorkspace/lmw_mnist.ipynb\" target=\"_parent\"><img src=\"https://colab.research.google.com/assets/colab-badge.svg\" alt=\"Open In Colab\"/></a>"
      ]
    },
    {
      "cell_type": "code",
      "execution_count": 1,
      "metadata": {
        "id": "qfNZeF19SAdV",
        "colab": {
          "base_uri": "https://localhost:8080/"
        },
        "outputId": "14623045-d647-44e6-db49-b5320c7e89c8"
      },
      "outputs": [
        {
          "output_type": "stream",
          "name": "stdout",
          "text": [
            "\u001b[K     |████████████████████████████████| 719 kB 9.9 MB/s \n",
            "\u001b[K     |████████████████████████████████| 451 kB 49.7 MB/s \n",
            "\u001b[K     |████████████████████████████████| 1.3 MB 47.9 MB/s \n",
            "\u001b[K     |████████████████████████████████| 5.8 MB 40.8 MB/s \n",
            "\u001b[K     |████████████████████████████████| 1.6 MB 20.6 MB/s \n",
            "\u001b[K     |████████████████████████████████| 212 kB 22.5 MB/s \n",
            "\u001b[K     |████████████████████████████████| 182 kB 40.7 MB/s \n",
            "\u001b[K     |████████████████████████████████| 132 kB 35.8 MB/s \n",
            "\u001b[33mWARNING: Retrying (Retry(total=4, connect=None, read=None, redirect=None, status=None)) after connection broken by 'ProtocolError('Connection aborted.', ConnectionResetError(104, 'Connection reset by peer'))': /simple/urllib3/\u001b[0m\n",
            "\u001b[33m  WARNING: Retrying (Retry(total=4, connect=None, read=None, redirect=None, status=None)) after connection broken by 'ProtocolError('Connection aborted.', ConnectionResetError(104, 'Connection reset by peer'))': /packages/56/aa/4ef5aa67a9a62505db124a5cb5262332d1d4153462eb8fd89c9fa41e5d92/urllib3-1.25.11-py2.py3-none-any.whl\u001b[0m\n",
            "\u001b[K     |████████████████████████████████| 127 kB 4.0 MB/s \n",
            "\u001b[K     |████████████████████████████████| 7.6 MB 6.6 MB/s \n",
            "\u001b[?25hMounted at /content/gdrive\n"
          ]
        }
      ],
      "source": [
        "#hide\n",
        "! [ -e /content ] && pip install -Uqq fastbook\n",
        "import fastbook\n",
        "fastbook.setup_book()"
      ]
    },
    {
      "cell_type": "code",
      "source": [
        "#hide\n",
        "from fastai.vision.all import *\n",
        "from fastbook import *\n",
        "\n",
        "matplotlib.rc('image', cmap='Greys')"
      ],
      "metadata": {
        "id": "XbZqX99cSFwj"
      },
      "execution_count": 2,
      "outputs": []
    },
    {
      "cell_type": "code",
      "source": [
        "path = untar_data(URLs.MNIST)"
      ],
      "metadata": {
        "id": "RSxT2UTPSF4V",
        "colab": {
          "base_uri": "https://localhost:8080/",
          "height": 38
        },
        "outputId": "197c15bb-558c-4853-98be-82b04f79acc7"
      },
      "execution_count": 3,
      "outputs": [
        {
          "output_type": "display_data",
          "data": {
            "text/plain": [
              "<IPython.core.display.HTML object>"
            ],
            "text/html": [
              "\n",
              "<style>\n",
              "    /* Turns off some styling */\n",
              "    progress {\n",
              "        /* gets rid of default border in Firefox and Opera. */\n",
              "        border: none;\n",
              "        /* Needs to be in here for Safari polyfill so background images work as expected. */\n",
              "        background-size: auto;\n",
              "    }\n",
              "    progress:not([value]), progress:not([value])::-webkit-progress-bar {\n",
              "        background: repeating-linear-gradient(45deg, #7e7e7e, #7e7e7e 10px, #5c5c5c 10px, #5c5c5c 20px);\n",
              "    }\n",
              "    .progress-bar-interrupted, .progress-bar-interrupted::-webkit-progress-bar {\n",
              "        background: #F44336;\n",
              "    }\n",
              "</style>\n"
            ]
          },
          "metadata": {}
        },
        {
          "output_type": "display_data",
          "data": {
            "text/plain": [
              "<IPython.core.display.HTML object>"
            ],
            "text/html": [
              "\n",
              "    <div>\n",
              "      <progress value='15687680' class='' max='15683414' style='width:300px; height:20px; vertical-align: middle;'></progress>\n",
              "      100.03% [15687680/15683414 00:00&lt;00:00]\n",
              "    </div>\n",
              "    "
            ]
          },
          "metadata": {}
        }
      ]
    },
    {
      "cell_type": "code",
      "source": [
        "#hide\n",
        "Path.BASE_PATH = path"
      ],
      "metadata": {
        "id": "5pL063lYSF6A"
      },
      "execution_count": 4,
      "outputs": []
    },
    {
      "cell_type": "code",
      "source": [
        "path.ls()"
      ],
      "metadata": {
        "colab": {
          "base_uri": "https://localhost:8080/"
        },
        "id": "eRJ3IiN1SF7e",
        "outputId": "194e386a-cbba-40cd-cbe5-eabde353939d"
      },
      "execution_count": 5,
      "outputs": [
        {
          "output_type": "execute_result",
          "data": {
            "text/plain": [
              "(#2) [Path('training'),Path('testing')]"
            ]
          },
          "metadata": {},
          "execution_count": 5
        }
      ]
    },
    {
      "cell_type": "code",
      "source": [
        "(path/'training').ls()"
      ],
      "metadata": {
        "colab": {
          "base_uri": "https://localhost:8080/"
        },
        "id": "NK86zqx_SF9l",
        "outputId": "89e86e61-4d3a-4626-8be0-56bf565fc7f4"
      },
      "execution_count": 6,
      "outputs": [
        {
          "output_type": "execute_result",
          "data": {
            "text/plain": [
              "(#10) [Path('training/6'),Path('training/9'),Path('training/3'),Path('training/1'),Path('training/5'),Path('training/7'),Path('training/0'),Path('training/8'),Path('training/4'),Path('training/2')]"
            ]
          },
          "metadata": {},
          "execution_count": 6
        }
      ]
    },
    {
      "cell_type": "markdown",
      "source": [
        "각 숫자 이미지별 정렬"
      ],
      "metadata": {
        "id": "IOjQ19R0f0hO"
      }
    },
    {
      "cell_type": "code",
      "source": [
        "zeros =(path/'training'/'0').ls().sorted() \n",
        "ones = (path/'training'/'1').ls().sorted()\n",
        "twos = (path/'training'/'2').ls().sorted()\n",
        "threes = (path/'training'/'3').ls().sorted()\n",
        "fours = (path/'training'/'4').ls().sorted()\n",
        "fives = (path/'training'/'5').ls().sorted()\n",
        "sixs = (path/'training'/'6').ls().sorted()\n",
        "sevens = (path/'training'/'7').ls().sorted()\n",
        "eights = (path/'training'/'8').ls().sorted()\n",
        "nines = (path/'training'/'9').ls().sorted()\n",
        "ones"
      ],
      "metadata": {
        "colab": {
          "base_uri": "https://localhost:8080/"
        },
        "id": "JNx0183USF_q",
        "outputId": "4401457d-91a1-455a-deb1-ca904856c559"
      },
      "execution_count": 7,
      "outputs": [
        {
          "output_type": "execute_result",
          "data": {
            "text/plain": [
              "(#6742) [Path('training/1/10006.png'),Path('training/1/10007.png'),Path('training/1/1002.png'),Path('training/1/10020.png'),Path('training/1/10027.png'),Path('training/1/1003.png'),Path('training/1/10040.png'),Path('training/1/10048.png'),Path('training/1/10058.png'),Path('training/1/10067.png')...]"
            ]
          },
          "metadata": {},
          "execution_count": 7
        }
      ]
    },
    {
      "cell_type": "markdown",
      "source": [
        "각 숫자 이미지 텐서(비트별 숫자로 표기)"
      ],
      "metadata": {
        "id": "ZG5ero2Pf3nu"
      }
    },
    {
      "cell_type": "code",
      "source": [
        "zero_tensors = [tensor(Image.open(o)) for o in zeros]\n",
        "one_tensors = [tensor(Image.open(o)) for o in ones]\n",
        "two_tensors = [tensor(Image.open(o)) for o in twos]\n",
        "three_tensors = [tensor(Image.open(o)) for o in threes]\n",
        "four_tensors = [tensor(Image.open(o)) for o in fours]\n",
        "five_tensors = [tensor(Image.open(o)) for o in fives]\n",
        "six_tensors = [tensor(Image.open(o)) for o in sixs]\n",
        "seven_tensors = [tensor(Image.open(o)) for o in sevens]\n",
        "eight_tensors = [tensor(Image.open(o)) for o in eights]\n",
        "nine_tensors = [tensor(Image.open(o)) for o in nines]\n"
      ],
      "metadata": {
        "id": "SiY_XNOwTcTi"
      },
      "execution_count": 8,
      "outputs": []
    },
    {
      "cell_type": "markdown",
      "source": [
        "28x28이미지 쌓기"
      ],
      "metadata": {
        "id": "1Ss84K9XgXI3"
      }
    },
    {
      "cell_type": "code",
      "source": [
        "stacked_zeros = torch.stack(zero_tensors).float()/255\n",
        "stacked_ones = torch.stack(one_tensors).float()/255\n",
        "stacked_twos = torch.stack(two_tensors).float()/255\n",
        "stacked_threes = torch.stack(three_tensors).float()/255\n",
        "stacked_fours = torch.stack(four_tensors).float()/255\n",
        "stacked_fives = torch.stack(five_tensors).float()/255\n",
        "stacked_sixs = torch.stack(six_tensors).float()/255\n",
        "stacked_sevens = torch.stack(seven_tensors).float()/255\n",
        "stacked_eights = torch.stack(eight_tensors).float()/255\n",
        "stacked_nines = torch.stack(nine_tensors).float()/255\n",
        "stacked_nines.shape"
      ],
      "metadata": {
        "id": "_yiOnGq3TcVk",
        "colab": {
          "base_uri": "https://localhost:8080/"
        },
        "outputId": "139961b5-e26d-4680-e11e-2adab59246fd"
      },
      "execution_count": 21,
      "outputs": [
        {
          "output_type": "execute_result",
          "data": {
            "text/plain": [
              "torch.Size([5949, 28, 28])"
            ]
          },
          "metadata": {},
          "execution_count": 21
        }
      ]
    },
    {
      "cell_type": "markdown",
      "source": [
        "쌓은 이미지 평균이미지 내기"
      ],
      "metadata": {
        "id": "Fk9DE6-1hjIB"
      }
    },
    {
      "cell_type": "code",
      "source": [
        "mean0 = stacked_zeros.mean(0)\n",
        "mean1 = stacked_ones.mean(0)\n",
        "mean2 = stacked_twos.mean(0)\n",
        "mean3 = stacked_threes.mean(0)\n",
        "mean4 = stacked_fours.mean(0)\n",
        "mean5 = stacked_fives.mean(0)\n",
        "mean6 = stacked_sixs.mean(0)\n",
        "mean7 = stacked_sevens.mean(0)\n",
        "mean8 = stacked_eights.mean(0)\n",
        "mean9 = stacked_nines.mean(0)\n",
        "show_image(mean3);"
      ],
      "metadata": {
        "id": "wlJVuiDbTcX3",
        "colab": {
          "base_uri": "https://localhost:8080/",
          "height": 1000
        },
        "outputId": "7e78d366-fe78-4542-b67e-5708de5511d3"
      },
      "execution_count": 24,
      "outputs": [
        {
          "output_type": "execute_result",
          "data": {
            "text/plain": [
              "tensor([[0.0000e+00, 0.0000e+00, 0.0000e+00, 0.0000e+00, 0.0000e+00, 0.0000e+00, 0.0000e+00, 0.0000e+00, 0.0000e+00, 0.0000e+00, 0.0000e+00, 0.0000e+00, 0.0000e+00, 0.0000e+00, 0.0000e+00, 0.0000e+00,\n",
              "         0.0000e+00, 0.0000e+00, 0.0000e+00, 0.0000e+00, 0.0000e+00, 0.0000e+00, 0.0000e+00, 0.0000e+00, 0.0000e+00, 0.0000e+00, 0.0000e+00, 0.0000e+00],\n",
              "        [0.0000e+00, 0.0000e+00, 0.0000e+00, 0.0000e+00, 0.0000e+00, 0.0000e+00, 0.0000e+00, 0.0000e+00, 0.0000e+00, 0.0000e+00, 0.0000e+00, 8.4748e-05, 1.6751e-04, 6.8858e-05, 0.0000e+00, 5.9588e-05,\n",
              "         1.6287e-04, 7.7465e-05, 0.0000e+00, 0.0000e+00, 0.0000e+00, 0.0000e+00, 0.0000e+00, 0.0000e+00, 0.0000e+00, 0.0000e+00, 0.0000e+00, 0.0000e+00],\n",
              "        [0.0000e+00, 0.0000e+00, 0.0000e+00, 1.9201e-05, 6.6209e-06, 0.0000e+00, 5.6278e-05, 1.3242e-04, 2.9132e-05, 0.0000e+00, 0.0000e+00, 6.0912e-05, 1.8671e-04, 3.1052e-04, 1.2977e-04, 1.1454e-04,\n",
              "         1.5162e-04, 1.3242e-05, 5.0319e-05, 9.0044e-05, 0.0000e+00, 0.0000e+00, 0.0000e+00, 0.0000e+00, 0.0000e+00, 0.0000e+00, 0.0000e+00, 0.0000e+00],\n",
              "        [0.0000e+00, 0.0000e+00, 0.0000e+00, 5.5616e-05, 8.2099e-05, 2.5623e-04, 2.1915e-04, 2.4299e-04, 4.6015e-04, 8.6469e-04, 1.9618e-03, 4.8783e-03, 8.3318e-03, 1.2326e-02, 1.5042e-02, 1.7826e-02,\n",
              "         1.8416e-02, 1.4961e-02, 1.1169e-02, 9.3117e-03, 6.4885e-03, 3.2350e-03, 1.2944e-03, 4.6810e-04, 1.6883e-04, 4.8333e-05, 0.0000e+00, 0.0000e+00],\n",
              "        [0.0000e+00, 0.0000e+00, 0.0000e+00, 1.0660e-04, 1.0858e-04, 2.1915e-04, 7.6074e-04, 2.0829e-03, 5.7112e-03, 1.4118e-02, 2.7904e-02, 5.4995e-02, 9.9164e-02, 1.5488e-01, 2.0598e-01, 2.4893e-01,\n",
              "         2.6059e-01, 2.4042e-01, 1.9492e-01, 1.4154e-01, 8.4851e-02, 4.2668e-02, 1.7148e-02, 4.0037e-03, 7.1969e-04, 1.1454e-04, 0.0000e+00, 0.0000e+00],\n",
              "        [0.0000e+00, 0.0000e+00, 0.0000e+00, 1.7744e-04, 2.1518e-04, 5.9919e-04, 2.8430e-03, 7.5320e-03, 1.9297e-02, 4.6408e-02, 9.4427e-02, 1.7173e-01, 2.7211e-01, 3.8963e-01, 4.9186e-01, 5.6311e-01,\n",
              "         5.8921e-01, 5.5230e-01, 4.6455e-01, 3.5041e-01, 2.2511e-01, 1.2373e-01, 5.2587e-02, 1.4197e-02, 2.0055e-03, 9.3355e-05, 0.0000e+00, 0.0000e+00],\n",
              "        [0.0000e+00, 0.0000e+00, 0.0000e+00, 0.0000e+00, 6.8990e-04, 2.8490e-03, 7.1671e-03, 1.9234e-02, 4.9314e-02, 1.0845e-01, 2.0264e-01, 3.2675e-01, 4.6044e-01, 5.8597e-01, 6.7766e-01, 7.3607e-01,\n",
              "         7.5434e-01, 7.3811e-01, 6.7234e-01, 5.4673e-01, 3.9783e-01, 2.4450e-01, 1.2022e-01, 3.8761e-02, 4.9822e-03, 2.5888e-04, 5.4292e-05, 4.8333e-05],\n",
              "        [0.0000e+00, 0.0000e+00, 0.0000e+00, 5.4292e-05, 7.8193e-04, 4.6254e-03, 1.3701e-02, 4.2175e-02, 1.0146e-01, 2.0283e-01, 3.3425e-01, 4.7715e-01, 5.9838e-01, 6.8013e-01, 7.2491e-01, 7.3864e-01,\n",
              "         7.4472e-01, 7.5434e-01, 7.3946e-01, 6.6995e-01, 5.3956e-01, 3.7351e-01, 2.1180e-01, 8.1022e-02, 1.3957e-02, 6.5812e-04, 7.2830e-06, 1.0196e-04],\n",
              "        [3.5091e-05, 0.0000e+00, 6.0912e-05, 1.0527e-04, 9.2693e-04, 6.8407e-03, 2.7937e-02, 8.2318e-02, 1.8054e-01, 3.1546e-01, 4.6452e-01, 5.9025e-01, 6.6407e-01, 6.7837e-01, 6.5431e-01, 6.2012e-01,\n",
              "         6.0475e-01, 6.1893e-01, 6.6335e-01, 6.8365e-01, 6.3032e-01, 4.8806e-01, 3.0774e-01, 1.3551e-01, 2.8014e-02, 4.8995e-04, 0.0000e+00, 0.0000e+00],\n",
              "        [0.0000e+00, 0.0000e+00, 2.8470e-05, 1.8605e-04, 1.6638e-03, 1.2902e-02, 5.5203e-02, 1.4574e-01, 2.7748e-01, 4.3580e-01, 5.7379e-01, 6.5087e-01, 6.5387e-01, 5.9888e-01, 5.1230e-01, 4.3946e-01,\n",
              "         3.9946e-01, 4.2122e-01, 5.0826e-01, 6.1334e-01, 6.4863e-01, 5.7017e-01, 4.0066e-01, 1.9673e-01, 4.5868e-02, 5.9588e-04, 0.0000e+00, 0.0000e+00],\n",
              "        [0.0000e+00, 0.0000e+00, 9.2031e-05, 1.5758e-04, 2.9940e-03, 2.8081e-02, 9.9849e-02, 2.2594e-01, 3.8461e-01, 5.4065e-01, 6.3663e-01, 6.4979e-01, 5.7565e-01, 4.5903e-01, 3.4370e-01, 2.5527e-01,\n",
              "         2.1709e-01, 2.4682e-01, 3.5451e-01, 5.0912e-01, 6.2476e-01, 6.1406e-01, 4.7672e-01, 2.5838e-01, 6.7243e-02, 1.1580e-03, 0.0000e+00, 0.0000e+00],\n",
              "        [0.0000e+00, 2.1849e-05, 0.0000e+00, 1.6817e-04, 6.1224e-03, 5.1972e-02, 1.5981e-01, 3.2118e-01, 4.9026e-01, 6.1770e-01, 6.5192e-01, 5.8351e-01, 4.4376e-01, 3.0491e-01, 1.9167e-01, 1.2530e-01,\n",
              "         1.0602e-01, 1.4415e-01, 2.5008e-01, 4.2633e-01, 5.8684e-01, 6.3050e-01, 5.2241e-01, 3.1021e-01, 8.9998e-02, 2.1081e-03, 1.4367e-04, 0.0000e+00],\n",
              "        [0.0000e+00, 1.0593e-05, 4.0388e-05, 1.6883e-04, 1.1179e-02, 8.6780e-02, 2.3656e-01, 4.2157e-01, 5.7701e-01, 6.5388e-01, 6.1534e-01, 4.7177e-01, 3.0198e-01, 1.6970e-01, 8.9042e-02, 5.6259e-02,\n",
              "         5.4411e-02, 9.3869e-02, 2.0182e-01, 3.7873e-01, 5.5412e-01, 6.2592e-01, 5.4034e-01, 3.4188e-01, 1.1016e-01, 3.0476e-03, 1.1454e-04, 0.0000e+00],\n",
              "        [0.0000e+00, 4.1712e-05, 1.1520e-04, 3.4561e-04, 1.9936e-02, 1.3704e-01, 3.2102e-01, 5.1406e-01, 6.3557e-01, 6.4745e-01, 5.3112e-01, 3.4263e-01, 1.7644e-01, 7.8444e-02, 3.8728e-02, 2.6601e-02,\n",
              "         3.2007e-02, 7.7506e-02, 1.9212e-01, 3.6494e-01, 5.4246e-01, 6.1952e-01, 5.3560e-01, 3.4694e-01, 1.2083e-01, 4.1818e-03, 1.3242e-05, 0.0000e+00],\n",
              "        [0.0000e+00, 0.0000e+00, 0.0000e+00, 1.9399e-04, 3.3349e-02, 1.9700e-01, 4.0433e-01, 5.8948e-01, 6.6404e-01, 6.0182e-01, 4.2639e-01, 2.2574e-01, 9.3549e-02, 3.7196e-02, 1.9477e-02, 1.6228e-02,\n",
              "         2.8853e-02, 8.9534e-02, 2.1612e-01, 3.9223e-01, 5.5521e-01, 6.0935e-01, 5.1283e-01, 3.2872e-01, 1.2013e-01, 4.9637e-03, 0.0000e+00, 0.0000e+00],\n",
              "        [0.0000e+00, 0.0000e+00, 0.0000e+00, 2.5424e-04, 5.3001e-02, 2.5872e-01, 4.7619e-01, 6.3534e-01, 6.5994e-01, 5.3616e-01, 3.2848e-01, 1.4423e-01, 5.1775e-02, 1.8946e-02, 1.2305e-02, 1.7741e-02,\n",
              "         4.6158e-02, 1.3156e-01, 2.7508e-01, 4.4993e-01, 5.7856e-01, 5.8786e-01, 4.7300e-01, 2.9011e-01, 1.0316e-01, 4.3619e-03, 0.0000e+00, 0.0000e+00],\n",
              "        [0.0000e+00, 0.0000e+00, 0.0000e+00, 5.0054e-04, 7.2930e-02, 3.0981e-01, 5.2734e-01, 6.5834e-01, 6.3681e-01, 4.7033e-01, 2.5527e-01, 1.0152e-01, 3.4476e-02, 1.5152e-02, 1.7179e-02, 3.7096e-02,\n",
              "         9.3422e-02, 2.1026e-01, 3.7208e-01, 5.2598e-01, 5.9840e-01, 5.5124e-01, 4.1010e-01, 2.3312e-01, 7.6421e-02, 3.1410e-03, 0.0000e+00, 7.9451e-06],\n",
              "        [0.0000e+00, 0.0000e+00, 0.0000e+00, 8.4615e-04, 9.3179e-02, 3.4148e-01, 5.5216e-01, 6.6549e-01, 6.1735e-01, 4.3624e-01, 2.2499e-01, 9.1525e-02, 3.9874e-02, 3.0593e-02, 4.7189e-02, 9.6580e-02,\n",
              "         1.9373e-01, 3.3773e-01, 4.8927e-01, 5.8957e-01, 5.9215e-01, 4.8591e-01, 3.2928e-01, 1.6519e-01, 4.8401e-02, 1.9916e-03, 0.0000e+00, 6.8858e-05],\n",
              "        [0.0000e+00, 0.0000e+00, 0.0000e+00, 1.1812e-03, 1.0142e-01, 3.3946e-01, 5.4951e-01, 6.6624e-01, 6.2585e-01, 4.5488e-01, 2.6060e-01, 1.3480e-01, 8.7495e-02, 9.3669e-02, 1.3881e-01, 2.2775e-01,\n",
              "         3.5188e-01, 4.8802e-01, 5.8945e-01, 6.1278e-01, 5.3466e-01, 3.9011e-01, 2.3719e-01, 1.0325e-01, 2.5807e-02, 9.0905e-04, 0.0000e+00, 0.0000e+00],\n",
              "        [0.0000e+00, 3.4429e-05, 3.3767e-05, 1.6486e-03, 9.4636e-02, 3.0769e-01, 5.1956e-01, 6.5891e-01, 6.6099e-01, 5.4502e-01, 3.8234e-01, 2.6513e-01, 2.2572e-01, 2.4679e-01, 3.1601e-01, 4.1667e-01,\n",
              "         5.2843e-01, 6.1341e-01, 6.3056e-01, 5.5943e-01, 4.2789e-01, 2.8129e-01, 1.4656e-01, 5.2703e-02, 9.9340e-03, 3.5223e-04, 0.0000e+00, 0.0000e+00],\n",
              "        [0.0000e+00, 8.6734e-05, 6.0250e-05, 1.3891e-03, 7.1477e-02, 2.4286e-01, 4.5182e-01, 6.2279e-01, 7.0242e-01, 6.7913e-01, 5.8748e-01, 5.0207e-01, 4.6621e-01, 4.8378e-01, 5.3983e-01, 6.1136e-01,\n",
              "         6.5601e-01, 6.4943e-01, 5.6873e-01, 4.3925e-01, 2.9789e-01, 1.6922e-01, 7.2432e-02, 2.0661e-02, 3.2840e-03, 1.0395e-04, 9.5341e-05, 0.0000e+00],\n",
              "        [0.0000e+00, 0.0000e+00, 2.5159e-05, 1.2408e-03, 4.2418e-02, 1.6054e-01, 3.3706e-01, 5.2882e-01, 6.7883e-01, 7.6214e-01, 7.6878e-01, 7.3851e-01, 7.1265e-01, 7.0595e-01, 7.1311e-01, 7.0819e-01,\n",
              "         6.5696e-01, 5.5547e-01, 4.2281e-01, 2.8449e-01, 1.6400e-01, 7.5647e-02, 2.5577e-02, 6.4852e-03, 1.1322e-03, 8.0113e-05, 2.9066e-04, 2.5822e-05],\n",
              "        [0.0000e+00, 0.0000e+00, 0.0000e+00, 6.1177e-04, 1.6059e-02, 7.9234e-02, 1.9881e-01, 3.5761e-01, 5.2836e-01, 6.7046e-01, 7.5880e-01, 7.9060e-01, 7.8712e-01, 7.6152e-01, 7.0540e-01, 6.1326e-01,\n",
              "         4.9233e-01, 3.5971e-01, 2.3368e-01, 1.3290e-01, 6.1084e-02, 2.2679e-02, 6.5256e-03, 1.6817e-03, 4.7207e-04, 1.0792e-04, 1.0196e-04, 4.7671e-05],\n",
              "        [0.0000e+00, 0.0000e+00, 0.0000e+00, 3.9063e-05, 3.3879e-03, 2.1993e-02, 6.9393e-02, 1.5698e-01, 2.7318e-01, 3.9744e-01, 5.0083e-01, 5.6532e-01, 5.7540e-01, 5.2877e-01, 4.4573e-01, 3.4074e-01,\n",
              "         2.3703e-01, 1.4661e-01, 7.8070e-02, 3.4564e-02, 1.2820e-02, 3.8852e-03, 1.3010e-03, 6.2899e-04, 2.9331e-04, 6.7533e-05, 0.0000e+00, 0.0000e+00],\n",
              "        [0.0000e+00, 0.0000e+00, 0.0000e+00, 0.0000e+00, 6.4355e-04, 2.3524e-03, 8.9627e-03, 2.3149e-02, 4.7329e-02, 8.0415e-02, 1.1448e-01, 1.3754e-01, 1.4475e-01, 1.3385e-01, 1.0806e-01, 7.6668e-02,\n",
              "         4.7348e-02, 2.5980e-02, 1.1434e-02, 4.4738e-03, 1.5460e-03, 5.0716e-04, 2.7808e-04, 1.8936e-04, 8.4748e-05, 4.6346e-05, 0.0000e+00, 0.0000e+00],\n",
              "        [0.0000e+00, 0.0000e+00, 0.0000e+00, 0.0000e+00, 0.0000e+00, 0.0000e+00, 2.3173e-05, 1.8208e-04, 6.7070e-04, 1.2739e-03, 1.7221e-03, 2.0796e-03, 1.6678e-03, 1.4215e-03, 9.5143e-04, 5.6874e-04,\n",
              "         4.3433e-04, 1.7413e-04, 3.2442e-05, 0.0000e+00, 0.0000e+00, 0.0000e+00, 0.0000e+00, 0.0000e+00, 0.0000e+00, 0.0000e+00, 0.0000e+00, 0.0000e+00],\n",
              "        [0.0000e+00, 0.0000e+00, 0.0000e+00, 0.0000e+00, 0.0000e+00, 0.0000e+00, 0.0000e+00, 0.0000e+00, 0.0000e+00, 0.0000e+00, 0.0000e+00, 0.0000e+00, 0.0000e+00, 0.0000e+00, 0.0000e+00, 0.0000e+00,\n",
              "         0.0000e+00, 0.0000e+00, 0.0000e+00, 0.0000e+00, 0.0000e+00, 0.0000e+00, 0.0000e+00, 0.0000e+00, 0.0000e+00, 0.0000e+00, 0.0000e+00, 0.0000e+00],\n",
              "        [0.0000e+00, 0.0000e+00, 0.0000e+00, 0.0000e+00, 0.0000e+00, 0.0000e+00, 0.0000e+00, 0.0000e+00, 0.0000e+00, 0.0000e+00, 0.0000e+00, 0.0000e+00, 0.0000e+00, 0.0000e+00, 0.0000e+00, 0.0000e+00,\n",
              "         0.0000e+00, 0.0000e+00, 0.0000e+00, 0.0000e+00, 0.0000e+00, 0.0000e+00, 0.0000e+00, 0.0000e+00, 0.0000e+00, 0.0000e+00, 0.0000e+00, 0.0000e+00]])"
            ]
          },
          "metadata": {},
          "execution_count": 24
        },
        {
          "output_type": "display_data",
          "data": {
            "text/plain": [
              "<Figure size 72x72 with 1 Axes>"
            ],
            "image/png": "[encoded data removed]"
          },
          "metadata": {
            "needs_background": "light"
          }
        }
      ]
    },
    {
      "cell_type": "code",
      "source": [
        "allmean = [mean0, mean1,mean2,mean3,mean4,mean5,mean6,mean7,mean8,mean9]\n",
        "plt.figure(figsize=(3,4))\n",
        "\n",
        "for i in range(0,10):\n",
        "  plt.subplot(3, 4,i+1)\n",
        "  plt.imshow(allmean[i])\n",
        "plt.show()"
      ],
      "metadata": {
        "id": "XeJKKutZTcaE",
        "colab": {
          "base_uri": "https://localhost:8080/",
          "height": 245
        },
        "outputId": "366a5c3c-a78c-468d-f19d-1ed6e79afd4a"
      },
      "execution_count": 23,
      "outputs": [
        {
          "output_type": "display_data",
          "data": {
            "text/plain": [
              "<Figure size 216x288 with 10 Axes>"
            ],
            "image/png": "[encoded data removed]"
          },
          "metadata": {
            "needs_background": "light"
          }
        }
      ]
    },
    {
      "cell_type": "code",
      "source": [],
      "metadata": {
        "id": "NQofjgSLTccO"
      },
      "execution_count": 11,
      "outputs": []
    },
    {
      "cell_type": "code",
      "source": [],
      "metadata": {
        "id": "BUtGqf0TTceH"
      },
      "execution_count": 11,
      "outputs": []
    },
    {
      "cell_type": "code",
      "source": [],
      "metadata": {
        "id": "a_NHP6enTcf1"
      },
      "execution_count": 11,
      "outputs": []
    },
    {
      "cell_type": "code",
      "source": [
        "def mnist_distance(a,b): return (a-b).abs().mean((-1,-2))\n",
        "mnist_distance(a_3, mean3)"
      ],
      "metadata": {
        "id": "ZRyzyWu3Tch8",
        "colab": {
          "base_uri": "https://localhost:8080/",
          "height": 190
        },
        "outputId": "439de346-737a-4a59-e8c8-72ce55ab1c7b"
      },
      "execution_count": 12,
      "outputs": [
        {
          "output_type": "error",
          "ename": "NameError",
          "evalue": "ignored",
          "traceback": [
            "\u001b[0;31m---------------------------------------------------------------------------\u001b[0m",
            "\u001b[0;31mNameError\u001b[0m                                 Traceback (most recent call last)",
            "\u001b[0;32m<ipython-input-12-b84f72795e9f>\u001b[0m in \u001b[0;36m<module>\u001b[0;34m\u001b[0m\n\u001b[1;32m      1\u001b[0m \u001b[0;32mdef\u001b[0m \u001b[0mmnist_distance\u001b[0m\u001b[0;34m(\u001b[0m\u001b[0ma\u001b[0m\u001b[0;34m,\u001b[0m\u001b[0mb\u001b[0m\u001b[0;34m)\u001b[0m\u001b[0;34m:\u001b[0m \u001b[0;32mreturn\u001b[0m \u001b[0;34m(\u001b[0m\u001b[0ma\u001b[0m\u001b[0;34m-\u001b[0m\u001b[0mb\u001b[0m\u001b[0;34m)\u001b[0m\u001b[0;34m.\u001b[0m\u001b[0mabs\u001b[0m\u001b[0;34m(\u001b[0m\u001b[0;34m)\u001b[0m\u001b[0;34m.\u001b[0m\u001b[0mmean\u001b[0m\u001b[0;34m(\u001b[0m\u001b[0;34m(\u001b[0m\u001b[0;34m-\u001b[0m\u001b[0;36m1\u001b[0m\u001b[0;34m,\u001b[0m\u001b[0;34m-\u001b[0m\u001b[0;36m2\u001b[0m\u001b[0;34m)\u001b[0m\u001b[0;34m)\u001b[0m\u001b[0;34m\u001b[0m\u001b[0;34m\u001b[0m\u001b[0m\n\u001b[0;32m----> 2\u001b[0;31m \u001b[0mmnist_distance\u001b[0m\u001b[0;34m(\u001b[0m\u001b[0ma_3\u001b[0m\u001b[0;34m,\u001b[0m \u001b[0mmean3\u001b[0m\u001b[0;34m)\u001b[0m\u001b[0;34m\u001b[0m\u001b[0;34m\u001b[0m\u001b[0m\n\u001b[0m",
            "\u001b[0;31mNameError\u001b[0m: name 'a_3' is not defined"
          ]
        }
      ]
    },
    {
      "cell_type": "code",
      "source": [],
      "metadata": {
        "id": "36vOMaOETcj0"
      },
      "execution_count": null,
      "outputs": []
    },
    {
      "cell_type": "code",
      "source": [],
      "metadata": {
        "id": "EmaCMfBTTcnA"
      },
      "execution_count": null,
      "outputs": []
    }
  ]
}