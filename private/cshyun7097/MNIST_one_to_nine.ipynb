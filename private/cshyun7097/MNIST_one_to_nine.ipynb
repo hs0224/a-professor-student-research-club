{
 "cells": [
  {
   "cell_type": "markdown",
   "id": "046c2610",
   "metadata": {},
   "source": [
    "2장에 나왔던 이미지 분류 문제(자유 주제)를 fastAi 라이브러리를 이용해서 각자 구현해서 업로드 해주세요.\n",
    "\n",
    "4장의 MNIST 숫자 분류 문제를 10개(3과 7 두 종류 분류가 아니라) 숫자로 확대해서 직접 구현해서 업로드 해주세요.\n",
    "(p.246 4.9.1 추가 연구 2번 문제입니다.)\n",
    "\n",
    "-책에 나와 있는 내용을 이해하면서 확장해 보길 바랍니다.\n",
    "\n",
    "-본인 직접해보지 않고 설명 듣고 눈으로 보는 것만으로는 발전에 한계가 있습니다.\n",
    "\n",
    "-가능하다면, 다음 미팅(12/7(수)) 때에 경험담을 공유해 봅시다."
   ]
  },
  {
   "cell_type": "code",
   "execution_count": 1,
   "id": "35a70baf",
   "metadata": {},
   "outputs": [],
   "source": [
    "from fastai.vision.all import *\n",
    "import matplotlib.pyplot as plt\n",
    "import pandas as pd"
   ]
  },
  {
   "cell_type": "code",
   "execution_count": 2,
   "id": "dba03807",
   "metadata": {},
   "outputs": [
    {
     "data": {
      "text/html": [
       "\n",
       "<style>\n",
       "    /* Turns off some styling */\n",
       "    progress {\n",
       "        /* gets rid of default border in Firefox and Opera. */\n",
       "        border: none;\n",
       "        /* Needs to be in here for Safari polyfill so background images work as expected. */\n",
       "        background-size: auto;\n",
       "    }\n",
       "    progress:not([value]), progress:not([value])::-webkit-progress-bar {\n",
       "        background: repeating-linear-gradient(45deg, #7e7e7e, #7e7e7e 10px, #5c5c5c 10px, #5c5c5c 20px);\n",
       "    }\n",
       "    .progress-bar-interrupted, .progress-bar-interrupted::-webkit-progress-bar {\n",
       "        background: #F44336;\n",
       "    }\n",
       "</style>\n"
      ],
      "text/plain": [
       "<IPython.core.display.HTML object>"
      ]
     },
     "metadata": {},
     "output_type": "display_data"
    },
    {
     "data": {
      "text/html": [
       "\n",
       "    <div>\n",
       "      <progress value='15687680' class='' max='15683414' style='width:300px; height:20px; vertical-align: middle;'></progress>\n",
       "      100.03% [15687680/15683414 00:03&lt;00:00]\n",
       "    </div>\n",
       "    "
      ],
      "text/plain": [
       "<IPython.core.display.HTML object>"
      ]
     },
     "metadata": {},
     "output_type": "display_data"
    }
   ],
   "source": [
    "path = untar_data(URLs.MNIST)"
   ]
  },
  {
   "cell_type": "code",
   "execution_count": 3,
   "id": "974ef5a5",
   "metadata": {},
   "outputs": [
    {
     "data": {
      "text/plain": [
       "(#2) [Path('C:/Users/csh70/.fastai/data/mnist_png/testing'),Path('C:/Users/csh70/.fastai/data/mnist_png/training')]"
      ]
     },
     "execution_count": 3,
     "metadata": {},
     "output_type": "execute_result"
    }
   ],
   "source": [
    "path.ls()"
   ]
  },
  {
   "cell_type": "code",
   "execution_count": 4,
   "id": "a9beee0b",
   "metadata": {},
   "outputs": [
    {
     "data": {
      "text/plain": [
       "(#10) [Path('C:/Users/csh70/.fastai/data/mnist_png/training/0'),Path('C:/Users/csh70/.fastai/data/mnist_png/training/1'),Path('C:/Users/csh70/.fastai/data/mnist_png/training/2'),Path('C:/Users/csh70/.fastai/data/mnist_png/training/3'),Path('C:/Users/csh70/.fastai/data/mnist_png/training/4'),Path('C:/Users/csh70/.fastai/data/mnist_png/training/5'),Path('C:/Users/csh70/.fastai/data/mnist_png/training/6'),Path('C:/Users/csh70/.fastai/data/mnist_png/training/7'),Path('C:/Users/csh70/.fastai/data/mnist_png/training/8'),Path('C:/Users/csh70/.fastai/data/mnist_png/training/9')]"
      ]
     },
     "execution_count": 4,
     "metadata": {},
     "output_type": "execute_result"
    }
   ],
   "source": [
    "(path/'training').ls()"
   ]
  },
  {
   "cell_type": "code",
   "execution_count": 5,
   "id": "e3afb2d5",
   "metadata": {},
   "outputs": [],
   "source": [
    "ones = (path/'training'/'1').ls().sorted()\n",
    "twos = (path/'training'/'2').ls().sorted()\n",
    "threes = (path/'training'/'3').ls().sorted()\n",
    "fours = (path/'training'/'4').ls().sorted()\n",
    "fives = (path/'training'/'5').ls().sorted()\n",
    "sixs = (path/'training'/'6').ls().sorted()\n",
    "sevens = (path/'training'/'7').ls().sorted()\n",
    "eights = (path/'training'/'8').ls().sorted()\n",
    "nines = (path/'training'/'9').ls().sorted()"
   ]
  },
  {
   "cell_type": "code",
   "execution_count": 6,
   "id": "904448ac",
   "metadata": {},
   "outputs": [],
   "source": [
    "im1 = Image.open(ones[1])\n",
    "im2 = Image.open(twos[1])\n",
    "im3 = Image.open(threes[1])\n",
    "im4 = Image.open(fours[1])\n",
    "im5 = Image.open(fives[1])\n",
    "im6 = Image.open(sixs[1])\n",
    "im7 = Image.open(sevens[1])\n",
    "im8 = Image.open(eights[1])\n",
    "im9 = Image.open(nines[1])"
   ]
  },
  {
   "cell_type": "code",
   "execution_count": 7,
   "id": "7fcd7cf7",
   "metadata": {},
   "outputs": [],
   "source": [
    "img = [im1,im2,im3,im4,im5,im6,im7,im8,im9]"
   ]
  },
  {
   "cell_type": "code",
   "execution_count": 8,
   "id": "74391f27",
   "metadata": {},
   "outputs": [
    {
     "data": {
      "text/plain": [
       "<function matplotlib.pyplot.show(close=None, block=None)>"
      ]
     },
     "execution_count": 8,
     "metadata": {},
     "output_type": "execute_result"
    },
    {
     "data": {
      "image/png": "[encoded data removed]",
      "text/plain": [
       "<Figure size 216x216 with 9 Axes>"
      ]
     },
     "metadata": {
      "needs_background": "light"
     },
     "output_type": "display_data"
    }
   ],
   "source": [
    "plt.figure(figsize=(3,3))\n",
    "for index in range(9):\n",
    "    plt.subplot(3,3,index+1)\n",
    "    plt.imshow(img[index], cmap='gray')\n",
    "    plt.axis('off')\n",
    "    \n",
    "plt.show"
   ]
  },
  {
   "cell_type": "code",
   "execution_count": 9,
   "id": "5d58484a",
   "metadata": {},
   "outputs": [
    {
     "data": {
      "text/plain": [
       "array([[  0,   0,   0,   0,   0,   0,   0,   0,   0,   0,   0,   0,   0,\n",
       "          0,   0,   0,   0,   0,   0,   0,   0,   0,   0,   0,   0,   0,\n",
       "          0,   0],\n",
       "       [  0,   0,   0,   0,   0,   0,   0,   0,   0,   0,   0,   0,   0,\n",
       "          0,   0,   0,   0,   0,   0,   0,   0,   0,   0,   0,   0,   0,\n",
       "          0,   0],\n",
       "       [  0,   0,   0,   0,   0,   0,   0,   0,   0,   0,   0,   0,   0,\n",
       "          0,   0,   0,   0,   0,   0,   0,   0,   0,   0,   0,   0,   0,\n",
       "          0,   0],\n",
       "       [  0,   0,   0,   0,   0,   0,   0,   0,   0,   0,   0,   0,   0,\n",
       "          0,   0,   0,   0,   0,   0,   0,   0,   0,   0,   0,   0,   0,\n",
       "          0,   0],\n",
       "       [  0,   0,   0,   0,   0,   0,   0,   0,   0,   0,   0,   0,   0,\n",
       "          0,   0,   0,  13, 212, 253,  56,   0,   0,   0,   0,   0,   0,\n",
       "          0,   0],\n",
       "       [  0,   0,   0,   0,   0,   0,   0,   0,   0,   0,   0,   0,   0,\n",
       "          0,   0,   0,  24, 252, 252, 139,   0,   0,   0,   0,   0,   0,\n",
       "          0,   0],\n",
       "       [  0,   0,   0,   0,   0,   0,   0,   0,   0,   0,   0,   0,   0,\n",
       "          0,   0,   0, 108, 252, 252,  45,   0,   0,   0,   0,   0,   0,\n",
       "          0,   0],\n",
       "       [  0,   0,   0,   0,   0,   0,   0,   0,   0,   0,   0,   0,   0,\n",
       "          0,   0,   0, 233, 252, 195,   9,   0,   0,   0,   0,   0,   0,\n",
       "          0,   0],\n",
       "       [  0,   0,   0,   0,   0,   0,   0,   0,   0,   0,   0,   0,   0,\n",
       "          0,   0,  53, 253, 252,  79,   0,   0,   0,   0,   0,   0,   0,\n",
       "          0,   0],\n",
       "       [  0,   0,   0,   0,   0,   0,   0,   0,   0,   0,   0,   0,   0,\n",
       "          0,   0, 116, 255, 253,  69,   0,   0,   0,   0,   0,   0,   0,\n",
       "          0,   0],\n",
       "       [  0,   0,   0,   0,   0,   0,   0,   0,   0,   0,   0,   0,   0,\n",
       "          0,   0, 116, 253, 223,  25,   0,   0,   0,   0,   0,   0,   0,\n",
       "          0,   0],\n",
       "       [  0,   0,   0,   0,   0,   0,   0,   0,   0,   0,   0,   0,   0,\n",
       "          0,   0, 199, 253, 174,   0,   0,   0,   0,   0,   0,   0,   0,\n",
       "          0,   0],\n",
       "       [  0,   0,   0,   0,   0,   0,   0,   0,   0,   0,   0,   0,   0,\n",
       "          0,  34, 238, 253,  92,   0,   0,   0,   0,   0,   0,   0,   0,\n",
       "          0,   0],\n",
       "       [  0,   0,   0,   0,   0,   0,   0,   0,   0,   0,   0,   0,   0,\n",
       "          0, 144, 252, 232,   8,   0,   0,   0,   0,   0,   0,   0,   0,\n",
       "          0,   0],\n",
       "       [  0,   0,   0,   0,   0,   0,   0,   0,   0,   0,   0,   0,   0,\n",
       "         70, 253, 253, 221,   0,   0,   0,   0,   0,   0,   0,   0,   0,\n",
       "          0,   0],\n",
       "       [  0,   0,   0,   0,   0,   0,   0,   0,   0,   0,   0,   0,   9,\n",
       "        155, 252, 252,  95,   0,   0,   0,   0,   0,   0,   0,   0,   0,\n",
       "          0,   0],\n",
       "       [  0,   0,   0,   0,   0,   0,   0,   0,   0,   0,   0,   0,  78,\n",
       "        252, 252, 168,   0,   0,   0,   0,   0,   0,   0,   0,   0,   0,\n",
       "          0,   0],\n",
       "       [  0,   0,   0,   0,   0,   0,   0,   0,   0,   0,   0,   0, 161,\n",
       "        252, 252, 137,   0,   0,   0,   0,   0,   0,   0,   0,   0,   0,\n",
       "          0,   0],\n",
       "       [  0,   0,   0,   0,   0,   0,   0,   0,   0,   0,   0, 127, 244,\n",
       "        252, 210,  22,   0,   0,   0,   0,   0,   0,   0,   0,   0,   0,\n",
       "          0,   0],\n",
       "       [  0,   0,   0,   0,   0,   0,   0,   0,   0,   0,   0, 202, 253,\n",
       "        253,  98,   0,   0,   0,   0,   0,   0,   0,   0,   0,   0,   0,\n",
       "          0,   0],\n",
       "       [  0,   0,   0,   0,   0,   0,   0,   0,   0,   0,  95, 253, 252,\n",
       "        187,  17,   0,   0,   0,   0,   0,   0,   5,  17,   0,   0,   0,\n",
       "          0,   0],\n",
       "       [  0,   0,   0,   0,   0,   0,   0,   0,   0,   0, 230, 253, 218,\n",
       "         19,   0,   0,   0,   0,   0,   0,   0,   7,  25,   0,   0,   0,\n",
       "          0,   0],\n",
       "       [  0,   0,   0,   0,   0,   0,   0,   0,   0,  76, 248, 253, 112,\n",
       "          0,   0,   0,   0,   0,   0,   0,   0,   0,   0,   0,   0,   0,\n",
       "          0,   0],\n",
       "       [  0,   0,   0,   0,   0,   0,   0,   0,   0,   9, 232, 180,   8,\n",
       "          0,   0,   0,   0,   0,   0,   0,   0,   0,   0,   0,   0,   0,\n",
       "          0,   0],\n",
       "       [  0,   0,   0,   0,   0,   0,   0,   0,   0,   0,   0,   0,   0,\n",
       "          0,   0,   0,   0,   0,   0,   0,   0,   0,   0,   0,   0,   0,\n",
       "          0,   0],\n",
       "       [  0,   0,   0,   0,   0,   0,   0,   0,   0,   0,   0,   0,   0,\n",
       "          0,   0,   0,   0,   0,   0,   0,   0,   0,   0,   0,   0,   0,\n",
       "          0,   0],\n",
       "       [  0,   0,   0,   0,   0,   0,   0,   0,   0,   0,   0,   0,   0,\n",
       "          0,   0,   0,   0,   0,   0,   0,   0,   0,   0,   0,   0,   0,\n",
       "          0,   0],\n",
       "       [  0,   0,   0,   0,   0,   0,   0,   0,   0,   0,   0,   0,   0,\n",
       "          0,   0,   0,   0,   0,   0,   0,   0,   0,   0,   0,   0,   0,\n",
       "          0,   0]], dtype=uint8)"
      ]
     },
     "execution_count": 9,
     "metadata": {},
     "output_type": "execute_result"
    }
   ],
   "source": [
    "array(im1)"
   ]
  },
  {
   "cell_type": "code",
   "execution_count": 10,
   "id": "386913e1",
   "metadata": {},
   "outputs": [
    {
     "data": {
      "text/plain": [
       "tensor([[  0,   0,   0,   0,   0,   0,   0,   0,   0,   0,   0,   0,   0,   0,\n",
       "           0,   0,   0,   0,   0,   0,   0,   0,   0,   0,   0,   0,   0,   0],\n",
       "        [  0,   0,   0,   0,   0,   0,   0,   0,   0,   0,   0,   0,   0,   0,\n",
       "           0,   0,   0,   0,   0,   0,   0,   0,   0,   0,   0,   0,   0,   0],\n",
       "        [  0,   0,   0,   0,   0,   0,   0,   0,   0,   0,   0,   0,   0,   0,\n",
       "           0,   0,   0,   0,   0,   0,   0,   0,   0,   0,   0,   0,   0,   0],\n",
       "        [  0,   0,   0,   0,   0,   0,   0,   0,   0,   0,   0,   0,   0,   0,\n",
       "           0,   0,   0,   0,   0,   0,   0,   0,   0,   0,   0,   0,   0,   0],\n",
       "        [  0,   0,   0,   0,   0,   0,   0,   0,   0,   0,   0,   0,   0,   0,\n",
       "           0,   0,  13, 212, 253,  56,   0,   0,   0,   0,   0,   0,   0,   0],\n",
       "        [  0,   0,   0,   0,   0,   0,   0,   0,   0,   0,   0,   0,   0,   0,\n",
       "           0,   0,  24, 252, 252, 139,   0,   0,   0,   0,   0,   0,   0,   0],\n",
       "        [  0,   0,   0,   0,   0,   0,   0,   0,   0,   0,   0,   0,   0,   0,\n",
       "           0,   0, 108, 252, 252,  45,   0,   0,   0,   0,   0,   0,   0,   0],\n",
       "        [  0,   0,   0,   0,   0,   0,   0,   0,   0,   0,   0,   0,   0,   0,\n",
       "           0,   0, 233, 252, 195,   9,   0,   0,   0,   0,   0,   0,   0,   0],\n",
       "        [  0,   0,   0,   0,   0,   0,   0,   0,   0,   0,   0,   0,   0,   0,\n",
       "           0,  53, 253, 252,  79,   0,   0,   0,   0,   0,   0,   0,   0,   0],\n",
       "        [  0,   0,   0,   0,   0,   0,   0,   0,   0,   0,   0,   0,   0,   0,\n",
       "           0, 116, 255, 253,  69,   0,   0,   0,   0,   0,   0,   0,   0,   0],\n",
       "        [  0,   0,   0,   0,   0,   0,   0,   0,   0,   0,   0,   0,   0,   0,\n",
       "           0, 116, 253, 223,  25,   0,   0,   0,   0,   0,   0,   0,   0,   0],\n",
       "        [  0,   0,   0,   0,   0,   0,   0,   0,   0,   0,   0,   0,   0,   0,\n",
       "           0, 199, 253, 174,   0,   0,   0,   0,   0,   0,   0,   0,   0,   0],\n",
       "        [  0,   0,   0,   0,   0,   0,   0,   0,   0,   0,   0,   0,   0,   0,\n",
       "          34, 238, 253,  92,   0,   0,   0,   0,   0,   0,   0,   0,   0,   0],\n",
       "        [  0,   0,   0,   0,   0,   0,   0,   0,   0,   0,   0,   0,   0,   0,\n",
       "         144, 252, 232,   8,   0,   0,   0,   0,   0,   0,   0,   0,   0,   0],\n",
       "        [  0,   0,   0,   0,   0,   0,   0,   0,   0,   0,   0,   0,   0,  70,\n",
       "         253, 253, 221,   0,   0,   0,   0,   0,   0,   0,   0,   0,   0,   0],\n",
       "        [  0,   0,   0,   0,   0,   0,   0,   0,   0,   0,   0,   0,   9, 155,\n",
       "         252, 252,  95,   0,   0,   0,   0,   0,   0,   0,   0,   0,   0,   0],\n",
       "        [  0,   0,   0,   0,   0,   0,   0,   0,   0,   0,   0,   0,  78, 252,\n",
       "         252, 168,   0,   0,   0,   0,   0,   0,   0,   0,   0,   0,   0,   0],\n",
       "        [  0,   0,   0,   0,   0,   0,   0,   0,   0,   0,   0,   0, 161, 252,\n",
       "         252, 137,   0,   0,   0,   0,   0,   0,   0,   0,   0,   0,   0,   0],\n",
       "        [  0,   0,   0,   0,   0,   0,   0,   0,   0,   0,   0, 127, 244, 252,\n",
       "         210,  22,   0,   0,   0,   0,   0,   0,   0,   0,   0,   0,   0,   0],\n",
       "        [  0,   0,   0,   0,   0,   0,   0,   0,   0,   0,   0, 202, 253, 253,\n",
       "          98,   0,   0,   0,   0,   0,   0,   0,   0,   0,   0,   0,   0,   0],\n",
       "        [  0,   0,   0,   0,   0,   0,   0,   0,   0,   0,  95, 253, 252, 187,\n",
       "          17,   0,   0,   0,   0,   0,   0,   5,  17,   0,   0,   0,   0,   0],\n",
       "        [  0,   0,   0,   0,   0,   0,   0,   0,   0,   0, 230, 253, 218,  19,\n",
       "           0,   0,   0,   0,   0,   0,   0,   7,  25,   0,   0,   0,   0,   0],\n",
       "        [  0,   0,   0,   0,   0,   0,   0,   0,   0,  76, 248, 253, 112,   0,\n",
       "           0,   0,   0,   0,   0,   0,   0,   0,   0,   0,   0,   0,   0,   0],\n",
       "        [  0,   0,   0,   0,   0,   0,   0,   0,   0,   9, 232, 180,   8,   0,\n",
       "           0,   0,   0,   0,   0,   0,   0,   0,   0,   0,   0,   0,   0,   0],\n",
       "        [  0,   0,   0,   0,   0,   0,   0,   0,   0,   0,   0,   0,   0,   0,\n",
       "           0,   0,   0,   0,   0,   0,   0,   0,   0,   0,   0,   0,   0,   0],\n",
       "        [  0,   0,   0,   0,   0,   0,   0,   0,   0,   0,   0,   0,   0,   0,\n",
       "           0,   0,   0,   0,   0,   0,   0,   0,   0,   0,   0,   0,   0,   0],\n",
       "        [  0,   0,   0,   0,   0,   0,   0,   0,   0,   0,   0,   0,   0,   0,\n",
       "           0,   0,   0,   0,   0,   0,   0,   0,   0,   0,   0,   0,   0,   0],\n",
       "        [  0,   0,   0,   0,   0,   0,   0,   0,   0,   0,   0,   0,   0,   0,\n",
       "           0,   0,   0,   0,   0,   0,   0,   0,   0,   0,   0,   0,   0,   0]],\n",
       "       dtype=torch.uint8)"
      ]
     },
     "execution_count": 10,
     "metadata": {},
     "output_type": "execute_result"
    }
   ],
   "source": [
    "tensor(im1)"
   ]
  },
  {
   "cell_type": "code",
   "execution_count": 11,
   "id": "c154f83b",
   "metadata": {},
   "outputs": [
    {
     "data": {
      "text/html": [
       "<style  type=\"text/css\" >\n",
       "#T_cc78b_row0_col0,#T_cc78b_row0_col1,#T_cc78b_row0_col2,#T_cc78b_row0_col3,#T_cc78b_row0_col4,#T_cc78b_row0_col5,#T_cc78b_row0_col6,#T_cc78b_row0_col7,#T_cc78b_row0_col8,#T_cc78b_row0_col9,#T_cc78b_row0_col10,#T_cc78b_row0_col11,#T_cc78b_row0_col12,#T_cc78b_row0_col13,#T_cc78b_row1_col0,#T_cc78b_row1_col1,#T_cc78b_row1_col2,#T_cc78b_row1_col3,#T_cc78b_row1_col4,#T_cc78b_row1_col5,#T_cc78b_row1_col6,#T_cc78b_row1_col7,#T_cc78b_row1_col8,#T_cc78b_row1_col9,#T_cc78b_row1_col10,#T_cc78b_row1_col11,#T_cc78b_row1_col12,#T_cc78b_row1_col13,#T_cc78b_row2_col0,#T_cc78b_row2_col1,#T_cc78b_row2_col2,#T_cc78b_row2_col3,#T_cc78b_row2_col4,#T_cc78b_row2_col5,#T_cc78b_row2_col6,#T_cc78b_row2_col7,#T_cc78b_row2_col8,#T_cc78b_row2_col13,#T_cc78b_row3_col0,#T_cc78b_row3_col1,#T_cc78b_row3_col2,#T_cc78b_row3_col3,#T_cc78b_row3_col4,#T_cc78b_row3_col5,#T_cc78b_row3_col6,#T_cc78b_row3_col7,#T_cc78b_row3_col8,#T_cc78b_row3_col13,#T_cc78b_row4_col0,#T_cc78b_row4_col1,#T_cc78b_row4_col2,#T_cc78b_row4_col3,#T_cc78b_row4_col4,#T_cc78b_row4_col5,#T_cc78b_row4_col6,#T_cc78b_row4_col7,#T_cc78b_row4_col8,#T_cc78b_row4_col13,#T_cc78b_row5_col0,#T_cc78b_row5_col1,#T_cc78b_row5_col2,#T_cc78b_row5_col3,#T_cc78b_row5_col4,#T_cc78b_row5_col5,#T_cc78b_row5_col6,#T_cc78b_row5_col7,#T_cc78b_row5_col8,#T_cc78b_row5_col13,#T_cc78b_row6_col0,#T_cc78b_row6_col1,#T_cc78b_row6_col2,#T_cc78b_row6_col3,#T_cc78b_row6_col4,#T_cc78b_row6_col5,#T_cc78b_row6_col6,#T_cc78b_row6_col7,#T_cc78b_row6_col12,#T_cc78b_row6_col13,#T_cc78b_row7_col0,#T_cc78b_row7_col1,#T_cc78b_row7_col2,#T_cc78b_row7_col3,#T_cc78b_row7_col4,#T_cc78b_row7_col5,#T_cc78b_row7_col6,#T_cc78b_row7_col7,#T_cc78b_row7_col12,#T_cc78b_row7_col13,#T_cc78b_row8_col0,#T_cc78b_row8_col1,#T_cc78b_row8_col2,#T_cc78b_row8_col3,#T_cc78b_row8_col4,#T_cc78b_row8_col5,#T_cc78b_row8_col6,#T_cc78b_row8_col7,#T_cc78b_row8_col12,#T_cc78b_row8_col13,#T_cc78b_row9_col0,#T_cc78b_row9_col1,#T_cc78b_row9_col2,#T_cc78b_row9_col3,#T_cc78b_row9_col4,#T_cc78b_row9_col5,#T_cc78b_row9_col6,#T_cc78b_row9_col7,#T_cc78b_row9_col11,#T_cc78b_row9_col12,#T_cc78b_row9_col13,#T_cc78b_row10_col0,#T_cc78b_row10_col1,#T_cc78b_row10_col2,#T_cc78b_row10_col3,#T_cc78b_row10_col4,#T_cc78b_row10_col5,#T_cc78b_row10_col6,#T_cc78b_row10_col11,#T_cc78b_row10_col12,#T_cc78b_row10_col13,#T_cc78b_row11_col0,#T_cc78b_row11_col1,#T_cc78b_row11_col2,#T_cc78b_row11_col3,#T_cc78b_row11_col4,#T_cc78b_row11_col5,#T_cc78b_row11_col6,#T_cc78b_row11_col11,#T_cc78b_row11_col12,#T_cc78b_row11_col13,#T_cc78b_row12_col0,#T_cc78b_row12_col1,#T_cc78b_row12_col2,#T_cc78b_row12_col3,#T_cc78b_row12_col4,#T_cc78b_row12_col5,#T_cc78b_row12_col10,#T_cc78b_row12_col11,#T_cc78b_row12_col12,#T_cc78b_row12_col13,#T_cc78b_row13_col0,#T_cc78b_row13_col1,#T_cc78b_row13_col2,#T_cc78b_row13_col3,#T_cc78b_row13_col4,#T_cc78b_row13_col10,#T_cc78b_row13_col11,#T_cc78b_row13_col12,#T_cc78b_row13_col13,#T_cc78b_row14_col0,#T_cc78b_row14_col1,#T_cc78b_row14_col2,#T_cc78b_row14_col3,#T_cc78b_row14_col4,#T_cc78b_row14_col9,#T_cc78b_row14_col10,#T_cc78b_row14_col11,#T_cc78b_row14_col12,#T_cc78b_row14_col13,#T_cc78b_row15_col0,#T_cc78b_row15_col1,#T_cc78b_row15_col2,#T_cc78b_row15_col3,#T_cc78b_row15_col4,#T_cc78b_row15_col9,#T_cc78b_row15_col10,#T_cc78b_row15_col11,#T_cc78b_row15_col12,#T_cc78b_row15_col13,#T_cc78b_row16_col0,#T_cc78b_row16_col1,#T_cc78b_row16_col2,#T_cc78b_row16_col3,#T_cc78b_row16_col9,#T_cc78b_row16_col10,#T_cc78b_row16_col11,#T_cc78b_row16_col12,#T_cc78b_row16_col13,#T_cc78b_row17_col0,#T_cc78b_row17_col1,#T_cc78b_row17_col2,#T_cc78b_row17_col3,#T_cc78b_row17_col8,#T_cc78b_row17_col9,#T_cc78b_row17_col10,#T_cc78b_row17_col11,#T_cc78b_row17_col12,#T_cc78b_row17_col13,#T_cc78b_row18_col0,#T_cc78b_row18_col1,#T_cc78b_row18_col2,#T_cc78b_row18_col8,#T_cc78b_row18_col9,#T_cc78b_row18_col10,#T_cc78b_row18_col11,#T_cc78b_row18_col12,#T_cc78b_row18_col13,#T_cc78b_row19_col0,#T_cc78b_row19_col1,#T_cc78b_row19_col2,#T_cc78b_row19_col7,#T_cc78b_row19_col8,#T_cc78b_row19_col9,#T_cc78b_row19_col10,#T_cc78b_row19_col11,#T_cc78b_row19_col12,#T_cc78b_row19_col13,#T_cc78b_row20_col0,#T_cc78b_row20_col1,#T_cc78b_row20_col6,#T_cc78b_row20_col7,#T_cc78b_row20_col8,#T_cc78b_row20_col9,#T_cc78b_row20_col10,#T_cc78b_row20_col11,#T_cc78b_row20_col12,#T_cc78b_row20_col13,#T_cc78b_row21_col0,#T_cc78b_row21_col1,#T_cc78b_row21_col6,#T_cc78b_row21_col7,#T_cc78b_row21_col8,#T_cc78b_row21_col9,#T_cc78b_row21_col10,#T_cc78b_row21_col11,#T_cc78b_row21_col12,#T_cc78b_row21_col13,#T_cc78b_row22_col0,#T_cc78b_row22_col1,#T_cc78b_row22_col2,#T_cc78b_row22_col3,#T_cc78b_row22_col4,#T_cc78b_row22_col5,#T_cc78b_row22_col6,#T_cc78b_row22_col7,#T_cc78b_row22_col8,#T_cc78b_row22_col9,#T_cc78b_row22_col10,#T_cc78b_row22_col11,#T_cc78b_row22_col12,#T_cc78b_row22_col13{\n",
       "            front-size:  6pt;\n",
       "            background-color:  #ffffff;\n",
       "            color:  #000000;\n",
       "        }#T_cc78b_row2_col9{\n",
       "            front-size:  6pt;\n",
       "            background-color:  #f9f9f9;\n",
       "            color:  #000000;\n",
       "        }#T_cc78b_row2_col10{\n",
       "            front-size:  6pt;\n",
       "            background-color:  #323232;\n",
       "            color:  #f1f1f1;\n",
       "        }#T_cc78b_row2_col11,#T_cc78b_row3_col12,#T_cc78b_row7_col9,#T_cc78b_row7_col10,#T_cc78b_row12_col7,#T_cc78b_row12_col8,#T_cc78b_row17_col5,#T_cc78b_row17_col6,#T_cc78b_row18_col4,#T_cc78b_row19_col4,#T_cc78b_row20_col2,#T_cc78b_row20_col3,#T_cc78b_row20_col4{\n",
       "            front-size:  6pt;\n",
       "            background-color:  #000000;\n",
       "            color:  #f1f1f1;\n",
       "        }#T_cc78b_row2_col12{\n",
       "            front-size:  6pt;\n",
       "            background-color:  #b4b4b4;\n",
       "            color:  #000000;\n",
       "        }#T_cc78b_row3_col9{\n",
       "            front-size:  6pt;\n",
       "            background-color:  #f4f4f4;\n",
       "            color:  #000000;\n",
       "        }#T_cc78b_row3_col10,#T_cc78b_row3_col11,#T_cc78b_row4_col10,#T_cc78b_row4_col11,#T_cc78b_row5_col10,#T_cc78b_row6_col10,#T_cc78b_row11_col8,#T_cc78b_row13_col7,#T_cc78b_row13_col8,#T_cc78b_row14_col6,#T_cc78b_row14_col7,#T_cc78b_row15_col6,#T_cc78b_row15_col7,#T_cc78b_row16_col6,#T_cc78b_row18_col5{\n",
       "            front-size:  6pt;\n",
       "            background-color:  #010101;\n",
       "            color:  #f1f1f1;\n",
       "        }#T_cc78b_row4_col9{\n",
       "            front-size:  6pt;\n",
       "            background-color:  #aeaeae;\n",
       "            color:  #000000;\n",
       "        }#T_cc78b_row4_col12{\n",
       "            front-size:  6pt;\n",
       "            background-color:  #c9c9c9;\n",
       "            color:  #000000;\n",
       "        }#T_cc78b_row5_col9{\n",
       "            front-size:  6pt;\n",
       "            background-color:  #1a1a1a;\n",
       "            color:  #f1f1f1;\n",
       "        }#T_cc78b_row5_col11{\n",
       "            front-size:  6pt;\n",
       "            background-color:  #4a4a4a;\n",
       "            color:  #f1f1f1;\n",
       "        }#T_cc78b_row5_col12,#T_cc78b_row18_col7{\n",
       "            front-size:  6pt;\n",
       "            background-color:  #f7f7f7;\n",
       "            color:  #000000;\n",
       "        }#T_cc78b_row6_col8{\n",
       "            front-size:  6pt;\n",
       "            background-color:  #e1e1e1;\n",
       "            color:  #000000;\n",
       "        }#T_cc78b_row6_col9,#T_cc78b_row8_col9,#T_cc78b_row9_col9,#T_cc78b_row10_col9{\n",
       "            front-size:  6pt;\n",
       "            background-color:  #020202;\n",
       "            color:  #f1f1f1;\n",
       "        }#T_cc78b_row6_col11,#T_cc78b_row14_col5{\n",
       "            front-size:  6pt;\n",
       "            background-color:  #cccccc;\n",
       "            color:  #000000;\n",
       "        }#T_cc78b_row7_col8,#T_cc78b_row8_col8{\n",
       "            front-size:  6pt;\n",
       "            background-color:  #a3a3a3;\n",
       "            color:  #000000;\n",
       "        }#T_cc78b_row7_col11,#T_cc78b_row12_col6{\n",
       "            front-size:  6pt;\n",
       "            background-color:  #d4d4d4;\n",
       "            color:  #000000;\n",
       "        }#T_cc78b_row8_col10{\n",
       "            front-size:  6pt;\n",
       "            background-color:  #232323;\n",
       "            color:  #f1f1f1;\n",
       "        }#T_cc78b_row8_col11{\n",
       "            front-size:  6pt;\n",
       "            background-color:  #f3f3f3;\n",
       "            color:  #000000;\n",
       "        }#T_cc78b_row9_col8{\n",
       "            front-size:  6pt;\n",
       "            background-color:  #444444;\n",
       "            color:  #f1f1f1;\n",
       "        }#T_cc78b_row9_col10{\n",
       "            front-size:  6pt;\n",
       "            background-color:  #626262;\n",
       "            color:  #f1f1f1;\n",
       "        }#T_cc78b_row10_col7{\n",
       "            front-size:  6pt;\n",
       "            background-color:  #eeeeee;\n",
       "            color:  #000000;\n",
       "        }#T_cc78b_row10_col8{\n",
       "            front-size:  6pt;\n",
       "            background-color:  #111111;\n",
       "            color:  #f1f1f1;\n",
       "        }#T_cc78b_row10_col10{\n",
       "            front-size:  6pt;\n",
       "            background-color:  #bfbfbf;\n",
       "            color:  #000000;\n",
       "        }#T_cc78b_row11_col7{\n",
       "            front-size:  6pt;\n",
       "            background-color:  #838383;\n",
       "            color:  #000000;\n",
       "        }#T_cc78b_row11_col9{\n",
       "            front-size:  6pt;\n",
       "            background-color:  #1b1b1b;\n",
       "            color:  #f1f1f1;\n",
       "        }#T_cc78b_row11_col10,#T_cc78b_row13_col5,#T_cc78b_row21_col5{\n",
       "            front-size:  6pt;\n",
       "            background-color:  #fbfbfb;\n",
       "            color:  #000000;\n",
       "        }#T_cc78b_row12_col9{\n",
       "            front-size:  6pt;\n",
       "            background-color:  #282828;\n",
       "            color:  #f1f1f1;\n",
       "        }#T_cc78b_row13_col6{\n",
       "            front-size:  6pt;\n",
       "            background-color:  #777777;\n",
       "            color:  #000000;\n",
       "        }#T_cc78b_row13_col9{\n",
       "            front-size:  6pt;\n",
       "            background-color:  #bebebe;\n",
       "            color:  #000000;\n",
       "        }#T_cc78b_row14_col8{\n",
       "            front-size:  6pt;\n",
       "            background-color:  #696969;\n",
       "            color:  #000000;\n",
       "        }#T_cc78b_row15_col5{\n",
       "            front-size:  6pt;\n",
       "            background-color:  #707070;\n",
       "            color:  #000000;\n",
       "        }#T_cc78b_row15_col8{\n",
       "            front-size:  6pt;\n",
       "            background-color:  #8a8a8a;\n",
       "            color:  #000000;\n",
       "        }#T_cc78b_row16_col4{\n",
       "            front-size:  6pt;\n",
       "            background-color:  #959595;\n",
       "            color:  #000000;\n",
       "        }#T_cc78b_row16_col5{\n",
       "            front-size:  6pt;\n",
       "            background-color:  #0a0a0a;\n",
       "            color:  #f1f1f1;\n",
       "        }#T_cc78b_row16_col7{\n",
       "            front-size:  6pt;\n",
       "            background-color:  #353535;\n",
       "            color:  #f1f1f1;\n",
       "        }#T_cc78b_row16_col8{\n",
       "            front-size:  6pt;\n",
       "            background-color:  #f5f5f5;\n",
       "            color:  #000000;\n",
       "        }#T_cc78b_row17_col4{\n",
       "            front-size:  6pt;\n",
       "            background-color:  #404040;\n",
       "            color:  #f1f1f1;\n",
       "        }#T_cc78b_row17_col7{\n",
       "            front-size:  6pt;\n",
       "            background-color:  #b9b9b9;\n",
       "            color:  #000000;\n",
       "        }#T_cc78b_row18_col3{\n",
       "            front-size:  6pt;\n",
       "            background-color:  #bababa;\n",
       "            color:  #000000;\n",
       "        }#T_cc78b_row18_col6{\n",
       "            front-size:  6pt;\n",
       "            background-color:  #545454;\n",
       "            color:  #f1f1f1;\n",
       "        }#T_cc78b_row19_col3{\n",
       "            front-size:  6pt;\n",
       "            background-color:  #151515;\n",
       "            color:  #f1f1f1;\n",
       "        }#T_cc78b_row19_col5{\n",
       "            front-size:  6pt;\n",
       "            background-color:  #292929;\n",
       "            color:  #f1f1f1;\n",
       "        }#T_cc78b_row19_col6{\n",
       "            front-size:  6pt;\n",
       "            background-color:  #f6f6f6;\n",
       "            color:  #000000;\n",
       "        }#T_cc78b_row20_col5{\n",
       "            front-size:  6pt;\n",
       "            background-color:  #a8a8a8;\n",
       "            color:  #000000;\n",
       "        }#T_cc78b_row21_col2{\n",
       "            front-size:  6pt;\n",
       "            background-color:  #f1f1f1;\n",
       "            color:  #000000;\n",
       "        }#T_cc78b_row21_col3{\n",
       "            front-size:  6pt;\n",
       "            background-color:  #131313;\n",
       "            color:  #f1f1f1;\n",
       "        }#T_cc78b_row21_col4{\n",
       "            front-size:  6pt;\n",
       "            background-color:  #5c5c5c;\n",
       "            color:  #f1f1f1;\n",
       "        }</style><table id=\"T_cc78b_\" ><thead>    <tr>        <th class=\"blank level0\" ></th>        <th class=\"col_heading level0 col0\" >0</th>        <th class=\"col_heading level0 col1\" >1</th>        <th class=\"col_heading level0 col2\" >2</th>        <th class=\"col_heading level0 col3\" >3</th>        <th class=\"col_heading level0 col4\" >4</th>        <th class=\"col_heading level0 col5\" >5</th>        <th class=\"col_heading level0 col6\" >6</th>        <th class=\"col_heading level0 col7\" >7</th>        <th class=\"col_heading level0 col8\" >8</th>        <th class=\"col_heading level0 col9\" >9</th>        <th class=\"col_heading level0 col10\" >10</th>        <th class=\"col_heading level0 col11\" >11</th>        <th class=\"col_heading level0 col12\" >12</th>        <th class=\"col_heading level0 col13\" >13</th>    </tr></thead><tbody>\n",
       "                <tr>\n",
       "                        <th id=\"T_cc78b_level0_row0\" class=\"row_heading level0 row0\" >0</th>\n",
       "                        <td id=\"T_cc78b_row0_col0\" class=\"data row0 col0\" >0</td>\n",
       "                        <td id=\"T_cc78b_row0_col1\" class=\"data row0 col1\" >0</td>\n",
       "                        <td id=\"T_cc78b_row0_col2\" class=\"data row0 col2\" >0</td>\n",
       "                        <td id=\"T_cc78b_row0_col3\" class=\"data row0 col3\" >0</td>\n",
       "                        <td id=\"T_cc78b_row0_col4\" class=\"data row0 col4\" >0</td>\n",
       "                        <td id=\"T_cc78b_row0_col5\" class=\"data row0 col5\" >0</td>\n",
       "                        <td id=\"T_cc78b_row0_col6\" class=\"data row0 col6\" >0</td>\n",
       "                        <td id=\"T_cc78b_row0_col7\" class=\"data row0 col7\" >0</td>\n",
       "                        <td id=\"T_cc78b_row0_col8\" class=\"data row0 col8\" >0</td>\n",
       "                        <td id=\"T_cc78b_row0_col9\" class=\"data row0 col9\" >0</td>\n",
       "                        <td id=\"T_cc78b_row0_col10\" class=\"data row0 col10\" >0</td>\n",
       "                        <td id=\"T_cc78b_row0_col11\" class=\"data row0 col11\" >0</td>\n",
       "                        <td id=\"T_cc78b_row0_col12\" class=\"data row0 col12\" >0</td>\n",
       "                        <td id=\"T_cc78b_row0_col13\" class=\"data row0 col13\" >0</td>\n",
       "            </tr>\n",
       "            <tr>\n",
       "                        <th id=\"T_cc78b_level0_row1\" class=\"row_heading level0 row1\" >1</th>\n",
       "                        <td id=\"T_cc78b_row1_col0\" class=\"data row1 col0\" >0</td>\n",
       "                        <td id=\"T_cc78b_row1_col1\" class=\"data row1 col1\" >0</td>\n",
       "                        <td id=\"T_cc78b_row1_col2\" class=\"data row1 col2\" >0</td>\n",
       "                        <td id=\"T_cc78b_row1_col3\" class=\"data row1 col3\" >0</td>\n",
       "                        <td id=\"T_cc78b_row1_col4\" class=\"data row1 col4\" >0</td>\n",
       "                        <td id=\"T_cc78b_row1_col5\" class=\"data row1 col5\" >0</td>\n",
       "                        <td id=\"T_cc78b_row1_col6\" class=\"data row1 col6\" >0</td>\n",
       "                        <td id=\"T_cc78b_row1_col7\" class=\"data row1 col7\" >0</td>\n",
       "                        <td id=\"T_cc78b_row1_col8\" class=\"data row1 col8\" >0</td>\n",
       "                        <td id=\"T_cc78b_row1_col9\" class=\"data row1 col9\" >0</td>\n",
       "                        <td id=\"T_cc78b_row1_col10\" class=\"data row1 col10\" >0</td>\n",
       "                        <td id=\"T_cc78b_row1_col11\" class=\"data row1 col11\" >0</td>\n",
       "                        <td id=\"T_cc78b_row1_col12\" class=\"data row1 col12\" >0</td>\n",
       "                        <td id=\"T_cc78b_row1_col13\" class=\"data row1 col13\" >0</td>\n",
       "            </tr>\n",
       "            <tr>\n",
       "                        <th id=\"T_cc78b_level0_row2\" class=\"row_heading level0 row2\" >2</th>\n",
       "                        <td id=\"T_cc78b_row2_col0\" class=\"data row2 col0\" >0</td>\n",
       "                        <td id=\"T_cc78b_row2_col1\" class=\"data row2 col1\" >0</td>\n",
       "                        <td id=\"T_cc78b_row2_col2\" class=\"data row2 col2\" >0</td>\n",
       "                        <td id=\"T_cc78b_row2_col3\" class=\"data row2 col3\" >0</td>\n",
       "                        <td id=\"T_cc78b_row2_col4\" class=\"data row2 col4\" >0</td>\n",
       "                        <td id=\"T_cc78b_row2_col5\" class=\"data row2 col5\" >0</td>\n",
       "                        <td id=\"T_cc78b_row2_col6\" class=\"data row2 col6\" >0</td>\n",
       "                        <td id=\"T_cc78b_row2_col7\" class=\"data row2 col7\" >0</td>\n",
       "                        <td id=\"T_cc78b_row2_col8\" class=\"data row2 col8\" >0</td>\n",
       "                        <td id=\"T_cc78b_row2_col9\" class=\"data row2 col9\" >13</td>\n",
       "                        <td id=\"T_cc78b_row2_col10\" class=\"data row2 col10\" >212</td>\n",
       "                        <td id=\"T_cc78b_row2_col11\" class=\"data row2 col11\" >253</td>\n",
       "                        <td id=\"T_cc78b_row2_col12\" class=\"data row2 col12\" >56</td>\n",
       "                        <td id=\"T_cc78b_row2_col13\" class=\"data row2 col13\" >0</td>\n",
       "            </tr>\n",
       "            <tr>\n",
       "                        <th id=\"T_cc78b_level0_row3\" class=\"row_heading level0 row3\" >3</th>\n",
       "                        <td id=\"T_cc78b_row3_col0\" class=\"data row3 col0\" >0</td>\n",
       "                        <td id=\"T_cc78b_row3_col1\" class=\"data row3 col1\" >0</td>\n",
       "                        <td id=\"T_cc78b_row3_col2\" class=\"data row3 col2\" >0</td>\n",
       "                        <td id=\"T_cc78b_row3_col3\" class=\"data row3 col3\" >0</td>\n",
       "                        <td id=\"T_cc78b_row3_col4\" class=\"data row3 col4\" >0</td>\n",
       "                        <td id=\"T_cc78b_row3_col5\" class=\"data row3 col5\" >0</td>\n",
       "                        <td id=\"T_cc78b_row3_col6\" class=\"data row3 col6\" >0</td>\n",
       "                        <td id=\"T_cc78b_row3_col7\" class=\"data row3 col7\" >0</td>\n",
       "                        <td id=\"T_cc78b_row3_col8\" class=\"data row3 col8\" >0</td>\n",
       "                        <td id=\"T_cc78b_row3_col9\" class=\"data row3 col9\" >24</td>\n",
       "                        <td id=\"T_cc78b_row3_col10\" class=\"data row3 col10\" >252</td>\n",
       "                        <td id=\"T_cc78b_row3_col11\" class=\"data row3 col11\" >252</td>\n",
       "                        <td id=\"T_cc78b_row3_col12\" class=\"data row3 col12\" >139</td>\n",
       "                        <td id=\"T_cc78b_row3_col13\" class=\"data row3 col13\" >0</td>\n",
       "            </tr>\n",
       "            <tr>\n",
       "                        <th id=\"T_cc78b_level0_row4\" class=\"row_heading level0 row4\" >4</th>\n",
       "                        <td id=\"T_cc78b_row4_col0\" class=\"data row4 col0\" >0</td>\n",
       "                        <td id=\"T_cc78b_row4_col1\" class=\"data row4 col1\" >0</td>\n",
       "                        <td id=\"T_cc78b_row4_col2\" class=\"data row4 col2\" >0</td>\n",
       "                        <td id=\"T_cc78b_row4_col3\" class=\"data row4 col3\" >0</td>\n",
       "                        <td id=\"T_cc78b_row4_col4\" class=\"data row4 col4\" >0</td>\n",
       "                        <td id=\"T_cc78b_row4_col5\" class=\"data row4 col5\" >0</td>\n",
       "                        <td id=\"T_cc78b_row4_col6\" class=\"data row4 col6\" >0</td>\n",
       "                        <td id=\"T_cc78b_row4_col7\" class=\"data row4 col7\" >0</td>\n",
       "                        <td id=\"T_cc78b_row4_col8\" class=\"data row4 col8\" >0</td>\n",
       "                        <td id=\"T_cc78b_row4_col9\" class=\"data row4 col9\" >108</td>\n",
       "                        <td id=\"T_cc78b_row4_col10\" class=\"data row4 col10\" >252</td>\n",
       "                        <td id=\"T_cc78b_row4_col11\" class=\"data row4 col11\" >252</td>\n",
       "                        <td id=\"T_cc78b_row4_col12\" class=\"data row4 col12\" >45</td>\n",
       "                        <td id=\"T_cc78b_row4_col13\" class=\"data row4 col13\" >0</td>\n",
       "            </tr>\n",
       "            <tr>\n",
       "                        <th id=\"T_cc78b_level0_row5\" class=\"row_heading level0 row5\" >5</th>\n",
       "                        <td id=\"T_cc78b_row5_col0\" class=\"data row5 col0\" >0</td>\n",
       "                        <td id=\"T_cc78b_row5_col1\" class=\"data row5 col1\" >0</td>\n",
       "                        <td id=\"T_cc78b_row5_col2\" class=\"data row5 col2\" >0</td>\n",
       "                        <td id=\"T_cc78b_row5_col3\" class=\"data row5 col3\" >0</td>\n",
       "                        <td id=\"T_cc78b_row5_col4\" class=\"data row5 col4\" >0</td>\n",
       "                        <td id=\"T_cc78b_row5_col5\" class=\"data row5 col5\" >0</td>\n",
       "                        <td id=\"T_cc78b_row5_col6\" class=\"data row5 col6\" >0</td>\n",
       "                        <td id=\"T_cc78b_row5_col7\" class=\"data row5 col7\" >0</td>\n",
       "                        <td id=\"T_cc78b_row5_col8\" class=\"data row5 col8\" >0</td>\n",
       "                        <td id=\"T_cc78b_row5_col9\" class=\"data row5 col9\" >233</td>\n",
       "                        <td id=\"T_cc78b_row5_col10\" class=\"data row5 col10\" >252</td>\n",
       "                        <td id=\"T_cc78b_row5_col11\" class=\"data row5 col11\" >195</td>\n",
       "                        <td id=\"T_cc78b_row5_col12\" class=\"data row5 col12\" >9</td>\n",
       "                        <td id=\"T_cc78b_row5_col13\" class=\"data row5 col13\" >0</td>\n",
       "            </tr>\n",
       "            <tr>\n",
       "                        <th id=\"T_cc78b_level0_row6\" class=\"row_heading level0 row6\" >6</th>\n",
       "                        <td id=\"T_cc78b_row6_col0\" class=\"data row6 col0\" >0</td>\n",
       "                        <td id=\"T_cc78b_row6_col1\" class=\"data row6 col1\" >0</td>\n",
       "                        <td id=\"T_cc78b_row6_col2\" class=\"data row6 col2\" >0</td>\n",
       "                        <td id=\"T_cc78b_row6_col3\" class=\"data row6 col3\" >0</td>\n",
       "                        <td id=\"T_cc78b_row6_col4\" class=\"data row6 col4\" >0</td>\n",
       "                        <td id=\"T_cc78b_row6_col5\" class=\"data row6 col5\" >0</td>\n",
       "                        <td id=\"T_cc78b_row6_col6\" class=\"data row6 col6\" >0</td>\n",
       "                        <td id=\"T_cc78b_row6_col7\" class=\"data row6 col7\" >0</td>\n",
       "                        <td id=\"T_cc78b_row6_col8\" class=\"data row6 col8\" >53</td>\n",
       "                        <td id=\"T_cc78b_row6_col9\" class=\"data row6 col9\" >253</td>\n",
       "                        <td id=\"T_cc78b_row6_col10\" class=\"data row6 col10\" >252</td>\n",
       "                        <td id=\"T_cc78b_row6_col11\" class=\"data row6 col11\" >79</td>\n",
       "                        <td id=\"T_cc78b_row6_col12\" class=\"data row6 col12\" >0</td>\n",
       "                        <td id=\"T_cc78b_row6_col13\" class=\"data row6 col13\" >0</td>\n",
       "            </tr>\n",
       "            <tr>\n",
       "                        <th id=\"T_cc78b_level0_row7\" class=\"row_heading level0 row7\" >7</th>\n",
       "                        <td id=\"T_cc78b_row7_col0\" class=\"data row7 col0\" >0</td>\n",
       "                        <td id=\"T_cc78b_row7_col1\" class=\"data row7 col1\" >0</td>\n",
       "                        <td id=\"T_cc78b_row7_col2\" class=\"data row7 col2\" >0</td>\n",
       "                        <td id=\"T_cc78b_row7_col3\" class=\"data row7 col3\" >0</td>\n",
       "                        <td id=\"T_cc78b_row7_col4\" class=\"data row7 col4\" >0</td>\n",
       "                        <td id=\"T_cc78b_row7_col5\" class=\"data row7 col5\" >0</td>\n",
       "                        <td id=\"T_cc78b_row7_col6\" class=\"data row7 col6\" >0</td>\n",
       "                        <td id=\"T_cc78b_row7_col7\" class=\"data row7 col7\" >0</td>\n",
       "                        <td id=\"T_cc78b_row7_col8\" class=\"data row7 col8\" >116</td>\n",
       "                        <td id=\"T_cc78b_row7_col9\" class=\"data row7 col9\" >255</td>\n",
       "                        <td id=\"T_cc78b_row7_col10\" class=\"data row7 col10\" >253</td>\n",
       "                        <td id=\"T_cc78b_row7_col11\" class=\"data row7 col11\" >69</td>\n",
       "                        <td id=\"T_cc78b_row7_col12\" class=\"data row7 col12\" >0</td>\n",
       "                        <td id=\"T_cc78b_row7_col13\" class=\"data row7 col13\" >0</td>\n",
       "            </tr>\n",
       "            <tr>\n",
       "                        <th id=\"T_cc78b_level0_row8\" class=\"row_heading level0 row8\" >8</th>\n",
       "                        <td id=\"T_cc78b_row8_col0\" class=\"data row8 col0\" >0</td>\n",
       "                        <td id=\"T_cc78b_row8_col1\" class=\"data row8 col1\" >0</td>\n",
       "                        <td id=\"T_cc78b_row8_col2\" class=\"data row8 col2\" >0</td>\n",
       "                        <td id=\"T_cc78b_row8_col3\" class=\"data row8 col3\" >0</td>\n",
       "                        <td id=\"T_cc78b_row8_col4\" class=\"data row8 col4\" >0</td>\n",
       "                        <td id=\"T_cc78b_row8_col5\" class=\"data row8 col5\" >0</td>\n",
       "                        <td id=\"T_cc78b_row8_col6\" class=\"data row8 col6\" >0</td>\n",
       "                        <td id=\"T_cc78b_row8_col7\" class=\"data row8 col7\" >0</td>\n",
       "                        <td id=\"T_cc78b_row8_col8\" class=\"data row8 col8\" >116</td>\n",
       "                        <td id=\"T_cc78b_row8_col9\" class=\"data row8 col9\" >253</td>\n",
       "                        <td id=\"T_cc78b_row8_col10\" class=\"data row8 col10\" >223</td>\n",
       "                        <td id=\"T_cc78b_row8_col11\" class=\"data row8 col11\" >25</td>\n",
       "                        <td id=\"T_cc78b_row8_col12\" class=\"data row8 col12\" >0</td>\n",
       "                        <td id=\"T_cc78b_row8_col13\" class=\"data row8 col13\" >0</td>\n",
       "            </tr>\n",
       "            <tr>\n",
       "                        <th id=\"T_cc78b_level0_row9\" class=\"row_heading level0 row9\" >9</th>\n",
       "                        <td id=\"T_cc78b_row9_col0\" class=\"data row9 col0\" >0</td>\n",
       "                        <td id=\"T_cc78b_row9_col1\" class=\"data row9 col1\" >0</td>\n",
       "                        <td id=\"T_cc78b_row9_col2\" class=\"data row9 col2\" >0</td>\n",
       "                        <td id=\"T_cc78b_row9_col3\" class=\"data row9 col3\" >0</td>\n",
       "                        <td id=\"T_cc78b_row9_col4\" class=\"data row9 col4\" >0</td>\n",
       "                        <td id=\"T_cc78b_row9_col5\" class=\"data row9 col5\" >0</td>\n",
       "                        <td id=\"T_cc78b_row9_col6\" class=\"data row9 col6\" >0</td>\n",
       "                        <td id=\"T_cc78b_row9_col7\" class=\"data row9 col7\" >0</td>\n",
       "                        <td id=\"T_cc78b_row9_col8\" class=\"data row9 col8\" >199</td>\n",
       "                        <td id=\"T_cc78b_row9_col9\" class=\"data row9 col9\" >253</td>\n",
       "                        <td id=\"T_cc78b_row9_col10\" class=\"data row9 col10\" >174</td>\n",
       "                        <td id=\"T_cc78b_row9_col11\" class=\"data row9 col11\" >0</td>\n",
       "                        <td id=\"T_cc78b_row9_col12\" class=\"data row9 col12\" >0</td>\n",
       "                        <td id=\"T_cc78b_row9_col13\" class=\"data row9 col13\" >0</td>\n",
       "            </tr>\n",
       "            <tr>\n",
       "                        <th id=\"T_cc78b_level0_row10\" class=\"row_heading level0 row10\" >10</th>\n",
       "                        <td id=\"T_cc78b_row10_col0\" class=\"data row10 col0\" >0</td>\n",
       "                        <td id=\"T_cc78b_row10_col1\" class=\"data row10 col1\" >0</td>\n",
       "                        <td id=\"T_cc78b_row10_col2\" class=\"data row10 col2\" >0</td>\n",
       "                        <td id=\"T_cc78b_row10_col3\" class=\"data row10 col3\" >0</td>\n",
       "                        <td id=\"T_cc78b_row10_col4\" class=\"data row10 col4\" >0</td>\n",
       "                        <td id=\"T_cc78b_row10_col5\" class=\"data row10 col5\" >0</td>\n",
       "                        <td id=\"T_cc78b_row10_col6\" class=\"data row10 col6\" >0</td>\n",
       "                        <td id=\"T_cc78b_row10_col7\" class=\"data row10 col7\" >34</td>\n",
       "                        <td id=\"T_cc78b_row10_col8\" class=\"data row10 col8\" >238</td>\n",
       "                        <td id=\"T_cc78b_row10_col9\" class=\"data row10 col9\" >253</td>\n",
       "                        <td id=\"T_cc78b_row10_col10\" class=\"data row10 col10\" >92</td>\n",
       "                        <td id=\"T_cc78b_row10_col11\" class=\"data row10 col11\" >0</td>\n",
       "                        <td id=\"T_cc78b_row10_col12\" class=\"data row10 col12\" >0</td>\n",
       "                        <td id=\"T_cc78b_row10_col13\" class=\"data row10 col13\" >0</td>\n",
       "            </tr>\n",
       "            <tr>\n",
       "                        <th id=\"T_cc78b_level0_row11\" class=\"row_heading level0 row11\" >11</th>\n",
       "                        <td id=\"T_cc78b_row11_col0\" class=\"data row11 col0\" >0</td>\n",
       "                        <td id=\"T_cc78b_row11_col1\" class=\"data row11 col1\" >0</td>\n",
       "                        <td id=\"T_cc78b_row11_col2\" class=\"data row11 col2\" >0</td>\n",
       "                        <td id=\"T_cc78b_row11_col3\" class=\"data row11 col3\" >0</td>\n",
       "                        <td id=\"T_cc78b_row11_col4\" class=\"data row11 col4\" >0</td>\n",
       "                        <td id=\"T_cc78b_row11_col5\" class=\"data row11 col5\" >0</td>\n",
       "                        <td id=\"T_cc78b_row11_col6\" class=\"data row11 col6\" >0</td>\n",
       "                        <td id=\"T_cc78b_row11_col7\" class=\"data row11 col7\" >144</td>\n",
       "                        <td id=\"T_cc78b_row11_col8\" class=\"data row11 col8\" >252</td>\n",
       "                        <td id=\"T_cc78b_row11_col9\" class=\"data row11 col9\" >232</td>\n",
       "                        <td id=\"T_cc78b_row11_col10\" class=\"data row11 col10\" >8</td>\n",
       "                        <td id=\"T_cc78b_row11_col11\" class=\"data row11 col11\" >0</td>\n",
       "                        <td id=\"T_cc78b_row11_col12\" class=\"data row11 col12\" >0</td>\n",
       "                        <td id=\"T_cc78b_row11_col13\" class=\"data row11 col13\" >0</td>\n",
       "            </tr>\n",
       "            <tr>\n",
       "                        <th id=\"T_cc78b_level0_row12\" class=\"row_heading level0 row12\" >12</th>\n",
       "                        <td id=\"T_cc78b_row12_col0\" class=\"data row12 col0\" >0</td>\n",
       "                        <td id=\"T_cc78b_row12_col1\" class=\"data row12 col1\" >0</td>\n",
       "                        <td id=\"T_cc78b_row12_col2\" class=\"data row12 col2\" >0</td>\n",
       "                        <td id=\"T_cc78b_row12_col3\" class=\"data row12 col3\" >0</td>\n",
       "                        <td id=\"T_cc78b_row12_col4\" class=\"data row12 col4\" >0</td>\n",
       "                        <td id=\"T_cc78b_row12_col5\" class=\"data row12 col5\" >0</td>\n",
       "                        <td id=\"T_cc78b_row12_col6\" class=\"data row12 col6\" >70</td>\n",
       "                        <td id=\"T_cc78b_row12_col7\" class=\"data row12 col7\" >253</td>\n",
       "                        <td id=\"T_cc78b_row12_col8\" class=\"data row12 col8\" >253</td>\n",
       "                        <td id=\"T_cc78b_row12_col9\" class=\"data row12 col9\" >221</td>\n",
       "                        <td id=\"T_cc78b_row12_col10\" class=\"data row12 col10\" >0</td>\n",
       "                        <td id=\"T_cc78b_row12_col11\" class=\"data row12 col11\" >0</td>\n",
       "                        <td id=\"T_cc78b_row12_col12\" class=\"data row12 col12\" >0</td>\n",
       "                        <td id=\"T_cc78b_row12_col13\" class=\"data row12 col13\" >0</td>\n",
       "            </tr>\n",
       "            <tr>\n",
       "                        <th id=\"T_cc78b_level0_row13\" class=\"row_heading level0 row13\" >13</th>\n",
       "                        <td id=\"T_cc78b_row13_col0\" class=\"data row13 col0\" >0</td>\n",
       "                        <td id=\"T_cc78b_row13_col1\" class=\"data row13 col1\" >0</td>\n",
       "                        <td id=\"T_cc78b_row13_col2\" class=\"data row13 col2\" >0</td>\n",
       "                        <td id=\"T_cc78b_row13_col3\" class=\"data row13 col3\" >0</td>\n",
       "                        <td id=\"T_cc78b_row13_col4\" class=\"data row13 col4\" >0</td>\n",
       "                        <td id=\"T_cc78b_row13_col5\" class=\"data row13 col5\" >9</td>\n",
       "                        <td id=\"T_cc78b_row13_col6\" class=\"data row13 col6\" >155</td>\n",
       "                        <td id=\"T_cc78b_row13_col7\" class=\"data row13 col7\" >252</td>\n",
       "                        <td id=\"T_cc78b_row13_col8\" class=\"data row13 col8\" >252</td>\n",
       "                        <td id=\"T_cc78b_row13_col9\" class=\"data row13 col9\" >95</td>\n",
       "                        <td id=\"T_cc78b_row13_col10\" class=\"data row13 col10\" >0</td>\n",
       "                        <td id=\"T_cc78b_row13_col11\" class=\"data row13 col11\" >0</td>\n",
       "                        <td id=\"T_cc78b_row13_col12\" class=\"data row13 col12\" >0</td>\n",
       "                        <td id=\"T_cc78b_row13_col13\" class=\"data row13 col13\" >0</td>\n",
       "            </tr>\n",
       "            <tr>\n",
       "                        <th id=\"T_cc78b_level0_row14\" class=\"row_heading level0 row14\" >14</th>\n",
       "                        <td id=\"T_cc78b_row14_col0\" class=\"data row14 col0\" >0</td>\n",
       "                        <td id=\"T_cc78b_row14_col1\" class=\"data row14 col1\" >0</td>\n",
       "                        <td id=\"T_cc78b_row14_col2\" class=\"data row14 col2\" >0</td>\n",
       "                        <td id=\"T_cc78b_row14_col3\" class=\"data row14 col3\" >0</td>\n",
       "                        <td id=\"T_cc78b_row14_col4\" class=\"data row14 col4\" >0</td>\n",
       "                        <td id=\"T_cc78b_row14_col5\" class=\"data row14 col5\" >78</td>\n",
       "                        <td id=\"T_cc78b_row14_col6\" class=\"data row14 col6\" >252</td>\n",
       "                        <td id=\"T_cc78b_row14_col7\" class=\"data row14 col7\" >252</td>\n",
       "                        <td id=\"T_cc78b_row14_col8\" class=\"data row14 col8\" >168</td>\n",
       "                        <td id=\"T_cc78b_row14_col9\" class=\"data row14 col9\" >0</td>\n",
       "                        <td id=\"T_cc78b_row14_col10\" class=\"data row14 col10\" >0</td>\n",
       "                        <td id=\"T_cc78b_row14_col11\" class=\"data row14 col11\" >0</td>\n",
       "                        <td id=\"T_cc78b_row14_col12\" class=\"data row14 col12\" >0</td>\n",
       "                        <td id=\"T_cc78b_row14_col13\" class=\"data row14 col13\" >0</td>\n",
       "            </tr>\n",
       "            <tr>\n",
       "                        <th id=\"T_cc78b_level0_row15\" class=\"row_heading level0 row15\" >15</th>\n",
       "                        <td id=\"T_cc78b_row15_col0\" class=\"data row15 col0\" >0</td>\n",
       "                        <td id=\"T_cc78b_row15_col1\" class=\"data row15 col1\" >0</td>\n",
       "                        <td id=\"T_cc78b_row15_col2\" class=\"data row15 col2\" >0</td>\n",
       "                        <td id=\"T_cc78b_row15_col3\" class=\"data row15 col3\" >0</td>\n",
       "                        <td id=\"T_cc78b_row15_col4\" class=\"data row15 col4\" >0</td>\n",
       "                        <td id=\"T_cc78b_row15_col5\" class=\"data row15 col5\" >161</td>\n",
       "                        <td id=\"T_cc78b_row15_col6\" class=\"data row15 col6\" >252</td>\n",
       "                        <td id=\"T_cc78b_row15_col7\" class=\"data row15 col7\" >252</td>\n",
       "                        <td id=\"T_cc78b_row15_col8\" class=\"data row15 col8\" >137</td>\n",
       "                        <td id=\"T_cc78b_row15_col9\" class=\"data row15 col9\" >0</td>\n",
       "                        <td id=\"T_cc78b_row15_col10\" class=\"data row15 col10\" >0</td>\n",
       "                        <td id=\"T_cc78b_row15_col11\" class=\"data row15 col11\" >0</td>\n",
       "                        <td id=\"T_cc78b_row15_col12\" class=\"data row15 col12\" >0</td>\n",
       "                        <td id=\"T_cc78b_row15_col13\" class=\"data row15 col13\" >0</td>\n",
       "            </tr>\n",
       "            <tr>\n",
       "                        <th id=\"T_cc78b_level0_row16\" class=\"row_heading level0 row16\" >16</th>\n",
       "                        <td id=\"T_cc78b_row16_col0\" class=\"data row16 col0\" >0</td>\n",
       "                        <td id=\"T_cc78b_row16_col1\" class=\"data row16 col1\" >0</td>\n",
       "                        <td id=\"T_cc78b_row16_col2\" class=\"data row16 col2\" >0</td>\n",
       "                        <td id=\"T_cc78b_row16_col3\" class=\"data row16 col3\" >0</td>\n",
       "                        <td id=\"T_cc78b_row16_col4\" class=\"data row16 col4\" >127</td>\n",
       "                        <td id=\"T_cc78b_row16_col5\" class=\"data row16 col5\" >244</td>\n",
       "                        <td id=\"T_cc78b_row16_col6\" class=\"data row16 col6\" >252</td>\n",
       "                        <td id=\"T_cc78b_row16_col7\" class=\"data row16 col7\" >210</td>\n",
       "                        <td id=\"T_cc78b_row16_col8\" class=\"data row16 col8\" >22</td>\n",
       "                        <td id=\"T_cc78b_row16_col9\" class=\"data row16 col9\" >0</td>\n",
       "                        <td id=\"T_cc78b_row16_col10\" class=\"data row16 col10\" >0</td>\n",
       "                        <td id=\"T_cc78b_row16_col11\" class=\"data row16 col11\" >0</td>\n",
       "                        <td id=\"T_cc78b_row16_col12\" class=\"data row16 col12\" >0</td>\n",
       "                        <td id=\"T_cc78b_row16_col13\" class=\"data row16 col13\" >0</td>\n",
       "            </tr>\n",
       "            <tr>\n",
       "                        <th id=\"T_cc78b_level0_row17\" class=\"row_heading level0 row17\" >17</th>\n",
       "                        <td id=\"T_cc78b_row17_col0\" class=\"data row17 col0\" >0</td>\n",
       "                        <td id=\"T_cc78b_row17_col1\" class=\"data row17 col1\" >0</td>\n",
       "                        <td id=\"T_cc78b_row17_col2\" class=\"data row17 col2\" >0</td>\n",
       "                        <td id=\"T_cc78b_row17_col3\" class=\"data row17 col3\" >0</td>\n",
       "                        <td id=\"T_cc78b_row17_col4\" class=\"data row17 col4\" >202</td>\n",
       "                        <td id=\"T_cc78b_row17_col5\" class=\"data row17 col5\" >253</td>\n",
       "                        <td id=\"T_cc78b_row17_col6\" class=\"data row17 col6\" >253</td>\n",
       "                        <td id=\"T_cc78b_row17_col7\" class=\"data row17 col7\" >98</td>\n",
       "                        <td id=\"T_cc78b_row17_col8\" class=\"data row17 col8\" >0</td>\n",
       "                        <td id=\"T_cc78b_row17_col9\" class=\"data row17 col9\" >0</td>\n",
       "                        <td id=\"T_cc78b_row17_col10\" class=\"data row17 col10\" >0</td>\n",
       "                        <td id=\"T_cc78b_row17_col11\" class=\"data row17 col11\" >0</td>\n",
       "                        <td id=\"T_cc78b_row17_col12\" class=\"data row17 col12\" >0</td>\n",
       "                        <td id=\"T_cc78b_row17_col13\" class=\"data row17 col13\" >0</td>\n",
       "            </tr>\n",
       "            <tr>\n",
       "                        <th id=\"T_cc78b_level0_row18\" class=\"row_heading level0 row18\" >18</th>\n",
       "                        <td id=\"T_cc78b_row18_col0\" class=\"data row18 col0\" >0</td>\n",
       "                        <td id=\"T_cc78b_row18_col1\" class=\"data row18 col1\" >0</td>\n",
       "                        <td id=\"T_cc78b_row18_col2\" class=\"data row18 col2\" >0</td>\n",
       "                        <td id=\"T_cc78b_row18_col3\" class=\"data row18 col3\" >95</td>\n",
       "                        <td id=\"T_cc78b_row18_col4\" class=\"data row18 col4\" >253</td>\n",
       "                        <td id=\"T_cc78b_row18_col5\" class=\"data row18 col5\" >252</td>\n",
       "                        <td id=\"T_cc78b_row18_col6\" class=\"data row18 col6\" >187</td>\n",
       "                        <td id=\"T_cc78b_row18_col7\" class=\"data row18 col7\" >17</td>\n",
       "                        <td id=\"T_cc78b_row18_col8\" class=\"data row18 col8\" >0</td>\n",
       "                        <td id=\"T_cc78b_row18_col9\" class=\"data row18 col9\" >0</td>\n",
       "                        <td id=\"T_cc78b_row18_col10\" class=\"data row18 col10\" >0</td>\n",
       "                        <td id=\"T_cc78b_row18_col11\" class=\"data row18 col11\" >0</td>\n",
       "                        <td id=\"T_cc78b_row18_col12\" class=\"data row18 col12\" >0</td>\n",
       "                        <td id=\"T_cc78b_row18_col13\" class=\"data row18 col13\" >0</td>\n",
       "            </tr>\n",
       "            <tr>\n",
       "                        <th id=\"T_cc78b_level0_row19\" class=\"row_heading level0 row19\" >19</th>\n",
       "                        <td id=\"T_cc78b_row19_col0\" class=\"data row19 col0\" >0</td>\n",
       "                        <td id=\"T_cc78b_row19_col1\" class=\"data row19 col1\" >0</td>\n",
       "                        <td id=\"T_cc78b_row19_col2\" class=\"data row19 col2\" >0</td>\n",
       "                        <td id=\"T_cc78b_row19_col3\" class=\"data row19 col3\" >230</td>\n",
       "                        <td id=\"T_cc78b_row19_col4\" class=\"data row19 col4\" >253</td>\n",
       "                        <td id=\"T_cc78b_row19_col5\" class=\"data row19 col5\" >218</td>\n",
       "                        <td id=\"T_cc78b_row19_col6\" class=\"data row19 col6\" >19</td>\n",
       "                        <td id=\"T_cc78b_row19_col7\" class=\"data row19 col7\" >0</td>\n",
       "                        <td id=\"T_cc78b_row19_col8\" class=\"data row19 col8\" >0</td>\n",
       "                        <td id=\"T_cc78b_row19_col9\" class=\"data row19 col9\" >0</td>\n",
       "                        <td id=\"T_cc78b_row19_col10\" class=\"data row19 col10\" >0</td>\n",
       "                        <td id=\"T_cc78b_row19_col11\" class=\"data row19 col11\" >0</td>\n",
       "                        <td id=\"T_cc78b_row19_col12\" class=\"data row19 col12\" >0</td>\n",
       "                        <td id=\"T_cc78b_row19_col13\" class=\"data row19 col13\" >0</td>\n",
       "            </tr>\n",
       "            <tr>\n",
       "                        <th id=\"T_cc78b_level0_row20\" class=\"row_heading level0 row20\" >20</th>\n",
       "                        <td id=\"T_cc78b_row20_col0\" class=\"data row20 col0\" >0</td>\n",
       "                        <td id=\"T_cc78b_row20_col1\" class=\"data row20 col1\" >0</td>\n",
       "                        <td id=\"T_cc78b_row20_col2\" class=\"data row20 col2\" >76</td>\n",
       "                        <td id=\"T_cc78b_row20_col3\" class=\"data row20 col3\" >248</td>\n",
       "                        <td id=\"T_cc78b_row20_col4\" class=\"data row20 col4\" >253</td>\n",
       "                        <td id=\"T_cc78b_row20_col5\" class=\"data row20 col5\" >112</td>\n",
       "                        <td id=\"T_cc78b_row20_col6\" class=\"data row20 col6\" >0</td>\n",
       "                        <td id=\"T_cc78b_row20_col7\" class=\"data row20 col7\" >0</td>\n",
       "                        <td id=\"T_cc78b_row20_col8\" class=\"data row20 col8\" >0</td>\n",
       "                        <td id=\"T_cc78b_row20_col9\" class=\"data row20 col9\" >0</td>\n",
       "                        <td id=\"T_cc78b_row20_col10\" class=\"data row20 col10\" >0</td>\n",
       "                        <td id=\"T_cc78b_row20_col11\" class=\"data row20 col11\" >0</td>\n",
       "                        <td id=\"T_cc78b_row20_col12\" class=\"data row20 col12\" >0</td>\n",
       "                        <td id=\"T_cc78b_row20_col13\" class=\"data row20 col13\" >0</td>\n",
       "            </tr>\n",
       "            <tr>\n",
       "                        <th id=\"T_cc78b_level0_row21\" class=\"row_heading level0 row21\" >21</th>\n",
       "                        <td id=\"T_cc78b_row21_col0\" class=\"data row21 col0\" >0</td>\n",
       "                        <td id=\"T_cc78b_row21_col1\" class=\"data row21 col1\" >0</td>\n",
       "                        <td id=\"T_cc78b_row21_col2\" class=\"data row21 col2\" >9</td>\n",
       "                        <td id=\"T_cc78b_row21_col3\" class=\"data row21 col3\" >232</td>\n",
       "                        <td id=\"T_cc78b_row21_col4\" class=\"data row21 col4\" >180</td>\n",
       "                        <td id=\"T_cc78b_row21_col5\" class=\"data row21 col5\" >8</td>\n",
       "                        <td id=\"T_cc78b_row21_col6\" class=\"data row21 col6\" >0</td>\n",
       "                        <td id=\"T_cc78b_row21_col7\" class=\"data row21 col7\" >0</td>\n",
       "                        <td id=\"T_cc78b_row21_col8\" class=\"data row21 col8\" >0</td>\n",
       "                        <td id=\"T_cc78b_row21_col9\" class=\"data row21 col9\" >0</td>\n",
       "                        <td id=\"T_cc78b_row21_col10\" class=\"data row21 col10\" >0</td>\n",
       "                        <td id=\"T_cc78b_row21_col11\" class=\"data row21 col11\" >0</td>\n",
       "                        <td id=\"T_cc78b_row21_col12\" class=\"data row21 col12\" >0</td>\n",
       "                        <td id=\"T_cc78b_row21_col13\" class=\"data row21 col13\" >0</td>\n",
       "            </tr>\n",
       "            <tr>\n",
       "                        <th id=\"T_cc78b_level0_row22\" class=\"row_heading level0 row22\" >22</th>\n",
       "                        <td id=\"T_cc78b_row22_col0\" class=\"data row22 col0\" >0</td>\n",
       "                        <td id=\"T_cc78b_row22_col1\" class=\"data row22 col1\" >0</td>\n",
       "                        <td id=\"T_cc78b_row22_col2\" class=\"data row22 col2\" >0</td>\n",
       "                        <td id=\"T_cc78b_row22_col3\" class=\"data row22 col3\" >0</td>\n",
       "                        <td id=\"T_cc78b_row22_col4\" class=\"data row22 col4\" >0</td>\n",
       "                        <td id=\"T_cc78b_row22_col5\" class=\"data row22 col5\" >0</td>\n",
       "                        <td id=\"T_cc78b_row22_col6\" class=\"data row22 col6\" >0</td>\n",
       "                        <td id=\"T_cc78b_row22_col7\" class=\"data row22 col7\" >0</td>\n",
       "                        <td id=\"T_cc78b_row22_col8\" class=\"data row22 col8\" >0</td>\n",
       "                        <td id=\"T_cc78b_row22_col9\" class=\"data row22 col9\" >0</td>\n",
       "                        <td id=\"T_cc78b_row22_col10\" class=\"data row22 col10\" >0</td>\n",
       "                        <td id=\"T_cc78b_row22_col11\" class=\"data row22 col11\" >0</td>\n",
       "                        <td id=\"T_cc78b_row22_col12\" class=\"data row22 col12\" >0</td>\n",
       "                        <td id=\"T_cc78b_row22_col13\" class=\"data row22 col13\" >0</td>\n",
       "            </tr>\n",
       "    </tbody></table>"
      ],
      "text/plain": [
       "<pandas.io.formats.style.Styler at 0x24e8fbb13a0>"
      ]
     },
     "execution_count": 11,
     "metadata": {},
     "output_type": "execute_result"
    }
   ],
   "source": [
    "im1_t = tensor(im1)\n",
    "df = pd.DataFrame(im1_t[2:25,7:21])\n",
    "df.style.set_properties(**{'front-size':'6pt'}).background_gradient('Greys')"
   ]
  },
  {
   "cell_type": "code",
   "execution_count": 12,
   "id": "11178870",
   "metadata": {},
   "outputs": [],
   "source": [
    "one_tensors = [tensor(Image.open(o)) for o in ones]\n",
    "two_tensors = [tensor(Image.open(o)) for o in twos]\n",
    "three_tensors = [tensor(Image.open(o)) for o in threes]\n",
    "four_tensors = [tensor(Image.open(o)) for o in fours]\n",
    "five_tensors = [tensor(Image.open(o)) for o in fives]\n",
    "six_tensors = [tensor(Image.open(o)) for o in sixs]\n",
    "seven_tensors = [tensor(Image.open(o)) for o in sevens]\n",
    "eight_tensors = [tensor(Image.open(o)) for o in eights]\n",
    "nine_tensors = [tensor(Image.open(o)) for o in nines]"
   ]
  },
  {
   "cell_type": "code",
   "execution_count": 13,
   "id": "63089753",
   "metadata": {},
   "outputs": [
    {
     "data": {
      "text/plain": [
       "<AxesSubplot:>"
      ]
     },
     "execution_count": 13,
     "metadata": {},
     "output_type": "execute_result"
    },
    {
     "data": {
      "image/png": "[encoded data removed]",
      "text/plain": [
       "<Figure size 72x72 with 1 Axes>"
      ]
     },
     "metadata": {
      "needs_background": "light"
     },
     "output_type": "display_data"
    }
   ],
   "source": [
    "show_image(three_tensors[1])"
   ]
  },
  {
   "cell_type": "code",
   "execution_count": 14,
   "id": "ffd8a867",
   "metadata": {},
   "outputs": [],
   "source": [
    "stacked_ones = torch.stack(one_tensors).float()/255\n",
    "stacked_twos = torch.stack(two_tensors).float()/255\n",
    "stacked_threes = torch.stack(three_tensors).float()/255\n",
    "stacked_fours = torch.stack(four_tensors).float()/255\n",
    "stacked_fives = torch.stack(five_tensors).float()/255\n",
    "stacked_sixs = torch.stack(six_tensors).float()/255\n",
    "stacked_sevens = torch.stack(seven_tensors).float()/255\n",
    "stacked_eights = torch.stack(eight_tensors).float()/255\n",
    "stacked_nines = torch.stack(nine_tensors).float()/255"
   ]
  },
  {
   "cell_type": "code",
   "execution_count": 15,
   "id": "099538ef",
   "metadata": {},
   "outputs": [
    {
     "data": {
      "text/plain": [
       "3"
      ]
     },
     "execution_count": 15,
     "metadata": {},
     "output_type": "execute_result"
    }
   ],
   "source": [
    "len(stacked_ones.shape)"
   ]
  },
  {
   "cell_type": "code",
   "execution_count": 16,
   "id": "dee60f91",
   "metadata": {},
   "outputs": [
    {
     "data": {
      "text/plain": [
       "3"
      ]
     },
     "execution_count": 16,
     "metadata": {},
     "output_type": "execute_result"
    }
   ],
   "source": [
    "stacked_ones.ndim"
   ]
  },
  {
   "cell_type": "code",
   "execution_count": 17,
   "id": "fa7de2c5",
   "metadata": {},
   "outputs": [],
   "source": [
    "mean1 = stacked_ones.mean(0)\n",
    "mean2 = stacked_twos.mean(0)\n",
    "mean3 = stacked_threes.mean(0)\n",
    "mean4 = stacked_fours.mean(0)\n",
    "mean5 = stacked_fives.mean(0)\n",
    "mean6 = stacked_sixs.mean(0)\n",
    "mean7 = stacked_sevens.mean(0)\n",
    "mean8 = stacked_eights.mean(0)\n",
    "mean9 = stacked_nines.mean(0)"
   ]
  },
  {
   "cell_type": "code",
   "execution_count": 18,
   "id": "027f1d2b",
   "metadata": {},
   "outputs": [],
   "source": [
    "mean_array = [mean1,mean2,mean3,mean4,mean5,mean6,mean7,mean8,mean9]"
   ]
  },
  {
   "cell_type": "code",
   "execution_count": 19,
   "id": "755a2fad",
   "metadata": {},
   "outputs": [
    {
     "data": {
      "image/png": "[encoded data removed]",
      "text/plain": [
       "<Figure size 216x216 with 9 Axes>"
      ]
     },
     "metadata": {
      "needs_background": "light"
     },
     "output_type": "display_data"
    }
   ],
   "source": [
    "plt.figure(figsize=(3,3))\n",
    "\n",
    "for index in range(9):\n",
    "    plt.subplot(3, 3, index +1)\n",
    "    plt.imshow(mean_array[index], cmap='gray')\n",
    "    plt.axis('off')\n",
    "plt.show()\n",
    "     "
   ]
  },
  {
   "cell_type": "code",
   "execution_count": 20,
   "id": "53faad87",
   "metadata": {},
   "outputs": [],
   "source": [
    "a_1 = stacked_ones[1]\n",
    "a_2 = stacked_twos[1]\n",
    "a_3 = stacked_threes[1]\n",
    "a_4 = stacked_fours[1]\n",
    "a_5 = stacked_fives[1]\n",
    "a_6 = stacked_sixs[1]\n",
    "a_7 = stacked_sevens[1]\n",
    "a_8 = stacked_eights[1]\n",
    "a_9 = stacked_nines[1]\n",
    "a_array = [a_1,a_2,a_3,a_4,a_5,a_6,a_7,a_8,a_9]"
   ]
  },
  {
   "cell_type": "code",
   "execution_count": 21,
   "id": "748c844b",
   "metadata": {},
   "outputs": [
    {
     "data": {
      "image/png": "[encoded data removed]",
      "text/plain": [
       "<Figure size 216x216 with 9 Axes>"
      ]
     },
     "metadata": {
      "needs_background": "light"
     },
     "output_type": "display_data"
    }
   ],
   "source": [
    "plt.figure(figsize=(3,3))\n",
    "\n",
    "for index in range(9):\n",
    "    plt.subplot(3, 3, index +1)\n",
    "    plt.imshow(a_array[index], cmap='gray')\n",
    "    plt.axis('off')\n",
    "plt.show()\n",
    "     "
   ]
  },
  {
   "cell_type": "code",
   "execution_count": 22,
   "id": "b309166f",
   "metadata": {},
   "outputs": [
    {
     "data": {
      "text/plain": [
       "tensor(0.3021)"
      ]
     },
     "execution_count": 22,
     "metadata": {},
     "output_type": "execute_result"
    }
   ],
   "source": [
    "F.mse_loss(a_3,mean7).sqrt()"
   ]
  },
  {
   "cell_type": "code",
   "execution_count": 23,
   "id": "fc5bae4c",
   "metadata": {},
   "outputs": [],
   "source": [
    "valid_1_tens = torch.stack([tensor(Image.open(o)) for o in (path/'testing'/'1').ls()])\n",
    "valid_2_tens = torch.stack([tensor(Image.open(o)) for o in (path/'testing'/'2').ls()])\n",
    "valid_3_tens = torch.stack([tensor(Image.open(o)) for o in (path/'testing'/'3').ls()])\n",
    "valid_4_tens = torch.stack([tensor(Image.open(o)) for o in (path/'testing'/'4').ls()])\n",
    "valid_5_tens = torch.stack([tensor(Image.open(o)) for o in (path/'testing'/'5').ls()])\n",
    "valid_6_tens = torch.stack([tensor(Image.open(o)) for o in (path/'testing'/'6').ls()])\n",
    "valid_7_tens = torch.stack([tensor(Image.open(o)) for o in (path/'testing'/'7').ls()])\n",
    "valid_8_tens = torch.stack([tensor(Image.open(o)) for o in (path/'testing'/'8').ls()])\n",
    "valid_9_tens = torch.stack([tensor(Image.open(o)) for o in (path/'testing'/'9').ls()])"
   ]
  },
  {
   "cell_type": "code",
   "execution_count": 24,
   "id": "9acc0932",
   "metadata": {},
   "outputs": [
    {
     "data": {
      "text/plain": [
       "tensor(0.1114)"
      ]
     },
     "execution_count": 24,
     "metadata": {},
     "output_type": "execute_result"
    }
   ],
   "source": [
    "def mnist_distance(a,b): return (a-b).abs().mean((-1,-2))\n",
    "mnist_distance(a_3,mean3)"
   ]
  },
  {
   "cell_type": "code",
   "execution_count": 25,
   "id": "02634620",
   "metadata": {},
   "outputs": [
    {
     "data": {
      "text/plain": [
       "(tensor([25.6367, 44.4859, 41.5864,  ..., 27.7280, 41.1506, 43.8371]),\n",
       " torch.Size([1010]))"
      ]
     },
     "execution_count": 25,
     "metadata": {},
     "output_type": "execute_result"
    }
   ],
   "source": [
    "valid_3_dist = mnist_distance(valid_3_tens, mean3)\n",
    "valid_3_dist, valid_3_dist.shape"
   ]
  },
  {
   "cell_type": "code",
   "execution_count": 66,
   "id": "a01cec8e",
   "metadata": {},
   "outputs": [],
   "source": [
    "def is_1(x):\n",
    "    tmp = (mnist_distance(x,mean1) < mnist_distance(x,mean2)).float().mean()\n",
    "    tmp += (mnist_distance(x,mean1) < mnist_distance(x,mean3)).float().mean()\n",
    "    tmp += (mnist_distance(x,mean1) < mnist_distance(x,mean4)).float().mean()\n",
    "    tmp += (mnist_distance(x,mean1) < mnist_distance(x,mean5)).float().mean()\n",
    "    tmp += (mnist_distance(x,mean1) < mnist_distance(x,mean6)).float().mean()\n",
    "    tmp += (mnist_distance(x,mean1) < mnist_distance(x,mean7)).float().mean()\n",
    "    tmp += (mnist_distance(x,mean1) < mnist_distance(x,mean8)).float().mean()\n",
    "    tmp += (mnist_distance(x,mean1) < mnist_distance(x,mean9)).float().mean()\n",
    "    return tmp / 8\n",
    "\n",
    "def is_2(x):\n",
    "    tmp = (mnist_distance(x,mean2) < mnist_distance(x,mean1)).float().mean()\n",
    "    tmp += (mnist_distance(x,mean2) < mnist_distance(x,mean3)).float().mean()\n",
    "    tmp += (mnist_distance(x,mean2) < mnist_distance(x,mean4)).float().mean()\n",
    "    tmp += (mnist_distance(x,mean2) < mnist_distance(x,mean5)).float().mean()\n",
    "    tmp += (mnist_distance(x,mean2) < mnist_distance(x,mean6)).float().mean()\n",
    "    tmp += (mnist_distance(x,mean2) < mnist_distance(x,mean7)).float().mean()\n",
    "    tmp += (mnist_distance(x,mean2) < mnist_distance(x,mean8)).float().mean()\n",
    "    tmp += (mnist_distance(x,mean2) < mnist_distance(x,mean9)).float().mean()\n",
    "    return tmp / 8\n",
    "\n",
    "def is_3(x):\n",
    "    tmp = (mnist_distance(x,mean3) < mnist_distance(x,mean1)).float().mean()\n",
    "    tmp += (mnist_distance(x,mean3) < mnist_distance(x,mean2)).float().mean()\n",
    "    tmp += (mnist_distance(x,mean3) < mnist_distance(x,mean4)).float().mean()\n",
    "    tmp += (mnist_distance(x,mean3) < mnist_distance(x,mean5)).float().mean()\n",
    "    tmp += (mnist_distance(x,mean3) < mnist_distance(x,mean6)).float().mean()\n",
    "    tmp += (mnist_distance(x,mean3) < mnist_distance(x,mean7)).float().mean()\n",
    "    tmp += (mnist_distance(x,mean3) < mnist_distance(x,mean8)).float().mean()\n",
    "    tmp += (mnist_distance(x,mean3) < mnist_distance(x,mean9)).float().mean()\n",
    "    return tmp / 8\n",
    "\n",
    "def is_4(x):\n",
    "    tmp = (mnist_distance(x,mean4) < mnist_distance(x,mean1)).float().mean()\n",
    "    tmp += (mnist_distance(x,mean4) < mnist_distance(x,mean2)).float().mean()\n",
    "    tmp += (mnist_distance(x,mean4) < mnist_distance(x,mean3)).float().mean()\n",
    "    tmp += (mnist_distance(x,mean4) < mnist_distance(x,mean5)).float().mean()\n",
    "    tmp += (mnist_distance(x,mean4) < mnist_distance(x,mean6)).float().mean()\n",
    "    tmp += (mnist_distance(x,mean4) < mnist_distance(x,mean7)).float().mean()\n",
    "    tmp += (mnist_distance(x,mean4) < mnist_distance(x,mean8)).float().mean()\n",
    "    tmp += (mnist_distance(x,mean4) < mnist_distance(x,mean9)).float().mean()\n",
    "    return tmp / 8\n",
    "\n",
    "def is_5(x):\n",
    "    tmp = (mnist_distance(x,mean5) < mnist_distance(x,mean1)).float().mean()\n",
    "    tmp += (mnist_distance(x,mean5) < mnist_distance(x,mean2)).float().mean()\n",
    "    tmp += (mnist_distance(x,mean5) < mnist_distance(x,mean3)).float().mean()\n",
    "    tmp += (mnist_distance(x,mean5) < mnist_distance(x,mean4)).float().mean()\n",
    "    tmp += (mnist_distance(x,mean5) < mnist_distance(x,mean6)).float().mean()\n",
    "    tmp += (mnist_distance(x,mean5) < mnist_distance(x,mean7)).float().mean()\n",
    "    tmp += (mnist_distance(x,mean5) < mnist_distance(x,mean8)).float().mean()\n",
    "    tmp += (mnist_distance(x,mean5) < mnist_distance(x,mean9)).float().mean()\n",
    "    return tmp / 8\n",
    "\n",
    "def is_6(x):\n",
    "    tmp = (mnist_distance(x,mean6) < mnist_distance(x,mean1)).float().mean()\n",
    "    tmp += (mnist_distance(x,mean6) < mnist_distance(x,mean2)).float().mean()\n",
    "    tmp += (mnist_distance(x,mean6) < mnist_distance(x,mean3)).float().mean()\n",
    "    tmp += (mnist_distance(x,mean6) < mnist_distance(x,mean4)).float().mean()\n",
    "    tmp += (mnist_distance(x,mean6) < mnist_distance(x,mean5)).float().mean()\n",
    "    tmp += (mnist_distance(x,mean6) < mnist_distance(x,mean7)).float().mean()\n",
    "    tmp += (mnist_distance(x,mean6) < mnist_distance(x,mean8)).float().mean()\n",
    "    tmp += (mnist_distance(x,mean6) < mnist_distance(x,mean9)).float().mean()\n",
    "    return tmp / 8\n",
    "\n",
    "def is_7(x):\n",
    "    tmp = (mnist_distance(x,mean7) < mnist_distance(x,mean1)).float().mean()\n",
    "    tmp += (mnist_distance(x,mean7) < mnist_distance(x,mean2)).float().mean()\n",
    "    tmp += (mnist_distance(x,mean7) < mnist_distance(x,mean3)).float().mean()\n",
    "    tmp += (mnist_distance(x,mean7) < mnist_distance(x,mean4)).float().mean()\n",
    "    tmp += (mnist_distance(x,mean7) < mnist_distance(x,mean5)).float().mean()\n",
    "    tmp += (mnist_distance(x,mean7) < mnist_distance(x,mean6)).float().mean()\n",
    "    tmp += (mnist_distance(x,mean7) < mnist_distance(x,mean8)).float().mean()\n",
    "    tmp += (mnist_distance(x,mean7) < mnist_distance(x,mean9)).float().mean()\n",
    "    return tmp / 8\n",
    "  \n",
    "def is_8(x):\n",
    "    tmp = (mnist_distance(x,mean8) < mnist_distance(x,mean1)).float().mean()\n",
    "    tmp += (mnist_distance(x,mean8) < mnist_distance(x,mean2)).float().mean()\n",
    "    tmp += (mnist_distance(x,mean8) < mnist_distance(x,mean3)).float().mean()\n",
    "    tmp += (mnist_distance(x,mean8) < mnist_distance(x,mean4)).float().mean()\n",
    "    tmp += (mnist_distance(x,mean8) < mnist_distance(x,mean5)).float().mean()\n",
    "    tmp += (mnist_distance(x,mean8) < mnist_distance(x,mean6)).float().mean()\n",
    "    tmp += (mnist_distance(x,mean8) < mnist_distance(x,mean7)).float().mean()\n",
    "    tmp += (mnist_distance(x,mean8) < mnist_distance(x,mean9)).float().mean()\n",
    "    return tmp / 8\n",
    "\n",
    "def is_9(x):\n",
    "    tmp = (mnist_distance(x,mean9) < mnist_distance(x,mean1)).float().mean()\n",
    "    tmp += (mnist_distance(x,mean9) < mnist_distance(x,mean2)).float().mean()\n",
    "    tmp += (mnist_distance(x,mean9) < mnist_distance(x,mean3)).float().mean()\n",
    "    tmp += (mnist_distance(x,mean9) < mnist_distance(x,mean4)).float().mean()\n",
    "    tmp += (mnist_distance(x,mean9) < mnist_distance(x,mean5)).float().mean()\n",
    "    tmp += (mnist_distance(x,mean9) < mnist_distance(x,mean6)).float().mean()\n",
    "    tmp += (mnist_distance(x,mean9) < mnist_distance(x,mean7)).float().mean()\n",
    "    tmp += (mnist_distance(x,mean9) < mnist_distance(x,mean8)).float().mean()\n",
    "    return tmp / 8"
   ]
  },
  {
   "cell_type": "code",
   "execution_count": 59,
   "id": "79059a90",
   "metadata": {
    "scrolled": true
   },
   "outputs": [
    {
     "data": {
      "text/plain": [
       "tensor(8.)"
      ]
     },
     "execution_count": 59,
     "metadata": {},
     "output_type": "execute_result"
    }
   ],
   "source": [
    "is_1(a_1).float().mean()"
   ]
  },
  {
   "cell_type": "code",
   "execution_count": 60,
   "id": "5cf0eea7",
   "metadata": {},
   "outputs": [
    {
     "data": {
      "text/plain": [
       "tensor(5.4624)"
      ]
     },
     "execution_count": 60,
     "metadata": {},
     "output_type": "execute_result"
    }
   ],
   "source": [
    "is_1(valid_3_tens)"
   ]
  },
  {
   "cell_type": "code",
   "execution_count": 55,
   "id": "f57babe1",
   "metadata": {},
   "outputs": [
    {
     "data": {
      "text/plain": [
       "tensor(0.8109)"
      ]
     },
     "execution_count": 55,
     "metadata": {},
     "output_type": "execute_result"
    }
   ],
   "source": [
    "accuracy_3s = is_1(valid_3_tens).float().mean()\n",
    "accuracy_3s"
   ]
  },
  {
   "cell_type": "code",
   "execution_count": 70,
   "id": "e06d2249",
   "metadata": {},
   "outputs": [
    {
     "data": {
      "text/plain": [
       "tensor(0.9262)"
      ]
     },
     "execution_count": 70,
     "metadata": {},
     "output_type": "execute_result"
    }
   ],
   "source": [
    "accuracy = (is_1(valid_1_tens) + is_2(valid_2_tens) + is_3(valid_3_tens) + is_4(valid_4_tens) + is_5(valid_5_tens) + is_6(valid_6_tens) + is_7(valid_7_tens) + is_8(valid_8_tens) + is_9(valid_9_tens))/9\n",
    "accuracy"
   ]
  }
 ],
 "metadata": {
  "kernelspec": {
   "display_name": "Python 3",
   "language": "python",
   "name": "python3"
  },
  "language_info": {
   "codemirror_mode": {
    "name": "ipython",
    "version": 3
   },
   "file_extension": ".py",
   "mimetype": "text/x-python",
   "name": "python",
   "nbconvert_exporter": "python",
   "pygments_lexer": "ipython3",
   "version": "3.8.8"
  }
 },
 "nbformat": 4,
 "nbformat_minor": 5
}
