{
 "cells": [
  {
   "cell_type": "code",
   "execution_count": 128,
   "id": "6496eb4a",
   "metadata": {},
   "outputs": [],
   "source": [
    "import time\n",
    "import shutil\n",
    "import datetime\n",
    "import urllib.request\n",
    "import os\n",
    "import cv2\n",
    "import numpy as np\n",
    "from bs4 import BeautifulSoup\n",
    "from pathlib import Path\n",
    "from selenium import webdriver\n",
    "from selenium.webdriver.common.by import By\n",
    "from selenium.webdriver.common.desired_capabilities import DesiredCapabilities\n",
    "from selenium.webdriver.support.ui import Select\n",
    "from urllib.request import urlretrieve\n"
   ]
  },
  {
   "cell_type": "code",
   "execution_count": 167,
   "id": "f78ca720",
   "metadata": {
    "scrolled": true
   },
   "outputs": [
    {
     "name": "stderr",
     "output_type": "stream",
     "text": [
      "C:\\Users\\Chan\\AppData\\Local\\Temp\\ipykernel_15200\\3015672780.py:2: DeprecationWarning: executable_path has been deprecated, please pass in a Service object\n",
      "  driver = webdriver.Chrome(path)\n"
     ]
    }
   ],
   "source": [
    "path = 'C:\\chromedriver.exe'\n",
    "driver = webdriver.Chrome(path)\n",
    "driver.get(\"https://www.musinsa.com/ranking/best\")"
   ]
  },
  {
   "cell_type": "code",
   "execution_count": 168,
   "id": "428c9b16",
   "metadata": {},
   "outputs": [],
   "source": [
    "driver.find_element(By.XPATH, '//*[@id=\"search_query\"]').click()\n",
    "driver.find_element(By.XPATH, '//*[@id=\"search_query\"]').send_keys(\"니트\\n\")"
   ]
  },
  {
   "cell_type": "code",
   "execution_count": 169,
   "id": "8462d3ef",
   "metadata": {},
   "outputs": [],
   "source": [
    "driver.find_element(By.XPATH, '/html/body/div[2]/div[3]/section/nav/a[2]').click()"
   ]
  },
  {
   "cell_type": "code",
   "execution_count": 173,
   "id": "c9713ce7",
   "metadata": {},
   "outputs": [],
   "source": [
    "imgs = driver.find_elements(By.CLASS_NAME,'lazyload')\n",
    "result = []\n",
    " \n",
    "for img in imgs:                                #모든 이미지들을 탐색\n",
    "#     print(img.get_attribute('src'))         #이미지 주소를 print\n",
    "    result.append(img.get_attribute('src'))     #이미지 src만 모아서 리스트에 저장\n"
   ]
  },
  {
   "cell_type": "code",
   "execution_count": 174,
   "id": "92724123",
   "metadata": {},
   "outputs": [],
   "source": [
    "img_folder_path = 'C:/img_crawling/knitwear'    #이미지 저장 폴더\n",
    " \n",
    "if not os.path.isdir(img_folder_path):      #없으면 새로 생성\n",
    "    os.mkdir(img_folder_path)\n",
    "index = 0\n",
    "for link in result:           #리스트에 있는 원소만큼 반복, 인덱스는 index에, 원소들은 link를 통해 접근 가능\n",
    "    start = link.rfind('.')         #.을 시작으로\n",
    "    end = link.rfind('?')           #?를 끝으로     #확장자명을 잘라서 filetype변수에 저장 (ex -> .jpg)\n",
    "    urlretrieve(link, f'/img_crawling/knitwear/{index}.jpg')\n",
    "    index += 1"
   ]
  },
  {
   "cell_type": "code",
   "execution_count": 144,
   "id": "11122f79",
   "metadata": {
    "collapsed": true
   },
   "outputs": [
    {
     "data": {
      "text/plain": [
       "['https://image.msscdn.net/images/goods_img/20180921/865862/865862_5_220.jpg',\n",
       " 'https://image.msscdn.net/images/goods_img/20200917/1609490/1609490_8_220.jpg',\n",
       " 'https://image.msscdn.net/images/goods_img/20220928/2825493/2825493_1_220.jpg',\n",
       " 'https://image.msscdn.net/images/goods_img/20211117/2238440/2238440_1_220.jpg',\n",
       " 'https://image.msscdn.net/images/goods_img/20171019/655610/655610_9_220.jpg',\n",
       " 'https://image.msscdn.net/images/goods_img/20200923/1618313/1618313_3_220.jpg',\n",
       " 'https://image.msscdn.net/images/goods_img/20220908/2782764/2782764_1_220.jpg',\n",
       " 'https://image.msscdn.net/images/goods_img/20200918/1611891/1611891_5_220.jpg',\n",
       " 'https://image.msscdn.net/images/goods_img/20171110/668822/668822_1_220.jpg',\n",
       " 'https://image.msscdn.net/images/goods_img/20220726/2682035/2682035_1_220.jpg',\n",
       " 'https://image.msscdn.net/images/goods_img/20210910/2124214/2124214_2_220.jpg',\n",
       " 'https://image.msscdn.net/images/goods_img/20181019/885715/885715_7_220.jpg',\n",
       " 'https://image.msscdn.net/images/goods_img/20220613/2611818/2611818_1_220.jpg',\n",
       " 'https://image.msscdn.net/images/goods_img/20220930/2831706/2831706_2_220.jpg',\n",
       " 'https://image.msscdn.net/images/goods_img/20160929/420779/420779_3_220.jpg',\n",
       " 'https://image.msscdn.net/images/goods_img/20220929/2828453/2828453_1_220.jpg',\n",
       " 'https://image.msscdn.net/images/goods_img/20221005/2839346/2839346_1_220.jpg',\n",
       " 'https://image.msscdn.net/images/goods_img/20211102/2211829/2211829_1_220.jpg',\n",
       " 'https://image.msscdn.net/images/goods_img/20220712/2658413/2658413_4_220.jpg',\n",
       " 'https://image.msscdn.net/images/goods_img/20220613/2611821/2611821_2_220.jpg',\n",
       " 'https://image.msscdn.net/images/goods_img/20220928/2825494/2825494_2_220.jpg',\n",
       " 'https://image.msscdn.net/images/goods_img/20200918/1611799/1611799_2_220.jpg',\n",
       " 'https://image.msscdn.net/images/goods_img/20201103/1676905/1676905_1_220.jpg',\n",
       " 'https://image.msscdn.net/images/goods_img/20200917/1609493/1609493_5_220.jpg',\n",
       " 'https://image.msscdn.net/images/goods_img/20181012/879625/879625_3_220.jpg',\n",
       " 'https://image.msscdn.net/images/goods_img/20220824/2738718/2738718_2_220.jpg',\n",
       " 'https://image.msscdn.net/images/goods_img/20211119/2241556/2241556_2_220.jpg',\n",
       " 'https://image.msscdn.net/images/goods_img/20200917/1609484/1609484_5_220.jpg',\n",
       " 'https://image.msscdn.net/images/goods_img/20210910/2124218/2124218_2_220.jpg',\n",
       " 'https://image.msscdn.net/images/goods_img/20220811/2711409/2711409_18_220.jpg',\n",
       " 'https://image.msscdn.net/images/goods_img/20200918/1611949/1611949_5_220.jpg',\n",
       " 'https://image.msscdn.net/images/goods_img/20221005/2841400/2841400_3_220.jpg',\n",
       " 'https://image.msscdn.net/images/goods_img/20221005/2841448/2841448_1_220.jpg',\n",
       " 'https://image.msscdn.net/images/goods_img/20220801/2690744/2690744_2_220.jpg',\n",
       " 'https://image.msscdn.net/images/goods_img/20171129/680486/680486_11_220.jpg',\n",
       " 'https://image.msscdn.net/images/goods_img/20220811/2711410/2711410_32_220.jpg',\n",
       " 'https://image.msscdn.net/images/goods_img/20221005/2841435/2841435_1_220.jpg',\n",
       " 'https://image.msscdn.net/images/goods_img/20211117/2238412/2238412_2_220.jpg',\n",
       " 'https://image.msscdn.net/images/goods_img/20220929/2829248/2829248_2_220.jpg',\n",
       " 'https://image.msscdn.net/images/goods_img/20220829/2750023/2750023_1_220.jpg',\n",
       " 'https://image.msscdn.net/images/goods_img/20151008/260755/260755_4_220.jpg',\n",
       " 'https://image.msscdn.net/images/goods_img/20211117/2238433/2238433_1_220.jpg',\n",
       " 'https://image.msscdn.net/images/goods_img/20210910/2124216/2124216_2_220.jpg',\n",
       " 'https://image.msscdn.net/images/goods_img/20220427/2518454/2518454_1_220.jpg',\n",
       " 'https://image.msscdn.net/images/goods_img/20180921/865864/865864_3_220.jpg',\n",
       " 'https://image.msscdn.net/images/goods_img/20221017/2866837/2866837_2_220.jpg',\n",
       " 'https://image.msscdn.net/images/goods_img/20211001/2157780/2157780_3_220.jpg',\n",
       " 'https://image.msscdn.net/images/goods_img/20220907/2777189/2777189_2_220.jpg',\n",
       " 'https://image.msscdn.net/images/goods_img/20221014/2863075/2863075_1_220.jpg',\n",
       " 'https://image.msscdn.net/images/goods_img/20171110/668860/668860_1_220.jpg',\n",
       " 'https://image.msscdn.net/images/goods_img/20220914/2789871/2789871_2_220.jpg',\n",
       " 'https://image.msscdn.net/images/goods_img/20221005/2839345/2839345_1_220.jpg',\n",
       " 'https://image.msscdn.net/images/goods_img/20201218/1726373/1726373_1_220.jpg',\n",
       " 'https://image.msscdn.net/images/goods_img/20210901/2102589/2102589_2_220.jpg',\n",
       " 'https://image.msscdn.net/images/goods_img/20200923/1618207/1618207_1_220.jpg',\n",
       " 'https://image.msscdn.net/images/goods_img/20211104/2217531/2217531_5_220.jpg',\n",
       " 'https://image.msscdn.net/images/goods_img/20210928/2150220/2150220_4_220.jpg',\n",
       " 'https://image.msscdn.net/images/goods_img/20181019/885716/885716_2_220.jpg',\n",
       " 'https://image.msscdn.net/images/goods_img/20200928/1628418/1628418_3_220.jpg',\n",
       " 'https://image.msscdn.net/images/goods_img/20221013/2857423/2857423_1_220.jpg',\n",
       " 'https://image.msscdn.net/images/goods_img/20221017/2866832/2866832_2_220.jpg',\n",
       " 'https://image.msscdn.net/images/goods_img/20220922/2811577/2811577_1_220.jpg',\n",
       " 'https://image.msscdn.net/images/goods_img/20201006/1635197/1635197_6_220.jpg',\n",
       " 'https://image.msscdn.net/images/goods_img/20201016/1651994/1651994_3_220.jpg',\n",
       " 'https://image.msscdn.net/images/goods_img/20220531/2594207/2594207_3_220.jpg',\n",
       " 'https://image.msscdn.net/images/goods_img/20210825/2085823/2085823_4_220.jpg',\n",
       " 'https://image.msscdn.net/images/goods_img/20210901/2102356/2102356_2_220.jpg',\n",
       " 'https://image.msscdn.net/images/goods_img/20211103/2213917/2213917_1_220.jpg',\n",
       " 'https://image.msscdn.net/images/goods_img/20190812/1115974/1115974_4_220.jpg',\n",
       " 'https://image.msscdn.net/images/goods_img/20210917/2139474/2139474_2_220.jpg',\n",
       " 'https://image.msscdn.net/images/goods_img/20220427/2518455/2518455_1_220.jpg',\n",
       " 'https://image.msscdn.net/images/goods_img/20201008/1641129/1641129_2_220.jpg',\n",
       " 'https://image.msscdn.net/images/goods_img/20210830/2098326/2098326_4_220.jpg',\n",
       " 'https://image.msscdn.net/images/goods_img/20221012/2854516/2854516_1_220.jpg',\n",
       " 'https://image.msscdn.net/images/goods_img/20211005/2161484/2161484_4_220.jpg',\n",
       " 'https://image.msscdn.net/images/goods_img/20211005/2161656/2161656_1_220.jpg',\n",
       " 'https://image.msscdn.net/images/goods_img/20220621/2626660/2626660_2_220.jpg',\n",
       " 'https://image.msscdn.net/images/goods_img/20221026/2895662/2895662_1_220.jpg',\n",
       " 'https://image.msscdn.net/images/goods_img/20210901/2102345/2102345_3_220.jpg',\n",
       " 'https://image.msscdn.net/images/goods_img/20220726/2682036/2682036_1_220.jpg',\n",
       " 'https://image.msscdn.net/images/goods_img/20211012/2172957/2172957_5_220.jpg',\n",
       " 'https://image.msscdn.net/images/goods_img/20221017/2869098/2869098_1_220.jpg',\n",
       " 'https://image.msscdn.net/images/goods_img/20220809/2706211/2706211_1_220.jpg',\n",
       " 'https://image.msscdn.net/images/goods_img/20220531/2594255/2594255_2_220.jpg',\n",
       " 'https://image.msscdn.net/images/goods_img/20221118/2949148/2949148_1_220.jpg',\n",
       " 'https://image.msscdn.net/images/goods_img/20210910/2124215/2124215_2_220.jpg',\n",
       " 'https://image.msscdn.net/images/goods_img/20191028/1203802/1203802_3_220.jpg',\n",
       " 'https://image.msscdn.net/images/goods_img/20220914/2789874/2789874_3_220.jpg',\n",
       " 'https://image.msscdn.net/images/goods_img/20220805/2700045/2700045_1_220.jpg',\n",
       " 'https://image.msscdn.net/images/goods_img/20220928/2826071/2826071_1_220.jpg']"
      ]
     },
     "execution_count": 144,
     "metadata": {},
     "output_type": "execute_result"
    }
   ],
   "source": [
    "result"
   ]
  },
  {
   "cell_type": "code",
   "execution_count": 165,
   "id": "42bcb28b",
   "metadata": {},
   "outputs": [],
   "source": [
    "driver.execute_script(\"window.scrollTo(0, document.body.scrollHeight);\")"
   ]
  }
 ],
 "metadata": {
  "kernelspec": {
   "display_name": "Python 3 (ipykernel)",
   "language": "python",
   "name": "python3"
  },
  "language_info": {
   "codemirror_mode": {
    "name": "ipython",
    "version": 3
   },
   "file_extension": ".py",
   "mimetype": "text/x-python",
   "name": "python",
   "nbconvert_exporter": "python",
   "pygments_lexer": "ipython3",
   "version": "3.10.6"
  }
 },
 "nbformat": 4,
 "nbformat_minor": 5
}
