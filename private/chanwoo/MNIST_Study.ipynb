{
  "nbformat": 4,
  "nbformat_minor": 0,
  "metadata": {
    "colab": {
      "provenance": [],
      "authorship_tag": "ABX9TyMGEGbpI2rpxe8gWxmZPr9a",
      "include_colab_link": true
    },
    "kernelspec": {
      "name": "python3",
      "display_name": "Python 3"
    },
    "language_info": {
      "name": "python"
    },
    "accelerator": "GPU",
    "gpuClass": "standard"
  },
  "cells": [
    {
      "cell_type": "markdown",
      "metadata": {
        "id": "view-in-github",
        "colab_type": "text"
      },
      "source": [
        "<a href=\"https://colab.research.google.com/github/hs0224/a-professor-student-research-club/blob/chanwoo/chanwoo/MNIST_Study.ipynb\" target=\"_parent\"><img src=\"https://colab.research.google.com/assets/colab-badge.svg\" alt=\"Open In Colab\"/></a>"
      ]
    },
    {
      "cell_type": "code",
      "execution_count": 1,
      "metadata": {
        "id": "tAwxFpEkNDJC"
      },
      "outputs": [],
      "source": [
        "from fastai.vision.all import *"
      ]
    },
    {
      "cell_type": "code",
      "source": [
        "path = untar_data(URLs.MNIST_SAMPLE)"
      ],
      "metadata": {
        "colab": {
          "base_uri": "https://localhost:8080/",
          "height": 38
        },
        "id": "uT4VVQB8NbQ8",
        "outputId": "9aae28eb-f2df-4753-b79d-ed8df8512dfd"
      },
      "execution_count": 2,
      "outputs": [
        {
          "output_type": "display_data",
          "data": {
            "text/plain": [
              "<IPython.core.display.HTML object>"
            ],
            "text/html": [
              "\n",
              "<style>\n",
              "    /* Turns off some styling */\n",
              "    progress {\n",
              "        /* gets rid of default border in Firefox and Opera. */\n",
              "        border: none;\n",
              "        /* Needs to be in here for Safari polyfill so background images work as expected. */\n",
              "        background-size: auto;\n",
              "    }\n",
              "    progress:not([value]), progress:not([value])::-webkit-progress-bar {\n",
              "        background: repeating-linear-gradient(45deg, #7e7e7e, #7e7e7e 10px, #5c5c5c 10px, #5c5c5c 20px);\n",
              "    }\n",
              "    .progress-bar-interrupted, .progress-bar-interrupted::-webkit-progress-bar {\n",
              "        background: #F44336;\n",
              "    }\n",
              "</style>\n"
            ]
          },
          "metadata": {}
        },
        {
          "output_type": "display_data",
          "data": {
            "text/plain": [
              "<IPython.core.display.HTML object>"
            ],
            "text/html": [
              "\n",
              "    <div>\n",
              "      <progress value='3219456' class='' max='3214948' style='width:300px; height:20px; vertical-align: middle;'></progress>\n",
              "      100.14% [3219456/3214948 00:00&lt;00:00]\n",
              "    </div>\n",
              "    "
            ]
          },
          "metadata": {}
        }
      ]
    },
    {
      "cell_type": "code",
      "source": [
        "path.ls()"
      ],
      "metadata": {
        "colab": {
          "base_uri": "https://localhost:8080/"
        },
        "id": "FG9DcC8XNytY",
        "outputId": "f681b93b-2f6a-49ff-d31d-214198d2d9f5"
      },
      "execution_count": 3,
      "outputs": [
        {
          "output_type": "execute_result",
          "data": {
            "text/plain": [
              "(#3) [Path('/root/.fastai/data/mnist_sample/train'),Path('/root/.fastai/data/mnist_sample/labels.csv'),Path('/root/.fastai/data/mnist_sample/valid')]"
            ]
          },
          "metadata": {},
          "execution_count": 3
        }
      ]
    },
    {
      "cell_type": "code",
      "source": [
        "(path/'train').ls()"
      ],
      "metadata": {
        "colab": {
          "base_uri": "https://localhost:8080/"
        },
        "id": "tLr-Kjh2OS1I",
        "outputId": "fc97db3a-a96b-4d23-fbba-c9cf0f25ada6"
      },
      "execution_count": 4,
      "outputs": [
        {
          "output_type": "execute_result",
          "data": {
            "text/plain": [
              "(#2) [Path('/root/.fastai/data/mnist_sample/train/3'),Path('/root/.fastai/data/mnist_sample/train/7')]"
            ]
          },
          "metadata": {},
          "execution_count": 4
        }
      ]
    },
    {
      "cell_type": "code",
      "source": [
        "(path/'valid').ls()"
      ],
      "metadata": {
        "colab": {
          "base_uri": "https://localhost:8080/"
        },
        "id": "W2tysP8iTR0y",
        "outputId": "4aceb3ba-302f-4535-f36d-ac34db094d56"
      },
      "execution_count": 5,
      "outputs": [
        {
          "output_type": "execute_result",
          "data": {
            "text/plain": [
              "(#2) [Path('/root/.fastai/data/mnist_sample/valid/3'),Path('/root/.fastai/data/mnist_sample/valid/7')]"
            ]
          },
          "metadata": {},
          "execution_count": 5
        }
      ]
    },
    {
      "cell_type": "code",
      "source": [
        "threes = (path/'train'/'3').ls().sorted()\n",
        "sevens = (path/'train'/'7').ls().sorted()"
      ],
      "metadata": {
        "id": "6EkOAT-pTfiN"
      },
      "execution_count": 6,
      "outputs": []
    },
    {
      "cell_type": "code",
      "source": [
        "threes"
      ],
      "metadata": {
        "colab": {
          "base_uri": "https://localhost:8080/"
        },
        "id": "mKttaSMFU6uk",
        "outputId": "d6bc8f39-8384-47a4-9e81-e51d315f1e13"
      },
      "execution_count": 7,
      "outputs": [
        {
          "output_type": "execute_result",
          "data": {
            "text/plain": [
              "(#6131) [Path('/root/.fastai/data/mnist_sample/train/3/10.png'),Path('/root/.fastai/data/mnist_sample/train/3/10000.png'),Path('/root/.fastai/data/mnist_sample/train/3/10011.png'),Path('/root/.fastai/data/mnist_sample/train/3/10031.png'),Path('/root/.fastai/data/mnist_sample/train/3/10034.png'),Path('/root/.fastai/data/mnist_sample/train/3/10042.png'),Path('/root/.fastai/data/mnist_sample/train/3/10052.png'),Path('/root/.fastai/data/mnist_sample/train/3/1007.png'),Path('/root/.fastai/data/mnist_sample/train/3/10074.png'),Path('/root/.fastai/data/mnist_sample/train/3/10091.png')...]"
            ]
          },
          "metadata": {},
          "execution_count": 7
        }
      ]
    },
    {
      "cell_type": "code",
      "source": [
        "im3_path = threes[5]\n",
        "im3 = Image.open(im3_path)\n",
        "im3"
      ],
      "metadata": {
        "colab": {
          "base_uri": "https://localhost:8080/",
          "height": 45
        },
        "id": "ztV4Oyk-VKmT",
        "outputId": "edc59303-0233-4386-cdf7-712236f31f05"
      },
      "execution_count": 23,
      "outputs": [
        {
          "output_type": "execute_result",
          "data": {
            "text/plain": [
              "<PIL.PngImagePlugin.PngImageFile image mode=L size=28x28>"
            ],
            "image/png": "[encoded data removed]"
          },
          "metadata": {},
          "execution_count": 23
        }
      ]
    },
    {
      "cell_type": "markdown",
      "source": [
        "이미지를 배열로 변환"
      ],
      "metadata": {
        "id": "nNjcSdWZ74n0"
      }
    },
    {
      "cell_type": "code",
      "source": [
        "array(im3)"
      ],
      "metadata": {
        "id": "5H4JPOMdVPyN",
        "colab": {
          "base_uri": "https://localhost:8080/"
        },
        "outputId": "de6477ef-7637-4e97-d9c3-4aabdabb2876"
      },
      "execution_count": 24,
      "outputs": [
        {
          "output_type": "execute_result",
          "data": {
            "text/plain": [
              "array([[  0,   0,   0,   0,   0,   0,   0,   0,   0,   0,   0,   0,   0,\n",
              "          0,   0,   0,   0,   0,   0,   0,   0,   0,   0,   0,   0,   0,\n",
              "          0,   0],\n",
              "       [  0,   0,   0,   0,   0,   0,   0,   0,   0,   0,   0,   0,   0,\n",
              "          0,   0,   0,   0,   0,   0,   0,   0,   0,   0,   0,   0,   0,\n",
              "          0,   0],\n",
              "       [  0,   0,   0,   0,   0,   0,   0,   0,   0,   0,   0,   0,   0,\n",
              "          0,   0,   0,   0,   0,   0,   0,   0,   0,   0,   0,   0,   0,\n",
              "          0,   0],\n",
              "       [  0,   0,   0,   0,   0,   0,   0,   0,  75, 105, 245, 253, 253,\n",
              "        255, 129,  37,   0,   0,   0,   0,   0,   0,   0,   0,   0,   0,\n",
              "          0,   0],\n",
              "       [  0,   0,   0,   0,   0,   0,   0,  62, 239, 252, 252, 252, 252,\n",
              "        253, 252, 223, 138,   7,   0,   0,   0,   0,   0,   0,   0,   0,\n",
              "          0,   0],\n",
              "       [  0,   0,   0,   0,   0,   0,   0, 162, 252, 252, 252, 252, 252,\n",
              "        253, 252, 252, 252, 126,   0,   0,   0,   0,   0,   0,   0,   0,\n",
              "          0,   0],\n",
              "       [  0,   0,   0,   0,   0,   0,   0,  40, 217, 252, 139, 132, 132,\n",
              "        133, 160, 252, 252, 212,  35,   0,   0,   0,   0,   0,   0,   0,\n",
              "          0,   0],\n",
              "       [  0,   0,   0,   0,   0,   0,   0,   0,  38,  99,   2,   0,   0,\n",
              "          0,   7, 173, 252, 252, 205,   0,   0,   0,   0,   0,   0,   0,\n",
              "          0,   0],\n",
              "       [  0,   0,   0,   0,   0,   0,   0,   0,   0,   0,   0,   0,   0,\n",
              "          0,   0,  48, 157, 252, 222,   0,   0,   0,   0,   0,   0,   0,\n",
              "          0,   0],\n",
              "       [  0,   0,   0,   0,   0,   0,   0,   0,   0,   0,   0,   0,   0,\n",
              "          0,   0,   0, 120, 252, 222,   0,   0,   0,   0,   0,   0,   0,\n",
              "          0,   0],\n",
              "       [  0,   0,   0,   0,   0,   0,   0,   0,   0,   0,   0,   0,   0,\n",
              "          0,   0,   6, 166, 252, 222,   0,   0,   0,   0,   0,   0,   0,\n",
              "          0,   0],\n",
              "       [  0,   0,   0,   0,   0,   0,   0,   0,   0,   0,   0,   0,   0,\n",
              "          0,   0, 129, 252, 252, 222,   0,   0,   0,   0,   0,   0,   0,\n",
              "          0,   0],\n",
              "       [  0,   0,   0,   0,   0,   0,   0,   0,   0,   0,   0,   0,   0,\n",
              "          0,  36, 216, 252, 252, 133,   0,   0,   0,   0,   0,   0,   0,\n",
              "          0,   0],\n",
              "       [  0,   0,   0,   0,   0,   0,   0,   0,   0,   0,  99, 219, 253,\n",
              "        255, 253, 253, 253, 253, 147, 105,   6,   0,   0,   0,   0,   0,\n",
              "          0,   0],\n",
              "       [  0,   0,   0,   0,  15,  57,   0,   0,   0,   0, 238, 252, 252,\n",
              "        253, 252, 252, 252, 252, 252, 252, 158,  50,   0,   0,   0,   0,\n",
              "          0,   0],\n",
              "       [  0,   0,   0,   7, 159, 246,  94,  11,   0,   0, 229, 252, 252,\n",
              "        253, 252, 252, 252, 252, 252, 252, 252, 236,  67,   0,   0,   0,\n",
              "          0,   0],\n",
              "       [  0,   0,   0, 105, 252, 252, 252, 212, 106,   0,  48, 153, 252,\n",
              "        133, 132, 132, 189, 252, 252, 252, 252, 252, 103,   0,   0,   0,\n",
              "          0,   0],\n",
              "       [  0,   0,   0,  74, 239, 252, 252, 252, 248, 223,  57,   6,  29,\n",
              "          0,   0,   0,  14,  29, 143, 252, 252, 252, 103,   0,   0,   0,\n",
              "          0,   0],\n",
              "       [  0,   0,   0,   0,  61, 171, 252, 252, 252, 252, 226, 152,  30,\n",
              "         18,   0,   0,   0,   0,  30, 252, 252, 252, 103,   0,   0,   0,\n",
              "          0,   0],\n",
              "       [  0,   0,   0,   0,   0,   7, 118, 236, 252, 252, 252, 252, 252,\n",
              "        204, 134, 134, 134, 134, 148, 252, 252, 252, 103,   0,   0,   0,\n",
              "          0,   0],\n",
              "       [  0,   0,   0,   0,   0,   0,   0,  12, 129, 252, 252, 252, 252,\n",
              "        253, 252, 252, 252, 252, 252, 252, 252, 183,  67,   0,   0,   0,\n",
              "          0,   0],\n",
              "       [  0,   0,   0,   0,   0,   0,   0,   0,   7, 137, 207, 241, 252,\n",
              "        253, 252, 252, 252, 252, 252, 252, 183,  14,   0,   0,   0,   0,\n",
              "          0,   0],\n",
              "       [  0,   0,   0,   0,   0,   0,   0,   0,   0,   0,   0, 106, 163,\n",
              "        253, 252, 252, 252, 252, 234, 103,  67,   0,   0,   0,   0,   0,\n",
              "          0,   0],\n",
              "       [  0,   0,   0,   0,   0,   0,   0,   0,   0,   0,   0,   0,   0,\n",
              "          0,   0,   0,   0,   0,   0,   0,   0,   0,   0,   0,   0,   0,\n",
              "          0,   0],\n",
              "       [  0,   0,   0,   0,   0,   0,   0,   0,   0,   0,   0,   0,   0,\n",
              "          0,   0,   0,   0,   0,   0,   0,   0,   0,   0,   0,   0,   0,\n",
              "          0,   0],\n",
              "       [  0,   0,   0,   0,   0,   0,   0,   0,   0,   0,   0,   0,   0,\n",
              "          0,   0,   0,   0,   0,   0,   0,   0,   0,   0,   0,   0,   0,\n",
              "          0,   0],\n",
              "       [  0,   0,   0,   0,   0,   0,   0,   0,   0,   0,   0,   0,   0,\n",
              "          0,   0,   0,   0,   0,   0,   0,   0,   0,   0,   0,   0,   0,\n",
              "          0,   0],\n",
              "       [  0,   0,   0,   0,   0,   0,   0,   0,   0,   0,   0,   0,   0,\n",
              "          0,   0,   0,   0,   0,   0,   0,   0,   0,   0,   0,   0,   0,\n",
              "          0,   0]], dtype=uint8)"
            ]
          },
          "metadata": {},
          "execution_count": 24
        }
      ]
    },
    {
      "cell_type": "markdown",
      "source": [
        "이미지를 파이토치 탠서로 변환"
      ],
      "metadata": {
        "id": "mFykx_1j78oD"
      }
    },
    {
      "cell_type": "code",
      "source": [
        "tensor(im3)"
      ],
      "metadata": {
        "id": "blWtI_b1o9X-",
        "colab": {
          "base_uri": "https://localhost:8080/"
        },
        "outputId": "f0b3d548-8ad7-42e8-84c4-94e64e95edc4"
      },
      "execution_count": 25,
      "outputs": [
        {
          "output_type": "execute_result",
          "data": {
            "text/plain": [
              "tensor([[  0,   0,   0,   0,   0,   0,   0,   0,   0,   0,   0,   0,   0,   0,\n",
              "           0,   0,   0,   0,   0,   0,   0,   0,   0,   0,   0,   0,   0,   0],\n",
              "        [  0,   0,   0,   0,   0,   0,   0,   0,   0,   0,   0,   0,   0,   0,\n",
              "           0,   0,   0,   0,   0,   0,   0,   0,   0,   0,   0,   0,   0,   0],\n",
              "        [  0,   0,   0,   0,   0,   0,   0,   0,   0,   0,   0,   0,   0,   0,\n",
              "           0,   0,   0,   0,   0,   0,   0,   0,   0,   0,   0,   0,   0,   0],\n",
              "        [  0,   0,   0,   0,   0,   0,   0,   0,  75, 105, 245, 253, 253, 255,\n",
              "         129,  37,   0,   0,   0,   0,   0,   0,   0,   0,   0,   0,   0,   0],\n",
              "        [  0,   0,   0,   0,   0,   0,   0,  62, 239, 252, 252, 252, 252, 253,\n",
              "         252, 223, 138,   7,   0,   0,   0,   0,   0,   0,   0,   0,   0,   0],\n",
              "        [  0,   0,   0,   0,   0,   0,   0, 162, 252, 252, 252, 252, 252, 253,\n",
              "         252, 252, 252, 126,   0,   0,   0,   0,   0,   0,   0,   0,   0,   0],\n",
              "        [  0,   0,   0,   0,   0,   0,   0,  40, 217, 252, 139, 132, 132, 133,\n",
              "         160, 252, 252, 212,  35,   0,   0,   0,   0,   0,   0,   0,   0,   0],\n",
              "        [  0,   0,   0,   0,   0,   0,   0,   0,  38,  99,   2,   0,   0,   0,\n",
              "           7, 173, 252, 252, 205,   0,   0,   0,   0,   0,   0,   0,   0,   0],\n",
              "        [  0,   0,   0,   0,   0,   0,   0,   0,   0,   0,   0,   0,   0,   0,\n",
              "           0,  48, 157, 252, 222,   0,   0,   0,   0,   0,   0,   0,   0,   0],\n",
              "        [  0,   0,   0,   0,   0,   0,   0,   0,   0,   0,   0,   0,   0,   0,\n",
              "           0,   0, 120, 252, 222,   0,   0,   0,   0,   0,   0,   0,   0,   0],\n",
              "        [  0,   0,   0,   0,   0,   0,   0,   0,   0,   0,   0,   0,   0,   0,\n",
              "           0,   6, 166, 252, 222,   0,   0,   0,   0,   0,   0,   0,   0,   0],\n",
              "        [  0,   0,   0,   0,   0,   0,   0,   0,   0,   0,   0,   0,   0,   0,\n",
              "           0, 129, 252, 252, 222,   0,   0,   0,   0,   0,   0,   0,   0,   0],\n",
              "        [  0,   0,   0,   0,   0,   0,   0,   0,   0,   0,   0,   0,   0,   0,\n",
              "          36, 216, 252, 252, 133,   0,   0,   0,   0,   0,   0,   0,   0,   0],\n",
              "        [  0,   0,   0,   0,   0,   0,   0,   0,   0,   0,  99, 219, 253, 255,\n",
              "         253, 253, 253, 253, 147, 105,   6,   0,   0,   0,   0,   0,   0,   0],\n",
              "        [  0,   0,   0,   0,  15,  57,   0,   0,   0,   0, 238, 252, 252, 253,\n",
              "         252, 252, 252, 252, 252, 252, 158,  50,   0,   0,   0,   0,   0,   0],\n",
              "        [  0,   0,   0,   7, 159, 246,  94,  11,   0,   0, 229, 252, 252, 253,\n",
              "         252, 252, 252, 252, 252, 252, 252, 236,  67,   0,   0,   0,   0,   0],\n",
              "        [  0,   0,   0, 105, 252, 252, 252, 212, 106,   0,  48, 153, 252, 133,\n",
              "         132, 132, 189, 252, 252, 252, 252, 252, 103,   0,   0,   0,   0,   0],\n",
              "        [  0,   0,   0,  74, 239, 252, 252, 252, 248, 223,  57,   6,  29,   0,\n",
              "           0,   0,  14,  29, 143, 252, 252, 252, 103,   0,   0,   0,   0,   0],\n",
              "        [  0,   0,   0,   0,  61, 171, 252, 252, 252, 252, 226, 152,  30,  18,\n",
              "           0,   0,   0,   0,  30, 252, 252, 252, 103,   0,   0,   0,   0,   0],\n",
              "        [  0,   0,   0,   0,   0,   7, 118, 236, 252, 252, 252, 252, 252, 204,\n",
              "         134, 134, 134, 134, 148, 252, 252, 252, 103,   0,   0,   0,   0,   0],\n",
              "        [  0,   0,   0,   0,   0,   0,   0,  12, 129, 252, 252, 252, 252, 253,\n",
              "         252, 252, 252, 252, 252, 252, 252, 183,  67,   0,   0,   0,   0,   0],\n",
              "        [  0,   0,   0,   0,   0,   0,   0,   0,   7, 137, 207, 241, 252, 253,\n",
              "         252, 252, 252, 252, 252, 252, 183,  14,   0,   0,   0,   0,   0,   0],\n",
              "        [  0,   0,   0,   0,   0,   0,   0,   0,   0,   0,   0, 106, 163, 253,\n",
              "         252, 252, 252, 252, 234, 103,  67,   0,   0,   0,   0,   0,   0,   0],\n",
              "        [  0,   0,   0,   0,   0,   0,   0,   0,   0,   0,   0,   0,   0,   0,\n",
              "           0,   0,   0,   0,   0,   0,   0,   0,   0,   0,   0,   0,   0,   0],\n",
              "        [  0,   0,   0,   0,   0,   0,   0,   0,   0,   0,   0,   0,   0,   0,\n",
              "           0,   0,   0,   0,   0,   0,   0,   0,   0,   0,   0,   0,   0,   0],\n",
              "        [  0,   0,   0,   0,   0,   0,   0,   0,   0,   0,   0,   0,   0,   0,\n",
              "           0,   0,   0,   0,   0,   0,   0,   0,   0,   0,   0,   0,   0,   0],\n",
              "        [  0,   0,   0,   0,   0,   0,   0,   0,   0,   0,   0,   0,   0,   0,\n",
              "           0,   0,   0,   0,   0,   0,   0,   0,   0,   0,   0,   0,   0,   0],\n",
              "        [  0,   0,   0,   0,   0,   0,   0,   0,   0,   0,   0,   0,   0,   0,\n",
              "           0,   0,   0,   0,   0,   0,   0,   0,   0,   0,   0,   0,   0,   0]],\n",
              "       dtype=torch.uint8)"
            ]
          },
          "metadata": {},
          "execution_count": 25
        }
      ]
    },
    {
      "cell_type": "code",
      "source": [
        "import pandas as pd"
      ],
      "metadata": {
        "id": "tLcKplbZ6vuu"
      },
      "execution_count": 26,
      "outputs": []
    },
    {
      "cell_type": "markdown",
      "source": [
        "이쁘게 오랜지색으로~"
      ],
      "metadata": {
        "id": "2s6YBpEX7xZ0"
      }
    },
    {
      "cell_type": "code",
      "source": [
        "im3_t = tensor(im3)\n",
        "df = pd.DataFrame(im3_t)\n",
        "df.style.set_properties(**{'front-size':'6pt'}).background_gradient('Oranges')"
      ],
      "metadata": {
        "id": "VXlHMWFGthHD",
        "colab": {
          "base_uri": "https://localhost:8080/",
          "height": 927
        },
        "outputId": "73c8cfaf-6f1c-40b3-d451-edf4dab9aa01"
      },
      "execution_count": 27,
      "outputs": [
        {
          "output_type": "execute_result",
          "data": {
            "text/plain": [
              "<pandas.io.formats.style.Styler at 0x7f25c11b3e80>"
            ],
            "text/html": [
              "<style type=\"text/css\">\n",
              "#T_1c47e_row0_col0, #T_1c47e_row0_col1, #T_1c47e_row0_col2, #T_1c47e_row0_col3, #T_1c47e_row0_col4, #T_1c47e_row0_col5, #T_1c47e_row0_col6, #T_1c47e_row0_col7, #T_1c47e_row0_col8, #T_1c47e_row0_col9, #T_1c47e_row0_col10, #T_1c47e_row0_col11, #T_1c47e_row0_col12, #T_1c47e_row0_col13, #T_1c47e_row0_col14, #T_1c47e_row0_col15, #T_1c47e_row0_col16, #T_1c47e_row0_col17, #T_1c47e_row0_col18, #T_1c47e_row0_col19, #T_1c47e_row0_col20, #T_1c47e_row0_col21, #T_1c47e_row0_col22, #T_1c47e_row0_col23, #T_1c47e_row0_col24, #T_1c47e_row0_col25, #T_1c47e_row0_col26, #T_1c47e_row0_col27, #T_1c47e_row1_col0, #T_1c47e_row1_col1, #T_1c47e_row1_col2, #T_1c47e_row1_col3, #T_1c47e_row1_col4, #T_1c47e_row1_col5, #T_1c47e_row1_col6, #T_1c47e_row1_col7, #T_1c47e_row1_col8, #T_1c47e_row1_col9, #T_1c47e_row1_col10, #T_1c47e_row1_col11, #T_1c47e_row1_col12, #T_1c47e_row1_col13, #T_1c47e_row1_col14, #T_1c47e_row1_col15, #T_1c47e_row1_col16, #T_1c47e_row1_col17, #T_1c47e_row1_col18, #T_1c47e_row1_col19, #T_1c47e_row1_col20, #T_1c47e_row1_col21, #T_1c47e_row1_col22, #T_1c47e_row1_col23, #T_1c47e_row1_col24, #T_1c47e_row1_col25, #T_1c47e_row1_col26, #T_1c47e_row1_col27, #T_1c47e_row2_col0, #T_1c47e_row2_col1, #T_1c47e_row2_col2, #T_1c47e_row2_col3, #T_1c47e_row2_col4, #T_1c47e_row2_col5, #T_1c47e_row2_col6, #T_1c47e_row2_col7, #T_1c47e_row2_col8, #T_1c47e_row2_col9, #T_1c47e_row2_col10, #T_1c47e_row2_col11, #T_1c47e_row2_col12, #T_1c47e_row2_col13, #T_1c47e_row2_col14, #T_1c47e_row2_col15, #T_1c47e_row2_col16, #T_1c47e_row2_col17, #T_1c47e_row2_col18, #T_1c47e_row2_col19, #T_1c47e_row2_col20, #T_1c47e_row2_col21, #T_1c47e_row2_col22, #T_1c47e_row2_col23, #T_1c47e_row2_col24, #T_1c47e_row2_col25, #T_1c47e_row2_col26, #T_1c47e_row2_col27, #T_1c47e_row3_col0, #T_1c47e_row3_col1, #T_1c47e_row3_col2, #T_1c47e_row3_col3, #T_1c47e_row3_col4, #T_1c47e_row3_col5, #T_1c47e_row3_col6, #T_1c47e_row3_col7, #T_1c47e_row3_col16, #T_1c47e_row3_col17, #T_1c47e_row3_col18, #T_1c47e_row3_col19, #T_1c47e_row3_col20, #T_1c47e_row3_col21, #T_1c47e_row3_col22, #T_1c47e_row3_col23, #T_1c47e_row3_col24, #T_1c47e_row3_col25, #T_1c47e_row3_col26, #T_1c47e_row3_col27, #T_1c47e_row4_col0, #T_1c47e_row4_col1, #T_1c47e_row4_col2, #T_1c47e_row4_col3, #T_1c47e_row4_col4, #T_1c47e_row4_col5, #T_1c47e_row4_col6, #T_1c47e_row4_col18, #T_1c47e_row4_col19, #T_1c47e_row4_col20, #T_1c47e_row4_col21, #T_1c47e_row4_col22, #T_1c47e_row4_col23, #T_1c47e_row4_col24, #T_1c47e_row4_col25, #T_1c47e_row4_col26, #T_1c47e_row4_col27, #T_1c47e_row5_col0, #T_1c47e_row5_col1, #T_1c47e_row5_col2, #T_1c47e_row5_col3, #T_1c47e_row5_col4, #T_1c47e_row5_col5, #T_1c47e_row5_col6, #T_1c47e_row5_col18, #T_1c47e_row5_col19, #T_1c47e_row5_col20, #T_1c47e_row5_col21, #T_1c47e_row5_col22, #T_1c47e_row5_col23, #T_1c47e_row5_col24, #T_1c47e_row5_col25, #T_1c47e_row5_col26, #T_1c47e_row5_col27, #T_1c47e_row6_col0, #T_1c47e_row6_col1, #T_1c47e_row6_col2, #T_1c47e_row6_col3, #T_1c47e_row6_col4, #T_1c47e_row6_col5, #T_1c47e_row6_col6, #T_1c47e_row6_col19, #T_1c47e_row6_col20, #T_1c47e_row6_col21, #T_1c47e_row6_col22, #T_1c47e_row6_col23, #T_1c47e_row6_col24, #T_1c47e_row6_col25, #T_1c47e_row6_col26, #T_1c47e_row6_col27, #T_1c47e_row7_col0, #T_1c47e_row7_col1, #T_1c47e_row7_col2, #T_1c47e_row7_col3, #T_1c47e_row7_col4, #T_1c47e_row7_col5, #T_1c47e_row7_col6, #T_1c47e_row7_col7, #T_1c47e_row7_col11, #T_1c47e_row7_col12, #T_1c47e_row7_col13, #T_1c47e_row7_col19, #T_1c47e_row7_col20, #T_1c47e_row7_col21, #T_1c47e_row7_col22, #T_1c47e_row7_col23, #T_1c47e_row7_col24, #T_1c47e_row7_col25, #T_1c47e_row7_col26, #T_1c47e_row7_col27, #T_1c47e_row8_col0, #T_1c47e_row8_col1, #T_1c47e_row8_col2, #T_1c47e_row8_col3, #T_1c47e_row8_col4, #T_1c47e_row8_col5, #T_1c47e_row8_col6, #T_1c47e_row8_col7, #T_1c47e_row8_col8, #T_1c47e_row8_col9, #T_1c47e_row8_col10, #T_1c47e_row8_col11, #T_1c47e_row8_col12, #T_1c47e_row8_col13, #T_1c47e_row8_col14, #T_1c47e_row8_col19, #T_1c47e_row8_col20, #T_1c47e_row8_col21, #T_1c47e_row8_col22, #T_1c47e_row8_col23, #T_1c47e_row8_col24, #T_1c47e_row8_col25, #T_1c47e_row8_col26, #T_1c47e_row8_col27, #T_1c47e_row9_col0, #T_1c47e_row9_col1, #T_1c47e_row9_col2, #T_1c47e_row9_col3, #T_1c47e_row9_col4, #T_1c47e_row9_col5, #T_1c47e_row9_col6, #T_1c47e_row9_col7, #T_1c47e_row9_col8, #T_1c47e_row9_col9, #T_1c47e_row9_col10, #T_1c47e_row9_col11, #T_1c47e_row9_col12, #T_1c47e_row9_col13, #T_1c47e_row9_col14, #T_1c47e_row9_col15, #T_1c47e_row9_col19, #T_1c47e_row9_col20, #T_1c47e_row9_col21, #T_1c47e_row9_col22, #T_1c47e_row9_col23, #T_1c47e_row9_col24, #T_1c47e_row9_col25, #T_1c47e_row9_col26, #T_1c47e_row9_col27, #T_1c47e_row10_col0, #T_1c47e_row10_col1, #T_1c47e_row10_col2, #T_1c47e_row10_col3, #T_1c47e_row10_col4, #T_1c47e_row10_col5, #T_1c47e_row10_col6, #T_1c47e_row10_col7, #T_1c47e_row10_col8, #T_1c47e_row10_col9, #T_1c47e_row10_col10, #T_1c47e_row10_col11, #T_1c47e_row10_col12, #T_1c47e_row10_col13, #T_1c47e_row10_col14, #T_1c47e_row10_col19, #T_1c47e_row10_col20, #T_1c47e_row10_col21, #T_1c47e_row10_col22, #T_1c47e_row10_col23, #T_1c47e_row10_col24, #T_1c47e_row10_col25, #T_1c47e_row10_col26, #T_1c47e_row10_col27, #T_1c47e_row11_col0, #T_1c47e_row11_col1, #T_1c47e_row11_col2, #T_1c47e_row11_col3, #T_1c47e_row11_col4, #T_1c47e_row11_col5, #T_1c47e_row11_col6, #T_1c47e_row11_col7, #T_1c47e_row11_col8, #T_1c47e_row11_col9, #T_1c47e_row11_col10, #T_1c47e_row11_col11, #T_1c47e_row11_col12, #T_1c47e_row11_col13, #T_1c47e_row11_col14, #T_1c47e_row11_col19, #T_1c47e_row11_col20, #T_1c47e_row11_col21, #T_1c47e_row11_col22, #T_1c47e_row11_col23, #T_1c47e_row11_col24, #T_1c47e_row11_col25, #T_1c47e_row11_col26, #T_1c47e_row11_col27, #T_1c47e_row12_col0, #T_1c47e_row12_col1, #T_1c47e_row12_col2, #T_1c47e_row12_col3, #T_1c47e_row12_col4, #T_1c47e_row12_col5, #T_1c47e_row12_col6, #T_1c47e_row12_col7, #T_1c47e_row12_col8, #T_1c47e_row12_col9, #T_1c47e_row12_col10, #T_1c47e_row12_col11, #T_1c47e_row12_col12, #T_1c47e_row12_col13, #T_1c47e_row12_col19, #T_1c47e_row12_col20, #T_1c47e_row12_col21, #T_1c47e_row12_col22, #T_1c47e_row12_col23, #T_1c47e_row12_col24, #T_1c47e_row12_col25, #T_1c47e_row12_col26, #T_1c47e_row12_col27, #T_1c47e_row13_col0, #T_1c47e_row13_col1, #T_1c47e_row13_col2, #T_1c47e_row13_col3, #T_1c47e_row13_col4, #T_1c47e_row13_col5, #T_1c47e_row13_col6, #T_1c47e_row13_col7, #T_1c47e_row13_col8, #T_1c47e_row13_col9, #T_1c47e_row13_col21, #T_1c47e_row13_col22, #T_1c47e_row13_col23, #T_1c47e_row13_col24, #T_1c47e_row13_col25, #T_1c47e_row13_col26, #T_1c47e_row13_col27, #T_1c47e_row14_col0, #T_1c47e_row14_col1, #T_1c47e_row14_col2, #T_1c47e_row14_col3, #T_1c47e_row14_col6, #T_1c47e_row14_col7, #T_1c47e_row14_col8, #T_1c47e_row14_col9, #T_1c47e_row14_col22, #T_1c47e_row14_col23, #T_1c47e_row14_col24, #T_1c47e_row14_col25, #T_1c47e_row14_col26, #T_1c47e_row14_col27, #T_1c47e_row15_col0, #T_1c47e_row15_col1, #T_1c47e_row15_col2, #T_1c47e_row15_col8, #T_1c47e_row15_col9, #T_1c47e_row15_col23, #T_1c47e_row15_col24, #T_1c47e_row15_col25, #T_1c47e_row15_col26, #T_1c47e_row15_col27, #T_1c47e_row16_col0, #T_1c47e_row16_col1, #T_1c47e_row16_col2, #T_1c47e_row16_col9, #T_1c47e_row16_col23, #T_1c47e_row16_col24, #T_1c47e_row16_col25, #T_1c47e_row16_col26, #T_1c47e_row16_col27, #T_1c47e_row17_col0, #T_1c47e_row17_col1, #T_1c47e_row17_col2, #T_1c47e_row17_col13, #T_1c47e_row17_col14, #T_1c47e_row17_col15, #T_1c47e_row17_col23, #T_1c47e_row17_col24, #T_1c47e_row17_col25, #T_1c47e_row17_col26, #T_1c47e_row17_col27, #T_1c47e_row18_col0, #T_1c47e_row18_col1, #T_1c47e_row18_col2, #T_1c47e_row18_col3, #T_1c47e_row18_col14, #T_1c47e_row18_col15, #T_1c47e_row18_col16, #T_1c47e_row18_col17, #T_1c47e_row18_col23, #T_1c47e_row18_col24, #T_1c47e_row18_col25, #T_1c47e_row18_col26, #T_1c47e_row18_col27, #T_1c47e_row19_col0, #T_1c47e_row19_col1, #T_1c47e_row19_col2, #T_1c47e_row19_col3, #T_1c47e_row19_col4, #T_1c47e_row19_col23, #T_1c47e_row19_col24, #T_1c47e_row19_col25, #T_1c47e_row19_col26, #T_1c47e_row19_col27, #T_1c47e_row20_col0, #T_1c47e_row20_col1, #T_1c47e_row20_col2, #T_1c47e_row20_col3, #T_1c47e_row20_col4, #T_1c47e_row20_col5, #T_1c47e_row20_col6, #T_1c47e_row20_col23, #T_1c47e_row20_col24, #T_1c47e_row20_col25, #T_1c47e_row20_col26, #T_1c47e_row20_col27, #T_1c47e_row21_col0, #T_1c47e_row21_col1, #T_1c47e_row21_col2, #T_1c47e_row21_col3, #T_1c47e_row21_col4, #T_1c47e_row21_col5, #T_1c47e_row21_col6, #T_1c47e_row21_col7, #T_1c47e_row21_col22, #T_1c47e_row21_col23, #T_1c47e_row21_col24, #T_1c47e_row21_col25, #T_1c47e_row21_col26, #T_1c47e_row21_col27, #T_1c47e_row22_col0, #T_1c47e_row22_col1, #T_1c47e_row22_col2, #T_1c47e_row22_col3, #T_1c47e_row22_col4, #T_1c47e_row22_col5, #T_1c47e_row22_col6, #T_1c47e_row22_col7, #T_1c47e_row22_col8, #T_1c47e_row22_col9, #T_1c47e_row22_col10, #T_1c47e_row22_col21, #T_1c47e_row22_col22, #T_1c47e_row22_col23, #T_1c47e_row22_col24, #T_1c47e_row22_col25, #T_1c47e_row22_col26, #T_1c47e_row22_col27, #T_1c47e_row23_col0, #T_1c47e_row23_col1, #T_1c47e_row23_col2, #T_1c47e_row23_col3, #T_1c47e_row23_col4, #T_1c47e_row23_col5, #T_1c47e_row23_col6, #T_1c47e_row23_col7, #T_1c47e_row23_col8, #T_1c47e_row23_col9, #T_1c47e_row23_col10, #T_1c47e_row23_col11, #T_1c47e_row23_col12, #T_1c47e_row23_col13, #T_1c47e_row23_col14, #T_1c47e_row23_col15, #T_1c47e_row23_col16, #T_1c47e_row23_col17, #T_1c47e_row23_col18, #T_1c47e_row23_col19, #T_1c47e_row23_col20, #T_1c47e_row23_col21, #T_1c47e_row23_col22, #T_1c47e_row23_col23, #T_1c47e_row23_col24, #T_1c47e_row23_col25, #T_1c47e_row23_col26, #T_1c47e_row23_col27, #T_1c47e_row24_col0, #T_1c47e_row24_col1, #T_1c47e_row24_col2, #T_1c47e_row24_col3, #T_1c47e_row24_col4, #T_1c47e_row24_col5, #T_1c47e_row24_col6, #T_1c47e_row24_col7, #T_1c47e_row24_col8, #T_1c47e_row24_col9, #T_1c47e_row24_col10, #T_1c47e_row24_col11, #T_1c47e_row24_col12, #T_1c47e_row24_col13, #T_1c47e_row24_col14, #T_1c47e_row24_col15, #T_1c47e_row24_col16, #T_1c47e_row24_col17, #T_1c47e_row24_col18, #T_1c47e_row24_col19, #T_1c47e_row24_col20, #T_1c47e_row24_col21, #T_1c47e_row24_col22, #T_1c47e_row24_col23, #T_1c47e_row24_col24, #T_1c47e_row24_col25, #T_1c47e_row24_col26, #T_1c47e_row24_col27, #T_1c47e_row25_col0, #T_1c47e_row25_col1, #T_1c47e_row25_col2, #T_1c47e_row25_col3, #T_1c47e_row25_col4, #T_1c47e_row25_col5, #T_1c47e_row25_col6, #T_1c47e_row25_col7, #T_1c47e_row25_col8, #T_1c47e_row25_col9, #T_1c47e_row25_col10, #T_1c47e_row25_col11, #T_1c47e_row25_col12, #T_1c47e_row25_col13, #T_1c47e_row25_col14, #T_1c47e_row25_col15, #T_1c47e_row25_col16, #T_1c47e_row25_col17, #T_1c47e_row25_col18, #T_1c47e_row25_col19, #T_1c47e_row25_col20, #T_1c47e_row25_col21, #T_1c47e_row25_col22, #T_1c47e_row25_col23, #T_1c47e_row25_col24, #T_1c47e_row25_col25, #T_1c47e_row25_col26, #T_1c47e_row25_col27, #T_1c47e_row26_col0, #T_1c47e_row26_col1, #T_1c47e_row26_col2, #T_1c47e_row26_col3, #T_1c47e_row26_col4, #T_1c47e_row26_col5, #T_1c47e_row26_col6, #T_1c47e_row26_col7, #T_1c47e_row26_col8, #T_1c47e_row26_col9, #T_1c47e_row26_col10, #T_1c47e_row26_col11, #T_1c47e_row26_col12, #T_1c47e_row26_col13, #T_1c47e_row26_col14, #T_1c47e_row26_col15, #T_1c47e_row26_col16, #T_1c47e_row26_col17, #T_1c47e_row26_col18, #T_1c47e_row26_col19, #T_1c47e_row26_col20, #T_1c47e_row26_col21, #T_1c47e_row26_col22, #T_1c47e_row26_col23, #T_1c47e_row26_col24, #T_1c47e_row26_col25, #T_1c47e_row26_col26, #T_1c47e_row26_col27, #T_1c47e_row27_col0, #T_1c47e_row27_col1, #T_1c47e_row27_col2, #T_1c47e_row27_col3, #T_1c47e_row27_col4, #T_1c47e_row27_col5, #T_1c47e_row27_col6, #T_1c47e_row27_col7, #T_1c47e_row27_col8, #T_1c47e_row27_col9, #T_1c47e_row27_col10, #T_1c47e_row27_col11, #T_1c47e_row27_col12, #T_1c47e_row27_col13, #T_1c47e_row27_col14, #T_1c47e_row27_col15, #T_1c47e_row27_col16, #T_1c47e_row27_col17, #T_1c47e_row27_col18, #T_1c47e_row27_col19, #T_1c47e_row27_col20, #T_1c47e_row27_col21, #T_1c47e_row27_col22, #T_1c47e_row27_col23, #T_1c47e_row27_col24, #T_1c47e_row27_col25, #T_1c47e_row27_col26, #T_1c47e_row27_col27 {\n",
              "  front-size: 6pt;\n",
              "  background-color: #fff5eb;\n",
              "  color: #000000;\n",
              "}\n",
              "#T_1c47e_row3_col8 {\n",
              "  front-size: 6pt;\n",
              "  background-color: #fdc38d;\n",
              "  color: #000000;\n",
              "}\n",
              "#T_1c47e_row3_col9, #T_1c47e_row13_col19 {\n",
              "  front-size: 6pt;\n",
              "  background-color: #fda35c;\n",
              "  color: #000000;\n",
              "}\n",
              "#T_1c47e_row3_col10 {\n",
              "  front-size: 6pt;\n",
              "  background-color: #882a04;\n",
              "  color: #f1f1f1;\n",
              "}\n",
              "#T_1c47e_row3_col11, #T_1c47e_row3_col12, #T_1c47e_row3_col13, #T_1c47e_row4_col9, #T_1c47e_row4_col10, #T_1c47e_row5_col8, #T_1c47e_row5_col9, #T_1c47e_row5_col10, #T_1c47e_row6_col9, #T_1c47e_row13_col12, #T_1c47e_row13_col13, #T_1c47e_row13_col14, #T_1c47e_row13_col15, #T_1c47e_row13_col16, #T_1c47e_row13_col17, #T_1c47e_row14_col18, #T_1c47e_row14_col19, #T_1c47e_row15_col18, #T_1c47e_row15_col19, #T_1c47e_row15_col20, #T_1c47e_row16_col3, #T_1c47e_row16_col4, #T_1c47e_row16_col5, #T_1c47e_row16_col6, #T_1c47e_row16_col18, #T_1c47e_row16_col19, #T_1c47e_row16_col20, #T_1c47e_row16_col21, #T_1c47e_row16_col22, #T_1c47e_row17_col5, #T_1c47e_row17_col6, #T_1c47e_row17_col7, #T_1c47e_row17_col19, #T_1c47e_row17_col20, #T_1c47e_row17_col21, #T_1c47e_row17_col22, #T_1c47e_row18_col6, #T_1c47e_row18_col7, #T_1c47e_row18_col8, #T_1c47e_row18_col9, #T_1c47e_row18_col19, #T_1c47e_row18_col20, #T_1c47e_row18_col21, #T_1c47e_row18_col22, #T_1c47e_row19_col8, #T_1c47e_row19_col9, #T_1c47e_row19_col10, #T_1c47e_row19_col19, #T_1c47e_row19_col20, #T_1c47e_row19_col21, #T_1c47e_row19_col22, #T_1c47e_row20_col9, #T_1c47e_row20_col10, #T_1c47e_row20_col18, #T_1c47e_row20_col19, #T_1c47e_row20_col20, #T_1c47e_row21_col18, #T_1c47e_row21_col19 {\n",
              "  front-size: 6pt;\n",
              "  background-color: #7f2704;\n",
              "  color: #f1f1f1;\n",
              "}\n",
              "#T_1c47e_row3_col14, #T_1c47e_row11_col15 {\n",
              "  front-size: 6pt;\n",
              "  background-color: #fc8a39;\n",
              "  color: #f1f1f1;\n",
              "}\n",
              "#T_1c47e_row3_col15 {\n",
              "  front-size: 6pt;\n",
              "  background-color: #fee2c7;\n",
              "  color: #000000;\n",
              "}\n",
              "#T_1c47e_row4_col7 {\n",
              "  front-size: 6pt;\n",
              "  background-color: #fdd1a4;\n",
              "  color: #000000;\n",
              "}\n",
              "#T_1c47e_row4_col8, #T_1c47e_row17_col4 {\n",
              "  front-size: 6pt;\n",
              "  background-color: #8f2d04;\n",
              "  color: #f1f1f1;\n",
              "}\n",
              "#T_1c47e_row4_col11, #T_1c47e_row4_col12, #T_1c47e_row4_col14, #T_1c47e_row5_col11, #T_1c47e_row5_col12, #T_1c47e_row5_col14, #T_1c47e_row5_col15, #T_1c47e_row5_col16, #T_1c47e_row6_col15, #T_1c47e_row6_col16, #T_1c47e_row7_col16, #T_1c47e_row7_col17, #T_1c47e_row8_col17, #T_1c47e_row9_col17, #T_1c47e_row10_col17, #T_1c47e_row11_col16, #T_1c47e_row11_col17, #T_1c47e_row12_col16, #T_1c47e_row12_col17, #T_1c47e_row14_col11, #T_1c47e_row14_col12, #T_1c47e_row14_col14, #T_1c47e_row14_col15, #T_1c47e_row14_col16, #T_1c47e_row14_col17, #T_1c47e_row15_col11, #T_1c47e_row15_col12, #T_1c47e_row15_col14, #T_1c47e_row15_col15, #T_1c47e_row15_col16, #T_1c47e_row15_col17, #T_1c47e_row16_col12, #T_1c47e_row16_col17, #T_1c47e_row19_col11, #T_1c47e_row19_col12, #T_1c47e_row20_col11, #T_1c47e_row20_col12, #T_1c47e_row20_col14, #T_1c47e_row20_col15, #T_1c47e_row20_col16, #T_1c47e_row20_col17, #T_1c47e_row21_col12, #T_1c47e_row21_col14, #T_1c47e_row21_col15, #T_1c47e_row21_col16, #T_1c47e_row21_col17, #T_1c47e_row22_col14, #T_1c47e_row22_col15, #T_1c47e_row22_col16, #T_1c47e_row22_col17 {\n",
              "  front-size: 6pt;\n",
              "  background-color: #802704;\n",
              "  color: #f1f1f1;\n",
              "}\n",
              "#T_1c47e_row4_col13, #T_1c47e_row5_col13, #T_1c47e_row14_col13, #T_1c47e_row15_col13, #T_1c47e_row20_col13, #T_1c47e_row21_col13, #T_1c47e_row22_col13 {\n",
              "  front-size: 6pt;\n",
              "  background-color: #812804;\n",
              "  color: #f1f1f1;\n",
              "}\n",
              "#T_1c47e_row4_col15, #T_1c47e_row8_col18, #T_1c47e_row9_col18, #T_1c47e_row10_col18, #T_1c47e_row11_col18 {\n",
              "  front-size: 6pt;\n",
              "  background-color: #a43503;\n",
              "  color: #f1f1f1;\n",
              "}\n",
              "#T_1c47e_row4_col16, #T_1c47e_row21_col9 {\n",
              "  front-size: 6pt;\n",
              "  background-color: #f9802d;\n",
              "  color: #f1f1f1;\n",
              "}\n",
              "#T_1c47e_row4_col17, #T_1c47e_row7_col14, #T_1c47e_row19_col5, #T_1c47e_row21_col8 {\n",
              "  front-size: 6pt;\n",
              "  background-color: #fff2e5;\n",
              "  color: #000000;\n",
              "}\n",
              "#T_1c47e_row5_col7, #T_1c47e_row22_col12 {\n",
              "  front-size: 6pt;\n",
              "  background-color: #ee6410;\n",
              "  color: #f1f1f1;\n",
              "}\n",
              "#T_1c47e_row5_col17 {\n",
              "  front-size: 6pt;\n",
              "  background-color: #fd8e3d;\n",
              "  color: #f1f1f1;\n",
              "}\n",
              "#T_1c47e_row6_col7 {\n",
              "  front-size: 6pt;\n",
              "  background-color: #fee0c3;\n",
              "  color: #000000;\n",
              "}\n",
              "#T_1c47e_row6_col8 {\n",
              "  front-size: 6pt;\n",
              "  background-color: #ab3803;\n",
              "  color: #f1f1f1;\n",
              "}\n",
              "#T_1c47e_row6_col10 {\n",
              "  front-size: 6pt;\n",
              "  background-color: #f87e2b;\n",
              "  color: #f1f1f1;\n",
              "}\n",
              "#T_1c47e_row6_col11, #T_1c47e_row6_col12, #T_1c47e_row6_col13, #T_1c47e_row16_col13, #T_1c47e_row16_col14, #T_1c47e_row16_col15 {\n",
              "  front-size: 6pt;\n",
              "  background-color: #fb8735;\n",
              "  color: #f1f1f1;\n",
              "}\n",
              "#T_1c47e_row6_col14, #T_1c47e_row15_col4 {\n",
              "  front-size: 6pt;\n",
              "  background-color: #f06712;\n",
              "  color: #f1f1f1;\n",
              "}\n",
              "#T_1c47e_row6_col17 {\n",
              "  front-size: 6pt;\n",
              "  background-color: #b53b02;\n",
              "  color: #f1f1f1;\n",
              "}\n",
              "#T_1c47e_row6_col18 {\n",
              "  front-size: 6pt;\n",
              "  background-color: #fee4ca;\n",
              "  color: #000000;\n",
              "}\n",
              "#T_1c47e_row7_col8 {\n",
              "  front-size: 6pt;\n",
              "  background-color: #fee2c6;\n",
              "  color: #000000;\n",
              "}\n",
              "#T_1c47e_row7_col9, #T_1c47e_row13_col10 {\n",
              "  front-size: 6pt;\n",
              "  background-color: #fda965;\n",
              "  color: #000000;\n",
              "}\n",
              "#T_1c47e_row7_col10 {\n",
              "  front-size: 6pt;\n",
              "  background-color: #fff4e9;\n",
              "  color: #000000;\n",
              "}\n",
              "#T_1c47e_row7_col15 {\n",
              "  front-size: 6pt;\n",
              "  background-color: #e5590a;\n",
              "  color: #f1f1f1;\n",
              "}\n",
              "#T_1c47e_row7_col18 {\n",
              "  front-size: 6pt;\n",
              "  background-color: #be3f02;\n",
              "  color: #f1f1f1;\n",
              "}\n",
              "#T_1c47e_row8_col15, #T_1c47e_row16_col10 {\n",
              "  front-size: 6pt;\n",
              "  background-color: #fddbb8;\n",
              "  color: #000000;\n",
              "}\n",
              "#T_1c47e_row8_col16 {\n",
              "  front-size: 6pt;\n",
              "  background-color: #f26b15;\n",
              "  color: #f1f1f1;\n",
              "}\n",
              "#T_1c47e_row9_col16 {\n",
              "  front-size: 6pt;\n",
              "  background-color: #fd9446;\n",
              "  color: #000000;\n",
              "}\n",
              "#T_1c47e_row10_col15, #T_1c47e_row13_col20, #T_1c47e_row17_col11 {\n",
              "  front-size: 6pt;\n",
              "  background-color: #fff2e6;\n",
              "  color: #000000;\n",
              "}\n",
              "#T_1c47e_row10_col16 {\n",
              "  front-size: 6pt;\n",
              "  background-color: #eb610f;\n",
              "  color: #f1f1f1;\n",
              "}\n",
              "#T_1c47e_row12_col14 {\n",
              "  front-size: 6pt;\n",
              "  background-color: #fee3c8;\n",
              "  color: #000000;\n",
              "}\n",
              "#T_1c47e_row12_col15 {\n",
              "  front-size: 6pt;\n",
              "  background-color: #ae3903;\n",
              "  color: #f1f1f1;\n",
              "}\n",
              "#T_1c47e_row12_col18, #T_1c47e_row19_col14, #T_1c47e_row19_col15, #T_1c47e_row19_col16, #T_1c47e_row19_col17 {\n",
              "  front-size: 6pt;\n",
              "  background-color: #fa8532;\n",
              "  color: #f1f1f1;\n",
              "}\n",
              "#T_1c47e_row13_col11 {\n",
              "  front-size: 6pt;\n",
              "  background-color: #a93703;\n",
              "  color: #f1f1f1;\n",
              "}\n",
              "#T_1c47e_row13_col18 {\n",
              "  front-size: 6pt;\n",
              "  background-color: #f57520;\n",
              "  color: #f1f1f1;\n",
              "}\n",
              "#T_1c47e_row14_col4 {\n",
              "  front-size: 6pt;\n",
              "  background-color: #ffeedd;\n",
              "  color: #000000;\n",
              "}\n",
              "#T_1c47e_row14_col5, #T_1c47e_row17_col10 {\n",
              "  front-size: 6pt;\n",
              "  background-color: #fdd5ab;\n",
              "  color: #000000;\n",
              "}\n",
              "#T_1c47e_row14_col10 {\n",
              "  front-size: 6pt;\n",
              "  background-color: #902e04;\n",
              "  color: #f1f1f1;\n",
              "}\n",
              "#T_1c47e_row14_col20 {\n",
              "  front-size: 6pt;\n",
              "  background-color: #f16813;\n",
              "  color: #f1f1f1;\n",
              "}\n",
              "#T_1c47e_row14_col21 {\n",
              "  front-size: 6pt;\n",
              "  background-color: #fdd9b5;\n",
              "  color: #000000;\n",
              "}\n",
              "#T_1c47e_row15_col3 {\n",
              "  front-size: 6pt;\n",
              "  background-color: #feeddc;\n",
              "  color: #000000;\n",
              "}\n",
              "#T_1c47e_row15_col5 {\n",
              "  front-size: 6pt;\n",
              "  background-color: #862a04;\n",
              "  color: #f1f1f1;\n",
              "}\n",
              "#T_1c47e_row15_col6 {\n",
              "  front-size: 6pt;\n",
              "  background-color: #fdaf6c;\n",
              "  color: #000000;\n",
              "}\n",
              "#T_1c47e_row15_col7 {\n",
              "  front-size: 6pt;\n",
              "  background-color: #fff0e1;\n",
              "  color: #000000;\n",
              "}\n",
              "#T_1c47e_row15_col10 {\n",
              "  front-size: 6pt;\n",
              "  background-color: #9b3203;\n",
              "  color: #f1f1f1;\n",
              "}\n",
              "#T_1c47e_row15_col21, #T_1c47e_row19_col7 {\n",
              "  front-size: 6pt;\n",
              "  background-color: #932f03;\n",
              "  color: #f1f1f1;\n",
              "}\n",
              "#T_1c47e_row15_col22, #T_1c47e_row20_col22 {\n",
              "  front-size: 6pt;\n",
              "  background-color: #ec620f;\n",
              "  color: #f1f1f1;\n",
              "}\n",
              "#T_1c47e_row16_col7 {\n",
              "  front-size: 6pt;\n",
              "  background-color: #b33b02;\n",
              "  color: #f1f1f1;\n",
              "}\n",
              "#T_1c47e_row16_col8, #T_1c47e_row22_col11 {\n",
              "  front-size: 6pt;\n",
              "  background-color: #fda25a;\n",
              "  color: #000000;\n",
              "}\n",
              "#T_1c47e_row16_col11 {\n",
              "  front-size: 6pt;\n",
              "  background-color: #f36f1a;\n",
              "  color: #f1f1f1;\n",
              "}\n",
              "#T_1c47e_row16_col16 {\n",
              "  front-size: 6pt;\n",
              "  background-color: #d94801;\n",
              "  color: #f1f1f1;\n",
              "}\n",
              "#T_1c47e_row17_col3 {\n",
              "  front-size: 6pt;\n",
              "  background-color: #e15407;\n",
              "  color: #f1f1f1;\n",
              "}\n",
              "#T_1c47e_row17_col8 {\n",
              "  front-size: 6pt;\n",
              "  background-color: #842904;\n",
              "  color: #f1f1f1;\n",
              "}\n",
              "#T_1c47e_row17_col9 {\n",
              "  front-size: 6pt;\n",
              "  background-color: #a23503;\n",
              "  color: #f1f1f1;\n",
              "}\n",
              "#T_1c47e_row17_col12, #T_1c47e_row17_col17 {\n",
              "  front-size: 6pt;\n",
              "  background-color: #fee7d1;\n",
              "  color: #000000;\n",
              "}\n",
              "#T_1c47e_row17_col16, #T_1c47e_row21_col21 {\n",
              "  front-size: 6pt;\n",
              "  background-color: #ffeede;\n",
              "  color: #000000;\n",
              "}\n",
              "#T_1c47e_row17_col18 {\n",
              "  front-size: 6pt;\n",
              "  background-color: #f67925;\n",
              "  color: #f1f1f1;\n",
              "}\n",
              "#T_1c47e_row18_col4 {\n",
              "  front-size: 6pt;\n",
              "  background-color: #fdd2a6;\n",
              "  color: #000000;\n",
              "}\n",
              "#T_1c47e_row18_col5 {\n",
              "  front-size: 6pt;\n",
              "  background-color: #e75b0b;\n",
              "  color: #f1f1f1;\n",
              "}\n",
              "#T_1c47e_row18_col10 {\n",
              "  front-size: 6pt;\n",
              "  background-color: #9f3303;\n",
              "  color: #f1f1f1;\n",
              "}\n",
              "#T_1c47e_row18_col11 {\n",
              "  front-size: 6pt;\n",
              "  background-color: #f3701b;\n",
              "  color: #f1f1f1;\n",
              "}\n",
              "#T_1c47e_row18_col12, #T_1c47e_row18_col18 {\n",
              "  front-size: 6pt;\n",
              "  background-color: #fee7d0;\n",
              "  color: #000000;\n",
              "}\n",
              "#T_1c47e_row18_col13 {\n",
              "  front-size: 6pt;\n",
              "  background-color: #feeddb;\n",
              "  color: #000000;\n",
              "}\n",
              "#T_1c47e_row19_col6 {\n",
              "  front-size: 6pt;\n",
              "  background-color: #fd9649;\n",
              "  color: #000000;\n",
              "}\n",
              "#T_1c47e_row19_col13 {\n",
              "  front-size: 6pt;\n",
              "  background-color: #c54102;\n",
              "  color: #f1f1f1;\n",
              "}\n",
              "#T_1c47e_row19_col18 {\n",
              "  front-size: 6pt;\n",
              "  background-color: #f5741f;\n",
              "  color: #f1f1f1;\n",
              "}\n",
              "#T_1c47e_row20_col7 {\n",
              "  front-size: 6pt;\n",
              "  background-color: #ffefe0;\n",
              "  color: #000000;\n",
              "}\n",
              "#T_1c47e_row20_col8 {\n",
              "  front-size: 6pt;\n",
              "  background-color: #fc8937;\n",
              "  color: #f1f1f1;\n",
              "}\n",
              "#T_1c47e_row20_col21, #T_1c47e_row21_col20 {\n",
              "  front-size: 6pt;\n",
              "  background-color: #de4e05;\n",
              "  color: #f1f1f1;\n",
              "}\n",
              "#T_1c47e_row21_col10 {\n",
              "  front-size: 6pt;\n",
              "  background-color: #bb3d02;\n",
              "  color: #f1f1f1;\n",
              "}\n",
              "#T_1c47e_row21_col11 {\n",
              "  front-size: 6pt;\n",
              "  background-color: #8e2d04;\n",
              "  color: #f1f1f1;\n",
              "}\n",
              "#T_1c47e_row22_col18 {\n",
              "  front-size: 6pt;\n",
              "  background-color: #952f03;\n",
              "  color: #f1f1f1;\n",
              "}\n",
              "#T_1c47e_row22_col19 {\n",
              "  front-size: 6pt;\n",
              "  background-color: #fda55f;\n",
              "  color: #000000;\n",
              "}\n",
              "#T_1c47e_row22_col20 {\n",
              "  front-size: 6pt;\n",
              "  background-color: #fdcb9b;\n",
              "  color: #000000;\n",
              "}\n",
              "</style>\n",
              "<table id=\"T_1c47e_\" class=\"dataframe\">\n",
              "  <thead>\n",
              "    <tr>\n",
              "      <th class=\"blank level0\" >&nbsp;</th>\n",
              "      <th class=\"col_heading level0 col0\" >0</th>\n",
              "      <th class=\"col_heading level0 col1\" >1</th>\n",
              "      <th class=\"col_heading level0 col2\" >2</th>\n",
              "      <th class=\"col_heading level0 col3\" >3</th>\n",
              "      <th class=\"col_heading level0 col4\" >4</th>\n",
              "      <th class=\"col_heading level0 col5\" >5</th>\n",
              "      <th class=\"col_heading level0 col6\" >6</th>\n",
              "      <th class=\"col_heading level0 col7\" >7</th>\n",
              "      <th class=\"col_heading level0 col8\" >8</th>\n",
              "      <th class=\"col_heading level0 col9\" >9</th>\n",
              "      <th class=\"col_heading level0 col10\" >10</th>\n",
              "      <th class=\"col_heading level0 col11\" >11</th>\n",
              "      <th class=\"col_heading level0 col12\" >12</th>\n",
              "      <th class=\"col_heading level0 col13\" >13</th>\n",
              "      <th class=\"col_heading level0 col14\" >14</th>\n",
              "      <th class=\"col_heading level0 col15\" >15</th>\n",
              "      <th class=\"col_heading level0 col16\" >16</th>\n",
              "      <th class=\"col_heading level0 col17\" >17</th>\n",
              "      <th class=\"col_heading level0 col18\" >18</th>\n",
              "      <th class=\"col_heading level0 col19\" >19</th>\n",
              "      <th class=\"col_heading level0 col20\" >20</th>\n",
              "      <th class=\"col_heading level0 col21\" >21</th>\n",
              "      <th class=\"col_heading level0 col22\" >22</th>\n",
              "      <th class=\"col_heading level0 col23\" >23</th>\n",
              "      <th class=\"col_heading level0 col24\" >24</th>\n",
              "      <th class=\"col_heading level0 col25\" >25</th>\n",
              "      <th class=\"col_heading level0 col26\" >26</th>\n",
              "      <th class=\"col_heading level0 col27\" >27</th>\n",
              "    </tr>\n",
              "  </thead>\n",
              "  <tbody>\n",
              "    <tr>\n",
              "      <th id=\"T_1c47e_level0_row0\" class=\"row_heading level0 row0\" >0</th>\n",
              "      <td id=\"T_1c47e_row0_col0\" class=\"data row0 col0\" >0</td>\n",
              "      <td id=\"T_1c47e_row0_col1\" class=\"data row0 col1\" >0</td>\n",
              "      <td id=\"T_1c47e_row0_col2\" class=\"data row0 col2\" >0</td>\n",
              "      <td id=\"T_1c47e_row0_col3\" class=\"data row0 col3\" >0</td>\n",
              "      <td id=\"T_1c47e_row0_col4\" class=\"data row0 col4\" >0</td>\n",
              "      <td id=\"T_1c47e_row0_col5\" class=\"data row0 col5\" >0</td>\n",
              "      <td id=\"T_1c47e_row0_col6\" class=\"data row0 col6\" >0</td>\n",
              "      <td id=\"T_1c47e_row0_col7\" class=\"data row0 col7\" >0</td>\n",
              "      <td id=\"T_1c47e_row0_col8\" class=\"data row0 col8\" >0</td>\n",
              "      <td id=\"T_1c47e_row0_col9\" class=\"data row0 col9\" >0</td>\n",
              "      <td id=\"T_1c47e_row0_col10\" class=\"data row0 col10\" >0</td>\n",
              "      <td id=\"T_1c47e_row0_col11\" class=\"data row0 col11\" >0</td>\n",
              "      <td id=\"T_1c47e_row0_col12\" class=\"data row0 col12\" >0</td>\n",
              "      <td id=\"T_1c47e_row0_col13\" class=\"data row0 col13\" >0</td>\n",
              "      <td id=\"T_1c47e_row0_col14\" class=\"data row0 col14\" >0</td>\n",
              "      <td id=\"T_1c47e_row0_col15\" class=\"data row0 col15\" >0</td>\n",
              "      <td id=\"T_1c47e_row0_col16\" class=\"data row0 col16\" >0</td>\n",
              "      <td id=\"T_1c47e_row0_col17\" class=\"data row0 col17\" >0</td>\n",
              "      <td id=\"T_1c47e_row0_col18\" class=\"data row0 col18\" >0</td>\n",
              "      <td id=\"T_1c47e_row0_col19\" class=\"data row0 col19\" >0</td>\n",
              "      <td id=\"T_1c47e_row0_col20\" class=\"data row0 col20\" >0</td>\n",
              "      <td id=\"T_1c47e_row0_col21\" class=\"data row0 col21\" >0</td>\n",
              "      <td id=\"T_1c47e_row0_col22\" class=\"data row0 col22\" >0</td>\n",
              "      <td id=\"T_1c47e_row0_col23\" class=\"data row0 col23\" >0</td>\n",
              "      <td id=\"T_1c47e_row0_col24\" class=\"data row0 col24\" >0</td>\n",
              "      <td id=\"T_1c47e_row0_col25\" class=\"data row0 col25\" >0</td>\n",
              "      <td id=\"T_1c47e_row0_col26\" class=\"data row0 col26\" >0</td>\n",
              "      <td id=\"T_1c47e_row0_col27\" class=\"data row0 col27\" >0</td>\n",
              "    </tr>\n",
              "    <tr>\n",
              "      <th id=\"T_1c47e_level0_row1\" class=\"row_heading level0 row1\" >1</th>\n",
              "      <td id=\"T_1c47e_row1_col0\" class=\"data row1 col0\" >0</td>\n",
              "      <td id=\"T_1c47e_row1_col1\" class=\"data row1 col1\" >0</td>\n",
              "      <td id=\"T_1c47e_row1_col2\" class=\"data row1 col2\" >0</td>\n",
              "      <td id=\"T_1c47e_row1_col3\" class=\"data row1 col3\" >0</td>\n",
              "      <td id=\"T_1c47e_row1_col4\" class=\"data row1 col4\" >0</td>\n",
              "      <td id=\"T_1c47e_row1_col5\" class=\"data row1 col5\" >0</td>\n",
              "      <td id=\"T_1c47e_row1_col6\" class=\"data row1 col6\" >0</td>\n",
              "      <td id=\"T_1c47e_row1_col7\" class=\"data row1 col7\" >0</td>\n",
              "      <td id=\"T_1c47e_row1_col8\" class=\"data row1 col8\" >0</td>\n",
              "      <td id=\"T_1c47e_row1_col9\" class=\"data row1 col9\" >0</td>\n",
              "      <td id=\"T_1c47e_row1_col10\" class=\"data row1 col10\" >0</td>\n",
              "      <td id=\"T_1c47e_row1_col11\" class=\"data row1 col11\" >0</td>\n",
              "      <td id=\"T_1c47e_row1_col12\" class=\"data row1 col12\" >0</td>\n",
              "      <td id=\"T_1c47e_row1_col13\" class=\"data row1 col13\" >0</td>\n",
              "      <td id=\"T_1c47e_row1_col14\" class=\"data row1 col14\" >0</td>\n",
              "      <td id=\"T_1c47e_row1_col15\" class=\"data row1 col15\" >0</td>\n",
              "      <td id=\"T_1c47e_row1_col16\" class=\"data row1 col16\" >0</td>\n",
              "      <td id=\"T_1c47e_row1_col17\" class=\"data row1 col17\" >0</td>\n",
              "      <td id=\"T_1c47e_row1_col18\" class=\"data row1 col18\" >0</td>\n",
              "      <td id=\"T_1c47e_row1_col19\" class=\"data row1 col19\" >0</td>\n",
              "      <td id=\"T_1c47e_row1_col20\" class=\"data row1 col20\" >0</td>\n",
              "      <td id=\"T_1c47e_row1_col21\" class=\"data row1 col21\" >0</td>\n",
              "      <td id=\"T_1c47e_row1_col22\" class=\"data row1 col22\" >0</td>\n",
              "      <td id=\"T_1c47e_row1_col23\" class=\"data row1 col23\" >0</td>\n",
              "      <td id=\"T_1c47e_row1_col24\" class=\"data row1 col24\" >0</td>\n",
              "      <td id=\"T_1c47e_row1_col25\" class=\"data row1 col25\" >0</td>\n",
              "      <td id=\"T_1c47e_row1_col26\" class=\"data row1 col26\" >0</td>\n",
              "      <td id=\"T_1c47e_row1_col27\" class=\"data row1 col27\" >0</td>\n",
              "    </tr>\n",
              "    <tr>\n",
              "      <th id=\"T_1c47e_level0_row2\" class=\"row_heading level0 row2\" >2</th>\n",
              "      <td id=\"T_1c47e_row2_col0\" class=\"data row2 col0\" >0</td>\n",
              "      <td id=\"T_1c47e_row2_col1\" class=\"data row2 col1\" >0</td>\n",
              "      <td id=\"T_1c47e_row2_col2\" class=\"data row2 col2\" >0</td>\n",
              "      <td id=\"T_1c47e_row2_col3\" class=\"data row2 col3\" >0</td>\n",
              "      <td id=\"T_1c47e_row2_col4\" class=\"data row2 col4\" >0</td>\n",
              "      <td id=\"T_1c47e_row2_col5\" class=\"data row2 col5\" >0</td>\n",
              "      <td id=\"T_1c47e_row2_col6\" class=\"data row2 col6\" >0</td>\n",
              "      <td id=\"T_1c47e_row2_col7\" class=\"data row2 col7\" >0</td>\n",
              "      <td id=\"T_1c47e_row2_col8\" class=\"data row2 col8\" >0</td>\n",
              "      <td id=\"T_1c47e_row2_col9\" class=\"data row2 col9\" >0</td>\n",
              "      <td id=\"T_1c47e_row2_col10\" class=\"data row2 col10\" >0</td>\n",
              "      <td id=\"T_1c47e_row2_col11\" class=\"data row2 col11\" >0</td>\n",
              "      <td id=\"T_1c47e_row2_col12\" class=\"data row2 col12\" >0</td>\n",
              "      <td id=\"T_1c47e_row2_col13\" class=\"data row2 col13\" >0</td>\n",
              "      <td id=\"T_1c47e_row2_col14\" class=\"data row2 col14\" >0</td>\n",
              "      <td id=\"T_1c47e_row2_col15\" class=\"data row2 col15\" >0</td>\n",
              "      <td id=\"T_1c47e_row2_col16\" class=\"data row2 col16\" >0</td>\n",
              "      <td id=\"T_1c47e_row2_col17\" class=\"data row2 col17\" >0</td>\n",
              "      <td id=\"T_1c47e_row2_col18\" class=\"data row2 col18\" >0</td>\n",
              "      <td id=\"T_1c47e_row2_col19\" class=\"data row2 col19\" >0</td>\n",
              "      <td id=\"T_1c47e_row2_col20\" class=\"data row2 col20\" >0</td>\n",
              "      <td id=\"T_1c47e_row2_col21\" class=\"data row2 col21\" >0</td>\n",
              "      <td id=\"T_1c47e_row2_col22\" class=\"data row2 col22\" >0</td>\n",
              "      <td id=\"T_1c47e_row2_col23\" class=\"data row2 col23\" >0</td>\n",
              "      <td id=\"T_1c47e_row2_col24\" class=\"data row2 col24\" >0</td>\n",
              "      <td id=\"T_1c47e_row2_col25\" class=\"data row2 col25\" >0</td>\n",
              "      <td id=\"T_1c47e_row2_col26\" class=\"data row2 col26\" >0</td>\n",
              "      <td id=\"T_1c47e_row2_col27\" class=\"data row2 col27\" >0</td>\n",
              "    </tr>\n",
              "    <tr>\n",
              "      <th id=\"T_1c47e_level0_row3\" class=\"row_heading level0 row3\" >3</th>\n",
              "      <td id=\"T_1c47e_row3_col0\" class=\"data row3 col0\" >0</td>\n",
              "      <td id=\"T_1c47e_row3_col1\" class=\"data row3 col1\" >0</td>\n",
              "      <td id=\"T_1c47e_row3_col2\" class=\"data row3 col2\" >0</td>\n",
              "      <td id=\"T_1c47e_row3_col3\" class=\"data row3 col3\" >0</td>\n",
              "      <td id=\"T_1c47e_row3_col4\" class=\"data row3 col4\" >0</td>\n",
              "      <td id=\"T_1c47e_row3_col5\" class=\"data row3 col5\" >0</td>\n",
              "      <td id=\"T_1c47e_row3_col6\" class=\"data row3 col6\" >0</td>\n",
              "      <td id=\"T_1c47e_row3_col7\" class=\"data row3 col7\" >0</td>\n",
              "      <td id=\"T_1c47e_row3_col8\" class=\"data row3 col8\" >75</td>\n",
              "      <td id=\"T_1c47e_row3_col9\" class=\"data row3 col9\" >105</td>\n",
              "      <td id=\"T_1c47e_row3_col10\" class=\"data row3 col10\" >245</td>\n",
              "      <td id=\"T_1c47e_row3_col11\" class=\"data row3 col11\" >253</td>\n",
              "      <td id=\"T_1c47e_row3_col12\" class=\"data row3 col12\" >253</td>\n",
              "      <td id=\"T_1c47e_row3_col13\" class=\"data row3 col13\" >255</td>\n",
              "      <td id=\"T_1c47e_row3_col14\" class=\"data row3 col14\" >129</td>\n",
              "      <td id=\"T_1c47e_row3_col15\" class=\"data row3 col15\" >37</td>\n",
              "      <td id=\"T_1c47e_row3_col16\" class=\"data row3 col16\" >0</td>\n",
              "      <td id=\"T_1c47e_row3_col17\" class=\"data row3 col17\" >0</td>\n",
              "      <td id=\"T_1c47e_row3_col18\" class=\"data row3 col18\" >0</td>\n",
              "      <td id=\"T_1c47e_row3_col19\" class=\"data row3 col19\" >0</td>\n",
              "      <td id=\"T_1c47e_row3_col20\" class=\"data row3 col20\" >0</td>\n",
              "      <td id=\"T_1c47e_row3_col21\" class=\"data row3 col21\" >0</td>\n",
              "      <td id=\"T_1c47e_row3_col22\" class=\"data row3 col22\" >0</td>\n",
              "      <td id=\"T_1c47e_row3_col23\" class=\"data row3 col23\" >0</td>\n",
              "      <td id=\"T_1c47e_row3_col24\" class=\"data row3 col24\" >0</td>\n",
              "      <td id=\"T_1c47e_row3_col25\" class=\"data row3 col25\" >0</td>\n",
              "      <td id=\"T_1c47e_row3_col26\" class=\"data row3 col26\" >0</td>\n",
              "      <td id=\"T_1c47e_row3_col27\" class=\"data row3 col27\" >0</td>\n",
              "    </tr>\n",
              "    <tr>\n",
              "      <th id=\"T_1c47e_level0_row4\" class=\"row_heading level0 row4\" >4</th>\n",
              "      <td id=\"T_1c47e_row4_col0\" class=\"data row4 col0\" >0</td>\n",
              "      <td id=\"T_1c47e_row4_col1\" class=\"data row4 col1\" >0</td>\n",
              "      <td id=\"T_1c47e_row4_col2\" class=\"data row4 col2\" >0</td>\n",
              "      <td id=\"T_1c47e_row4_col3\" class=\"data row4 col3\" >0</td>\n",
              "      <td id=\"T_1c47e_row4_col4\" class=\"data row4 col4\" >0</td>\n",
              "      <td id=\"T_1c47e_row4_col5\" class=\"data row4 col5\" >0</td>\n",
              "      <td id=\"T_1c47e_row4_col6\" class=\"data row4 col6\" >0</td>\n",
              "      <td id=\"T_1c47e_row4_col7\" class=\"data row4 col7\" >62</td>\n",
              "      <td id=\"T_1c47e_row4_col8\" class=\"data row4 col8\" >239</td>\n",
              "      <td id=\"T_1c47e_row4_col9\" class=\"data row4 col9\" >252</td>\n",
              "      <td id=\"T_1c47e_row4_col10\" class=\"data row4 col10\" >252</td>\n",
              "      <td id=\"T_1c47e_row4_col11\" class=\"data row4 col11\" >252</td>\n",
              "      <td id=\"T_1c47e_row4_col12\" class=\"data row4 col12\" >252</td>\n",
              "      <td id=\"T_1c47e_row4_col13\" class=\"data row4 col13\" >253</td>\n",
              "      <td id=\"T_1c47e_row4_col14\" class=\"data row4 col14\" >252</td>\n",
              "      <td id=\"T_1c47e_row4_col15\" class=\"data row4 col15\" >223</td>\n",
              "      <td id=\"T_1c47e_row4_col16\" class=\"data row4 col16\" >138</td>\n",
              "      <td id=\"T_1c47e_row4_col17\" class=\"data row4 col17\" >7</td>\n",
              "      <td id=\"T_1c47e_row4_col18\" class=\"data row4 col18\" >0</td>\n",
              "      <td id=\"T_1c47e_row4_col19\" class=\"data row4 col19\" >0</td>\n",
              "      <td id=\"T_1c47e_row4_col20\" class=\"data row4 col20\" >0</td>\n",
              "      <td id=\"T_1c47e_row4_col21\" class=\"data row4 col21\" >0</td>\n",
              "      <td id=\"T_1c47e_row4_col22\" class=\"data row4 col22\" >0</td>\n",
              "      <td id=\"T_1c47e_row4_col23\" class=\"data row4 col23\" >0</td>\n",
              "      <td id=\"T_1c47e_row4_col24\" class=\"data row4 col24\" >0</td>\n",
              "      <td id=\"T_1c47e_row4_col25\" class=\"data row4 col25\" >0</td>\n",
              "      <td id=\"T_1c47e_row4_col26\" class=\"data row4 col26\" >0</td>\n",
              "      <td id=\"T_1c47e_row4_col27\" class=\"data row4 col27\" >0</td>\n",
              "    </tr>\n",
              "    <tr>\n",
              "      <th id=\"T_1c47e_level0_row5\" class=\"row_heading level0 row5\" >5</th>\n",
              "      <td id=\"T_1c47e_row5_col0\" class=\"data row5 col0\" >0</td>\n",
              "      <td id=\"T_1c47e_row5_col1\" class=\"data row5 col1\" >0</td>\n",
              "      <td id=\"T_1c47e_row5_col2\" class=\"data row5 col2\" >0</td>\n",
              "      <td id=\"T_1c47e_row5_col3\" class=\"data row5 col3\" >0</td>\n",
              "      <td id=\"T_1c47e_row5_col4\" class=\"data row5 col4\" >0</td>\n",
              "      <td id=\"T_1c47e_row5_col5\" class=\"data row5 col5\" >0</td>\n",
              "      <td id=\"T_1c47e_row5_col6\" class=\"data row5 col6\" >0</td>\n",
              "      <td id=\"T_1c47e_row5_col7\" class=\"data row5 col7\" >162</td>\n",
              "      <td id=\"T_1c47e_row5_col8\" class=\"data row5 col8\" >252</td>\n",
              "      <td id=\"T_1c47e_row5_col9\" class=\"data row5 col9\" >252</td>\n",
              "      <td id=\"T_1c47e_row5_col10\" class=\"data row5 col10\" >252</td>\n",
              "      <td id=\"T_1c47e_row5_col11\" class=\"data row5 col11\" >252</td>\n",
              "      <td id=\"T_1c47e_row5_col12\" class=\"data row5 col12\" >252</td>\n",
              "      <td id=\"T_1c47e_row5_col13\" class=\"data row5 col13\" >253</td>\n",
              "      <td id=\"T_1c47e_row5_col14\" class=\"data row5 col14\" >252</td>\n",
              "      <td id=\"T_1c47e_row5_col15\" class=\"data row5 col15\" >252</td>\n",
              "      <td id=\"T_1c47e_row5_col16\" class=\"data row5 col16\" >252</td>\n",
              "      <td id=\"T_1c47e_row5_col17\" class=\"data row5 col17\" >126</td>\n",
              "      <td id=\"T_1c47e_row5_col18\" class=\"data row5 col18\" >0</td>\n",
              "      <td id=\"T_1c47e_row5_col19\" class=\"data row5 col19\" >0</td>\n",
              "      <td id=\"T_1c47e_row5_col20\" class=\"data row5 col20\" >0</td>\n",
              "      <td id=\"T_1c47e_row5_col21\" class=\"data row5 col21\" >0</td>\n",
              "      <td id=\"T_1c47e_row5_col22\" class=\"data row5 col22\" >0</td>\n",
              "      <td id=\"T_1c47e_row5_col23\" class=\"data row5 col23\" >0</td>\n",
              "      <td id=\"T_1c47e_row5_col24\" class=\"data row5 col24\" >0</td>\n",
              "      <td id=\"T_1c47e_row5_col25\" class=\"data row5 col25\" >0</td>\n",
              "      <td id=\"T_1c47e_row5_col26\" class=\"data row5 col26\" >0</td>\n",
              "      <td id=\"T_1c47e_row5_col27\" class=\"data row5 col27\" >0</td>\n",
              "    </tr>\n",
              "    <tr>\n",
              "      <th id=\"T_1c47e_level0_row6\" class=\"row_heading level0 row6\" >6</th>\n",
              "      <td id=\"T_1c47e_row6_col0\" class=\"data row6 col0\" >0</td>\n",
              "      <td id=\"T_1c47e_row6_col1\" class=\"data row6 col1\" >0</td>\n",
              "      <td id=\"T_1c47e_row6_col2\" class=\"data row6 col2\" >0</td>\n",
              "      <td id=\"T_1c47e_row6_col3\" class=\"data row6 col3\" >0</td>\n",
              "      <td id=\"T_1c47e_row6_col4\" class=\"data row6 col4\" >0</td>\n",
              "      <td id=\"T_1c47e_row6_col5\" class=\"data row6 col5\" >0</td>\n",
              "      <td id=\"T_1c47e_row6_col6\" class=\"data row6 col6\" >0</td>\n",
              "      <td id=\"T_1c47e_row6_col7\" class=\"data row6 col7\" >40</td>\n",
              "      <td id=\"T_1c47e_row6_col8\" class=\"data row6 col8\" >217</td>\n",
              "      <td id=\"T_1c47e_row6_col9\" class=\"data row6 col9\" >252</td>\n",
              "      <td id=\"T_1c47e_row6_col10\" class=\"data row6 col10\" >139</td>\n",
              "      <td id=\"T_1c47e_row6_col11\" class=\"data row6 col11\" >132</td>\n",
              "      <td id=\"T_1c47e_row6_col12\" class=\"data row6 col12\" >132</td>\n",
              "      <td id=\"T_1c47e_row6_col13\" class=\"data row6 col13\" >133</td>\n",
              "      <td id=\"T_1c47e_row6_col14\" class=\"data row6 col14\" >160</td>\n",
              "      <td id=\"T_1c47e_row6_col15\" class=\"data row6 col15\" >252</td>\n",
              "      <td id=\"T_1c47e_row6_col16\" class=\"data row6 col16\" >252</td>\n",
              "      <td id=\"T_1c47e_row6_col17\" class=\"data row6 col17\" >212</td>\n",
              "      <td id=\"T_1c47e_row6_col18\" class=\"data row6 col18\" >35</td>\n",
              "      <td id=\"T_1c47e_row6_col19\" class=\"data row6 col19\" >0</td>\n",
              "      <td id=\"T_1c47e_row6_col20\" class=\"data row6 col20\" >0</td>\n",
              "      <td id=\"T_1c47e_row6_col21\" class=\"data row6 col21\" >0</td>\n",
              "      <td id=\"T_1c47e_row6_col22\" class=\"data row6 col22\" >0</td>\n",
              "      <td id=\"T_1c47e_row6_col23\" class=\"data row6 col23\" >0</td>\n",
              "      <td id=\"T_1c47e_row6_col24\" class=\"data row6 col24\" >0</td>\n",
              "      <td id=\"T_1c47e_row6_col25\" class=\"data row6 col25\" >0</td>\n",
              "      <td id=\"T_1c47e_row6_col26\" class=\"data row6 col26\" >0</td>\n",
              "      <td id=\"T_1c47e_row6_col27\" class=\"data row6 col27\" >0</td>\n",
              "    </tr>\n",
              "    <tr>\n",
              "      <th id=\"T_1c47e_level0_row7\" class=\"row_heading level0 row7\" >7</th>\n",
              "      <td id=\"T_1c47e_row7_col0\" class=\"data row7 col0\" >0</td>\n",
              "      <td id=\"T_1c47e_row7_col1\" class=\"data row7 col1\" >0</td>\n",
              "      <td id=\"T_1c47e_row7_col2\" class=\"data row7 col2\" >0</td>\n",
              "      <td id=\"T_1c47e_row7_col3\" class=\"data row7 col3\" >0</td>\n",
              "      <td id=\"T_1c47e_row7_col4\" class=\"data row7 col4\" >0</td>\n",
              "      <td id=\"T_1c47e_row7_col5\" class=\"data row7 col5\" >0</td>\n",
              "      <td id=\"T_1c47e_row7_col6\" class=\"data row7 col6\" >0</td>\n",
              "      <td id=\"T_1c47e_row7_col7\" class=\"data row7 col7\" >0</td>\n",
              "      <td id=\"T_1c47e_row7_col8\" class=\"data row7 col8\" >38</td>\n",
              "      <td id=\"T_1c47e_row7_col9\" class=\"data row7 col9\" >99</td>\n",
              "      <td id=\"T_1c47e_row7_col10\" class=\"data row7 col10\" >2</td>\n",
              "      <td id=\"T_1c47e_row7_col11\" class=\"data row7 col11\" >0</td>\n",
              "      <td id=\"T_1c47e_row7_col12\" class=\"data row7 col12\" >0</td>\n",
              "      <td id=\"T_1c47e_row7_col13\" class=\"data row7 col13\" >0</td>\n",
              "      <td id=\"T_1c47e_row7_col14\" class=\"data row7 col14\" >7</td>\n",
              "      <td id=\"T_1c47e_row7_col15\" class=\"data row7 col15\" >173</td>\n",
              "      <td id=\"T_1c47e_row7_col16\" class=\"data row7 col16\" >252</td>\n",
              "      <td id=\"T_1c47e_row7_col17\" class=\"data row7 col17\" >252</td>\n",
              "      <td id=\"T_1c47e_row7_col18\" class=\"data row7 col18\" >205</td>\n",
              "      <td id=\"T_1c47e_row7_col19\" class=\"data row7 col19\" >0</td>\n",
              "      <td id=\"T_1c47e_row7_col20\" class=\"data row7 col20\" >0</td>\n",
              "      <td id=\"T_1c47e_row7_col21\" class=\"data row7 col21\" >0</td>\n",
              "      <td id=\"T_1c47e_row7_col22\" class=\"data row7 col22\" >0</td>\n",
              "      <td id=\"T_1c47e_row7_col23\" class=\"data row7 col23\" >0</td>\n",
              "      <td id=\"T_1c47e_row7_col24\" class=\"data row7 col24\" >0</td>\n",
              "      <td id=\"T_1c47e_row7_col25\" class=\"data row7 col25\" >0</td>\n",
              "      <td id=\"T_1c47e_row7_col26\" class=\"data row7 col26\" >0</td>\n",
              "      <td id=\"T_1c47e_row7_col27\" class=\"data row7 col27\" >0</td>\n",
              "    </tr>\n",
              "    <tr>\n",
              "      <th id=\"T_1c47e_level0_row8\" class=\"row_heading level0 row8\" >8</th>\n",
              "      <td id=\"T_1c47e_row8_col0\" class=\"data row8 col0\" >0</td>\n",
              "      <td id=\"T_1c47e_row8_col1\" class=\"data row8 col1\" >0</td>\n",
              "      <td id=\"T_1c47e_row8_col2\" class=\"data row8 col2\" >0</td>\n",
              "      <td id=\"T_1c47e_row8_col3\" class=\"data row8 col3\" >0</td>\n",
              "      <td id=\"T_1c47e_row8_col4\" class=\"data row8 col4\" >0</td>\n",
              "      <td id=\"T_1c47e_row8_col5\" class=\"data row8 col5\" >0</td>\n",
              "      <td id=\"T_1c47e_row8_col6\" class=\"data row8 col6\" >0</td>\n",
              "      <td id=\"T_1c47e_row8_col7\" class=\"data row8 col7\" >0</td>\n",
              "      <td id=\"T_1c47e_row8_col8\" class=\"data row8 col8\" >0</td>\n",
              "      <td id=\"T_1c47e_row8_col9\" class=\"data row8 col9\" >0</td>\n",
              "      <td id=\"T_1c47e_row8_col10\" class=\"data row8 col10\" >0</td>\n",
              "      <td id=\"T_1c47e_row8_col11\" class=\"data row8 col11\" >0</td>\n",
              "      <td id=\"T_1c47e_row8_col12\" class=\"data row8 col12\" >0</td>\n",
              "      <td id=\"T_1c47e_row8_col13\" class=\"data row8 col13\" >0</td>\n",
              "      <td id=\"T_1c47e_row8_col14\" class=\"data row8 col14\" >0</td>\n",
              "      <td id=\"T_1c47e_row8_col15\" class=\"data row8 col15\" >48</td>\n",
              "      <td id=\"T_1c47e_row8_col16\" class=\"data row8 col16\" >157</td>\n",
              "      <td id=\"T_1c47e_row8_col17\" class=\"data row8 col17\" >252</td>\n",
              "      <td id=\"T_1c47e_row8_col18\" class=\"data row8 col18\" >222</td>\n",
              "      <td id=\"T_1c47e_row8_col19\" class=\"data row8 col19\" >0</td>\n",
              "      <td id=\"T_1c47e_row8_col20\" class=\"data row8 col20\" >0</td>\n",
              "      <td id=\"T_1c47e_row8_col21\" class=\"data row8 col21\" >0</td>\n",
              "      <td id=\"T_1c47e_row8_col22\" class=\"data row8 col22\" >0</td>\n",
              "      <td id=\"T_1c47e_row8_col23\" class=\"data row8 col23\" >0</td>\n",
              "      <td id=\"T_1c47e_row8_col24\" class=\"data row8 col24\" >0</td>\n",
              "      <td id=\"T_1c47e_row8_col25\" class=\"data row8 col25\" >0</td>\n",
              "      <td id=\"T_1c47e_row8_col26\" class=\"data row8 col26\" >0</td>\n",
              "      <td id=\"T_1c47e_row8_col27\" class=\"data row8 col27\" >0</td>\n",
              "    </tr>\n",
              "    <tr>\n",
              "      <th id=\"T_1c47e_level0_row9\" class=\"row_heading level0 row9\" >9</th>\n",
              "      <td id=\"T_1c47e_row9_col0\" class=\"data row9 col0\" >0</td>\n",
              "      <td id=\"T_1c47e_row9_col1\" class=\"data row9 col1\" >0</td>\n",
              "      <td id=\"T_1c47e_row9_col2\" class=\"data row9 col2\" >0</td>\n",
              "      <td id=\"T_1c47e_row9_col3\" class=\"data row9 col3\" >0</td>\n",
              "      <td id=\"T_1c47e_row9_col4\" class=\"data row9 col4\" >0</td>\n",
              "      <td id=\"T_1c47e_row9_col5\" class=\"data row9 col5\" >0</td>\n",
              "      <td id=\"T_1c47e_row9_col6\" class=\"data row9 col6\" >0</td>\n",
              "      <td id=\"T_1c47e_row9_col7\" class=\"data row9 col7\" >0</td>\n",
              "      <td id=\"T_1c47e_row9_col8\" class=\"data row9 col8\" >0</td>\n",
              "      <td id=\"T_1c47e_row9_col9\" class=\"data row9 col9\" >0</td>\n",
              "      <td id=\"T_1c47e_row9_col10\" class=\"data row9 col10\" >0</td>\n",
              "      <td id=\"T_1c47e_row9_col11\" class=\"data row9 col11\" >0</td>\n",
              "      <td id=\"T_1c47e_row9_col12\" class=\"data row9 col12\" >0</td>\n",
              "      <td id=\"T_1c47e_row9_col13\" class=\"data row9 col13\" >0</td>\n",
              "      <td id=\"T_1c47e_row9_col14\" class=\"data row9 col14\" >0</td>\n",
              "      <td id=\"T_1c47e_row9_col15\" class=\"data row9 col15\" >0</td>\n",
              "      <td id=\"T_1c47e_row9_col16\" class=\"data row9 col16\" >120</td>\n",
              "      <td id=\"T_1c47e_row9_col17\" class=\"data row9 col17\" >252</td>\n",
              "      <td id=\"T_1c47e_row9_col18\" class=\"data row9 col18\" >222</td>\n",
              "      <td id=\"T_1c47e_row9_col19\" class=\"data row9 col19\" >0</td>\n",
              "      <td id=\"T_1c47e_row9_col20\" class=\"data row9 col20\" >0</td>\n",
              "      <td id=\"T_1c47e_row9_col21\" class=\"data row9 col21\" >0</td>\n",
              "      <td id=\"T_1c47e_row9_col22\" class=\"data row9 col22\" >0</td>\n",
              "      <td id=\"T_1c47e_row9_col23\" class=\"data row9 col23\" >0</td>\n",
              "      <td id=\"T_1c47e_row9_col24\" class=\"data row9 col24\" >0</td>\n",
              "      <td id=\"T_1c47e_row9_col25\" class=\"data row9 col25\" >0</td>\n",
              "      <td id=\"T_1c47e_row9_col26\" class=\"data row9 col26\" >0</td>\n",
              "      <td id=\"T_1c47e_row9_col27\" class=\"data row9 col27\" >0</td>\n",
              "    </tr>\n",
              "    <tr>\n",
              "      <th id=\"T_1c47e_level0_row10\" class=\"row_heading level0 row10\" >10</th>\n",
              "      <td id=\"T_1c47e_row10_col0\" class=\"data row10 col0\" >0</td>\n",
              "      <td id=\"T_1c47e_row10_col1\" class=\"data row10 col1\" >0</td>\n",
              "      <td id=\"T_1c47e_row10_col2\" class=\"data row10 col2\" >0</td>\n",
              "      <td id=\"T_1c47e_row10_col3\" class=\"data row10 col3\" >0</td>\n",
              "      <td id=\"T_1c47e_row10_col4\" class=\"data row10 col4\" >0</td>\n",
              "      <td id=\"T_1c47e_row10_col5\" class=\"data row10 col5\" >0</td>\n",
              "      <td id=\"T_1c47e_row10_col6\" class=\"data row10 col6\" >0</td>\n",
              "      <td id=\"T_1c47e_row10_col7\" class=\"data row10 col7\" >0</td>\n",
              "      <td id=\"T_1c47e_row10_col8\" class=\"data row10 col8\" >0</td>\n",
              "      <td id=\"T_1c47e_row10_col9\" class=\"data row10 col9\" >0</td>\n",
              "      <td id=\"T_1c47e_row10_col10\" class=\"data row10 col10\" >0</td>\n",
              "      <td id=\"T_1c47e_row10_col11\" class=\"data row10 col11\" >0</td>\n",
              "      <td id=\"T_1c47e_row10_col12\" class=\"data row10 col12\" >0</td>\n",
              "      <td id=\"T_1c47e_row10_col13\" class=\"data row10 col13\" >0</td>\n",
              "      <td id=\"T_1c47e_row10_col14\" class=\"data row10 col14\" >0</td>\n",
              "      <td id=\"T_1c47e_row10_col15\" class=\"data row10 col15\" >6</td>\n",
              "      <td id=\"T_1c47e_row10_col16\" class=\"data row10 col16\" >166</td>\n",
              "      <td id=\"T_1c47e_row10_col17\" class=\"data row10 col17\" >252</td>\n",
              "      <td id=\"T_1c47e_row10_col18\" class=\"data row10 col18\" >222</td>\n",
              "      <td id=\"T_1c47e_row10_col19\" class=\"data row10 col19\" >0</td>\n",
              "      <td id=\"T_1c47e_row10_col20\" class=\"data row10 col20\" >0</td>\n",
              "      <td id=\"T_1c47e_row10_col21\" class=\"data row10 col21\" >0</td>\n",
              "      <td id=\"T_1c47e_row10_col22\" class=\"data row10 col22\" >0</td>\n",
              "      <td id=\"T_1c47e_row10_col23\" class=\"data row10 col23\" >0</td>\n",
              "      <td id=\"T_1c47e_row10_col24\" class=\"data row10 col24\" >0</td>\n",
              "      <td id=\"T_1c47e_row10_col25\" class=\"data row10 col25\" >0</td>\n",
              "      <td id=\"T_1c47e_row10_col26\" class=\"data row10 col26\" >0</td>\n",
              "      <td id=\"T_1c47e_row10_col27\" class=\"data row10 col27\" >0</td>\n",
              "    </tr>\n",
              "    <tr>\n",
              "      <th id=\"T_1c47e_level0_row11\" class=\"row_heading level0 row11\" >11</th>\n",
              "      <td id=\"T_1c47e_row11_col0\" class=\"data row11 col0\" >0</td>\n",
              "      <td id=\"T_1c47e_row11_col1\" class=\"data row11 col1\" >0</td>\n",
              "      <td id=\"T_1c47e_row11_col2\" class=\"data row11 col2\" >0</td>\n",
              "      <td id=\"T_1c47e_row11_col3\" class=\"data row11 col3\" >0</td>\n",
              "      <td id=\"T_1c47e_row11_col4\" class=\"data row11 col4\" >0</td>\n",
              "      <td id=\"T_1c47e_row11_col5\" class=\"data row11 col5\" >0</td>\n",
              "      <td id=\"T_1c47e_row11_col6\" class=\"data row11 col6\" >0</td>\n",
              "      <td id=\"T_1c47e_row11_col7\" class=\"data row11 col7\" >0</td>\n",
              "      <td id=\"T_1c47e_row11_col8\" class=\"data row11 col8\" >0</td>\n",
              "      <td id=\"T_1c47e_row11_col9\" class=\"data row11 col9\" >0</td>\n",
              "      <td id=\"T_1c47e_row11_col10\" class=\"data row11 col10\" >0</td>\n",
              "      <td id=\"T_1c47e_row11_col11\" class=\"data row11 col11\" >0</td>\n",
              "      <td id=\"T_1c47e_row11_col12\" class=\"data row11 col12\" >0</td>\n",
              "      <td id=\"T_1c47e_row11_col13\" class=\"data row11 col13\" >0</td>\n",
              "      <td id=\"T_1c47e_row11_col14\" class=\"data row11 col14\" >0</td>\n",
              "      <td id=\"T_1c47e_row11_col15\" class=\"data row11 col15\" >129</td>\n",
              "      <td id=\"T_1c47e_row11_col16\" class=\"data row11 col16\" >252</td>\n",
              "      <td id=\"T_1c47e_row11_col17\" class=\"data row11 col17\" >252</td>\n",
              "      <td id=\"T_1c47e_row11_col18\" class=\"data row11 col18\" >222</td>\n",
              "      <td id=\"T_1c47e_row11_col19\" class=\"data row11 col19\" >0</td>\n",
              "      <td id=\"T_1c47e_row11_col20\" class=\"data row11 col20\" >0</td>\n",
              "      <td id=\"T_1c47e_row11_col21\" class=\"data row11 col21\" >0</td>\n",
              "      <td id=\"T_1c47e_row11_col22\" class=\"data row11 col22\" >0</td>\n",
              "      <td id=\"T_1c47e_row11_col23\" class=\"data row11 col23\" >0</td>\n",
              "      <td id=\"T_1c47e_row11_col24\" class=\"data row11 col24\" >0</td>\n",
              "      <td id=\"T_1c47e_row11_col25\" class=\"data row11 col25\" >0</td>\n",
              "      <td id=\"T_1c47e_row11_col26\" class=\"data row11 col26\" >0</td>\n",
              "      <td id=\"T_1c47e_row11_col27\" class=\"data row11 col27\" >0</td>\n",
              "    </tr>\n",
              "    <tr>\n",
              "      <th id=\"T_1c47e_level0_row12\" class=\"row_heading level0 row12\" >12</th>\n",
              "      <td id=\"T_1c47e_row12_col0\" class=\"data row12 col0\" >0</td>\n",
              "      <td id=\"T_1c47e_row12_col1\" class=\"data row12 col1\" >0</td>\n",
              "      <td id=\"T_1c47e_row12_col2\" class=\"data row12 col2\" >0</td>\n",
              "      <td id=\"T_1c47e_row12_col3\" class=\"data row12 col3\" >0</td>\n",
              "      <td id=\"T_1c47e_row12_col4\" class=\"data row12 col4\" >0</td>\n",
              "      <td id=\"T_1c47e_row12_col5\" class=\"data row12 col5\" >0</td>\n",
              "      <td id=\"T_1c47e_row12_col6\" class=\"data row12 col6\" >0</td>\n",
              "      <td id=\"T_1c47e_row12_col7\" class=\"data row12 col7\" >0</td>\n",
              "      <td id=\"T_1c47e_row12_col8\" class=\"data row12 col8\" >0</td>\n",
              "      <td id=\"T_1c47e_row12_col9\" class=\"data row12 col9\" >0</td>\n",
              "      <td id=\"T_1c47e_row12_col10\" class=\"data row12 col10\" >0</td>\n",
              "      <td id=\"T_1c47e_row12_col11\" class=\"data row12 col11\" >0</td>\n",
              "      <td id=\"T_1c47e_row12_col12\" class=\"data row12 col12\" >0</td>\n",
              "      <td id=\"T_1c47e_row12_col13\" class=\"data row12 col13\" >0</td>\n",
              "      <td id=\"T_1c47e_row12_col14\" class=\"data row12 col14\" >36</td>\n",
              "      <td id=\"T_1c47e_row12_col15\" class=\"data row12 col15\" >216</td>\n",
              "      <td id=\"T_1c47e_row12_col16\" class=\"data row12 col16\" >252</td>\n",
              "      <td id=\"T_1c47e_row12_col17\" class=\"data row12 col17\" >252</td>\n",
              "      <td id=\"T_1c47e_row12_col18\" class=\"data row12 col18\" >133</td>\n",
              "      <td id=\"T_1c47e_row12_col19\" class=\"data row12 col19\" >0</td>\n",
              "      <td id=\"T_1c47e_row12_col20\" class=\"data row12 col20\" >0</td>\n",
              "      <td id=\"T_1c47e_row12_col21\" class=\"data row12 col21\" >0</td>\n",
              "      <td id=\"T_1c47e_row12_col22\" class=\"data row12 col22\" >0</td>\n",
              "      <td id=\"T_1c47e_row12_col23\" class=\"data row12 col23\" >0</td>\n",
              "      <td id=\"T_1c47e_row12_col24\" class=\"data row12 col24\" >0</td>\n",
              "      <td id=\"T_1c47e_row12_col25\" class=\"data row12 col25\" >0</td>\n",
              "      <td id=\"T_1c47e_row12_col26\" class=\"data row12 col26\" >0</td>\n",
              "      <td id=\"T_1c47e_row12_col27\" class=\"data row12 col27\" >0</td>\n",
              "    </tr>\n",
              "    <tr>\n",
              "      <th id=\"T_1c47e_level0_row13\" class=\"row_heading level0 row13\" >13</th>\n",
              "      <td id=\"T_1c47e_row13_col0\" class=\"data row13 col0\" >0</td>\n",
              "      <td id=\"T_1c47e_row13_col1\" class=\"data row13 col1\" >0</td>\n",
              "      <td id=\"T_1c47e_row13_col2\" class=\"data row13 col2\" >0</td>\n",
              "      <td id=\"T_1c47e_row13_col3\" class=\"data row13 col3\" >0</td>\n",
              "      <td id=\"T_1c47e_row13_col4\" class=\"data row13 col4\" >0</td>\n",
              "      <td id=\"T_1c47e_row13_col5\" class=\"data row13 col5\" >0</td>\n",
              "      <td id=\"T_1c47e_row13_col6\" class=\"data row13 col6\" >0</td>\n",
              "      <td id=\"T_1c47e_row13_col7\" class=\"data row13 col7\" >0</td>\n",
              "      <td id=\"T_1c47e_row13_col8\" class=\"data row13 col8\" >0</td>\n",
              "      <td id=\"T_1c47e_row13_col9\" class=\"data row13 col9\" >0</td>\n",
              "      <td id=\"T_1c47e_row13_col10\" class=\"data row13 col10\" >99</td>\n",
              "      <td id=\"T_1c47e_row13_col11\" class=\"data row13 col11\" >219</td>\n",
              "      <td id=\"T_1c47e_row13_col12\" class=\"data row13 col12\" >253</td>\n",
              "      <td id=\"T_1c47e_row13_col13\" class=\"data row13 col13\" >255</td>\n",
              "      <td id=\"T_1c47e_row13_col14\" class=\"data row13 col14\" >253</td>\n",
              "      <td id=\"T_1c47e_row13_col15\" class=\"data row13 col15\" >253</td>\n",
              "      <td id=\"T_1c47e_row13_col16\" class=\"data row13 col16\" >253</td>\n",
              "      <td id=\"T_1c47e_row13_col17\" class=\"data row13 col17\" >253</td>\n",
              "      <td id=\"T_1c47e_row13_col18\" class=\"data row13 col18\" >147</td>\n",
              "      <td id=\"T_1c47e_row13_col19\" class=\"data row13 col19\" >105</td>\n",
              "      <td id=\"T_1c47e_row13_col20\" class=\"data row13 col20\" >6</td>\n",
              "      <td id=\"T_1c47e_row13_col21\" class=\"data row13 col21\" >0</td>\n",
              "      <td id=\"T_1c47e_row13_col22\" class=\"data row13 col22\" >0</td>\n",
              "      <td id=\"T_1c47e_row13_col23\" class=\"data row13 col23\" >0</td>\n",
              "      <td id=\"T_1c47e_row13_col24\" class=\"data row13 col24\" >0</td>\n",
              "      <td id=\"T_1c47e_row13_col25\" class=\"data row13 col25\" >0</td>\n",
              "      <td id=\"T_1c47e_row13_col26\" class=\"data row13 col26\" >0</td>\n",
              "      <td id=\"T_1c47e_row13_col27\" class=\"data row13 col27\" >0</td>\n",
              "    </tr>\n",
              "    <tr>\n",
              "      <th id=\"T_1c47e_level0_row14\" class=\"row_heading level0 row14\" >14</th>\n",
              "      <td id=\"T_1c47e_row14_col0\" class=\"data row14 col0\" >0</td>\n",
              "      <td id=\"T_1c47e_row14_col1\" class=\"data row14 col1\" >0</td>\n",
              "      <td id=\"T_1c47e_row14_col2\" class=\"data row14 col2\" >0</td>\n",
              "      <td id=\"T_1c47e_row14_col3\" class=\"data row14 col3\" >0</td>\n",
              "      <td id=\"T_1c47e_row14_col4\" class=\"data row14 col4\" >15</td>\n",
              "      <td id=\"T_1c47e_row14_col5\" class=\"data row14 col5\" >57</td>\n",
              "      <td id=\"T_1c47e_row14_col6\" class=\"data row14 col6\" >0</td>\n",
              "      <td id=\"T_1c47e_row14_col7\" class=\"data row14 col7\" >0</td>\n",
              "      <td id=\"T_1c47e_row14_col8\" class=\"data row14 col8\" >0</td>\n",
              "      <td id=\"T_1c47e_row14_col9\" class=\"data row14 col9\" >0</td>\n",
              "      <td id=\"T_1c47e_row14_col10\" class=\"data row14 col10\" >238</td>\n",
              "      <td id=\"T_1c47e_row14_col11\" class=\"data row14 col11\" >252</td>\n",
              "      <td id=\"T_1c47e_row14_col12\" class=\"data row14 col12\" >252</td>\n",
              "      <td id=\"T_1c47e_row14_col13\" class=\"data row14 col13\" >253</td>\n",
              "      <td id=\"T_1c47e_row14_col14\" class=\"data row14 col14\" >252</td>\n",
              "      <td id=\"T_1c47e_row14_col15\" class=\"data row14 col15\" >252</td>\n",
              "      <td id=\"T_1c47e_row14_col16\" class=\"data row14 col16\" >252</td>\n",
              "      <td id=\"T_1c47e_row14_col17\" class=\"data row14 col17\" >252</td>\n",
              "      <td id=\"T_1c47e_row14_col18\" class=\"data row14 col18\" >252</td>\n",
              "      <td id=\"T_1c47e_row14_col19\" class=\"data row14 col19\" >252</td>\n",
              "      <td id=\"T_1c47e_row14_col20\" class=\"data row14 col20\" >158</td>\n",
              "      <td id=\"T_1c47e_row14_col21\" class=\"data row14 col21\" >50</td>\n",
              "      <td id=\"T_1c47e_row14_col22\" class=\"data row14 col22\" >0</td>\n",
              "      <td id=\"T_1c47e_row14_col23\" class=\"data row14 col23\" >0</td>\n",
              "      <td id=\"T_1c47e_row14_col24\" class=\"data row14 col24\" >0</td>\n",
              "      <td id=\"T_1c47e_row14_col25\" class=\"data row14 col25\" >0</td>\n",
              "      <td id=\"T_1c47e_row14_col26\" class=\"data row14 col26\" >0</td>\n",
              "      <td id=\"T_1c47e_row14_col27\" class=\"data row14 col27\" >0</td>\n",
              "    </tr>\n",
              "    <tr>\n",
              "      <th id=\"T_1c47e_level0_row15\" class=\"row_heading level0 row15\" >15</th>\n",
              "      <td id=\"T_1c47e_row15_col0\" class=\"data row15 col0\" >0</td>\n",
              "      <td id=\"T_1c47e_row15_col1\" class=\"data row15 col1\" >0</td>\n",
              "      <td id=\"T_1c47e_row15_col2\" class=\"data row15 col2\" >0</td>\n",
              "      <td id=\"T_1c47e_row15_col3\" class=\"data row15 col3\" >7</td>\n",
              "      <td id=\"T_1c47e_row15_col4\" class=\"data row15 col4\" >159</td>\n",
              "      <td id=\"T_1c47e_row15_col5\" class=\"data row15 col5\" >246</td>\n",
              "      <td id=\"T_1c47e_row15_col6\" class=\"data row15 col6\" >94</td>\n",
              "      <td id=\"T_1c47e_row15_col7\" class=\"data row15 col7\" >11</td>\n",
              "      <td id=\"T_1c47e_row15_col8\" class=\"data row15 col8\" >0</td>\n",
              "      <td id=\"T_1c47e_row15_col9\" class=\"data row15 col9\" >0</td>\n",
              "      <td id=\"T_1c47e_row15_col10\" class=\"data row15 col10\" >229</td>\n",
              "      <td id=\"T_1c47e_row15_col11\" class=\"data row15 col11\" >252</td>\n",
              "      <td id=\"T_1c47e_row15_col12\" class=\"data row15 col12\" >252</td>\n",
              "      <td id=\"T_1c47e_row15_col13\" class=\"data row15 col13\" >253</td>\n",
              "      <td id=\"T_1c47e_row15_col14\" class=\"data row15 col14\" >252</td>\n",
              "      <td id=\"T_1c47e_row15_col15\" class=\"data row15 col15\" >252</td>\n",
              "      <td id=\"T_1c47e_row15_col16\" class=\"data row15 col16\" >252</td>\n",
              "      <td id=\"T_1c47e_row15_col17\" class=\"data row15 col17\" >252</td>\n",
              "      <td id=\"T_1c47e_row15_col18\" class=\"data row15 col18\" >252</td>\n",
              "      <td id=\"T_1c47e_row15_col19\" class=\"data row15 col19\" >252</td>\n",
              "      <td id=\"T_1c47e_row15_col20\" class=\"data row15 col20\" >252</td>\n",
              "      <td id=\"T_1c47e_row15_col21\" class=\"data row15 col21\" >236</td>\n",
              "      <td id=\"T_1c47e_row15_col22\" class=\"data row15 col22\" >67</td>\n",
              "      <td id=\"T_1c47e_row15_col23\" class=\"data row15 col23\" >0</td>\n",
              "      <td id=\"T_1c47e_row15_col24\" class=\"data row15 col24\" >0</td>\n",
              "      <td id=\"T_1c47e_row15_col25\" class=\"data row15 col25\" >0</td>\n",
              "      <td id=\"T_1c47e_row15_col26\" class=\"data row15 col26\" >0</td>\n",
              "      <td id=\"T_1c47e_row15_col27\" class=\"data row15 col27\" >0</td>\n",
              "    </tr>\n",
              "    <tr>\n",
              "      <th id=\"T_1c47e_level0_row16\" class=\"row_heading level0 row16\" >16</th>\n",
              "      <td id=\"T_1c47e_row16_col0\" class=\"data row16 col0\" >0</td>\n",
              "      <td id=\"T_1c47e_row16_col1\" class=\"data row16 col1\" >0</td>\n",
              "      <td id=\"T_1c47e_row16_col2\" class=\"data row16 col2\" >0</td>\n",
              "      <td id=\"T_1c47e_row16_col3\" class=\"data row16 col3\" >105</td>\n",
              "      <td id=\"T_1c47e_row16_col4\" class=\"data row16 col4\" >252</td>\n",
              "      <td id=\"T_1c47e_row16_col5\" class=\"data row16 col5\" >252</td>\n",
              "      <td id=\"T_1c47e_row16_col6\" class=\"data row16 col6\" >252</td>\n",
              "      <td id=\"T_1c47e_row16_col7\" class=\"data row16 col7\" >212</td>\n",
              "      <td id=\"T_1c47e_row16_col8\" class=\"data row16 col8\" >106</td>\n",
              "      <td id=\"T_1c47e_row16_col9\" class=\"data row16 col9\" >0</td>\n",
              "      <td id=\"T_1c47e_row16_col10\" class=\"data row16 col10\" >48</td>\n",
              "      <td id=\"T_1c47e_row16_col11\" class=\"data row16 col11\" >153</td>\n",
              "      <td id=\"T_1c47e_row16_col12\" class=\"data row16 col12\" >252</td>\n",
              "      <td id=\"T_1c47e_row16_col13\" class=\"data row16 col13\" >133</td>\n",
              "      <td id=\"T_1c47e_row16_col14\" class=\"data row16 col14\" >132</td>\n",
              "      <td id=\"T_1c47e_row16_col15\" class=\"data row16 col15\" >132</td>\n",
              "      <td id=\"T_1c47e_row16_col16\" class=\"data row16 col16\" >189</td>\n",
              "      <td id=\"T_1c47e_row16_col17\" class=\"data row16 col17\" >252</td>\n",
              "      <td id=\"T_1c47e_row16_col18\" class=\"data row16 col18\" >252</td>\n",
              "      <td id=\"T_1c47e_row16_col19\" class=\"data row16 col19\" >252</td>\n",
              "      <td id=\"T_1c47e_row16_col20\" class=\"data row16 col20\" >252</td>\n",
              "      <td id=\"T_1c47e_row16_col21\" class=\"data row16 col21\" >252</td>\n",
              "      <td id=\"T_1c47e_row16_col22\" class=\"data row16 col22\" >103</td>\n",
              "      <td id=\"T_1c47e_row16_col23\" class=\"data row16 col23\" >0</td>\n",
              "      <td id=\"T_1c47e_row16_col24\" class=\"data row16 col24\" >0</td>\n",
              "      <td id=\"T_1c47e_row16_col25\" class=\"data row16 col25\" >0</td>\n",
              "      <td id=\"T_1c47e_row16_col26\" class=\"data row16 col26\" >0</td>\n",
              "      <td id=\"T_1c47e_row16_col27\" class=\"data row16 col27\" >0</td>\n",
              "    </tr>\n",
              "    <tr>\n",
              "      <th id=\"T_1c47e_level0_row17\" class=\"row_heading level0 row17\" >17</th>\n",
              "      <td id=\"T_1c47e_row17_col0\" class=\"data row17 col0\" >0</td>\n",
              "      <td id=\"T_1c47e_row17_col1\" class=\"data row17 col1\" >0</td>\n",
              "      <td id=\"T_1c47e_row17_col2\" class=\"data row17 col2\" >0</td>\n",
              "      <td id=\"T_1c47e_row17_col3\" class=\"data row17 col3\" >74</td>\n",
              "      <td id=\"T_1c47e_row17_col4\" class=\"data row17 col4\" >239</td>\n",
              "      <td id=\"T_1c47e_row17_col5\" class=\"data row17 col5\" >252</td>\n",
              "      <td id=\"T_1c47e_row17_col6\" class=\"data row17 col6\" >252</td>\n",
              "      <td id=\"T_1c47e_row17_col7\" class=\"data row17 col7\" >252</td>\n",
              "      <td id=\"T_1c47e_row17_col8\" class=\"data row17 col8\" >248</td>\n",
              "      <td id=\"T_1c47e_row17_col9\" class=\"data row17 col9\" >223</td>\n",
              "      <td id=\"T_1c47e_row17_col10\" class=\"data row17 col10\" >57</td>\n",
              "      <td id=\"T_1c47e_row17_col11\" class=\"data row17 col11\" >6</td>\n",
              "      <td id=\"T_1c47e_row17_col12\" class=\"data row17 col12\" >29</td>\n",
              "      <td id=\"T_1c47e_row17_col13\" class=\"data row17 col13\" >0</td>\n",
              "      <td id=\"T_1c47e_row17_col14\" class=\"data row17 col14\" >0</td>\n",
              "      <td id=\"T_1c47e_row17_col15\" class=\"data row17 col15\" >0</td>\n",
              "      <td id=\"T_1c47e_row17_col16\" class=\"data row17 col16\" >14</td>\n",
              "      <td id=\"T_1c47e_row17_col17\" class=\"data row17 col17\" >29</td>\n",
              "      <td id=\"T_1c47e_row17_col18\" class=\"data row17 col18\" >143</td>\n",
              "      <td id=\"T_1c47e_row17_col19\" class=\"data row17 col19\" >252</td>\n",
              "      <td id=\"T_1c47e_row17_col20\" class=\"data row17 col20\" >252</td>\n",
              "      <td id=\"T_1c47e_row17_col21\" class=\"data row17 col21\" >252</td>\n",
              "      <td id=\"T_1c47e_row17_col22\" class=\"data row17 col22\" >103</td>\n",
              "      <td id=\"T_1c47e_row17_col23\" class=\"data row17 col23\" >0</td>\n",
              "      <td id=\"T_1c47e_row17_col24\" class=\"data row17 col24\" >0</td>\n",
              "      <td id=\"T_1c47e_row17_col25\" class=\"data row17 col25\" >0</td>\n",
              "      <td id=\"T_1c47e_row17_col26\" class=\"data row17 col26\" >0</td>\n",
              "      <td id=\"T_1c47e_row17_col27\" class=\"data row17 col27\" >0</td>\n",
              "    </tr>\n",
              "    <tr>\n",
              "      <th id=\"T_1c47e_level0_row18\" class=\"row_heading level0 row18\" >18</th>\n",
              "      <td id=\"T_1c47e_row18_col0\" class=\"data row18 col0\" >0</td>\n",
              "      <td id=\"T_1c47e_row18_col1\" class=\"data row18 col1\" >0</td>\n",
              "      <td id=\"T_1c47e_row18_col2\" class=\"data row18 col2\" >0</td>\n",
              "      <td id=\"T_1c47e_row18_col3\" class=\"data row18 col3\" >0</td>\n",
              "      <td id=\"T_1c47e_row18_col4\" class=\"data row18 col4\" >61</td>\n",
              "      <td id=\"T_1c47e_row18_col5\" class=\"data row18 col5\" >171</td>\n",
              "      <td id=\"T_1c47e_row18_col6\" class=\"data row18 col6\" >252</td>\n",
              "      <td id=\"T_1c47e_row18_col7\" class=\"data row18 col7\" >252</td>\n",
              "      <td id=\"T_1c47e_row18_col8\" class=\"data row18 col8\" >252</td>\n",
              "      <td id=\"T_1c47e_row18_col9\" class=\"data row18 col9\" >252</td>\n",
              "      <td id=\"T_1c47e_row18_col10\" class=\"data row18 col10\" >226</td>\n",
              "      <td id=\"T_1c47e_row18_col11\" class=\"data row18 col11\" >152</td>\n",
              "      <td id=\"T_1c47e_row18_col12\" class=\"data row18 col12\" >30</td>\n",
              "      <td id=\"T_1c47e_row18_col13\" class=\"data row18 col13\" >18</td>\n",
              "      <td id=\"T_1c47e_row18_col14\" class=\"data row18 col14\" >0</td>\n",
              "      <td id=\"T_1c47e_row18_col15\" class=\"data row18 col15\" >0</td>\n",
              "      <td id=\"T_1c47e_row18_col16\" class=\"data row18 col16\" >0</td>\n",
              "      <td id=\"T_1c47e_row18_col17\" class=\"data row18 col17\" >0</td>\n",
              "      <td id=\"T_1c47e_row18_col18\" class=\"data row18 col18\" >30</td>\n",
              "      <td id=\"T_1c47e_row18_col19\" class=\"data row18 col19\" >252</td>\n",
              "      <td id=\"T_1c47e_row18_col20\" class=\"data row18 col20\" >252</td>\n",
              "      <td id=\"T_1c47e_row18_col21\" class=\"data row18 col21\" >252</td>\n",
              "      <td id=\"T_1c47e_row18_col22\" class=\"data row18 col22\" >103</td>\n",
              "      <td id=\"T_1c47e_row18_col23\" class=\"data row18 col23\" >0</td>\n",
              "      <td id=\"T_1c47e_row18_col24\" class=\"data row18 col24\" >0</td>\n",
              "      <td id=\"T_1c47e_row18_col25\" class=\"data row18 col25\" >0</td>\n",
              "      <td id=\"T_1c47e_row18_col26\" class=\"data row18 col26\" >0</td>\n",
              "      <td id=\"T_1c47e_row18_col27\" class=\"data row18 col27\" >0</td>\n",
              "    </tr>\n",
              "    <tr>\n",
              "      <th id=\"T_1c47e_level0_row19\" class=\"row_heading level0 row19\" >19</th>\n",
              "      <td id=\"T_1c47e_row19_col0\" class=\"data row19 col0\" >0</td>\n",
              "      <td id=\"T_1c47e_row19_col1\" class=\"data row19 col1\" >0</td>\n",
              "      <td id=\"T_1c47e_row19_col2\" class=\"data row19 col2\" >0</td>\n",
              "      <td id=\"T_1c47e_row19_col3\" class=\"data row19 col3\" >0</td>\n",
              "      <td id=\"T_1c47e_row19_col4\" class=\"data row19 col4\" >0</td>\n",
              "      <td id=\"T_1c47e_row19_col5\" class=\"data row19 col5\" >7</td>\n",
              "      <td id=\"T_1c47e_row19_col6\" class=\"data row19 col6\" >118</td>\n",
              "      <td id=\"T_1c47e_row19_col7\" class=\"data row19 col7\" >236</td>\n",
              "      <td id=\"T_1c47e_row19_col8\" class=\"data row19 col8\" >252</td>\n",
              "      <td id=\"T_1c47e_row19_col9\" class=\"data row19 col9\" >252</td>\n",
              "      <td id=\"T_1c47e_row19_col10\" class=\"data row19 col10\" >252</td>\n",
              "      <td id=\"T_1c47e_row19_col11\" class=\"data row19 col11\" >252</td>\n",
              "      <td id=\"T_1c47e_row19_col12\" class=\"data row19 col12\" >252</td>\n",
              "      <td id=\"T_1c47e_row19_col13\" class=\"data row19 col13\" >204</td>\n",
              "      <td id=\"T_1c47e_row19_col14\" class=\"data row19 col14\" >134</td>\n",
              "      <td id=\"T_1c47e_row19_col15\" class=\"data row19 col15\" >134</td>\n",
              "      <td id=\"T_1c47e_row19_col16\" class=\"data row19 col16\" >134</td>\n",
              "      <td id=\"T_1c47e_row19_col17\" class=\"data row19 col17\" >134</td>\n",
              "      <td id=\"T_1c47e_row19_col18\" class=\"data row19 col18\" >148</td>\n",
              "      <td id=\"T_1c47e_row19_col19\" class=\"data row19 col19\" >252</td>\n",
              "      <td id=\"T_1c47e_row19_col20\" class=\"data row19 col20\" >252</td>\n",
              "      <td id=\"T_1c47e_row19_col21\" class=\"data row19 col21\" >252</td>\n",
              "      <td id=\"T_1c47e_row19_col22\" class=\"data row19 col22\" >103</td>\n",
              "      <td id=\"T_1c47e_row19_col23\" class=\"data row19 col23\" >0</td>\n",
              "      <td id=\"T_1c47e_row19_col24\" class=\"data row19 col24\" >0</td>\n",
              "      <td id=\"T_1c47e_row19_col25\" class=\"data row19 col25\" >0</td>\n",
              "      <td id=\"T_1c47e_row19_col26\" class=\"data row19 col26\" >0</td>\n",
              "      <td id=\"T_1c47e_row19_col27\" class=\"data row19 col27\" >0</td>\n",
              "    </tr>\n",
              "    <tr>\n",
              "      <th id=\"T_1c47e_level0_row20\" class=\"row_heading level0 row20\" >20</th>\n",
              "      <td id=\"T_1c47e_row20_col0\" class=\"data row20 col0\" >0</td>\n",
              "      <td id=\"T_1c47e_row20_col1\" class=\"data row20 col1\" >0</td>\n",
              "      <td id=\"T_1c47e_row20_col2\" class=\"data row20 col2\" >0</td>\n",
              "      <td id=\"T_1c47e_row20_col3\" class=\"data row20 col3\" >0</td>\n",
              "      <td id=\"T_1c47e_row20_col4\" class=\"data row20 col4\" >0</td>\n",
              "      <td id=\"T_1c47e_row20_col5\" class=\"data row20 col5\" >0</td>\n",
              "      <td id=\"T_1c47e_row20_col6\" class=\"data row20 col6\" >0</td>\n",
              "      <td id=\"T_1c47e_row20_col7\" class=\"data row20 col7\" >12</td>\n",
              "      <td id=\"T_1c47e_row20_col8\" class=\"data row20 col8\" >129</td>\n",
              "      <td id=\"T_1c47e_row20_col9\" class=\"data row20 col9\" >252</td>\n",
              "      <td id=\"T_1c47e_row20_col10\" class=\"data row20 col10\" >252</td>\n",
              "      <td id=\"T_1c47e_row20_col11\" class=\"data row20 col11\" >252</td>\n",
              "      <td id=\"T_1c47e_row20_col12\" class=\"data row20 col12\" >252</td>\n",
              "      <td id=\"T_1c47e_row20_col13\" class=\"data row20 col13\" >253</td>\n",
              "      <td id=\"T_1c47e_row20_col14\" class=\"data row20 col14\" >252</td>\n",
              "      <td id=\"T_1c47e_row20_col15\" class=\"data row20 col15\" >252</td>\n",
              "      <td id=\"T_1c47e_row20_col16\" class=\"data row20 col16\" >252</td>\n",
              "      <td id=\"T_1c47e_row20_col17\" class=\"data row20 col17\" >252</td>\n",
              "      <td id=\"T_1c47e_row20_col18\" class=\"data row20 col18\" >252</td>\n",
              "      <td id=\"T_1c47e_row20_col19\" class=\"data row20 col19\" >252</td>\n",
              "      <td id=\"T_1c47e_row20_col20\" class=\"data row20 col20\" >252</td>\n",
              "      <td id=\"T_1c47e_row20_col21\" class=\"data row20 col21\" >183</td>\n",
              "      <td id=\"T_1c47e_row20_col22\" class=\"data row20 col22\" >67</td>\n",
              "      <td id=\"T_1c47e_row20_col23\" class=\"data row20 col23\" >0</td>\n",
              "      <td id=\"T_1c47e_row20_col24\" class=\"data row20 col24\" >0</td>\n",
              "      <td id=\"T_1c47e_row20_col25\" class=\"data row20 col25\" >0</td>\n",
              "      <td id=\"T_1c47e_row20_col26\" class=\"data row20 col26\" >0</td>\n",
              "      <td id=\"T_1c47e_row20_col27\" class=\"data row20 col27\" >0</td>\n",
              "    </tr>\n",
              "    <tr>\n",
              "      <th id=\"T_1c47e_level0_row21\" class=\"row_heading level0 row21\" >21</th>\n",
              "      <td id=\"T_1c47e_row21_col0\" class=\"data row21 col0\" >0</td>\n",
              "      <td id=\"T_1c47e_row21_col1\" class=\"data row21 col1\" >0</td>\n",
              "      <td id=\"T_1c47e_row21_col2\" class=\"data row21 col2\" >0</td>\n",
              "      <td id=\"T_1c47e_row21_col3\" class=\"data row21 col3\" >0</td>\n",
              "      <td id=\"T_1c47e_row21_col4\" class=\"data row21 col4\" >0</td>\n",
              "      <td id=\"T_1c47e_row21_col5\" class=\"data row21 col5\" >0</td>\n",
              "      <td id=\"T_1c47e_row21_col6\" class=\"data row21 col6\" >0</td>\n",
              "      <td id=\"T_1c47e_row21_col7\" class=\"data row21 col7\" >0</td>\n",
              "      <td id=\"T_1c47e_row21_col8\" class=\"data row21 col8\" >7</td>\n",
              "      <td id=\"T_1c47e_row21_col9\" class=\"data row21 col9\" >137</td>\n",
              "      <td id=\"T_1c47e_row21_col10\" class=\"data row21 col10\" >207</td>\n",
              "      <td id=\"T_1c47e_row21_col11\" class=\"data row21 col11\" >241</td>\n",
              "      <td id=\"T_1c47e_row21_col12\" class=\"data row21 col12\" >252</td>\n",
              "      <td id=\"T_1c47e_row21_col13\" class=\"data row21 col13\" >253</td>\n",
              "      <td id=\"T_1c47e_row21_col14\" class=\"data row21 col14\" >252</td>\n",
              "      <td id=\"T_1c47e_row21_col15\" class=\"data row21 col15\" >252</td>\n",
              "      <td id=\"T_1c47e_row21_col16\" class=\"data row21 col16\" >252</td>\n",
              "      <td id=\"T_1c47e_row21_col17\" class=\"data row21 col17\" >252</td>\n",
              "      <td id=\"T_1c47e_row21_col18\" class=\"data row21 col18\" >252</td>\n",
              "      <td id=\"T_1c47e_row21_col19\" class=\"data row21 col19\" >252</td>\n",
              "      <td id=\"T_1c47e_row21_col20\" class=\"data row21 col20\" >183</td>\n",
              "      <td id=\"T_1c47e_row21_col21\" class=\"data row21 col21\" >14</td>\n",
              "      <td id=\"T_1c47e_row21_col22\" class=\"data row21 col22\" >0</td>\n",
              "      <td id=\"T_1c47e_row21_col23\" class=\"data row21 col23\" >0</td>\n",
              "      <td id=\"T_1c47e_row21_col24\" class=\"data row21 col24\" >0</td>\n",
              "      <td id=\"T_1c47e_row21_col25\" class=\"data row21 col25\" >0</td>\n",
              "      <td id=\"T_1c47e_row21_col26\" class=\"data row21 col26\" >0</td>\n",
              "      <td id=\"T_1c47e_row21_col27\" class=\"data row21 col27\" >0</td>\n",
              "    </tr>\n",
              "    <tr>\n",
              "      <th id=\"T_1c47e_level0_row22\" class=\"row_heading level0 row22\" >22</th>\n",
              "      <td id=\"T_1c47e_row22_col0\" class=\"data row22 col0\" >0</td>\n",
              "      <td id=\"T_1c47e_row22_col1\" class=\"data row22 col1\" >0</td>\n",
              "      <td id=\"T_1c47e_row22_col2\" class=\"data row22 col2\" >0</td>\n",
              "      <td id=\"T_1c47e_row22_col3\" class=\"data row22 col3\" >0</td>\n",
              "      <td id=\"T_1c47e_row22_col4\" class=\"data row22 col4\" >0</td>\n",
              "      <td id=\"T_1c47e_row22_col5\" class=\"data row22 col5\" >0</td>\n",
              "      <td id=\"T_1c47e_row22_col6\" class=\"data row22 col6\" >0</td>\n",
              "      <td id=\"T_1c47e_row22_col7\" class=\"data row22 col7\" >0</td>\n",
              "      <td id=\"T_1c47e_row22_col8\" class=\"data row22 col8\" >0</td>\n",
              "      <td id=\"T_1c47e_row22_col9\" class=\"data row22 col9\" >0</td>\n",
              "      <td id=\"T_1c47e_row22_col10\" class=\"data row22 col10\" >0</td>\n",
              "      <td id=\"T_1c47e_row22_col11\" class=\"data row22 col11\" >106</td>\n",
              "      <td id=\"T_1c47e_row22_col12\" class=\"data row22 col12\" >163</td>\n",
              "      <td id=\"T_1c47e_row22_col13\" class=\"data row22 col13\" >253</td>\n",
              "      <td id=\"T_1c47e_row22_col14\" class=\"data row22 col14\" >252</td>\n",
              "      <td id=\"T_1c47e_row22_col15\" class=\"data row22 col15\" >252</td>\n",
              "      <td id=\"T_1c47e_row22_col16\" class=\"data row22 col16\" >252</td>\n",
              "      <td id=\"T_1c47e_row22_col17\" class=\"data row22 col17\" >252</td>\n",
              "      <td id=\"T_1c47e_row22_col18\" class=\"data row22 col18\" >234</td>\n",
              "      <td id=\"T_1c47e_row22_col19\" class=\"data row22 col19\" >103</td>\n",
              "      <td id=\"T_1c47e_row22_col20\" class=\"data row22 col20\" >67</td>\n",
              "      <td id=\"T_1c47e_row22_col21\" class=\"data row22 col21\" >0</td>\n",
              "      <td id=\"T_1c47e_row22_col22\" class=\"data row22 col22\" >0</td>\n",
              "      <td id=\"T_1c47e_row22_col23\" class=\"data row22 col23\" >0</td>\n",
              "      <td id=\"T_1c47e_row22_col24\" class=\"data row22 col24\" >0</td>\n",
              "      <td id=\"T_1c47e_row22_col25\" class=\"data row22 col25\" >0</td>\n",
              "      <td id=\"T_1c47e_row22_col26\" class=\"data row22 col26\" >0</td>\n",
              "      <td id=\"T_1c47e_row22_col27\" class=\"data row22 col27\" >0</td>\n",
              "    </tr>\n",
              "    <tr>\n",
              "      <th id=\"T_1c47e_level0_row23\" class=\"row_heading level0 row23\" >23</th>\n",
              "      <td id=\"T_1c47e_row23_col0\" class=\"data row23 col0\" >0</td>\n",
              "      <td id=\"T_1c47e_row23_col1\" class=\"data row23 col1\" >0</td>\n",
              "      <td id=\"T_1c47e_row23_col2\" class=\"data row23 col2\" >0</td>\n",
              "      <td id=\"T_1c47e_row23_col3\" class=\"data row23 col3\" >0</td>\n",
              "      <td id=\"T_1c47e_row23_col4\" class=\"data row23 col4\" >0</td>\n",
              "      <td id=\"T_1c47e_row23_col5\" class=\"data row23 col5\" >0</td>\n",
              "      <td id=\"T_1c47e_row23_col6\" class=\"data row23 col6\" >0</td>\n",
              "      <td id=\"T_1c47e_row23_col7\" class=\"data row23 col7\" >0</td>\n",
              "      <td id=\"T_1c47e_row23_col8\" class=\"data row23 col8\" >0</td>\n",
              "      <td id=\"T_1c47e_row23_col9\" class=\"data row23 col9\" >0</td>\n",
              "      <td id=\"T_1c47e_row23_col10\" class=\"data row23 col10\" >0</td>\n",
              "      <td id=\"T_1c47e_row23_col11\" class=\"data row23 col11\" >0</td>\n",
              "      <td id=\"T_1c47e_row23_col12\" class=\"data row23 col12\" >0</td>\n",
              "      <td id=\"T_1c47e_row23_col13\" class=\"data row23 col13\" >0</td>\n",
              "      <td id=\"T_1c47e_row23_col14\" class=\"data row23 col14\" >0</td>\n",
              "      <td id=\"T_1c47e_row23_col15\" class=\"data row23 col15\" >0</td>\n",
              "      <td id=\"T_1c47e_row23_col16\" class=\"data row23 col16\" >0</td>\n",
              "      <td id=\"T_1c47e_row23_col17\" class=\"data row23 col17\" >0</td>\n",
              "      <td id=\"T_1c47e_row23_col18\" class=\"data row23 col18\" >0</td>\n",
              "      <td id=\"T_1c47e_row23_col19\" class=\"data row23 col19\" >0</td>\n",
              "      <td id=\"T_1c47e_row23_col20\" class=\"data row23 col20\" >0</td>\n",
              "      <td id=\"T_1c47e_row23_col21\" class=\"data row23 col21\" >0</td>\n",
              "      <td id=\"T_1c47e_row23_col22\" class=\"data row23 col22\" >0</td>\n",
              "      <td id=\"T_1c47e_row23_col23\" class=\"data row23 col23\" >0</td>\n",
              "      <td id=\"T_1c47e_row23_col24\" class=\"data row23 col24\" >0</td>\n",
              "      <td id=\"T_1c47e_row23_col25\" class=\"data row23 col25\" >0</td>\n",
              "      <td id=\"T_1c47e_row23_col26\" class=\"data row23 col26\" >0</td>\n",
              "      <td id=\"T_1c47e_row23_col27\" class=\"data row23 col27\" >0</td>\n",
              "    </tr>\n",
              "    <tr>\n",
              "      <th id=\"T_1c47e_level0_row24\" class=\"row_heading level0 row24\" >24</th>\n",
              "      <td id=\"T_1c47e_row24_col0\" class=\"data row24 col0\" >0</td>\n",
              "      <td id=\"T_1c47e_row24_col1\" class=\"data row24 col1\" >0</td>\n",
              "      <td id=\"T_1c47e_row24_col2\" class=\"data row24 col2\" >0</td>\n",
              "      <td id=\"T_1c47e_row24_col3\" class=\"data row24 col3\" >0</td>\n",
              "      <td id=\"T_1c47e_row24_col4\" class=\"data row24 col4\" >0</td>\n",
              "      <td id=\"T_1c47e_row24_col5\" class=\"data row24 col5\" >0</td>\n",
              "      <td id=\"T_1c47e_row24_col6\" class=\"data row24 col6\" >0</td>\n",
              "      <td id=\"T_1c47e_row24_col7\" class=\"data row24 col7\" >0</td>\n",
              "      <td id=\"T_1c47e_row24_col8\" class=\"data row24 col8\" >0</td>\n",
              "      <td id=\"T_1c47e_row24_col9\" class=\"data row24 col9\" >0</td>\n",
              "      <td id=\"T_1c47e_row24_col10\" class=\"data row24 col10\" >0</td>\n",
              "      <td id=\"T_1c47e_row24_col11\" class=\"data row24 col11\" >0</td>\n",
              "      <td id=\"T_1c47e_row24_col12\" class=\"data row24 col12\" >0</td>\n",
              "      <td id=\"T_1c47e_row24_col13\" class=\"data row24 col13\" >0</td>\n",
              "      <td id=\"T_1c47e_row24_col14\" class=\"data row24 col14\" >0</td>\n",
              "      <td id=\"T_1c47e_row24_col15\" class=\"data row24 col15\" >0</td>\n",
              "      <td id=\"T_1c47e_row24_col16\" class=\"data row24 col16\" >0</td>\n",
              "      <td id=\"T_1c47e_row24_col17\" class=\"data row24 col17\" >0</td>\n",
              "      <td id=\"T_1c47e_row24_col18\" class=\"data row24 col18\" >0</td>\n",
              "      <td id=\"T_1c47e_row24_col19\" class=\"data row24 col19\" >0</td>\n",
              "      <td id=\"T_1c47e_row24_col20\" class=\"data row24 col20\" >0</td>\n",
              "      <td id=\"T_1c47e_row24_col21\" class=\"data row24 col21\" >0</td>\n",
              "      <td id=\"T_1c47e_row24_col22\" class=\"data row24 col22\" >0</td>\n",
              "      <td id=\"T_1c47e_row24_col23\" class=\"data row24 col23\" >0</td>\n",
              "      <td id=\"T_1c47e_row24_col24\" class=\"data row24 col24\" >0</td>\n",
              "      <td id=\"T_1c47e_row24_col25\" class=\"data row24 col25\" >0</td>\n",
              "      <td id=\"T_1c47e_row24_col26\" class=\"data row24 col26\" >0</td>\n",
              "      <td id=\"T_1c47e_row24_col27\" class=\"data row24 col27\" >0</td>\n",
              "    </tr>\n",
              "    <tr>\n",
              "      <th id=\"T_1c47e_level0_row25\" class=\"row_heading level0 row25\" >25</th>\n",
              "      <td id=\"T_1c47e_row25_col0\" class=\"data row25 col0\" >0</td>\n",
              "      <td id=\"T_1c47e_row25_col1\" class=\"data row25 col1\" >0</td>\n",
              "      <td id=\"T_1c47e_row25_col2\" class=\"data row25 col2\" >0</td>\n",
              "      <td id=\"T_1c47e_row25_col3\" class=\"data row25 col3\" >0</td>\n",
              "      <td id=\"T_1c47e_row25_col4\" class=\"data row25 col4\" >0</td>\n",
              "      <td id=\"T_1c47e_row25_col5\" class=\"data row25 col5\" >0</td>\n",
              "      <td id=\"T_1c47e_row25_col6\" class=\"data row25 col6\" >0</td>\n",
              "      <td id=\"T_1c47e_row25_col7\" class=\"data row25 col7\" >0</td>\n",
              "      <td id=\"T_1c47e_row25_col8\" class=\"data row25 col8\" >0</td>\n",
              "      <td id=\"T_1c47e_row25_col9\" class=\"data row25 col9\" >0</td>\n",
              "      <td id=\"T_1c47e_row25_col10\" class=\"data row25 col10\" >0</td>\n",
              "      <td id=\"T_1c47e_row25_col11\" class=\"data row25 col11\" >0</td>\n",
              "      <td id=\"T_1c47e_row25_col12\" class=\"data row25 col12\" >0</td>\n",
              "      <td id=\"T_1c47e_row25_col13\" class=\"data row25 col13\" >0</td>\n",
              "      <td id=\"T_1c47e_row25_col14\" class=\"data row25 col14\" >0</td>\n",
              "      <td id=\"T_1c47e_row25_col15\" class=\"data row25 col15\" >0</td>\n",
              "      <td id=\"T_1c47e_row25_col16\" class=\"data row25 col16\" >0</td>\n",
              "      <td id=\"T_1c47e_row25_col17\" class=\"data row25 col17\" >0</td>\n",
              "      <td id=\"T_1c47e_row25_col18\" class=\"data row25 col18\" >0</td>\n",
              "      <td id=\"T_1c47e_row25_col19\" class=\"data row25 col19\" >0</td>\n",
              "      <td id=\"T_1c47e_row25_col20\" class=\"data row25 col20\" >0</td>\n",
              "      <td id=\"T_1c47e_row25_col21\" class=\"data row25 col21\" >0</td>\n",
              "      <td id=\"T_1c47e_row25_col22\" class=\"data row25 col22\" >0</td>\n",
              "      <td id=\"T_1c47e_row25_col23\" class=\"data row25 col23\" >0</td>\n",
              "      <td id=\"T_1c47e_row25_col24\" class=\"data row25 col24\" >0</td>\n",
              "      <td id=\"T_1c47e_row25_col25\" class=\"data row25 col25\" >0</td>\n",
              "      <td id=\"T_1c47e_row25_col26\" class=\"data row25 col26\" >0</td>\n",
              "      <td id=\"T_1c47e_row25_col27\" class=\"data row25 col27\" >0</td>\n",
              "    </tr>\n",
              "    <tr>\n",
              "      <th id=\"T_1c47e_level0_row26\" class=\"row_heading level0 row26\" >26</th>\n",
              "      <td id=\"T_1c47e_row26_col0\" class=\"data row26 col0\" >0</td>\n",
              "      <td id=\"T_1c47e_row26_col1\" class=\"data row26 col1\" >0</td>\n",
              "      <td id=\"T_1c47e_row26_col2\" class=\"data row26 col2\" >0</td>\n",
              "      <td id=\"T_1c47e_row26_col3\" class=\"data row26 col3\" >0</td>\n",
              "      <td id=\"T_1c47e_row26_col4\" class=\"data row26 col4\" >0</td>\n",
              "      <td id=\"T_1c47e_row26_col5\" class=\"data row26 col5\" >0</td>\n",
              "      <td id=\"T_1c47e_row26_col6\" class=\"data row26 col6\" >0</td>\n",
              "      <td id=\"T_1c47e_row26_col7\" class=\"data row26 col7\" >0</td>\n",
              "      <td id=\"T_1c47e_row26_col8\" class=\"data row26 col8\" >0</td>\n",
              "      <td id=\"T_1c47e_row26_col9\" class=\"data row26 col9\" >0</td>\n",
              "      <td id=\"T_1c47e_row26_col10\" class=\"data row26 col10\" >0</td>\n",
              "      <td id=\"T_1c47e_row26_col11\" class=\"data row26 col11\" >0</td>\n",
              "      <td id=\"T_1c47e_row26_col12\" class=\"data row26 col12\" >0</td>\n",
              "      <td id=\"T_1c47e_row26_col13\" class=\"data row26 col13\" >0</td>\n",
              "      <td id=\"T_1c47e_row26_col14\" class=\"data row26 col14\" >0</td>\n",
              "      <td id=\"T_1c47e_row26_col15\" class=\"data row26 col15\" >0</td>\n",
              "      <td id=\"T_1c47e_row26_col16\" class=\"data row26 col16\" >0</td>\n",
              "      <td id=\"T_1c47e_row26_col17\" class=\"data row26 col17\" >0</td>\n",
              "      <td id=\"T_1c47e_row26_col18\" class=\"data row26 col18\" >0</td>\n",
              "      <td id=\"T_1c47e_row26_col19\" class=\"data row26 col19\" >0</td>\n",
              "      <td id=\"T_1c47e_row26_col20\" class=\"data row26 col20\" >0</td>\n",
              "      <td id=\"T_1c47e_row26_col21\" class=\"data row26 col21\" >0</td>\n",
              "      <td id=\"T_1c47e_row26_col22\" class=\"data row26 col22\" >0</td>\n",
              "      <td id=\"T_1c47e_row26_col23\" class=\"data row26 col23\" >0</td>\n",
              "      <td id=\"T_1c47e_row26_col24\" class=\"data row26 col24\" >0</td>\n",
              "      <td id=\"T_1c47e_row26_col25\" class=\"data row26 col25\" >0</td>\n",
              "      <td id=\"T_1c47e_row26_col26\" class=\"data row26 col26\" >0</td>\n",
              "      <td id=\"T_1c47e_row26_col27\" class=\"data row26 col27\" >0</td>\n",
              "    </tr>\n",
              "    <tr>\n",
              "      <th id=\"T_1c47e_level0_row27\" class=\"row_heading level0 row27\" >27</th>\n",
              "      <td id=\"T_1c47e_row27_col0\" class=\"data row27 col0\" >0</td>\n",
              "      <td id=\"T_1c47e_row27_col1\" class=\"data row27 col1\" >0</td>\n",
              "      <td id=\"T_1c47e_row27_col2\" class=\"data row27 col2\" >0</td>\n",
              "      <td id=\"T_1c47e_row27_col3\" class=\"data row27 col3\" >0</td>\n",
              "      <td id=\"T_1c47e_row27_col4\" class=\"data row27 col4\" >0</td>\n",
              "      <td id=\"T_1c47e_row27_col5\" class=\"data row27 col5\" >0</td>\n",
              "      <td id=\"T_1c47e_row27_col6\" class=\"data row27 col6\" >0</td>\n",
              "      <td id=\"T_1c47e_row27_col7\" class=\"data row27 col7\" >0</td>\n",
              "      <td id=\"T_1c47e_row27_col8\" class=\"data row27 col8\" >0</td>\n",
              "      <td id=\"T_1c47e_row27_col9\" class=\"data row27 col9\" >0</td>\n",
              "      <td id=\"T_1c47e_row27_col10\" class=\"data row27 col10\" >0</td>\n",
              "      <td id=\"T_1c47e_row27_col11\" class=\"data row27 col11\" >0</td>\n",
              "      <td id=\"T_1c47e_row27_col12\" class=\"data row27 col12\" >0</td>\n",
              "      <td id=\"T_1c47e_row27_col13\" class=\"data row27 col13\" >0</td>\n",
              "      <td id=\"T_1c47e_row27_col14\" class=\"data row27 col14\" >0</td>\n",
              "      <td id=\"T_1c47e_row27_col15\" class=\"data row27 col15\" >0</td>\n",
              "      <td id=\"T_1c47e_row27_col16\" class=\"data row27 col16\" >0</td>\n",
              "      <td id=\"T_1c47e_row27_col17\" class=\"data row27 col17\" >0</td>\n",
              "      <td id=\"T_1c47e_row27_col18\" class=\"data row27 col18\" >0</td>\n",
              "      <td id=\"T_1c47e_row27_col19\" class=\"data row27 col19\" >0</td>\n",
              "      <td id=\"T_1c47e_row27_col20\" class=\"data row27 col20\" >0</td>\n",
              "      <td id=\"T_1c47e_row27_col21\" class=\"data row27 col21\" >0</td>\n",
              "      <td id=\"T_1c47e_row27_col22\" class=\"data row27 col22\" >0</td>\n",
              "      <td id=\"T_1c47e_row27_col23\" class=\"data row27 col23\" >0</td>\n",
              "      <td id=\"T_1c47e_row27_col24\" class=\"data row27 col24\" >0</td>\n",
              "      <td id=\"T_1c47e_row27_col25\" class=\"data row27 col25\" >0</td>\n",
              "      <td id=\"T_1c47e_row27_col26\" class=\"data row27 col26\" >0</td>\n",
              "      <td id=\"T_1c47e_row27_col27\" class=\"data row27 col27\" >0</td>\n",
              "    </tr>\n",
              "  </tbody>\n",
              "</table>\n"
            ]
          },
          "metadata": {},
          "execution_count": 27
        }
      ]
    },
    {
      "cell_type": "code",
      "source": [
        "seven_tensors = [tensor(Image.open(o)) for o in sevens]\n",
        "three_tensors = [tensor(Image.open(o)) for o in threes]\n",
        "print(len(three_tensors),len(seven_tensors))"
      ],
      "metadata": {
        "colab": {
          "base_uri": "https://localhost:8080/"
        },
        "id": "xgB6I_Wy6pav",
        "outputId": "57b4c662-47d8-4c4f-c899-95e73f0f6cd5"
      },
      "execution_count": 30,
      "outputs": [
        {
          "output_type": "stream",
          "name": "stdout",
          "text": [
            "6131 6265\n"
          ]
        }
      ]
    },
    {
      "cell_type": "code",
      "source": [
        "show_image(three_tensors[5])"
      ],
      "metadata": {
        "colab": {
          "base_uri": "https://localhost:8080/",
          "height": 103
        },
        "id": "mttfRObv9Qt6",
        "outputId": "faf13470-61be-41bb-b7d9-e159d298b4a9"
      },
      "execution_count": 33,
      "outputs": [
        {
          "output_type": "execute_result",
          "data": {
            "text/plain": [
              "<matplotlib.axes._subplots.AxesSubplot at 0x7f25bf71eb80>"
            ]
          },
          "metadata": {},
          "execution_count": 33
        },
        {
          "output_type": "display_data",
          "data": {
            "text/plain": [
              "<Figure size 72x72 with 1 Axes>"
            ],
            "image/png": "[encoded data removed]"
          },
          "metadata": {
            "needs_background": "light"
          }
        }
      ]
    },
    {
      "cell_type": "markdown",
      "source": [
        "이미지들을 쌓아 3차원 텐서 이미지로 변환"
      ],
      "metadata": {
        "id": "Oq-vTilC-MHT"
      }
    },
    {
      "cell_type": "code",
      "source": [
        "stacked_sevnes = torch.stack(seven_tensors).float()/255\n",
        "stacked_threes = torch.stack(three_tensors).float()/255\n",
        "stacked_threes.shape"
      ],
      "metadata": {
        "colab": {
          "base_uri": "https://localhost:8080/"
        },
        "id": "zs7q4lLJ9YPN",
        "outputId": "09ee3987-6ba2-4a5f-ed93-25fbfcf948b8"
      },
      "execution_count": 34,
      "outputs": [
        {
          "output_type": "execute_result",
          "data": {
            "text/plain": [
              "torch.Size([6131, 28, 28])"
            ]
          },
          "metadata": {},
          "execution_count": 34
        }
      ]
    },
    {
      "cell_type": "markdown",
      "source": [
        "shape 속성 길이 => 랭크 => 텐서 차원 또는 축의 개수"
      ],
      "metadata": {
        "id": "6VBuz5B3-2kj"
      }
    },
    {
      "cell_type": "code",
      "source": [
        "len(stacked_threes.shape)"
      ],
      "metadata": {
        "colab": {
          "base_uri": "https://localhost:8080/"
        },
        "id": "T0KKG9nq-rvl",
        "outputId": "cee2326e-80ae-4e44-d55e-9d658d1451b4"
      },
      "execution_count": 35,
      "outputs": [
        {
          "output_type": "execute_result",
          "data": {
            "text/plain": [
              "3"
            ]
          },
          "metadata": {},
          "execution_count": 35
        }
      ]
    },
    {
      "cell_type": "markdown",
      "source": [
        "ndim 속성 => 텐서의 랭크 확인"
      ],
      "metadata": {
        "id": "f8ZhkEFoBn3w"
      }
    },
    {
      "cell_type": "code",
      "source": [
        "stacked_threes.ndim"
      ],
      "metadata": {
        "colab": {
          "base_uri": "https://localhost:8080/"
        },
        "id": "N2nBZrBJA_wx",
        "outputId": "9b325d93-20cd-463f-ef7c-4be2c10f6f4b"
      },
      "execution_count": 36,
      "outputs": [
        {
          "output_type": "execute_result",
          "data": {
            "text/plain": [
              "3"
            ]
          },
          "metadata": {},
          "execution_count": 36
        }
      ]
    },
    {
      "cell_type": "markdown",
      "source": [
        "0번째 차원 이미지 텐서 평균내기"
      ],
      "metadata": {
        "id": "HHsh7LywBuRw"
      }
    },
    {
      "cell_type": "code",
      "source": [
        "mean3 = stacked_threes.mean(0)\n",
        "show_image(mean3)"
      ],
      "metadata": {
        "colab": {
          "base_uri": "https://localhost:8080/",
          "height": 103
        },
        "id": "pDSPqTrGBXQu",
        "outputId": "cae0bbbe-8e0d-47da-f869-7c642d596102"
      },
      "execution_count": 41,
      "outputs": [
        {
          "output_type": "execute_result",
          "data": {
            "text/plain": [
              "<matplotlib.axes._subplots.AxesSubplot at 0x7f25bea83790>"
            ]
          },
          "metadata": {},
          "execution_count": 41
        },
        {
          "output_type": "display_data",
          "data": {
            "text/plain": [
              "<Figure size 72x72 with 1 Axes>"
            ],
            "image/png": "[encoded data removed]"
          },
          "metadata": {
            "needs_background": "light"
          }
        }
      ]
    },
    {
      "cell_type": "code",
      "source": [
        "mean7 = stacked_sevnes.mean(0)\n",
        "show_image(mean7)"
      ],
      "metadata": {
        "colab": {
          "base_uri": "https://localhost:8080/",
          "height": 103
        },
        "id": "yT7qINbqBsl_",
        "outputId": "c65adffc-b3b1-4bce-8278-bb0fc1bb966c"
      },
      "execution_count": 42,
      "outputs": [
        {
          "output_type": "execute_result",
          "data": {
            "text/plain": [
              "<matplotlib.axes._subplots.AxesSubplot at 0x7f25bea8e2e0>"
            ]
          },
          "metadata": {},
          "execution_count": 42
        },
        {
          "output_type": "display_data",
          "data": {
            "text/plain": [
              "<Figure size 72x72 with 1 Axes>"
            ],
            "image/png": "[encoded data removed]"
          },
          "metadata": {
            "needs_background": "light"
          }
        }
      ]
    },
    {
      "cell_type": "markdown",
      "source": [
        "이상적인 숫자들과의 걸를 측정하기 위한 숫자 고르기"
      ],
      "metadata": {
        "id": "JfiIu-mVCZMK"
      }
    },
    {
      "cell_type": "code",
      "source": [
        "a_3 = stacked_threes[6100]\n",
        "show_image(a_3)"
      ],
      "metadata": {
        "colab": {
          "base_uri": "https://localhost:8080/",
          "height": 103
        },
        "id": "I9l9yWWrCH31",
        "outputId": "b4c6bed6-377f-4280-a53b-89f52ee119bb"
      },
      "execution_count": 47,
      "outputs": [
        {
          "output_type": "execute_result",
          "data": {
            "text/plain": [
              "<matplotlib.axes._subplots.AxesSubplot at 0x7f25be8d8370>"
            ]
          },
          "metadata": {},
          "execution_count": 47
        },
        {
          "output_type": "display_data",
          "data": {
            "text/plain": [
              "<Figure size 72x72 with 1 Axes>"
            ],
            "image/png": "[encoded data removed]"
          },
          "metadata": {
            "needs_background": "light"
          }
        }
      ]
    },
    {
      "cell_type": "markdown",
      "source": [
        "(L1노름)평균절대차 - 차이의 절대값의 평균 구하기"
      ],
      "metadata": {
        "id": "QUL59YBlC3Ue"
      }
    },
    {
      "cell_type": "code",
      "source": [
        "dist_3_abs = (a_3 - mean3).abs().mean()\n",
        "dist_3_abs"
      ],
      "metadata": {
        "colab": {
          "base_uri": "https://localhost:8080/"
        },
        "id": "UbLYPHpSC8aI",
        "outputId": "01c6ea28-60f1-4277-cead-5853c2dbb331"
      },
      "execution_count": 49,
      "outputs": [
        {
          "output_type": "execute_result",
          "data": {
            "text/plain": [
              "tensor(0.1224)"
            ]
          },
          "metadata": {},
          "execution_count": 49
        }
      ]
    },
    {
      "cell_type": "markdown",
      "source": [
        "(L2노름)평균제곱근오차 - 차이의 제곱에 대한 평균의 제곱근 ==> 실수에 더 강한 패널티 부여"
      ],
      "metadata": {
        "id": "SdTRHXGuDI6c"
      }
    },
    {
      "cell_type": "code",
      "source": [
        "dist_3_sqr = ((a_3 - mean3)**2).mean().sqrt()\n",
        "dist_3_sqr"
      ],
      "metadata": {
        "colab": {
          "base_uri": "https://localhost:8080/"
        },
        "id": "dT7cD1OpCgy_",
        "outputId": "02f5472b-8cad-48df-de46-9abe574ff884"
      },
      "execution_count": 50,
      "outputs": [
        {
          "output_type": "execute_result",
          "data": {
            "text/plain": [
              "tensor(0.2192)"
            ]
          },
          "metadata": {},
          "execution_count": 50
        }
      ]
    },
    {
      "cell_type": "code",
      "source": [
        "a_7 = stacked_sevnes[5100]\n",
        "show_image(a_7)"
      ],
      "metadata": {
        "colab": {
          "base_uri": "https://localhost:8080/",
          "height": 103
        },
        "id": "VQnZFcmGDvDY",
        "outputId": "f547edf8-e25c-4ad9-a6d2-d8c1c55080af"
      },
      "execution_count": 51,
      "outputs": [
        {
          "output_type": "execute_result",
          "data": {
            "text/plain": [
              "<matplotlib.axes._subplots.AxesSubplot at 0x7f25be8c4340>"
            ]
          },
          "metadata": {},
          "execution_count": 51
        },
        {
          "output_type": "display_data",
          "data": {
            "text/plain": [
              "<Figure size 72x72 with 1 Axes>"
            ],
            "image/png": "[encoded data removed]"
          },
          "metadata": {
            "needs_background": "light"
          }
        }
      ]
    },
    {
      "cell_type": "code",
      "source": [
        "dist_7_abs = (a_7 - mean7).abs().mean()\n",
        "dist_7_sqr = ((a_7 - mean7)**2).mean().sqrt()\n",
        "dist_7_abs,dist_7_sqr"
      ],
      "metadata": {
        "colab": {
          "base_uri": "https://localhost:8080/"
        },
        "id": "fyB_1-DKDQVr",
        "outputId": "6e189f8b-e518-42cc-b57a-7fbf7c3355b7"
      },
      "execution_count": 52,
      "outputs": [
        {
          "output_type": "execute_result",
          "data": {
            "text/plain": [
              "(tensor(0.0965), tensor(0.1903))"
            ]
          },
          "metadata": {},
          "execution_count": 52
        }
      ]
    },
    {
      "cell_type": "markdown",
      "source": [
        " l1 = 절대평균값 / MSE = 평균제곱오차"
      ],
      "metadata": {
        "id": "lgZoRfCHFUJa"
      }
    },
    {
      "cell_type": "code",
      "source": [
        "F.l1_loss(a_3.float(),mean7), F.mse_loss(a_3,mean7).sqrt()"
      ],
      "metadata": {
        "colab": {
          "base_uri": "https://localhost:8080/"
        },
        "id": "J0xmTJg2D2nL",
        "outputId": "24b40a5b-c4e7-4087-c408-2c0831b61068"
      },
      "execution_count": 55,
      "outputs": [
        {
          "output_type": "execute_result",
          "data": {
            "text/plain": [
              "(tensor(0.1863), tensor(0.3408))"
            ]
          },
          "metadata": {},
          "execution_count": 55
        }
      ]
    },
    {
      "cell_type": "markdown",
      "source": [
        "검증용 데이터 만들기 및 확인\n",
        "\n",
        "> 3 - 28x28사이즈 1010장\n",
        "\n",
        "> 7 - 28x28사이즈 1028장\n",
        "\n",
        "\n",
        "\n"
      ],
      "metadata": {
        "id": "B9K3QDmkG3HX"
      }
    },
    {
      "cell_type": "code",
      "source": [
        "valid_3_tens = torch.stack([tensor(Image.open(o)) for o in (path/'valid'/'3').ls()])\n",
        "valid_3_tens = valid_3_tens.float()/255\n",
        "valid_7_tens = torch.stack([tensor(Image.open(o)) for o in (path/'valid'/'7').ls()])\n",
        "valid_7_tens = valid_7_tens.float()/255\n",
        "print(valid_3_tens.shape,valid_7_tens.shape)"
      ],
      "metadata": {
        "colab": {
          "base_uri": "https://localhost:8080/"
        },
        "id": "DmIG04vBFtyF",
        "outputId": "6f4db50e-d1b0-42ea-bd5b-0bd05414caa3"
      },
      "execution_count": 58,
      "outputs": [
        {
          "output_type": "stream",
          "name": "stdout",
          "text": [
            "torch.Size([1010, 28, 28]) torch.Size([1028, 28, 28])\n"
          ]
        }
      ]
    },
    {
      "cell_type": "markdown",
      "source": [
        "평균절대 오차 계산 함수\n",
        "---\n",
        "(-1,-2) => 축의 범위 여기서는 (가로,세로)"
      ],
      "metadata": {
        "id": "uLroADMCOpjH"
      }
    },
    {
      "cell_type": "code",
      "source": [
        "def mnist_distance(a,b):\n",
        "  return (a-b).abs().mean((-1, -2))"
      ],
      "metadata": {
        "id": "A4ADb-9YHfmv"
      },
      "execution_count": 70,
      "outputs": []
    },
    {
      "cell_type": "markdown",
      "source": [
        "평균 제곱근 오차 계산 함수"
      ],
      "metadata": {
        "id": "xqfBw488Rf8d"
      }
    },
    {
      "cell_type": "code",
      "source": [
        "def mnist_distance_sqrt(a,b):\n",
        "  return ((a-b)**2).mean((-1, -2)).sqrt()"
      ],
      "metadata": {
        "id": "_oXDhNtQPDRF"
      },
      "execution_count": 69,
      "outputs": []
    },
    {
      "cell_type": "code",
      "source": [
        "mnist_distance(a_3,mean3)"
      ],
      "metadata": {
        "colab": {
          "base_uri": "https://localhost:8080/"
        },
        "id": "wRBZbsyhNMAF",
        "outputId": "05818a7a-a54c-4c0c-b889-a0039845c0cb"
      },
      "execution_count": 72,
      "outputs": [
        {
          "output_type": "execute_result",
          "data": {
            "text/plain": [
              "tensor(0.1224)"
            ]
          },
          "metadata": {},
          "execution_count": 72
        }
      ]
    },
    {
      "cell_type": "code",
      "source": [
        "mnist_distance(a_3,mean7)"
      ],
      "metadata": {
        "colab": {
          "base_uri": "https://localhost:8080/"
        },
        "id": "D8I7bFZaUFSs",
        "outputId": "43b63fea-1848-4e62-d692-37c548cbc4fa"
      },
      "execution_count": 86,
      "outputs": [
        {
          "output_type": "execute_result",
          "data": {
            "text/plain": [
              "tensor(0.1863)"
            ]
          },
          "metadata": {},
          "execution_count": 86
        }
      ]
    },
    {
      "cell_type": "code",
      "source": [
        "mnist_distance_sqrt(a_3,mean3)"
      ],
      "metadata": {
        "colab": {
          "base_uri": "https://localhost:8080/"
        },
        "id": "AoZQR8VmPNKH",
        "outputId": "b2d681da-35c0-4029-cdf8-496c47951a37"
      },
      "execution_count": 85,
      "outputs": [
        {
          "output_type": "execute_result",
          "data": {
            "text/plain": [
              "tensor(0.2192)"
            ]
          },
          "metadata": {},
          "execution_count": 85
        }
      ]
    },
    {
      "cell_type": "code",
      "source": [
        " valid_3_dist = mnist_distance(valid_3_tens,mean3)\n",
        " valid_3_dist, valid_3_dist.shape"
      ],
      "metadata": {
        "colab": {
          "base_uri": "https://localhost:8080/"
        },
        "id": "x7vpCs47NzBi",
        "outputId": "6dd4be98-d88a-4ea5-9acd-45af4a0c407c"
      },
      "execution_count": 73,
      "outputs": [
        {
          "output_type": "execute_result",
          "data": {
            "text/plain": [
              "(tensor([0.1190, 0.1191, 0.1368,  ..., 0.1183, 0.1301, 0.1152]),\n",
              " torch.Size([1010]))"
            ]
          },
          "metadata": {},
          "execution_count": 73
        }
      ]
    },
    {
      "cell_type": "markdown",
      "source": [
        "is_3 함수에 a_3를 넣을 시 평균 절대 오차가\n",
        "mean7보다 mean3일 때 더 작으므로 True가 나오게 되고 a_7을 넣으면 False가 나오게된다."
      ],
      "metadata": {
        "id": "Acrggy-OUm8A"
      }
    },
    {
      "cell_type": "code",
      "source": [
        "def is_3(x):\n",
        "  return mnist_distance(x,mean3) < mnist_distance(x,mean7)"
      ],
      "metadata": {
        "id": "RuihtMFuRV49"
      },
      "execution_count": 74,
      "outputs": []
    },
    {
      "cell_type": "code",
      "source": [
        "is_3(a_3), is_3(a_3).float()"
      ],
      "metadata": {
        "colab": {
          "base_uri": "https://localhost:8080/"
        },
        "id": "mU9iTA4fR7bU",
        "outputId": "4a634102-280f-45b4-c3cf-e9bae2c59c62"
      },
      "execution_count": 75,
      "outputs": [
        {
          "output_type": "execute_result",
          "data": {
            "text/plain": [
              "(tensor(True), tensor(1.))"
            ]
          },
          "metadata": {},
          "execution_count": 75
        }
      ]
    },
    {
      "cell_type": "code",
      "source": [
        "is_3(a_7), is_3(a_7).float()"
      ],
      "metadata": {
        "colab": {
          "base_uri": "https://localhost:8080/"
        },
        "id": "ZHNhvFBKT4HW",
        "outputId": "8037b42a-9dfd-465a-8cc7-f80f808270d1"
      },
      "execution_count": 82,
      "outputs": [
        {
          "output_type": "execute_result",
          "data": {
            "text/plain": [
              "(tensor(False), tensor(0.))"
            ]
          },
          "metadata": {},
          "execution_count": 82
        }
      ]
    },
    {
      "cell_type": "code",
      "source": [
        "is_3(valid_3_tens)"
      ],
      "metadata": {
        "colab": {
          "base_uri": "https://localhost:8080/"
        },
        "id": "OfM3h8lrSCtU",
        "outputId": "c995d9ff-da33-40db-87ad-3f8978a18186"
      },
      "execution_count": 78,
      "outputs": [
        {
          "output_type": "execute_result",
          "data": {
            "text/plain": [
              "tensor([True, True, True,  ..., True, True, True])"
            ]
          },
          "metadata": {},
          "execution_count": 78
        }
      ]
    },
    {
      "cell_type": "code",
      "source": [
        "accuracy_3s = is_3(valid_3_tens).float().mean()\n",
        "accuracy_7s = (1-is_3(valid_7_tens).float()).mean()\n",
        "accuracy_3s,accuracy_7s"
      ],
      "metadata": {
        "colab": {
          "base_uri": "https://localhost:8080/"
        },
        "id": "Av_5x5TBS_7-",
        "outputId": "18636bc3-c229-4d9f-bd76-7e620921da65"
      },
      "execution_count": 87,
      "outputs": [
        {
          "output_type": "execute_result",
          "data": {
            "text/plain": [
              "(tensor(0.9168), tensor(0.9854))"
            ]
          },
          "metadata": {},
          "execution_count": 87
        }
      ]
    },
    {
      "cell_type": "code",
      "source": [
        "(valid_3_tens-mean3).shape"
      ],
      "metadata": {
        "colab": {
          "base_uri": "https://localhost:8080/"
        },
        "id": "h8jf19F-TIH0",
        "outputId": "feb1cf56-aaf5-4743-a9f8-46159737f808"
      },
      "execution_count": 81,
      "outputs": [
        {
          "output_type": "execute_result",
          "data": {
            "text/plain": [
              "torch.Size([1010, 28, 28])"
            ]
          },
          "metadata": {},
          "execution_count": 81
        }
      ]
    }
  ]
}