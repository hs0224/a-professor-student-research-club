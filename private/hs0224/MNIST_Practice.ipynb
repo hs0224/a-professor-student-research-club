{
  "nbformat": 4,
  "nbformat_minor": 0,
  "metadata": {
    "colab": {
      "provenance": []
    },
    "kernelspec": {
      "name": "python3",
      "display_name": "Python 3"
    },
    "language_info": {
      "name": "python"
    }
  },
  "cells": [
    {
      "cell_type": "code",
      "execution_count": 34,
      "metadata": {
        "id": "AccMNMthvMZR"
      },
      "outputs": [],
      "source": [
        "import numpy as np \n",
        "import pandas as pd\n",
        "from tensorflow.keras.datasets import mnist"
      ]
    },
    {
      "cell_type": "code",
      "source": [
        "(train_images, train_labels), (test_images, test_labels) = mnist.load_data()\n",
        "\n",
        "print(\"train dataset shape:\", train_images.shape, train_labels.shape)\n",
        "print(\"test dataset shape:\", test_images.shape, test_labels.shape)"
      ],
      "metadata": {
        "colab": {
          "base_uri": "https://localhost:8080/"
        },
        "id": "JTH3lwa5vRpy",
        "outputId": "0b860cf2-841b-432b-f584-8e8087491ab7"
      },
      "execution_count": 35,
      "outputs": [
        {
          "output_type": "stream",
          "name": "stdout",
          "text": [
            "train dataset shape: (60000, 28, 28) (60000,)\n",
            "test dataset shape: (10000, 28, 28) (10000,)\n"
          ]
        }
      ]
    },
    {
      "cell_type": "markdown",
      "source": [
        "### MNIST image 시각화"
      ],
      "metadata": {
        "id": "kRjFSO4yvZqI"
      }
    },
    {
      "cell_type": "code",
      "source": [
        "import matplotlib.pyplot as plt\n",
        "%matplotlib inline\n",
        "\n",
        "plt.imshow(train_images[0], cmap='gray') \n",
        "plt.title(train_labels[0])"
      ],
      "metadata": {
        "colab": {
          "base_uri": "https://localhost:8080/",
          "height": 298
        },
        "id": "qPKkXaauvWvY",
        "outputId": "8a304baa-b564-4055-e170-aa739e3ebdca"
      },
      "execution_count": 36,
      "outputs": [
        {
          "output_type": "execute_result",
          "data": {
            "text/plain": [
              "Text(0.5, 1.0, '5')"
            ]
          },
          "metadata": {},
          "execution_count": 36
        },
        {
          "output_type": "display_data",
          "data": {
            "text/plain": [
              "<Figure size 432x288 with 1 Axes>"
            ],
            "image/png": "[encoded data removed]"
          },
          "metadata": {
            "needs_background": "light"
          }
        }
      ]
    },
    {
      "cell_type": "code",
      "source": [
        "train_images[0, :, :], train_labels[0]\n",
        "# 0번쨰 이미지 출력"
      ],
      "metadata": {
        "colab": {
          "base_uri": "https://localhost:8080/"
        },
        "id": "1Kv-2VOuvfMP",
        "outputId": "997d2688-fbfe-4834-af63-e81c3c3b1272"
      },
      "execution_count": 37,
      "outputs": [
        {
          "output_type": "execute_result",
          "data": {
            "text/plain": [
              "(array([[  0,   0,   0,   0,   0,   0,   0,   0,   0,   0,   0,   0,   0,\n",
              "           0,   0,   0,   0,   0,   0,   0,   0,   0,   0,   0,   0,   0,\n",
              "           0,   0],\n",
              "        [  0,   0,   0,   0,   0,   0,   0,   0,   0,   0,   0,   0,   0,\n",
              "           0,   0,   0,   0,   0,   0,   0,   0,   0,   0,   0,   0,   0,\n",
              "           0,   0],\n",
              "        [  0,   0,   0,   0,   0,   0,   0,   0,   0,   0,   0,   0,   0,\n",
              "           0,   0,   0,   0,   0,   0,   0,   0,   0,   0,   0,   0,   0,\n",
              "           0,   0],\n",
              "        [  0,   0,   0,   0,   0,   0,   0,   0,   0,   0,   0,   0,   0,\n",
              "           0,   0,   0,   0,   0,   0,   0,   0,   0,   0,   0,   0,   0,\n",
              "           0,   0],\n",
              "        [  0,   0,   0,   0,   0,   0,   0,   0,   0,   0,   0,   0,   0,\n",
              "           0,   0,   0,   0,   0,   0,   0,   0,   0,   0,   0,   0,   0,\n",
              "           0,   0],\n",
              "        [  0,   0,   0,   0,   0,   0,   0,   0,   0,   0,   0,   0,   3,\n",
              "          18,  18,  18, 126, 136, 175,  26, 166, 255, 247, 127,   0,   0,\n",
              "           0,   0],\n",
              "        [  0,   0,   0,   0,   0,   0,   0,   0,  30,  36,  94, 154, 170,\n",
              "         253, 253, 253, 253, 253, 225, 172, 253, 242, 195,  64,   0,   0,\n",
              "           0,   0],\n",
              "        [  0,   0,   0,   0,   0,   0,   0,  49, 238, 253, 253, 253, 253,\n",
              "         253, 253, 253, 253, 251,  93,  82,  82,  56,  39,   0,   0,   0,\n",
              "           0,   0],\n",
              "        [  0,   0,   0,   0,   0,   0,   0,  18, 219, 253, 253, 253, 253,\n",
              "         253, 198, 182, 247, 241,   0,   0,   0,   0,   0,   0,   0,   0,\n",
              "           0,   0],\n",
              "        [  0,   0,   0,   0,   0,   0,   0,   0,  80, 156, 107, 253, 253,\n",
              "         205,  11,   0,  43, 154,   0,   0,   0,   0,   0,   0,   0,   0,\n",
              "           0,   0],\n",
              "        [  0,   0,   0,   0,   0,   0,   0,   0,   0,  14,   1, 154, 253,\n",
              "          90,   0,   0,   0,   0,   0,   0,   0,   0,   0,   0,   0,   0,\n",
              "           0,   0],\n",
              "        [  0,   0,   0,   0,   0,   0,   0,   0,   0,   0,   0, 139, 253,\n",
              "         190,   2,   0,   0,   0,   0,   0,   0,   0,   0,   0,   0,   0,\n",
              "           0,   0],\n",
              "        [  0,   0,   0,   0,   0,   0,   0,   0,   0,   0,   0,  11, 190,\n",
              "         253,  70,   0,   0,   0,   0,   0,   0,   0,   0,   0,   0,   0,\n",
              "           0,   0],\n",
              "        [  0,   0,   0,   0,   0,   0,   0,   0,   0,   0,   0,   0,  35,\n",
              "         241, 225, 160, 108,   1,   0,   0,   0,   0,   0,   0,   0,   0,\n",
              "           0,   0],\n",
              "        [  0,   0,   0,   0,   0,   0,   0,   0,   0,   0,   0,   0,   0,\n",
              "          81, 240, 253, 253, 119,  25,   0,   0,   0,   0,   0,   0,   0,\n",
              "           0,   0],\n",
              "        [  0,   0,   0,   0,   0,   0,   0,   0,   0,   0,   0,   0,   0,\n",
              "           0,  45, 186, 253, 253, 150,  27,   0,   0,   0,   0,   0,   0,\n",
              "           0,   0],\n",
              "        [  0,   0,   0,   0,   0,   0,   0,   0,   0,   0,   0,   0,   0,\n",
              "           0,   0,  16,  93, 252, 253, 187,   0,   0,   0,   0,   0,   0,\n",
              "           0,   0],\n",
              "        [  0,   0,   0,   0,   0,   0,   0,   0,   0,   0,   0,   0,   0,\n",
              "           0,   0,   0,   0, 249, 253, 249,  64,   0,   0,   0,   0,   0,\n",
              "           0,   0],\n",
              "        [  0,   0,   0,   0,   0,   0,   0,   0,   0,   0,   0,   0,   0,\n",
              "           0,  46, 130, 183, 253, 253, 207,   2,   0,   0,   0,   0,   0,\n",
              "           0,   0],\n",
              "        [  0,   0,   0,   0,   0,   0,   0,   0,   0,   0,   0,   0,  39,\n",
              "         148, 229, 253, 253, 253, 250, 182,   0,   0,   0,   0,   0,   0,\n",
              "           0,   0],\n",
              "        [  0,   0,   0,   0,   0,   0,   0,   0,   0,   0,  24, 114, 221,\n",
              "         253, 253, 253, 253, 201,  78,   0,   0,   0,   0,   0,   0,   0,\n",
              "           0,   0],\n",
              "        [  0,   0,   0,   0,   0,   0,   0,   0,  23,  66, 213, 253, 253,\n",
              "         253, 253, 198,  81,   2,   0,   0,   0,   0,   0,   0,   0,   0,\n",
              "           0,   0],\n",
              "        [  0,   0,   0,   0,   0,   0,  18, 171, 219, 253, 253, 253, 253,\n",
              "         195,  80,   9,   0,   0,   0,   0,   0,   0,   0,   0,   0,   0,\n",
              "           0,   0],\n",
              "        [  0,   0,   0,   0,  55, 172, 226, 253, 253, 253, 253, 244, 133,\n",
              "          11,   0,   0,   0,   0,   0,   0,   0,   0,   0,   0,   0,   0,\n",
              "           0,   0],\n",
              "        [  0,   0,   0,   0, 136, 253, 253, 253, 212, 135, 132,  16,   0,\n",
              "           0,   0,   0,   0,   0,   0,   0,   0,   0,   0,   0,   0,   0,\n",
              "           0,   0],\n",
              "        [  0,   0,   0,   0,   0,   0,   0,   0,   0,   0,   0,   0,   0,\n",
              "           0,   0,   0,   0,   0,   0,   0,   0,   0,   0,   0,   0,   0,\n",
              "           0,   0],\n",
              "        [  0,   0,   0,   0,   0,   0,   0,   0,   0,   0,   0,   0,   0,\n",
              "           0,   0,   0,   0,   0,   0,   0,   0,   0,   0,   0,   0,   0,\n",
              "           0,   0],\n",
              "        [  0,   0,   0,   0,   0,   0,   0,   0,   0,   0,   0,   0,   0,\n",
              "           0,   0,   0,   0,   0,   0,   0,   0,   0,   0,   0,   0,   0,\n",
              "           0,   0]], dtype=uint8), 5)"
            ]
          },
          "metadata": {},
          "execution_count": 37
        }
      ]
    },
    {
      "cell_type": "code",
      "source": [
        "import matplotlib.pyplot as plt\n",
        "%matplotlib inline \n",
        "\n",
        "class_names = ['0', '1', '2', '3', '4', '5', '6', '7', '8', '9']\n",
        "\n",
        "def show_images(images, labels, ncols=8):\n",
        "    figure, axs = plt.subplots(figsize=(22, 6), nrows=1, ncols=ncols) \n",
        "    for i in range(ncols):\n",
        "        axs[i].imshow(images[i], cmap='gray') \n",
        "        axs[i].set_title(class_names[labels[i]])\n",
        "        \n",
        "show_images(train_images[:8], train_labels[:8], ncols=8)"
      ],
      "metadata": {
        "colab": {
          "base_uri": "https://localhost:8080/",
          "height": 194
        },
        "id": "fn3CVcQQvhfi",
        "outputId": "ea67d7d7-5931-455c-8780-21de0c60bd17"
      },
      "execution_count": 38,
      "outputs": [
        {
          "output_type": "display_data",
          "data": {
            "text/plain": [
              "<Figure size 1584x432 with 8 Axes>"
            ],
            "image/png": "[encoded data removed]"
          },
          "metadata": {
            "needs_background": "light"
          }
        }
      ]
    },
    {
      "cell_type": "markdown",
      "source": [
        "### 데이터 전처리"
      ],
      "metadata": {
        "id": "r83j00ICv_uA"
      }
    },
    {
      "cell_type": "code",
      "source": [
        "from sklearn.model_selection import train_test_split\n",
        "from tensorflow.keras.utils import to_categorical\n",
        "\n",
        "# 0 ~ 1사이의 float32 값으로 변경하는 함수\n",
        "def get_preprocessed_data(images, labels):\n",
        "    images = np.array(images/255.0, dtype=np.float32)\n",
        "    labels = np.array(labels, dtype=np.float32)\n",
        "    return images, labels\n",
        "\n",
        "# 0 ~ 사이의 값으로 변경한 함수를 호출한 뒤에 원핫인코딩 적용\n",
        "def get_preprocessed_ohe(images, labels):\n",
        "    images, labels = get_preprocessed_data(images, labels)\n",
        "    oh_labels = to_categorical(labels)\n",
        "    return images, oh_labels\n",
        "\n",
        "# 학습/검증/테스트 데이터 세트에 전처리 및 원핫인코딩 적용한 뒤 반환\n",
        "def get_train_valid_test_set(train_images, train_labels, test_images, test_labels, valid_size=0.2, random_state=2022):\n",
        "    train_images, train_oh_labels = get_preprocessed_ohe(train_images, train_labels)\n",
        "    test_images, test_oh_labels = get_preprocessed_ohe(test_images, test_labels)\n",
        "    tr_images, val_images, tr_oh_labels, val_oh_labels = train_test_split(train_images, train_oh_labels, test_size=valid_size, random_state=random_state)\n",
        "    \n",
        "    return (tr_images, tr_oh_labels), (val_images, val_oh_labels), (test_images, test_oh_labels)\n",
        "    "
      ],
      "metadata": {
        "id": "Fc-aq4BFv-41"
      },
      "execution_count": 39,
      "outputs": []
    },
    {
      "cell_type": "code",
      "source": [
        "(tr_images, tr_oh_labels), (val_images, val_oh_labels), (test_images, test_oh_labels) = \\\n",
        "  get_train_valid_test_set(train_images, train_labels, test_images, test_labels)\n",
        "\n",
        "print(tr_images.shape, tr_oh_labels.shape, val_images.shape, val_oh_labels.shape, test_images.shape, test_oh_labels.shape)"
      ],
      "metadata": {
        "colab": {
          "base_uri": "https://localhost:8080/"
        },
        "id": "Qf12XtD6vz1M",
        "outputId": "f5695378-eaa1-413f-ee55-1340286af3f6"
      },
      "execution_count": 40,
      "outputs": [
        {
          "output_type": "stream",
          "name": "stdout",
          "text": [
            "(48000, 28, 28) (48000, 10) (12000, 28, 28) (12000, 10) (10000, 28, 28) (10000, 10)\n"
          ]
        }
      ]
    },
    {
      "cell_type": "markdown",
      "source": [
        "### 간단한 모델 생성"
      ],
      "metadata": {
        "id": "p-T7nggWyNmc"
      }
    },
    {
      "cell_type": "code",
      "source": [
        "from tensorflow.keras.layers import Layer, Input, Dense, Flatten, Dropout\n",
        "from tensorflow.keras.models import Model\n",
        "import tensorflow as tf\n",
        "\n",
        "INPUT_SIZE = 28\n",
        "# input 이라는 값이 들어온다는 건 => 1장의 이미지에 대한 shape만 만들어주면댐(중요)\n",
        "# 6만장에 대한 배치는 케라스 프레임웤에서 알아서 결정 -> 2차원으로 1장의 이미지에 대한 입력만 주면 케라스 내부에선 3차원으로 인식함\n",
        "\n",
        "# 실제 input 여러장, 즉 여기서는 6만개가 학습이 진행 되어 (60000, 28, 28) 이렇게 input을 설정해야 할 것 같지만 아님\n",
        "\n",
        "# 입력을 받아 모델에서 돌아가는 것은 전부 tensor \n",
        "def create_model():\n",
        "    \n",
        "    input_tensor = Input(shape=(INPUT_SIZE, INPUT_SIZE)) \n",
        "    # 반드시 인풋은 따로 초기화해주기\n",
        "    x = Flatten()(input_tensor)\n",
        "    x = Dense(100, activation='relu')(x)\n",
        "    x = Dropout(rate=0.3)(x)\n",
        "    x = Dense(70, activation='relu')(x)\n",
        "    x = Dropout(rate=0.2)(x)\n",
        "    x = Dense(50, activation='relu')(x)\n",
        "    output = Dense(10, activation='softmax')(x)\n",
        "    \n",
        "    model = Model(inputs=input_tensor, outputs=output) \n",
        "    # inputs 에서 s는 왜 붙었을까? \n",
        "    # 입력값이 하나의 데이터셋만이 아닐 수 있음(이미지, 텍스트, 다른 정형데이터 등등) 여러 종류의 데이터를 받을 수 있음\n",
        "    \n",
        "    return model\n",
        "    \n",
        "model = create_model()\n",
        "model.summary()\n",
        "\n",
        "model.compile(optimizer=Adam(0.001), loss='categorical_crossentropy', metrics=['accuracy'])"
      ],
      "metadata": {
        "colab": {
          "base_uri": "https://localhost:8080/"
        },
        "id": "HGN4-xiWyNQ-",
        "outputId": "5ded48de-8034-4435-8d36-4150978413d2"
      },
      "execution_count": 41,
      "outputs": [
        {
          "output_type": "stream",
          "name": "stdout",
          "text": [
            "Model: \"model_4\"\n",
            "_________________________________________________________________\n",
            " Layer (type)                Output Shape              Param #   \n",
            "=================================================================\n",
            " input_6 (InputLayer)        [(None, 28, 28)]          0         \n",
            "                                                                 \n",
            " flatten_5 (Flatten)         (None, 784)               0         \n",
            "                                                                 \n",
            " dense_14 (Dense)            (None, 100)               78500     \n",
            "                                                                 \n",
            " dropout_4 (Dropout)         (None, 100)               0         \n",
            "                                                                 \n",
            " dense_15 (Dense)            (None, 70)                7070      \n",
            "                                                                 \n",
            " dropout_5 (Dropout)         (None, 70)                0         \n",
            "                                                                 \n",
            " dense_16 (Dense)            (None, 50)                3550      \n",
            "                                                                 \n",
            " dense_17 (Dense)            (None, 10)                510       \n",
            "                                                                 \n",
            "=================================================================\n",
            "Total params: 89,630\n",
            "Trainable params: 89,630\n",
            "Non-trainable params: 0\n",
            "_________________________________________________________________\n"
          ]
        }
      ]
    },
    {
      "cell_type": "markdown",
      "source": [
        "# 학습 수행"
      ],
      "metadata": {
        "id": "3S1T_w-xzoQK"
      }
    },
    {
      "cell_type": "code",
      "source": [
        "history = model.fit(x=tr_images, y=tr_oh_labels, batch_size=32, epochs=10, validation_data=(val_images, val_oh_labels) )"
      ],
      "metadata": {
        "colab": {
          "base_uri": "https://localhost:8080/"
        },
        "id": "h_vudbeNzfUo",
        "outputId": "544192dd-f0c8-47e2-e95b-2ff4284575dd"
      },
      "execution_count": 43,
      "outputs": [
        {
          "output_type": "stream",
          "name": "stdout",
          "text": [
            "Epoch 1/10\n",
            "1500/1500 [==============================] - 5s 4ms/step - loss: 0.1352 - accuracy: 0.9583 - val_loss: 0.1061 - val_accuracy: 0.9676\n",
            "Epoch 2/10\n",
            "1500/1500 [==============================] - 5s 3ms/step - loss: 0.1250 - accuracy: 0.9622 - val_loss: 0.1014 - val_accuracy: 0.9702\n",
            "Epoch 3/10\n",
            "1500/1500 [==============================] - 5s 4ms/step - loss: 0.1184 - accuracy: 0.9640 - val_loss: 0.1113 - val_accuracy: 0.9658\n",
            "Epoch 4/10\n",
            "1500/1500 [==============================] - 5s 3ms/step - loss: 0.1095 - accuracy: 0.9669 - val_loss: 0.0931 - val_accuracy: 0.9723\n",
            "Epoch 5/10\n",
            "1500/1500 [==============================] - 5s 3ms/step - loss: 0.1053 - accuracy: 0.9678 - val_loss: 0.1048 - val_accuracy: 0.9697\n",
            "Epoch 6/10\n",
            "1500/1500 [==============================] - 5s 3ms/step - loss: 0.1025 - accuracy: 0.9688 - val_loss: 0.0961 - val_accuracy: 0.9723\n",
            "Epoch 7/10\n",
            "1500/1500 [==============================] - 5s 3ms/step - loss: 0.1013 - accuracy: 0.9692 - val_loss: 0.0883 - val_accuracy: 0.9742\n",
            "Epoch 8/10\n",
            "1500/1500 [==============================] - 6s 4ms/step - loss: 0.0976 - accuracy: 0.9706 - val_loss: 0.0888 - val_accuracy: 0.9743\n",
            "Epoch 9/10\n",
            "1500/1500 [==============================] - 5s 4ms/step - loss: 0.0915 - accuracy: 0.9722 - val_loss: 0.0921 - val_accuracy: 0.9722\n",
            "Epoch 10/10\n",
            "1500/1500 [==============================] - 5s 3ms/step - loss: 0.0878 - accuracy: 0.9728 - val_loss: 0.0914 - val_accuracy: 0.9743\n"
          ]
        }
      ]
    },
    {
      "cell_type": "code",
      "source": [
        "import matplotlib.pyplot as plt\n",
        "%matplotlib inline\n",
        "\n",
        "def show_history(history):\n",
        "    plt.plot(history.history['accuracy'], label='train')\n",
        "    plt.plot(history.history['val_accuracy'], label='valid')\n",
        "    plt.legend()\n",
        "\n",
        "show_history(history)"
      ],
      "metadata": {
        "colab": {
          "base_uri": "https://localhost:8080/",
          "height": 265
        },
        "id": "ayZi4buhx3LQ",
        "outputId": "ccfdf7de-c3f1-4a8b-a7c3-c9f1e013cad9"
      },
      "execution_count": 44,
      "outputs": [
        {
          "output_type": "display_data",
          "data": {
            "text/plain": [
              "<Figure size 432x288 with 1 Axes>"
            ],
            "image/png": "[encoded data removed]"
          },
          "metadata": {
            "needs_background": "light"
          }
        }
      ]
    },
    {
      "cell_type": "markdown",
      "source": [
        "### 테스트 데이터로 모델 성능 검증"
      ],
      "metadata": {
        "id": "oTjQ_YOz0Nm2"
      }
    },
    {
      "cell_type": "code",
      "source": [
        "model.evaluate(test_images, test_oh_labels, batch_size=256, verbose=1)"
      ],
      "metadata": {
        "colab": {
          "base_uri": "https://localhost:8080/"
        },
        "id": "G2QS9__30H5n",
        "outputId": "a1cd5a95-1894-4f09-8973-d633491ef739"
      },
      "execution_count": 45,
      "outputs": [
        {
          "output_type": "stream",
          "name": "stdout",
          "text": [
            "40/40 [==============================] - 0s 5ms/step - loss: 0.0869 - accuracy: 0.9764\n"
          ]
        },
        {
          "output_type": "execute_result",
          "data": {
            "text/plain": [
              "[0.0868622288107872, 0.9764000177383423]"
            ]
          },
          "metadata": {},
          "execution_count": 45
        }
      ]
    }
  ]
}