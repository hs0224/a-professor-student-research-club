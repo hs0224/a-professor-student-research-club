{
  "nbformat": 4,
  "nbformat_minor": 0,
  "metadata": {
    "colab": {
      "provenance": [],
      "authorship_tag": "ABX9TyN4z2jEkXE3ONQspUprx1LP",
      "include_colab_link": true
    },
    "kernelspec": {
      "name": "python3",
      "display_name": "Python 3"
    },
    "language_info": {
      "name": "python"
    },
    "accelerator": "TPU",
    "gpuClass": "standard"
  },
  "cells": [
    {
      "cell_type": "markdown",
      "metadata": {
        "id": "view-in-github",
        "colab_type": "text"
      },
      "source": [
        "<a href=\"https://colab.research.google.com/github/hs0224/a-professor-student-research-club/blob/main/private/Mr_Mink/Chap04Deeper0.ipynb\" target=\"_parent\"><img src=\"https://colab.research.google.com/assets/colab-badge.svg\" alt=\"Open In Colab\"/></a>"
      ]
    },
    {
      "cell_type": "markdown",
      "source": [
        "# 4장 숫자 분류기의 학습 내부 들여다보기\n",
        "##### * 3장은 윤리관련 내용...\n",
        "## 4.1 픽셀: 커퓨터 영상 처리의 기본 토대"
      ],
      "metadata": {
        "id": "knQvL89wMB8t"
      }
    },
    {
      "cell_type": "code",
      "execution_count": 1,
      "metadata": {
        "id": "Y7x7CO6nL7r7"
      },
      "outputs": [],
      "source": [
        "# MNIST 샘플 데이터 셋 다운로드\n",
        "from fastai.vision.all import *\n",
        "\n",
        "path = untar_data(URLs.MNIST_SAMPLE)"
      ]
    },
    {
      "cell_type": "markdown",
      "source": [
        "##### * MNIST는 손으로 쓴 숫자 이미지들"
      ],
      "metadata": {
        "id": "wO1Jb-HTNOc4"
      }
    },
    {
      "cell_type": "code",
      "source": [
        "(path/'train').ls()"
      ],
      "metadata": {
        "colab": {
          "base_uri": "https://localhost:8080/"
        },
        "id": "eezf4v7KNOBR",
        "outputId": "f29dd7ae-bf4b-4d41-eb87-2aee93e990a5"
      },
      "execution_count": 2,
      "outputs": [
        {
          "output_type": "execute_result",
          "data": {
            "text/plain": [
              "(#2) [Path('/root/.fastai/data/mnist_sample/train/3'),Path('/root/.fastai/data/mnist_sample/train/7')]"
            ]
          },
          "metadata": {},
          "execution_count": 2
        }
      ]
    },
    {
      "cell_type": "markdown",
      "source": [
        "### (path/'train').ls()\n",
        "##### * ls(): 해당 디렉토리의 내용을 확인할 수 있다.\n",
        "##### - fastai에서 제공하는 L 클래스 객체를 반환한다.(L클래스는 list를 기능확장한 것)\n",
        "##### - '목록(list)'과 '목록의 개수(len)'를 함께 출력한다.\n",
        "##### * '3'과 '7'의 폴더를 확인할 수 있고, 이는 '데이터셋'으로 \"레이블(label 또는 target)\"이라고 한다."
      ],
      "metadata": {
        "id": "vjOh3LBnNv_-"
      }
    },
    {
      "cell_type": "markdown",
      "source": [
        "### 3과 7을 분리해서 출력하고 확인해 보도록하자."
      ],
      "metadata": {
        "id": "isX57z1wO36U"
      }
    },
    {
      "cell_type": "code",
      "source": [
        "threes = (path/'train'/'3').ls().sorted()\n",
        "sevens = (path/'train'/'7').ls().sorted()\n",
        "\n",
        "threes"
      ],
      "metadata": {
        "colab": {
          "base_uri": "https://localhost:8080/"
        },
        "id": "u4hlwYLlNLpf",
        "outputId": "8a2ba973-9985-49ce-feb5-6090bbeae02d"
      },
      "execution_count": 3,
      "outputs": [
        {
          "output_type": "execute_result",
          "data": {
            "text/plain": [
              "(#6131) [Path('/root/.fastai/data/mnist_sample/train/3/10.png'),Path('/root/.fastai/data/mnist_sample/train/3/10000.png'),Path('/root/.fastai/data/mnist_sample/train/3/10011.png'),Path('/root/.fastai/data/mnist_sample/train/3/10031.png'),Path('/root/.fastai/data/mnist_sample/train/3/10034.png'),Path('/root/.fastai/data/mnist_sample/train/3/10042.png'),Path('/root/.fastai/data/mnist_sample/train/3/10052.png'),Path('/root/.fastai/data/mnist_sample/train/3/1007.png'),Path('/root/.fastai/data/mnist_sample/train/3/10074.png'),Path('/root/.fastai/data/mnist_sample/train/3/10091.png')...]"
            ]
          },
          "metadata": {},
          "execution_count": 3
        }
      ]
    },
    {
      "cell_type": "code",
      "source": [
        "# 데이터셋중 하나 출력\n",
        "im3_path = threes[1]\n",
        "im3 = Image.open(im3_path)\n",
        "im3"
      ],
      "metadata": {
        "colab": {
          "base_uri": "https://localhost:8080/",
          "height": 45
        },
        "id": "q-nTySkbPbhk",
        "outputId": "74225f15-00cd-4fdf-ee74-a467181e843a"
      },
      "execution_count": 4,
      "outputs": [
        {
          "output_type": "execute_result",
          "data": {
            "text/plain": [
              "<PIL.PngImagePlugin.PngImageFile image mode=L size=28x28>"
            ],
            "image/png": "[encoded data removed]"
          },
          "metadata": {},
          "execution_count": 4
        }
      ]
    },
    {
      "cell_type": "markdown",
      "source": [
        "### PIL(Python Imaging Library)가 제공하는 Image 클래스를 사용 중.\n",
        "##### * PIL은 이미지 open, manipulate, print 할 때, 가장 널리 사용하는 패키지.\n",
        "##### ** 주피터 노트북은 \"PIL 라이브러리가 표현하는 이미지를 '즉시' 인식\"할 수 있다.\n",
        "##### *** 컴퓨터는 모든 것을 숫자로 표현한다. 따라서, 이미지를 구성하는 숫자를 확인하려면 '넘파이 배열' 혹은 '파이토치 텐서'로 나타내야 한다."
      ],
      "metadata": {
        "id": "DOpK3woCQC03"
      }
    },
    {
      "cell_type": "code",
      "source": [
        "# 넘파이 array 변환\n",
        "array(im3)[4:10, 4:10] #슬라이싱"
      ],
      "metadata": {
        "colab": {
          "base_uri": "https://localhost:8080/"
        },
        "id": "riAYhLbJPkbg",
        "outputId": "95d574d2-b875-4f4a-a7fa-5d090b4ab82e"
      },
      "execution_count": 5,
      "outputs": [
        {
          "output_type": "execute_result",
          "data": {
            "text/plain": [
              "array([[  0,   0,   0,   0,   0,   0],\n",
              "       [  0,   0,   0,   0,   0,  29],\n",
              "       [  0,   0,   0,  48, 166, 224],\n",
              "       [  0,  93, 244, 249, 253, 187],\n",
              "       [  0, 107, 253, 253, 230,  48],\n",
              "       [  0,   3,  20,  20,  15,   0]], dtype=uint8)"
            ]
          },
          "metadata": {},
          "execution_count": 5
        }
      ]
    },
    {
      "cell_type": "code",
      "source": [
        "# 파이토치 tensor로 표현\n",
        "tensor(im3)[4:10, 4:10]"
      ],
      "metadata": {
        "colab": {
          "base_uri": "https://localhost:8080/"
        },
        "id": "tiOo89ExQ3sn",
        "outputId": "316f3803-dda9-4ab4-d577-8d1674e1b8eb"
      },
      "execution_count": 6,
      "outputs": [
        {
          "output_type": "execute_result",
          "data": {
            "text/plain": [
              "tensor([[  0,   0,   0,   0,   0,   0],\n",
              "        [  0,   0,   0,   0,   0,  29],\n",
              "        [  0,   0,   0,  48, 166, 224],\n",
              "        [  0,  93, 244, 249, 253, 187],\n",
              "        [  0, 107, 253, 253, 230,  48],\n",
              "        [  0,   3,  20,  20,  15,   0]], dtype=torch.uint8)"
            ]
          },
          "metadata": {},
          "execution_count": 6
        }
      ]
    },
    {
      "cell_type": "markdown",
      "source": [
        "##### * array는 Numpy, tensor는 Pytorch로 비슷한 형태지만, 다르다는 것을 알 수 있다.\n",
        "### 판다스 데이터프레임으로 숫자의 값에 따라 색상을 그라데이션 형태로 표현해보기\n",
        "##### * 숫자 -> 그림"
      ],
      "metadata": {
        "id": "GlksA1FyRTYM"
      }
    },
    {
      "cell_type": "code",
      "source": [
        "im3_t = tensor(im3)\n",
        "df = pd.DataFrame(im3_t[4:15, 4:22])\n",
        "df.style.set_properties(**{'font-size':'6pt'}).background_gradient('Greys')"
      ],
      "metadata": {
        "colab": {
          "base_uri": "https://localhost:8080/",
          "height": 394
        },
        "id": "Qonz44BRREQQ",
        "outputId": "ef46892c-ec6d-4452-df56-a5ee4d6c235f"
      },
      "execution_count": 7,
      "outputs": [
        {
          "output_type": "execute_result",
          "data": {
            "text/plain": [
              "<pandas.io.formats.style.Styler at 0x7f28bba8ac10>"
            ],
            "text/html": [
              "<style type=\"text/css\">\n",
              "#T_5b201_row0_col0, #T_5b201_row0_col1, #T_5b201_row0_col2, #T_5b201_row0_col3, #T_5b201_row0_col4, #T_5b201_row0_col5, #T_5b201_row0_col6, #T_5b201_row0_col7, #T_5b201_row0_col8, #T_5b201_row0_col9, #T_5b201_row0_col10, #T_5b201_row0_col11, #T_5b201_row0_col12, #T_5b201_row0_col13, #T_5b201_row0_col14, #T_5b201_row0_col15, #T_5b201_row0_col16, #T_5b201_row0_col17, #T_5b201_row1_col0, #T_5b201_row1_col1, #T_5b201_row1_col2, #T_5b201_row1_col3, #T_5b201_row1_col4, #T_5b201_row1_col15, #T_5b201_row1_col16, #T_5b201_row1_col17, #T_5b201_row2_col0, #T_5b201_row2_col1, #T_5b201_row2_col2, #T_5b201_row2_col15, #T_5b201_row2_col16, #T_5b201_row2_col17, #T_5b201_row3_col0, #T_5b201_row3_col15, #T_5b201_row3_col16, #T_5b201_row3_col17, #T_5b201_row4_col0, #T_5b201_row4_col6, #T_5b201_row4_col7, #T_5b201_row4_col8, #T_5b201_row4_col9, #T_5b201_row4_col10, #T_5b201_row4_col15, #T_5b201_row4_col16, #T_5b201_row4_col17, #T_5b201_row5_col0, #T_5b201_row5_col5, #T_5b201_row5_col6, #T_5b201_row5_col7, #T_5b201_row5_col8, #T_5b201_row5_col9, #T_5b201_row5_col15, #T_5b201_row5_col16, #T_5b201_row5_col17, #T_5b201_row6_col0, #T_5b201_row6_col1, #T_5b201_row6_col2, #T_5b201_row6_col3, #T_5b201_row6_col4, #T_5b201_row6_col5, #T_5b201_row6_col6, #T_5b201_row6_col7, #T_5b201_row6_col8, #T_5b201_row6_col9, #T_5b201_row6_col14, #T_5b201_row6_col15, #T_5b201_row6_col16, #T_5b201_row6_col17, #T_5b201_row7_col0, #T_5b201_row7_col1, #T_5b201_row7_col2, #T_5b201_row7_col3, #T_5b201_row7_col4, #T_5b201_row7_col5, #T_5b201_row7_col6, #T_5b201_row7_col13, #T_5b201_row7_col14, #T_5b201_row7_col15, #T_5b201_row7_col16, #T_5b201_row7_col17, #T_5b201_row8_col0, #T_5b201_row8_col1, #T_5b201_row8_col2, #T_5b201_row8_col3, #T_5b201_row8_col4, #T_5b201_row8_col13, #T_5b201_row8_col14, #T_5b201_row8_col15, #T_5b201_row8_col16, #T_5b201_row8_col17, #T_5b201_row9_col0, #T_5b201_row9_col1, #T_5b201_row9_col2, #T_5b201_row9_col3, #T_5b201_row9_col4, #T_5b201_row9_col16, #T_5b201_row9_col17, #T_5b201_row10_col0, #T_5b201_row10_col1, #T_5b201_row10_col2, #T_5b201_row10_col3, #T_5b201_row10_col4, #T_5b201_row10_col5, #T_5b201_row10_col6, #T_5b201_row10_col17 {\n",
              "  font-size: 6pt;\n",
              "  background-color: #ffffff;\n",
              "  color: #000000;\n",
              "}\n",
              "#T_5b201_row1_col5 {\n",
              "  font-size: 6pt;\n",
              "  background-color: #efefef;\n",
              "  color: #000000;\n",
              "}\n",
              "#T_5b201_row1_col6, #T_5b201_row1_col13 {\n",
              "  font-size: 6pt;\n",
              "  background-color: #7c7c7c;\n",
              "  color: #f1f1f1;\n",
              "}\n",
              "#T_5b201_row1_col7 {\n",
              "  font-size: 6pt;\n",
              "  background-color: #4a4a4a;\n",
              "  color: #f1f1f1;\n",
              "}\n",
              "#T_5b201_row1_col8, #T_5b201_row1_col9, #T_5b201_row1_col10, #T_5b201_row2_col5, #T_5b201_row2_col6, #T_5b201_row2_col7, #T_5b201_row2_col11, #T_5b201_row2_col12, #T_5b201_row2_col13, #T_5b201_row3_col4, #T_5b201_row3_col12, #T_5b201_row3_col13, #T_5b201_row4_col1, #T_5b201_row4_col2, #T_5b201_row4_col3, #T_5b201_row4_col12, #T_5b201_row4_col13, #T_5b201_row5_col12, #T_5b201_row6_col11, #T_5b201_row9_col11, #T_5b201_row10_col11, #T_5b201_row10_col12, #T_5b201_row10_col13, #T_5b201_row10_col14, #T_5b201_row10_col15, #T_5b201_row10_col16 {\n",
              "  font-size: 6pt;\n",
              "  background-color: #000000;\n",
              "  color: #f1f1f1;\n",
              "}\n",
              "#T_5b201_row1_col11 {\n",
              "  font-size: 6pt;\n",
              "  background-color: #606060;\n",
              "  color: #f1f1f1;\n",
              "}\n",
              "#T_5b201_row1_col12 {\n",
              "  font-size: 6pt;\n",
              "  background-color: #4d4d4d;\n",
              "  color: #f1f1f1;\n",
              "}\n",
              "#T_5b201_row1_col14 {\n",
              "  font-size: 6pt;\n",
              "  background-color: #bbbbbb;\n",
              "  color: #000000;\n",
              "}\n",
              "#T_5b201_row2_col3 {\n",
              "  font-size: 6pt;\n",
              "  background-color: #e4e4e4;\n",
              "  color: #000000;\n",
              "}\n",
              "#T_5b201_row2_col4, #T_5b201_row8_col6 {\n",
              "  font-size: 6pt;\n",
              "  background-color: #6b6b6b;\n",
              "  color: #f1f1f1;\n",
              "}\n",
              "#T_5b201_row2_col8, #T_5b201_row2_col14, #T_5b201_row3_col14 {\n",
              "  font-size: 6pt;\n",
              "  background-color: #171717;\n",
              "  color: #f1f1f1;\n",
              "}\n",
              "#T_5b201_row2_col9, #T_5b201_row3_col11 {\n",
              "  font-size: 6pt;\n",
              "  background-color: #4b4b4b;\n",
              "  color: #f1f1f1;\n",
              "}\n",
              "#T_5b201_row2_col10, #T_5b201_row7_col10, #T_5b201_row8_col8, #T_5b201_row8_col10, #T_5b201_row9_col8, #T_5b201_row9_col10 {\n",
              "  font-size: 6pt;\n",
              "  background-color: #010101;\n",
              "  color: #f1f1f1;\n",
              "}\n",
              "#T_5b201_row3_col1 {\n",
              "  font-size: 6pt;\n",
              "  background-color: #272727;\n",
              "  color: #f1f1f1;\n",
              "}\n",
              "#T_5b201_row3_col2 {\n",
              "  font-size: 6pt;\n",
              "  background-color: #0a0a0a;\n",
              "  color: #f1f1f1;\n",
              "}\n",
              "#T_5b201_row3_col3 {\n",
              "  font-size: 6pt;\n",
              "  background-color: #050505;\n",
              "  color: #f1f1f1;\n",
              "}\n",
              "#T_5b201_row3_col5 {\n",
              "  font-size: 6pt;\n",
              "  background-color: #333333;\n",
              "  color: #f1f1f1;\n",
              "}\n",
              "#T_5b201_row3_col6 {\n",
              "  font-size: 6pt;\n",
              "  background-color: #e6e6e6;\n",
              "  color: #000000;\n",
              "}\n",
              "#T_5b201_row3_col7, #T_5b201_row3_col10 {\n",
              "  font-size: 6pt;\n",
              "  background-color: #fafafa;\n",
              "  color: #000000;\n",
              "}\n",
              "#T_5b201_row3_col8 {\n",
              "  font-size: 6pt;\n",
              "  background-color: #fbfbfb;\n",
              "  color: #000000;\n",
              "}\n",
              "#T_5b201_row3_col9 {\n",
              "  font-size: 6pt;\n",
              "  background-color: #fdfdfd;\n",
              "  color: #000000;\n",
              "}\n",
              "#T_5b201_row4_col4 {\n",
              "  font-size: 6pt;\n",
              "  background-color: #1b1b1b;\n",
              "  color: #f1f1f1;\n",
              "}\n",
              "#T_5b201_row4_col5 {\n",
              "  font-size: 6pt;\n",
              "  background-color: #e0e0e0;\n",
              "  color: #000000;\n",
              "}\n",
              "#T_5b201_row4_col11 {\n",
              "  font-size: 6pt;\n",
              "  background-color: #4e4e4e;\n",
              "  color: #f1f1f1;\n",
              "}\n",
              "#T_5b201_row4_col14 {\n",
              "  font-size: 6pt;\n",
              "  background-color: #767676;\n",
              "  color: #f1f1f1;\n",
              "}\n",
              "#T_5b201_row5_col1 {\n",
              "  font-size: 6pt;\n",
              "  background-color: #fcfcfc;\n",
              "  color: #000000;\n",
              "}\n",
              "#T_5b201_row5_col2, #T_5b201_row5_col3 {\n",
              "  font-size: 6pt;\n",
              "  background-color: #f6f6f6;\n",
              "  color: #000000;\n",
              "}\n",
              "#T_5b201_row5_col4, #T_5b201_row7_col7 {\n",
              "  font-size: 6pt;\n",
              "  background-color: #f8f8f8;\n",
              "  color: #000000;\n",
              "}\n",
              "#T_5b201_row5_col10, #T_5b201_row10_col7 {\n",
              "  font-size: 6pt;\n",
              "  background-color: #e8e8e8;\n",
              "  color: #000000;\n",
              "}\n",
              "#T_5b201_row5_col11 {\n",
              "  font-size: 6pt;\n",
              "  background-color: #222222;\n",
              "  color: #f1f1f1;\n",
              "}\n",
              "#T_5b201_row5_col13, #T_5b201_row6_col12 {\n",
              "  font-size: 6pt;\n",
              "  background-color: #090909;\n",
              "  color: #f1f1f1;\n",
              "}\n",
              "#T_5b201_row5_col14 {\n",
              "  font-size: 6pt;\n",
              "  background-color: #d0d0d0;\n",
              "  color: #000000;\n",
              "}\n",
              "#T_5b201_row6_col10, #T_5b201_row7_col11, #T_5b201_row9_col6 {\n",
              "  font-size: 6pt;\n",
              "  background-color: #060606;\n",
              "  color: #f1f1f1;\n",
              "}\n",
              "#T_5b201_row6_col13 {\n",
              "  font-size: 6pt;\n",
              "  background-color: #979797;\n",
              "  color: #f1f1f1;\n",
              "}\n",
              "#T_5b201_row7_col8 {\n",
              "  font-size: 6pt;\n",
              "  background-color: #b6b6b6;\n",
              "  color: #000000;\n",
              "}\n",
              "#T_5b201_row7_col9 {\n",
              "  font-size: 6pt;\n",
              "  background-color: #252525;\n",
              "  color: #f1f1f1;\n",
              "}\n",
              "#T_5b201_row7_col12 {\n",
              "  font-size: 6pt;\n",
              "  background-color: #999999;\n",
              "  color: #f1f1f1;\n",
              "}\n",
              "#T_5b201_row8_col5 {\n",
              "  font-size: 6pt;\n",
              "  background-color: #f9f9f9;\n",
              "  color: #000000;\n",
              "}\n",
              "#T_5b201_row8_col7 {\n",
              "  font-size: 6pt;\n",
              "  background-color: #101010;\n",
              "  color: #f1f1f1;\n",
              "}\n",
              "#T_5b201_row8_col9, #T_5b201_row9_col9 {\n",
              "  font-size: 6pt;\n",
              "  background-color: #020202;\n",
              "  color: #f1f1f1;\n",
              "}\n",
              "#T_5b201_row8_col11 {\n",
              "  font-size: 6pt;\n",
              "  background-color: #545454;\n",
              "  color: #f1f1f1;\n",
              "}\n",
              "#T_5b201_row8_col12 {\n",
              "  font-size: 6pt;\n",
              "  background-color: #f1f1f1;\n",
              "  color: #000000;\n",
              "}\n",
              "#T_5b201_row9_col5 {\n",
              "  font-size: 6pt;\n",
              "  background-color: #f7f7f7;\n",
              "  color: #000000;\n",
              "}\n",
              "#T_5b201_row9_col7 {\n",
              "  font-size: 6pt;\n",
              "  background-color: #030303;\n",
              "  color: #f1f1f1;\n",
              "}\n",
              "#T_5b201_row9_col12 {\n",
              "  font-size: 6pt;\n",
              "  background-color: #181818;\n",
              "  color: #f1f1f1;\n",
              "}\n",
              "#T_5b201_row9_col13 {\n",
              "  font-size: 6pt;\n",
              "  background-color: #303030;\n",
              "  color: #f1f1f1;\n",
              "}\n",
              "#T_5b201_row9_col14 {\n",
              "  font-size: 6pt;\n",
              "  background-color: #a9a9a9;\n",
              "  color: #f1f1f1;\n",
              "}\n",
              "#T_5b201_row9_col15 {\n",
              "  font-size: 6pt;\n",
              "  background-color: #fefefe;\n",
              "  color: #000000;\n",
              "}\n",
              "#T_5b201_row10_col8, #T_5b201_row10_col9 {\n",
              "  font-size: 6pt;\n",
              "  background-color: #bababa;\n",
              "  color: #000000;\n",
              "}\n",
              "#T_5b201_row10_col10 {\n",
              "  font-size: 6pt;\n",
              "  background-color: #393939;\n",
              "  color: #f1f1f1;\n",
              "}\n",
              "</style>\n",
              "<table id=\"T_5b201_\" class=\"dataframe\">\n",
              "  <thead>\n",
              "    <tr>\n",
              "      <th class=\"blank level0\" >&nbsp;</th>\n",
              "      <th class=\"col_heading level0 col0\" >0</th>\n",
              "      <th class=\"col_heading level0 col1\" >1</th>\n",
              "      <th class=\"col_heading level0 col2\" >2</th>\n",
              "      <th class=\"col_heading level0 col3\" >3</th>\n",
              "      <th class=\"col_heading level0 col4\" >4</th>\n",
              "      <th class=\"col_heading level0 col5\" >5</th>\n",
              "      <th class=\"col_heading level0 col6\" >6</th>\n",
              "      <th class=\"col_heading level0 col7\" >7</th>\n",
              "      <th class=\"col_heading level0 col8\" >8</th>\n",
              "      <th class=\"col_heading level0 col9\" >9</th>\n",
              "      <th class=\"col_heading level0 col10\" >10</th>\n",
              "      <th class=\"col_heading level0 col11\" >11</th>\n",
              "      <th class=\"col_heading level0 col12\" >12</th>\n",
              "      <th class=\"col_heading level0 col13\" >13</th>\n",
              "      <th class=\"col_heading level0 col14\" >14</th>\n",
              "      <th class=\"col_heading level0 col15\" >15</th>\n",
              "      <th class=\"col_heading level0 col16\" >16</th>\n",
              "      <th class=\"col_heading level0 col17\" >17</th>\n",
              "    </tr>\n",
              "  </thead>\n",
              "  <tbody>\n",
              "    <tr>\n",
              "      <th id=\"T_5b201_level0_row0\" class=\"row_heading level0 row0\" >0</th>\n",
              "      <td id=\"T_5b201_row0_col0\" class=\"data row0 col0\" >0</td>\n",
              "      <td id=\"T_5b201_row0_col1\" class=\"data row0 col1\" >0</td>\n",
              "      <td id=\"T_5b201_row0_col2\" class=\"data row0 col2\" >0</td>\n",
              "      <td id=\"T_5b201_row0_col3\" class=\"data row0 col3\" >0</td>\n",
              "      <td id=\"T_5b201_row0_col4\" class=\"data row0 col4\" >0</td>\n",
              "      <td id=\"T_5b201_row0_col5\" class=\"data row0 col5\" >0</td>\n",
              "      <td id=\"T_5b201_row0_col6\" class=\"data row0 col6\" >0</td>\n",
              "      <td id=\"T_5b201_row0_col7\" class=\"data row0 col7\" >0</td>\n",
              "      <td id=\"T_5b201_row0_col8\" class=\"data row0 col8\" >0</td>\n",
              "      <td id=\"T_5b201_row0_col9\" class=\"data row0 col9\" >0</td>\n",
              "      <td id=\"T_5b201_row0_col10\" class=\"data row0 col10\" >0</td>\n",
              "      <td id=\"T_5b201_row0_col11\" class=\"data row0 col11\" >0</td>\n",
              "      <td id=\"T_5b201_row0_col12\" class=\"data row0 col12\" >0</td>\n",
              "      <td id=\"T_5b201_row0_col13\" class=\"data row0 col13\" >0</td>\n",
              "      <td id=\"T_5b201_row0_col14\" class=\"data row0 col14\" >0</td>\n",
              "      <td id=\"T_5b201_row0_col15\" class=\"data row0 col15\" >0</td>\n",
              "      <td id=\"T_5b201_row0_col16\" class=\"data row0 col16\" >0</td>\n",
              "      <td id=\"T_5b201_row0_col17\" class=\"data row0 col17\" >0</td>\n",
              "    </tr>\n",
              "    <tr>\n",
              "      <th id=\"T_5b201_level0_row1\" class=\"row_heading level0 row1\" >1</th>\n",
              "      <td id=\"T_5b201_row1_col0\" class=\"data row1 col0\" >0</td>\n",
              "      <td id=\"T_5b201_row1_col1\" class=\"data row1 col1\" >0</td>\n",
              "      <td id=\"T_5b201_row1_col2\" class=\"data row1 col2\" >0</td>\n",
              "      <td id=\"T_5b201_row1_col3\" class=\"data row1 col3\" >0</td>\n",
              "      <td id=\"T_5b201_row1_col4\" class=\"data row1 col4\" >0</td>\n",
              "      <td id=\"T_5b201_row1_col5\" class=\"data row1 col5\" >29</td>\n",
              "      <td id=\"T_5b201_row1_col6\" class=\"data row1 col6\" >150</td>\n",
              "      <td id=\"T_5b201_row1_col7\" class=\"data row1 col7\" >195</td>\n",
              "      <td id=\"T_5b201_row1_col8\" class=\"data row1 col8\" >254</td>\n",
              "      <td id=\"T_5b201_row1_col9\" class=\"data row1 col9\" >255</td>\n",
              "      <td id=\"T_5b201_row1_col10\" class=\"data row1 col10\" >254</td>\n",
              "      <td id=\"T_5b201_row1_col11\" class=\"data row1 col11\" >176</td>\n",
              "      <td id=\"T_5b201_row1_col12\" class=\"data row1 col12\" >193</td>\n",
              "      <td id=\"T_5b201_row1_col13\" class=\"data row1 col13\" >150</td>\n",
              "      <td id=\"T_5b201_row1_col14\" class=\"data row1 col14\" >96</td>\n",
              "      <td id=\"T_5b201_row1_col15\" class=\"data row1 col15\" >0</td>\n",
              "      <td id=\"T_5b201_row1_col16\" class=\"data row1 col16\" >0</td>\n",
              "      <td id=\"T_5b201_row1_col17\" class=\"data row1 col17\" >0</td>\n",
              "    </tr>\n",
              "    <tr>\n",
              "      <th id=\"T_5b201_level0_row2\" class=\"row_heading level0 row2\" >2</th>\n",
              "      <td id=\"T_5b201_row2_col0\" class=\"data row2 col0\" >0</td>\n",
              "      <td id=\"T_5b201_row2_col1\" class=\"data row2 col1\" >0</td>\n",
              "      <td id=\"T_5b201_row2_col2\" class=\"data row2 col2\" >0</td>\n",
              "      <td id=\"T_5b201_row2_col3\" class=\"data row2 col3\" >48</td>\n",
              "      <td id=\"T_5b201_row2_col4\" class=\"data row2 col4\" >166</td>\n",
              "      <td id=\"T_5b201_row2_col5\" class=\"data row2 col5\" >224</td>\n",
              "      <td id=\"T_5b201_row2_col6\" class=\"data row2 col6\" >253</td>\n",
              "      <td id=\"T_5b201_row2_col7\" class=\"data row2 col7\" >253</td>\n",
              "      <td id=\"T_5b201_row2_col8\" class=\"data row2 col8\" >234</td>\n",
              "      <td id=\"T_5b201_row2_col9\" class=\"data row2 col9\" >196</td>\n",
              "      <td id=\"T_5b201_row2_col10\" class=\"data row2 col10\" >253</td>\n",
              "      <td id=\"T_5b201_row2_col11\" class=\"data row2 col11\" >253</td>\n",
              "      <td id=\"T_5b201_row2_col12\" class=\"data row2 col12\" >253</td>\n",
              "      <td id=\"T_5b201_row2_col13\" class=\"data row2 col13\" >253</td>\n",
              "      <td id=\"T_5b201_row2_col14\" class=\"data row2 col14\" >233</td>\n",
              "      <td id=\"T_5b201_row2_col15\" class=\"data row2 col15\" >0</td>\n",
              "      <td id=\"T_5b201_row2_col16\" class=\"data row2 col16\" >0</td>\n",
              "      <td id=\"T_5b201_row2_col17\" class=\"data row2 col17\" >0</td>\n",
              "    </tr>\n",
              "    <tr>\n",
              "      <th id=\"T_5b201_level0_row3\" class=\"row_heading level0 row3\" >3</th>\n",
              "      <td id=\"T_5b201_row3_col0\" class=\"data row3 col0\" >0</td>\n",
              "      <td id=\"T_5b201_row3_col1\" class=\"data row3 col1\" >93</td>\n",
              "      <td id=\"T_5b201_row3_col2\" class=\"data row3 col2\" >244</td>\n",
              "      <td id=\"T_5b201_row3_col3\" class=\"data row3 col3\" >249</td>\n",
              "      <td id=\"T_5b201_row3_col4\" class=\"data row3 col4\" >253</td>\n",
              "      <td id=\"T_5b201_row3_col5\" class=\"data row3 col5\" >187</td>\n",
              "      <td id=\"T_5b201_row3_col6\" class=\"data row3 col6\" >46</td>\n",
              "      <td id=\"T_5b201_row3_col7\" class=\"data row3 col7\" >10</td>\n",
              "      <td id=\"T_5b201_row3_col8\" class=\"data row3 col8\" >8</td>\n",
              "      <td id=\"T_5b201_row3_col9\" class=\"data row3 col9\" >4</td>\n",
              "      <td id=\"T_5b201_row3_col10\" class=\"data row3 col10\" >10</td>\n",
              "      <td id=\"T_5b201_row3_col11\" class=\"data row3 col11\" >194</td>\n",
              "      <td id=\"T_5b201_row3_col12\" class=\"data row3 col12\" >253</td>\n",
              "      <td id=\"T_5b201_row3_col13\" class=\"data row3 col13\" >253</td>\n",
              "      <td id=\"T_5b201_row3_col14\" class=\"data row3 col14\" >233</td>\n",
              "      <td id=\"T_5b201_row3_col15\" class=\"data row3 col15\" >0</td>\n",
              "      <td id=\"T_5b201_row3_col16\" class=\"data row3 col16\" >0</td>\n",
              "      <td id=\"T_5b201_row3_col17\" class=\"data row3 col17\" >0</td>\n",
              "    </tr>\n",
              "    <tr>\n",
              "      <th id=\"T_5b201_level0_row4\" class=\"row_heading level0 row4\" >4</th>\n",
              "      <td id=\"T_5b201_row4_col0\" class=\"data row4 col0\" >0</td>\n",
              "      <td id=\"T_5b201_row4_col1\" class=\"data row4 col1\" >107</td>\n",
              "      <td id=\"T_5b201_row4_col2\" class=\"data row4 col2\" >253</td>\n",
              "      <td id=\"T_5b201_row4_col3\" class=\"data row4 col3\" >253</td>\n",
              "      <td id=\"T_5b201_row4_col4\" class=\"data row4 col4\" >230</td>\n",
              "      <td id=\"T_5b201_row4_col5\" class=\"data row4 col5\" >48</td>\n",
              "      <td id=\"T_5b201_row4_col6\" class=\"data row4 col6\" >0</td>\n",
              "      <td id=\"T_5b201_row4_col7\" class=\"data row4 col7\" >0</td>\n",
              "      <td id=\"T_5b201_row4_col8\" class=\"data row4 col8\" >0</td>\n",
              "      <td id=\"T_5b201_row4_col9\" class=\"data row4 col9\" >0</td>\n",
              "      <td id=\"T_5b201_row4_col10\" class=\"data row4 col10\" >0</td>\n",
              "      <td id=\"T_5b201_row4_col11\" class=\"data row4 col11\" >192</td>\n",
              "      <td id=\"T_5b201_row4_col12\" class=\"data row4 col12\" >253</td>\n",
              "      <td id=\"T_5b201_row4_col13\" class=\"data row4 col13\" >253</td>\n",
              "      <td id=\"T_5b201_row4_col14\" class=\"data row4 col14\" >156</td>\n",
              "      <td id=\"T_5b201_row4_col15\" class=\"data row4 col15\" >0</td>\n",
              "      <td id=\"T_5b201_row4_col16\" class=\"data row4 col16\" >0</td>\n",
              "      <td id=\"T_5b201_row4_col17\" class=\"data row4 col17\" >0</td>\n",
              "    </tr>\n",
              "    <tr>\n",
              "      <th id=\"T_5b201_level0_row5\" class=\"row_heading level0 row5\" >5</th>\n",
              "      <td id=\"T_5b201_row5_col0\" class=\"data row5 col0\" >0</td>\n",
              "      <td id=\"T_5b201_row5_col1\" class=\"data row5 col1\" >3</td>\n",
              "      <td id=\"T_5b201_row5_col2\" class=\"data row5 col2\" >20</td>\n",
              "      <td id=\"T_5b201_row5_col3\" class=\"data row5 col3\" >20</td>\n",
              "      <td id=\"T_5b201_row5_col4\" class=\"data row5 col4\" >15</td>\n",
              "      <td id=\"T_5b201_row5_col5\" class=\"data row5 col5\" >0</td>\n",
              "      <td id=\"T_5b201_row5_col6\" class=\"data row5 col6\" >0</td>\n",
              "      <td id=\"T_5b201_row5_col7\" class=\"data row5 col7\" >0</td>\n",
              "      <td id=\"T_5b201_row5_col8\" class=\"data row5 col8\" >0</td>\n",
              "      <td id=\"T_5b201_row5_col9\" class=\"data row5 col9\" >0</td>\n",
              "      <td id=\"T_5b201_row5_col10\" class=\"data row5 col10\" >43</td>\n",
              "      <td id=\"T_5b201_row5_col11\" class=\"data row5 col11\" >224</td>\n",
              "      <td id=\"T_5b201_row5_col12\" class=\"data row5 col12\" >253</td>\n",
              "      <td id=\"T_5b201_row5_col13\" class=\"data row5 col13\" >245</td>\n",
              "      <td id=\"T_5b201_row5_col14\" class=\"data row5 col14\" >74</td>\n",
              "      <td id=\"T_5b201_row5_col15\" class=\"data row5 col15\" >0</td>\n",
              "      <td id=\"T_5b201_row5_col16\" class=\"data row5 col16\" >0</td>\n",
              "      <td id=\"T_5b201_row5_col17\" class=\"data row5 col17\" >0</td>\n",
              "    </tr>\n",
              "    <tr>\n",
              "      <th id=\"T_5b201_level0_row6\" class=\"row_heading level0 row6\" >6</th>\n",
              "      <td id=\"T_5b201_row6_col0\" class=\"data row6 col0\" >0</td>\n",
              "      <td id=\"T_5b201_row6_col1\" class=\"data row6 col1\" >0</td>\n",
              "      <td id=\"T_5b201_row6_col2\" class=\"data row6 col2\" >0</td>\n",
              "      <td id=\"T_5b201_row6_col3\" class=\"data row6 col3\" >0</td>\n",
              "      <td id=\"T_5b201_row6_col4\" class=\"data row6 col4\" >0</td>\n",
              "      <td id=\"T_5b201_row6_col5\" class=\"data row6 col5\" >0</td>\n",
              "      <td id=\"T_5b201_row6_col6\" class=\"data row6 col6\" >0</td>\n",
              "      <td id=\"T_5b201_row6_col7\" class=\"data row6 col7\" >0</td>\n",
              "      <td id=\"T_5b201_row6_col8\" class=\"data row6 col8\" >0</td>\n",
              "      <td id=\"T_5b201_row6_col9\" class=\"data row6 col9\" >0</td>\n",
              "      <td id=\"T_5b201_row6_col10\" class=\"data row6 col10\" >249</td>\n",
              "      <td id=\"T_5b201_row6_col11\" class=\"data row6 col11\" >253</td>\n",
              "      <td id=\"T_5b201_row6_col12\" class=\"data row6 col12\" >245</td>\n",
              "      <td id=\"T_5b201_row6_col13\" class=\"data row6 col13\" >126</td>\n",
              "      <td id=\"T_5b201_row6_col14\" class=\"data row6 col14\" >0</td>\n",
              "      <td id=\"T_5b201_row6_col15\" class=\"data row6 col15\" >0</td>\n",
              "      <td id=\"T_5b201_row6_col16\" class=\"data row6 col16\" >0</td>\n",
              "      <td id=\"T_5b201_row6_col17\" class=\"data row6 col17\" >0</td>\n",
              "    </tr>\n",
              "    <tr>\n",
              "      <th id=\"T_5b201_level0_row7\" class=\"row_heading level0 row7\" >7</th>\n",
              "      <td id=\"T_5b201_row7_col0\" class=\"data row7 col0\" >0</td>\n",
              "      <td id=\"T_5b201_row7_col1\" class=\"data row7 col1\" >0</td>\n",
              "      <td id=\"T_5b201_row7_col2\" class=\"data row7 col2\" >0</td>\n",
              "      <td id=\"T_5b201_row7_col3\" class=\"data row7 col3\" >0</td>\n",
              "      <td id=\"T_5b201_row7_col4\" class=\"data row7 col4\" >0</td>\n",
              "      <td id=\"T_5b201_row7_col5\" class=\"data row7 col5\" >0</td>\n",
              "      <td id=\"T_5b201_row7_col6\" class=\"data row7 col6\" >0</td>\n",
              "      <td id=\"T_5b201_row7_col7\" class=\"data row7 col7\" >14</td>\n",
              "      <td id=\"T_5b201_row7_col8\" class=\"data row7 col8\" >101</td>\n",
              "      <td id=\"T_5b201_row7_col9\" class=\"data row7 col9\" >223</td>\n",
              "      <td id=\"T_5b201_row7_col10\" class=\"data row7 col10\" >253</td>\n",
              "      <td id=\"T_5b201_row7_col11\" class=\"data row7 col11\" >248</td>\n",
              "      <td id=\"T_5b201_row7_col12\" class=\"data row7 col12\" >124</td>\n",
              "      <td id=\"T_5b201_row7_col13\" class=\"data row7 col13\" >0</td>\n",
              "      <td id=\"T_5b201_row7_col14\" class=\"data row7 col14\" >0</td>\n",
              "      <td id=\"T_5b201_row7_col15\" class=\"data row7 col15\" >0</td>\n",
              "      <td id=\"T_5b201_row7_col16\" class=\"data row7 col16\" >0</td>\n",
              "      <td id=\"T_5b201_row7_col17\" class=\"data row7 col17\" >0</td>\n",
              "    </tr>\n",
              "    <tr>\n",
              "      <th id=\"T_5b201_level0_row8\" class=\"row_heading level0 row8\" >8</th>\n",
              "      <td id=\"T_5b201_row8_col0\" class=\"data row8 col0\" >0</td>\n",
              "      <td id=\"T_5b201_row8_col1\" class=\"data row8 col1\" >0</td>\n",
              "      <td id=\"T_5b201_row8_col2\" class=\"data row8 col2\" >0</td>\n",
              "      <td id=\"T_5b201_row8_col3\" class=\"data row8 col3\" >0</td>\n",
              "      <td id=\"T_5b201_row8_col4\" class=\"data row8 col4\" >0</td>\n",
              "      <td id=\"T_5b201_row8_col5\" class=\"data row8 col5\" >11</td>\n",
              "      <td id=\"T_5b201_row8_col6\" class=\"data row8 col6\" >166</td>\n",
              "      <td id=\"T_5b201_row8_col7\" class=\"data row8 col7\" >239</td>\n",
              "      <td id=\"T_5b201_row8_col8\" class=\"data row8 col8\" >253</td>\n",
              "      <td id=\"T_5b201_row8_col9\" class=\"data row8 col9\" >253</td>\n",
              "      <td id=\"T_5b201_row8_col10\" class=\"data row8 col10\" >253</td>\n",
              "      <td id=\"T_5b201_row8_col11\" class=\"data row8 col11\" >187</td>\n",
              "      <td id=\"T_5b201_row8_col12\" class=\"data row8 col12\" >30</td>\n",
              "      <td id=\"T_5b201_row8_col13\" class=\"data row8 col13\" >0</td>\n",
              "      <td id=\"T_5b201_row8_col14\" class=\"data row8 col14\" >0</td>\n",
              "      <td id=\"T_5b201_row8_col15\" class=\"data row8 col15\" >0</td>\n",
              "      <td id=\"T_5b201_row8_col16\" class=\"data row8 col16\" >0</td>\n",
              "      <td id=\"T_5b201_row8_col17\" class=\"data row8 col17\" >0</td>\n",
              "    </tr>\n",
              "    <tr>\n",
              "      <th id=\"T_5b201_level0_row9\" class=\"row_heading level0 row9\" >9</th>\n",
              "      <td id=\"T_5b201_row9_col0\" class=\"data row9 col0\" >0</td>\n",
              "      <td id=\"T_5b201_row9_col1\" class=\"data row9 col1\" >0</td>\n",
              "      <td id=\"T_5b201_row9_col2\" class=\"data row9 col2\" >0</td>\n",
              "      <td id=\"T_5b201_row9_col3\" class=\"data row9 col3\" >0</td>\n",
              "      <td id=\"T_5b201_row9_col4\" class=\"data row9 col4\" >0</td>\n",
              "      <td id=\"T_5b201_row9_col5\" class=\"data row9 col5\" >16</td>\n",
              "      <td id=\"T_5b201_row9_col6\" class=\"data row9 col6\" >248</td>\n",
              "      <td id=\"T_5b201_row9_col7\" class=\"data row9 col7\" >250</td>\n",
              "      <td id=\"T_5b201_row9_col8\" class=\"data row9 col8\" >253</td>\n",
              "      <td id=\"T_5b201_row9_col9\" class=\"data row9 col9\" >253</td>\n",
              "      <td id=\"T_5b201_row9_col10\" class=\"data row9 col10\" >253</td>\n",
              "      <td id=\"T_5b201_row9_col11\" class=\"data row9 col11\" >253</td>\n",
              "      <td id=\"T_5b201_row9_col12\" class=\"data row9 col12\" >232</td>\n",
              "      <td id=\"T_5b201_row9_col13\" class=\"data row9 col13\" >213</td>\n",
              "      <td id=\"T_5b201_row9_col14\" class=\"data row9 col14\" >111</td>\n",
              "      <td id=\"T_5b201_row9_col15\" class=\"data row9 col15\" >2</td>\n",
              "      <td id=\"T_5b201_row9_col16\" class=\"data row9 col16\" >0</td>\n",
              "      <td id=\"T_5b201_row9_col17\" class=\"data row9 col17\" >0</td>\n",
              "    </tr>\n",
              "    <tr>\n",
              "      <th id=\"T_5b201_level0_row10\" class=\"row_heading level0 row10\" >10</th>\n",
              "      <td id=\"T_5b201_row10_col0\" class=\"data row10 col0\" >0</td>\n",
              "      <td id=\"T_5b201_row10_col1\" class=\"data row10 col1\" >0</td>\n",
              "      <td id=\"T_5b201_row10_col2\" class=\"data row10 col2\" >0</td>\n",
              "      <td id=\"T_5b201_row10_col3\" class=\"data row10 col3\" >0</td>\n",
              "      <td id=\"T_5b201_row10_col4\" class=\"data row10 col4\" >0</td>\n",
              "      <td id=\"T_5b201_row10_col5\" class=\"data row10 col5\" >0</td>\n",
              "      <td id=\"T_5b201_row10_col6\" class=\"data row10 col6\" >0</td>\n",
              "      <td id=\"T_5b201_row10_col7\" class=\"data row10 col7\" >43</td>\n",
              "      <td id=\"T_5b201_row10_col8\" class=\"data row10 col8\" >98</td>\n",
              "      <td id=\"T_5b201_row10_col9\" class=\"data row10 col9\" >98</td>\n",
              "      <td id=\"T_5b201_row10_col10\" class=\"data row10 col10\" >208</td>\n",
              "      <td id=\"T_5b201_row10_col11\" class=\"data row10 col11\" >253</td>\n",
              "      <td id=\"T_5b201_row10_col12\" class=\"data row10 col12\" >253</td>\n",
              "      <td id=\"T_5b201_row10_col13\" class=\"data row10 col13\" >253</td>\n",
              "      <td id=\"T_5b201_row10_col14\" class=\"data row10 col14\" >253</td>\n",
              "      <td id=\"T_5b201_row10_col15\" class=\"data row10 col15\" >187</td>\n",
              "      <td id=\"T_5b201_row10_col16\" class=\"data row10 col16\" >22</td>\n",
              "      <td id=\"T_5b201_row10_col17\" class=\"data row10 col17\" >0</td>\n",
              "    </tr>\n",
              "  </tbody>\n",
              "</table>\n"
            ]
          },
          "metadata": {},
          "execution_count": 7
        }
      ]
    },
    {
      "cell_type": "markdown",
      "source": [
        "### df = pd.DataFrame(im3_t[4:15, 4:22])\n",
        "##### * pd는 pandas 를 의미.\n",
        "##### ** DataFrame()으로 데이터프레임 생성.\n",
        "##### *** im3_t[4:15, 4:22] 에서 4:15 은 4 ~ 14, 그리고 4:22 은 4 ~ 21 을 의미한다. 따라서, 데이터 프레임의 행은 0부터 (14 - 4 = )10, 열은 0부터 (21 - 4 = )17 까지의 범위를 표현하게 된다.\n",
        "### df.style.set_properties(**{'font-size':'6pt'}).background_gradient('Greys')\n",
        "##### * df.style: df의 스타일 클래스\n",
        "##### ** .set_properties(): 속성 설정 함수\n",
        "##### *** (**{'font-size':'6pt'}): **의 의미는 잘 모르겠지만, 폰트사이즈를 6포인트로 설정하겠다는 의미.\n",
        "##### **** .background_gradient('Greys') 배경의 그라데이션을 'Greys(흑백)'으로 설정.\n",
        "##### ***** 디자인적인 의미에서 그라데이션을 기울기로 나타낸다. 색이 진해질 수록 기울기가 높다.\n",
        "### 숫자 -> 그림 분석\n",
        "##### * 완전 흰색은 0!, 완전 검은색은 255!\n",
        "##### ** 이미지는 28 x 28 이다.\n",
        "##### *** 즉, 가로 28개, 세로 28개의 픽셀들(784개)로 구성된다는 뜻이다."
      ],
      "metadata": {
        "id": "A5rlAzSQUFML"
      }
    },
    {
      "cell_type": "markdown",
      "source": [
        "## 4.2 첫번째 시도: 픽셀 유사성\n",
        "#### 시도 1: 숫자 3과 7에 대한 모든 이미지의 평균 픽셀값 구하기\n",
        "##### 두 숫자에 대해 얻은 '평균 픽셀값'은 \"이상적인\" 3과 7로 정의해볼 수 있다.\n",
        "### ① 평균 픽셀값 구하기:"
      ],
      "metadata": {
        "id": "OUAobi8wYS0V"
      }
    },
    {
      "cell_type": "code",
      "source": [
        "# 모든 숫자 3 이미지를 쌓아 올린 텐서를 만들어 보기.\n",
        "seven_tensors = [tensor(Image.open(o)) for o in sevens]\n",
        "three_tensors = [tensor(Image.open(o)) for o in threes]\n",
        "len(three_tensors), len(seven_tensors)"
      ],
      "metadata": {
        "id": "FV4WGpiSSFdM",
        "colab": {
          "base_uri": "https://localhost:8080/"
        },
        "outputId": "bd6ffaff-d06b-4fa9-bd70-24405424d715"
      },
      "execution_count": 8,
      "outputs": [
        {
          "output_type": "execute_result",
          "data": {
            "text/plain": [
              "(6131, 6265)"
            ]
          },
          "metadata": {},
          "execution_count": 8
        }
      ]
    },
    {
      "cell_type": "markdown",
      "source": [
        "### seven_tensors = [tensor(Image.open(o)) for o in sevens]\n",
        "##### * list[] 안에 for문: 리스트 컴프리헨션\n",
        "##### ** 통상적인 반복문 사용과 비교해 코드의 양도 더 적고, 속도도 월등히 빠름."
      ],
      "metadata": {
        "id": "Z_o-xumf7jsR"
      }
    },
    {
      "cell_type": "markdown",
      "source": [
        "### ② 리스트 제대로 만들어졌는지 확인하기\n",
        "##### * 위에서 tensor(Image.open(o)) 코드를 통해 tensor 형식으로 이미지가 생성되었으므로, 출력하려면 fastai가 제공하는 show_image 함수를 사용 해야한다."
      ],
      "metadata": {
        "id": "tKMtZgnk7_MZ"
      }
    },
    {
      "cell_type": "code",
      "source": [
        "show_image(three_tensors[1]);"
      ],
      "metadata": {
        "colab": {
          "base_uri": "https://localhost:8080/",
          "height": 85
        },
        "id": "hzyBe0zh7UFa",
        "outputId": "c8c8d1fd-ab47-43e1-f9d9-3ab6095f5b38"
      },
      "execution_count": 9,
      "outputs": [
        {
          "output_type": "display_data",
          "data": {
            "text/plain": [
              "<Figure size 72x72 with 1 Axes>"
            ],
            "image/png": "[encoded data removed]"
          },
          "metadata": {
            "needs_background": "light"
          }
        }
      ]
    },
    {
      "cell_type": "markdown",
      "source": [
        "##### ! 우리의 목표는 \"각 픽셀 위치의 전체 평균을 계산 -> 각 픽셀의 강도 구하기\".\n",
        "##### /_> 리스트 내의 모든 이미지를 \"3차원 텐서 '하나로' 결합\" 해야 한다.\n",
        "##### * 일반적으로 3차원 텐서는 '랭크3 텐서' 라고 한다.\n",
        "##### ** stack(): 컬렉션에 담긴 개별 텐서들을 쌓아올려 단일 텐서로 만드는 역할 (파이토치 제공)\n",
        "##### *** (파이토치 제공) '일부' 연산은 '부동 소수형 데이터만' 을 지원. => 작업에 따라 '형변환'을 해야 한다."
      ],
      "metadata": {
        "id": "49qur6Zd8k9i"
      }
    },
    {
      "cell_type": "code",
      "source": [
        "# 픽셀값을 부동소수로 표현할 때는 값을 0 ~ 1 로 맞춰줘야 한다.\n",
        "stacked_sevens = torch.stack(seven_tensors).float()/255\n",
        "stacked_threes = torch.stack(three_tensors).float()/255\n",
        "stacked_threes.shape"
      ],
      "metadata": {
        "colab": {
          "base_uri": "https://localhost:8080/"
        },
        "id": "k2fTNbat8dIK",
        "outputId": "b038d8e6-8052-47b2-c92a-307b63afdf34"
      },
      "execution_count": 10,
      "outputs": [
        {
          "output_type": "execute_result",
          "data": {
            "text/plain": [
              "torch.Size([6131, 28, 28])"
            ]
          },
          "metadata": {},
          "execution_count": 10
        }
      ]
    },
    {
      "cell_type": "markdown",
      "source": [
        "### stacked_threes.shape\n",
        "##### * tensor.shape: \"각 축의 길이를 표현\" 하는 텐서의 '속성'\n",
        "##### ** 텐서를 구성하는 '각 축의 의미'는 순전히 텐서를 만드는 '우리가 정한다'.\n",
        "##### *** 랭크: 텐서의 차원 또는 축의 개수, shape: 각 축의 크기를 표현. 따라서, '랭크 = 텐서' 로 여길 수 있다."
      ],
      "metadata": {
        "id": "moHLXQh7Abbg"
      }
    },
    {
      "cell_type": "code",
      "source": [
        "len(stacked_threes.shape)"
      ],
      "metadata": {
        "colab": {
          "base_uri": "https://localhost:8080/"
        },
        "id": "nCnYY55oQJeE",
        "outputId": "ad7f7000-c8e6-46ea-ab9a-8a4b8ce7ab38"
      },
      "execution_count": 11,
      "outputs": [
        {
          "output_type": "execute_result",
          "data": {
            "text/plain": [
              "3"
            ]
          },
          "metadata": {},
          "execution_count": 11
        }
      ]
    },
    {
      "cell_type": "code",
      "source": [
        "# ndim 속성으로 rank를 바로 확인가능.\n",
        "stacked_threes.ndim"
      ],
      "metadata": {
        "colab": {
          "base_uri": "https://localhost:8080/"
        },
        "id": "M-O0_A0aQP4I",
        "outputId": "24ad6d25-0e1c-4b13-9c3f-47908434b38d"
      },
      "execution_count": 12,
      "outputs": [
        {
          "output_type": "execute_result",
          "data": {
            "text/plain": [
              "3"
            ]
          },
          "metadata": {},
          "execution_count": 12
        }
      ]
    },
    {
      "cell_type": "markdown",
      "source": [
        "### ③ 각 픽셀의 위치에 대한 모든 이미지의 평균을 구하고, 한 장의 이미지로 만들기.\n",
        "##### * 쌓아 올린 랭크3 텐서에서 0번째 차원의 평균을 구해, 모든 이미지 텐서의 평균을 구함."
      ],
      "metadata": {
        "id": "o7fya72lQxfm"
      }
    },
    {
      "cell_type": "code",
      "source": [
        "mean3 = stacked_threes.mean(0)\n",
        "show_image(mean3);\n",
        "# ';'를 주의"
      ],
      "metadata": {
        "colab": {
          "base_uri": "https://localhost:8080/",
          "height": 85
        },
        "id": "_8fccCbpQjmT",
        "outputId": "9450a48d-f4bc-45ad-b79f-d7fcd592d049"
      },
      "execution_count": 13,
      "outputs": [
        {
          "output_type": "display_data",
          "data": {
            "text/plain": [
              "<Figure size 72x72 with 1 Axes>"
            ],
            "image/png": "[encoded data removed]"
          },
          "metadata": {
            "needs_background": "light"
          }
        }
      ]
    },
    {
      "cell_type": "code",
      "source": [
        "mean7 = stacked_sevens.mean(0)\n",
        "show_image(mean7);"
      ],
      "metadata": {
        "colab": {
          "base_uri": "https://localhost:8080/",
          "height": 85
        },
        "id": "pHXr4m7xRdAc",
        "outputId": "3b50851d-9e9c-4073-9ecf-80fb1579dbd8"
      },
      "execution_count": 14,
      "outputs": [
        {
          "output_type": "display_data",
          "data": {
            "text/plain": [
              "<Figure size 72x72 with 1 Axes>"
            ],
            "image/png": "[encoded data removed]"
          },
          "metadata": {
            "needs_background": "light"
          }
        }
      ]
    },
    {
      "cell_type": "markdown",
      "source": [
        "### ④ 이상적인 숫자들과의 '거리' 구하기\n",
        "##### * 얼마나 수정해야 비교대상과 같아지는가?"
      ],
      "metadata": {
        "id": "7r5M3sZ7RnGL"
      }
    },
    {
      "cell_type": "code",
      "source": [
        "# 임의로 숫자 3 샘플 하나 선택\n",
        "a_3 = stacked_threes[1]\n",
        "show_image(a_3);"
      ],
      "metadata": {
        "colab": {
          "base_uri": "https://localhost:8080/",
          "height": 85
        },
        "id": "bbMa-7eURlzR",
        "outputId": "31b03fef-c30b-4613-d623-079b469bf115"
      },
      "execution_count": 15,
      "outputs": [
        {
          "output_type": "display_data",
          "data": {
            "text/plain": [
              "<Figure size 72x72 with 1 Axes>"
            ],
            "image/png": "[encoded data removed]"
          },
          "metadata": {
            "needs_background": "light"
          }
        }
      ]
    },
    {
      "cell_type": "markdown",
      "source": [
        "##### * 일부 차이에서는 +, 일부 차이에서는 - 가 발생할 수 있다. 이 차이들을 합하면 상쇄되므로, 극단적으로는 더한 차이가 0 으로만 구성되는 결과를 얻을 수도 있다. 따라서, 2가지 방법의 해결책이 주로 사용된다.\n",
        "##### ** L1 norm, 평균절대차(MAD: Mean Absolute Difference) - 차이의 절댓값에 대한 평균을 구하는(음수를 양수화) 방법.\n",
        "##### *** L2 norm, 평균제곱근오차(RMSE: Root Mean Squared Error) - 차이의 제곱(모든 수를 양수화)에 대한 평균의 제곱근(제곱을 다시 원상태로 되돌림)을 구하는 방법."
      ],
      "metadata": {
        "id": "xQLZGFq-SXbI"
      }
    },
    {
      "cell_type": "code",
      "source": [
        "# MAD\n",
        "dist_3_abs = (a_3 - mean3).abs().mean()\n",
        "# RMSE\n",
        "dist_3_sqr = ((a_3 - mean3)**2).mean().sqrt()\n",
        "\n",
        "dist_3_abs, dist_3_sqr"
      ],
      "metadata": {
        "colab": {
          "base_uri": "https://localhost:8080/"
        },
        "id": "LjX8ZYTkR_rg",
        "outputId": "e67b7229-2d2b-44b3-96fa-58a883f0b033"
      },
      "execution_count": 16,
      "outputs": [
        {
          "output_type": "execute_result",
          "data": {
            "text/plain": [
              "(tensor(0.1114), tensor(0.2021))"
            ]
          },
          "metadata": {},
          "execution_count": 16
        }
      ]
    },
    {
      "cell_type": "code",
      "source": [
        "# MAD\n",
        "dist_7_abs = (a_3 - mean7).abs().mean()\n",
        "# RMSE\n",
        "dist_7_sqr = ((a_3 - mean7)**2).mean().sqrt()\n",
        "\n",
        "dist_7_abs, dist_7_sqr"
      ],
      "metadata": {
        "colab": {
          "base_uri": "https://localhost:8080/"
        },
        "id": "QQuWz4WPT9TI",
        "outputId": "3bc0818f-1543-4b30-8566-b7cfc8efe7b1"
      },
      "execution_count": 17,
      "outputs": [
        {
          "output_type": "execute_result",
          "data": {
            "text/plain": [
              "(tensor(0.1586), tensor(0.3021))"
            ]
          },
          "metadata": {},
          "execution_count": 17
        }
      ]
    },
    {
      "cell_type": "markdown",
      "source": [
        "### a_3 - mean7\n",
        "##### * 선택한 숫자 3 이미지와 이상적인 숫자 7과의 거리가 이상적인 숫자 3과의 거리보다 더 짧다.\n",
        "##### ** 파이토치는 이 두 방법(MAD, RMSE)에 대해 \"손실 함수\"를 제공한다.\n",
        "##### *** torch.nn.functional 에서 찾아볼 수 있다.\n"
      ],
      "metadata": {
        "id": "NSyToSGqUdsz"
      }
    },
    {
      "cell_type": "code",
      "source": [
        "F.l1_loss(a_3.float(), mean7), F.mse_loss(a_3, mean7).sqrt()"
      ],
      "metadata": {
        "colab": {
          "base_uri": "https://localhost:8080/"
        },
        "id": "mnnq8pqBUcaq",
        "outputId": "76fd8a00-223a-49e4-f66d-861a1c3e1999"
      },
      "execution_count": 18,
      "outputs": [
        {
          "output_type": "execute_result",
          "data": {
            "text/plain": [
              "(tensor(0.1586), tensor(0.3021))"
            ]
          },
          "metadata": {},
          "execution_count": 18
        }
      ]
    },
    {
      "cell_type": "markdown",
      "source": [
        "### F.l1_loss(): 절대평균값('L1 norm' or 'MAV(Mean Absolute Value)'\n",
        "### F.mse_loss(): 평균제곱오차('MSE')\n",
        "##### * 직관적으로, 'MSE'가 'L1 norm'보다 실수에 더 강한 패널티를 부여한다."
      ],
      "metadata": {
        "id": "Zh1iEySfVRKv"
      }
    },
    {
      "cell_type": "markdown",
      "source": [
        "## 4.2.1 넘파이 배열과 파이토치 텐서\n",
        "### Numpy 배열은\n",
        "##### * '수치 프로그래밍'에서 가장 널리 사용되는 파이썬 라이브러리 이다.\n",
        "##### ** 딥러닝에서 매우 중요한 GPU를 이용한 그레디언트 계산(미분) 같은 기능을 제공하지 않는다.\n",
        "##### *** 다른 언어로 작성되었다.(최적화된 컴파일 단계로 만들어진 객체를 파이썬으로 래핑한 것)\n",
        "##### **** 리스트 (1차원)/ 테이블 or 행렬 (2차원)/ 중첩 테이블 or 큐브 (3차원) 이상의 모든 형상을 표현할 수 있다.\n",
        "##### ***** 내부적으로 모두 같은 자료형의 데이터를 C의 자료구조로 압축하여 메모리에 저장한다.\n",
        "### .\n",
        "### Pytorch 텐서는\n",
        "##### Numpy가 제공하는 대다수의 연산자 및 메서드를 '같은 형식'으로 지원한다.\n",
        "##### 'GPU에 적재'가 가능하다.\n",
        "##### '자동 미분'이 가능하다."
      ],
      "metadata": {
        "id": "mKfZTslxWCQk"
      }
    },
    {
      "cell_type": "code",
      "source": [
        "#data = [[1,2,3],[4,5,6]]\n",
        "data = [[1,2,3],\n",
        "        [4,5,6]]\n",
        "arr = array(data)\n",
        "tns = tensor(data)\n",
        "\n",
        "# Numpy Array\n",
        "arr"
      ],
      "metadata": {
        "colab": {
          "base_uri": "https://localhost:8080/"
        },
        "id": "2dT1ibqeVK3n",
        "outputId": "0904d886-7cc7-4de0-a59b-bb0f563d1ac5"
      },
      "execution_count": 19,
      "outputs": [
        {
          "output_type": "execute_result",
          "data": {
            "text/plain": [
              "array([[1, 2, 3],\n",
              "       [4, 5, 6]])"
            ]
          },
          "metadata": {},
          "execution_count": 19
        }
      ]
    },
    {
      "cell_type": "code",
      "source": [
        "# Pytorch Tensor\n",
        "tns"
      ],
      "metadata": {
        "colab": {
          "base_uri": "https://localhost:8080/"
        },
        "id": "eIFfwqwR_S0D",
        "outputId": "0545f6ea-a317-4b80-ff2f-faae10a24280"
      },
      "execution_count": 20,
      "outputs": [
        {
          "output_type": "execute_result",
          "data": {
            "text/plain": [
              "tensor([[1, 2, 3],\n",
              "        [4, 5, 6]])"
            ]
          },
          "metadata": {},
          "execution_count": 20
        }
      ]
    },
    {
      "cell_type": "code",
      "source": [
        "# 두 번째 행\n",
        "tns[1]"
      ],
      "metadata": {
        "colab": {
          "base_uri": "https://localhost:8080/"
        },
        "id": "qWxk3270AZhM",
        "outputId": "21e0693f-8d8f-4b91-d596-544ac09f67d7"
      },
      "execution_count": 21,
      "outputs": [
        {
          "output_type": "execute_result",
          "data": {
            "text/plain": [
              "tensor([4, 5, 6])"
            ]
          },
          "metadata": {},
          "execution_count": 21
        }
      ]
    },
    {
      "cell_type": "code",
      "source": [
        "# 아래 코드의 콜론은 \"첫 번째 축'의 모든것\"\n",
        "tns[:, 1]"
      ],
      "metadata": {
        "colab": {
          "base_uri": "https://localhost:8080/"
        },
        "id": "xlPtw8uXAul0",
        "outputId": "21eaa5ef-4c13-47a9-e010-1a717c2410b7"
      },
      "execution_count": 22,
      "outputs": [
        {
          "output_type": "execute_result",
          "data": {
            "text/plain": [
              "tensor([2, 5])"
            ]
          },
          "metadata": {},
          "execution_count": 22
        }
      ]
    },
    {
      "cell_type": "code",
      "source": [
        "# 슬라이스 문법과 결합\n",
        "tns[1, 1: 3]\n",
        "# 행과 열의 일부를 자유자재로 선택 가능.\n",
        "## 1은 2번째 행, 1: 3은 1부터 2번째 원소"
      ],
      "metadata": {
        "colab": {
          "base_uri": "https://localhost:8080/"
        },
        "id": "_mhKurwVA0CX",
        "outputId": "7831b38a-63d1-4bf3-a229-24416eb53f5c"
      },
      "execution_count": 23,
      "outputs": [
        {
          "output_type": "execute_result",
          "data": {
            "text/plain": [
              "tensor([5, 6])"
            ]
          },
          "metadata": {},
          "execution_count": 23
        }
      ]
    },
    {
      "cell_type": "code",
      "source": [
        "tns + 1\n",
        "# 원소 전체에 1을 더함."
      ],
      "metadata": {
        "colab": {
          "base_uri": "https://localhost:8080/"
        },
        "id": "6CXrE6vmA8kW",
        "outputId": "fd0e8675-3a73-4c38-8461-155901d38692"
      },
      "execution_count": 24,
      "outputs": [
        {
          "output_type": "execute_result",
          "data": {
            "text/plain": [
              "tensor([[2, 3, 4],\n",
              "        [5, 6, 7]])"
            ]
          },
          "metadata": {},
          "execution_count": 24
        }
      ]
    },
    {
      "cell_type": "code",
      "source": [
        "tns.type()"
      ],
      "metadata": {
        "colab": {
          "base_uri": "https://localhost:8080/",
          "height": 35
        },
        "id": "d_K0mzeZBuLl",
        "outputId": "fb0222f0-4f61-4a7e-90ac-2614022c1d22"
      },
      "execution_count": 25,
      "outputs": [
        {
          "output_type": "execute_result",
          "data": {
            "text/plain": [
              "'torch.LongTensor'"
            ],
            "application/vnd.google.colaboratory.intrinsic+json": {
              "type": "string"
            }
          },
          "metadata": {},
          "execution_count": 25
        }
      ]
    },
    {
      "cell_type": "code",
      "source": [
        "tns * 1.5\n",
        "# 필요하면 자동으로 자료형을 바꿈."
      ],
      "metadata": {
        "colab": {
          "base_uri": "https://localhost:8080/"
        },
        "id": "h-5PsAtKB0yR",
        "outputId": "c3b7aac2-3c66-41a5-8a19-040af3452473"
      },
      "execution_count": 26,
      "outputs": [
        {
          "output_type": "execute_result",
          "data": {
            "text/plain": [
              "tensor([[1.5000, 3.0000, 4.5000],\n",
              "        [6.0000, 7.5000, 9.0000]])"
            ]
          },
          "metadata": {},
          "execution_count": 26
        }
      ]
    },
    {
      "cell_type": "markdown",
      "source": [
        "## 4.3 브로드캐스팅으로 평가지표 계산하기\n",
        "##### * 평가지표: \"데이터셋에 표기된 올바른 '레이블'\"과 \"모델이 도출한 '예측'\"을 '비교해'서 \"모델이 '얼마나 좋은지'를 '평가'하는 '단일' 숫자\".\n",
        "##### ** 앞에서 언급된 MSE, MAV, AVG 등을 평가지표로 사용할 수 도 있다.\n",
        "##### *** 위 세 지표 모두 사람이 직관적으로 이해하기 쉽지 않으므로, 보통 '정확도(accuracy)'를 \"분류 모델 평가지표\"로 사용한다."
      ],
      "metadata": {
        "id": "HqppmIeVCJUq"
      }
    },
    {
      "cell_type": "markdown",
      "source": [
        "### 검증용 데이터셋(validation set) 평가지표 계산하기\n",
        "##### (의도치 않게 학습용 데이터셋에서만 잘 작동하는 \"과적합을 피하기 위해서\")\n",
        "##### * 검증용 데이터셋을 얻으려면, 학습에 사용되는 일부 데이터를 완전히 제거해야 한다.\n",
        "##### ** MNIST 데이터셋에는 이미 검증용 데이터셋이 준비되어있다.\n",
        "##### (valid라는 완전 분리된 디렉토리)"
      ],
      "metadata": {
        "id": "JdtodcmiCJO1"
      }
    },
    {
      "cell_type": "code",
      "source": [
        "# '3' 검증용 데이터셋\n",
        "valid_3_tens = torch.stack([tensor(Image.open(o))\n",
        "                            for o in (path/'valid'/'3').ls()])\n",
        "valid_3_tens = valid_3_tens.float()/255\n",
        "\n",
        "# '7' 검증용 데이터셋\n",
        "valid_7_tens = torch.stack([tensor(Image.open(o))\n",
        "                            for o in (path/'valid'/'7').ls()])\n",
        "valid_7_tens = valid_7_tens.float()/255\n",
        "\n",
        "# shape속성: 각 축의 길이 표현\n",
        "valid_3_tens.shape, valid_7_tens.shape"
      ],
      "metadata": {
        "colab": {
          "base_uri": "https://localhost:8080/"
        },
        "id": "RmkaTqp6B5SO",
        "outputId": "b7fbb88a-8a90-48f0-ef59-9dac71d2c39c"
      },
      "execution_count": 27,
      "outputs": [
        {
          "output_type": "execute_result",
          "data": {
            "text/plain": [
              "(torch.Size([1010, 28, 28]), torch.Size([1028, 28, 28]))"
            ]
          },
          "metadata": {},
          "execution_count": 27
        }
      ]
    },
    {
      "cell_type": "markdown",
      "source": [
        "##### * 궁극적인 목표: 임의로 입력된 이미지가 3또는 7인지 판단하는 'is_3 함수'를 만드는 것."
      ],
      "metadata": {
        "id": "Peq5PhEIK4yK"
      }
    },
    {
      "cell_type": "code",
      "source": [
        "# 평균절대오차(MAD) 함수 만들기\n",
        "def mnist_distance(a, b): return (a-b).abs().mean((-1, -2))\n",
        "mnist_distance(a_3, mean3)"
      ],
      "metadata": {
        "colab": {
          "base_uri": "https://localhost:8080/"
        },
        "id": "Fq6GJ7pUFF-u",
        "outputId": "f4f19af0-bccc-4db5-cc1c-ea04d667015e"
      },
      "execution_count": 28,
      "outputs": [
        {
          "output_type": "execute_result",
          "data": {
            "text/plain": [
              "tensor(0.1114)"
            ]
          },
          "metadata": {},
          "execution_count": 28
        }
      ]
    },
    {
      "cell_type": "markdown",
      "source": [
        "##### * a_3와 mean3는 단일 이미지를 표현하는 텐서이다.\n",
        "##### ** 각각 임의의 숫자 3, 이상적인 숫자 3을 표현하며, 둘 다 [28, 28] 모양이다.\n",
        "##### *** 계산 결과는 앞서 계산된 두 이미지 사이의 거리와 같음을 알 수 있다.\n",
        "### .\n",
        "### 그렇다면, 전체 이미지에 대한 평가지표를 계산하려면?\n",
        "##### (검증용 데이터셋 내 모든 이미지와 이상적인 숫자 3 이미지의 거리를 계산해야만 한다.)"
      ],
      "metadata": {
        "id": "qkuNQJadLrv5"
      }
    },
    {
      "cell_type": "code",
      "source": [
        "valid_3_dist = mnist_distance(valid_3_tens, mean3)\n",
        "valid_3_dist, valid_3_dist.shape"
      ],
      "metadata": {
        "colab": {
          "base_uri": "https://localhost:8080/"
        },
        "id": "vGKY4yTCLoRU",
        "outputId": "bdc4fb71-82d0-451d-af92-f440097ba175"
      },
      "execution_count": 29,
      "outputs": [
        {
          "output_type": "execute_result",
          "data": {
            "text/plain": [
              "(tensor([0.1346, 0.1263, 0.1469,  ..., 0.1097, 0.1101, 0.1320]),\n",
              " torch.Size([1010]))"
            ]
          },
          "metadata": {},
          "execution_count": 29
        }
      ]
    },
    {
      "cell_type": "markdown",
      "source": [
        "### !!! 오류가 생기지 않는다!? => !! 브로드캐스팅 !!\n",
        "##### * 브로드캐스팅: 더 낮은 랭크의 텐서를 더 높은 랭크의 텐서와 같은 크기로 자동 확장한다."
      ],
      "metadata": {
        "id": "TTmdgHpJNFEx"
      }
    },
    {
      "cell_type": "code",
      "source": [
        "(valid_3_tens - mean3).shape"
      ],
      "metadata": {
        "colab": {
          "base_uri": "https://localhost:8080/"
        },
        "id": "BNphJYokM7dh",
        "outputId": "8a0abd37-7eb3-4032-8d52-e9ffd7f00f94"
      },
      "execution_count": 30,
      "outputs": [
        {
          "output_type": "execute_result",
          "data": {
            "text/plain": [
              "torch.Size([1010, 28, 28])"
            ]
          },
          "metadata": {},
          "execution_count": 30
        }
      ]
    },
    {
      "cell_type": "code",
      "source": [
        "def is_3(x): return mnist_distance(x, mean3) < mnist_distance(x, mean7)"
      ],
      "metadata": {
        "id": "WPasF0hPN2xC"
      },
      "execution_count": 31,
      "outputs": []
    },
    {
      "cell_type": "code",
      "source": [
        "is_3(a_3), is_3(a_3).float()"
      ],
      "metadata": {
        "colab": {
          "base_uri": "https://localhost:8080/"
        },
        "id": "mWZKjM84OvQw",
        "outputId": "f48c178e-01ca-423a-8b18-3e3f68180210"
      },
      "execution_count": 32,
      "outputs": [
        {
          "output_type": "execute_result",
          "data": {
            "text/plain": [
              "(tensor(True), tensor(1.))"
            ]
          },
          "metadata": {},
          "execution_count": 32
        }
      ]
    },
    {
      "cell_type": "markdown",
      "source": [
        "### is_3(a_3)\n",
        "##### * True 또는 False 반환\n",
        "###is_3(a_3).float()\n",
        "##### * .float()을 통해 부동소수화; True = 1.0, False = 0.0\n"
      ],
      "metadata": {
        "id": "XkVzMuESPTqd"
      }
    },
    {
      "cell_type": "code",
      "source": [
        "is_3(valid_3_tens)"
      ],
      "metadata": {
        "colab": {
          "base_uri": "https://localhost:8080/"
        },
        "id": "dnTqPjaVO0On",
        "outputId": "d9e45895-06ac-495b-82ac-fd810709fef2"
      },
      "execution_count": 33,
      "outputs": [
        {
          "output_type": "execute_result",
          "data": {
            "text/plain": [
              "tensor([True, True, True,  ..., True, True, True])"
            ]
          },
          "metadata": {},
          "execution_count": 33
        }
      ]
    },
    {
      "cell_type": "code",
      "source": [
        "accuracy_3s =       is_3(valid_3_tens).float().mean()\n",
        "accuracy_7s = (1 - is_3(valid_7_tens).float()).mean()\n",
        "\n",
        "accuracy_3s, accuracy_7s, (accuracy_3s + accuracy_7s)/2"
      ],
      "metadata": {
        "colab": {
          "base_uri": "https://localhost:8080/"
        },
        "id": "nA6kxXC0Pro1",
        "outputId": "b2c394f4-bad5-4e6a-c4a9-d7219b1a871d"
      },
      "execution_count": 34,
      "outputs": [
        {
          "output_type": "execute_result",
          "data": {
            "text/plain": [
              "(tensor(0.9168), tensor(0.9854), tensor(0.9511))"
            ]
          },
          "metadata": {},
          "execution_count": 34
        }
      ]
    },
    {
      "cell_type": "markdown",
      "source": [
        "### accuracy_7s = (1 - is_3(valid_7_tens).float()).mean()\n",
        "##### * '7'은 '3'과 반대되는 개념이므로 '1 - '를 통해 반전시킴.\n",
        "##### ** '3', '7' 모두 90%가 넘는 정확도를 얻었음.\n",
        "### .\n",
        "### 실제로 무언가를 학습하는 시스템은 \"스스로 '자동 수정'해나가는 방법\"이 필요하다. -> SGD"
      ],
      "metadata": {
        "id": "w2q6FRRCQN25"
      }
    },
    {
      "cell_type": "markdown",
      "source": [
        "## 4.4 확률적 경사 하강법\n",
        "##### * 특정 이미지와 '이상적인 이미지' 사이의 유사도를 찾는 대신, 개별 픽셀'마다' 가중치를 설정하고, 숫자를 표현하는 \"검은색 픽셀의 '가중치를 높이는' 방법\"을 생각해보자.\n",
        "##### ** '3' 이라면, 해당 부분이 높은 확률로 활성화 될것.\n",
        "##### *** 따라서, 가중치는 '7'에서 낮게, '3'에서는 높게 매겨진다."
      ],
      "metadata": {
        "id": "Fu9xaLLJQlk7"
      }
    },
    {
      "cell_type": "code",
      "source": [
        "def pr_three(x, w): return (x*w).sum()"
      ],
      "metadata": {
        "id": "FX9f-bUeQGbp"
      },
      "execution_count": 35,
      "outputs": []
    },
    {
      "cell_type": "markdown",
      "source": [
        "### x, w\n",
        "##### x: 벡터; 2차원으로 표현된 픽셀의 각 행을 이어붙인 1차원의 긴 배열 (이라고 가정하자)\n",
        "##### w: 벡터; 가중치\n",
        "##### * 함수 정의 후, 가중치를 약간씩 조정하는 방법 생각할 것."
      ],
      "metadata": {
        "id": "qYNoumYyXJ8U"
      }
    },
    {
      "cell_type": "markdown",
      "source": [
        "### 목표: 숫자 3에서는 높지만, 그 외의 숫자에서는 낮은 w 값을 찾는 것.\n",
        "#### (머신러닝) 분류 모델로 만드는데 필요한 단계\n",
        "##### ① 가중치를 '초기화(initialize)' 한다.\n",
        "##### ② 현재 가중치로 이미지가 3 또는 7 인지를 '예측(predict)' 한다.\n",
        "##### ③ 예측한 결과로 모델이 얼마나 좋은지 계산한다('손실' 측정).\n",
        "##### ④ 가중치 갱신 정도가 손실에 미치는 영향을 측정하는 '그레디언트(gradient; 미분값, 기울기)'을 계산한다.\n",
        "##### ⑤ '④'에서 계산한 그레디언트로 가중치 값을 '한 단계(step)' 조정한다.\n",
        "##### ⑥ '②'로 돌아가서 과정을 '반복(repeat)'한다.\n",
        "##### ⑦ 학습 과정을 멈춰도 좋다는 '판단'이 설 때까지 계속해서 반복한다.(모델 성능이 충분하다고 판단하거나, 시간상 제약으로 멈춰야 할지도 모름)\n",
        "###.\n",
        "##### .....................┎> [손실 측정] -> [그레디언트 계산] ┓\n",
        "##### [초기화] -> [예측] <-------------------------- [가중치 한 단계 갱신] -> [훈련 종료]\n",
        "##### (p.205 참고)"
      ],
      "metadata": {
        "id": "vzfnuRV-XiNp"
      }
    },
    {
      "cell_type": "code",
      "source": [
        "def f(x): return x**2"
      ],
      "metadata": {
        "id": "4em7vKV7WMhY"
      },
      "execution_count": 36,
      "outputs": []
    },
    {
      "cell_type": "code",
      "source": [
        "# why? then, what is plot_function?\n",
        "# plot_function(f, 'x', 'x**2')"
      ],
      "metadata": {
        "id": "-gG-IBYYaWqG"
      },
      "execution_count": 37,
      "outputs": []
    },
    {
      "cell_type": "code",
      "source": [
        "#plt.scatter(-1.5, f(-1.5), color='red');"
      ],
      "metadata": {
        "id": "JRMTya24aZ1X"
      },
      "execution_count": 38,
      "outputs": []
    },
    {
      "cell_type": "markdown",
      "source": [
        "## 4.4.1 그레디언트 계산\n",
        "### - 학습의 마법이 일어날 때\n",
        "##### * 파이토치는 거의 모든 함수에 대해 미분을 자동으로 계산해준다."
      ],
      "metadata": {
        "id": "XfEtHkDxcd6F"
      }
    },
    {
      "cell_type": "code",
      "source": [
        "xt = tensor(3.).requires_grad_()"
      ],
      "metadata": {
        "id": "SLdICgr1cTIS"
      },
      "execution_count": 39,
      "outputs": []
    },
    {
      "cell_type": "markdown",
      "source": [
        "### requires_grad_()\n",
        "##### * 파이토치에 특정 값의 변수에 대한 그레디언트를 계산해 달라고 하는 마법같은 함수.\n",
        "##### ** 내부적으로, 변수에 '태그'를 붙이는 방법이다.\n",
        "##### *** 파이토치는 태그 정보를 활요해 기존의 텐서에 추가 연산이 발생하더라도 모든 연산을 추적하여 그레디언트를 계산하는 방법을 기억한다."
      ],
      "metadata": {
        "id": "5s8pbrfdfKJ1"
      }
    },
    {
      "cell_type": "code",
      "source": [
        "yt = f(xt)\n",
        "yt"
      ],
      "metadata": {
        "colab": {
          "base_uri": "https://localhost:8080/"
        },
        "id": "c7esBLCwfI-V",
        "outputId": "e85c1f3f-5d91-4ce0-be4e-35324066b925"
      },
      "execution_count": 40,
      "outputs": [
        {
          "output_type": "execute_result",
          "data": {
            "text/plain": [
              "tensor(9., grad_fn=<PowBackward0>)"
            ]
          },
          "metadata": {},
          "execution_count": 40
        }
      ]
    },
    {
      "cell_type": "code",
      "source": [
        "yt.backward()"
      ],
      "metadata": {
        "id": "vipo73AWfs-c"
      },
      "execution_count": 41,
      "outputs": []
    },
    {
      "cell_type": "markdown",
      "source": [
        "### backward(): 역전파\n",
        "##### 우리가 계속 말해왔던 미분과정"
      ],
      "metadata": {
        "id": "IN9tGcRFfwvX"
      }
    },
    {
      "cell_type": "code",
      "source": [
        "# 실제 계산된 그레디언트를 알 수 있다.\n",
        "xt.grad"
      ],
      "metadata": {
        "colab": {
          "base_uri": "https://localhost:8080/"
        },
        "id": "EKdGQ4FPfwBV",
        "outputId": "623ae645-100c-48b2-8547-474eeabda2a9"
      },
      "execution_count": 42,
      "outputs": [
        {
          "output_type": "execute_result",
          "data": {
            "text/plain": [
              "tensor(6.)"
            ]
          },
          "metadata": {},
          "execution_count": 42
        }
      ]
    },
    {
      "cell_type": "code",
      "source": [
        "xt = tensor([3., 4., 10.]).requires_grad_()\n",
        "xt"
      ],
      "metadata": {
        "colab": {
          "base_uri": "https://localhost:8080/"
        },
        "id": "k_CPycUfgAXc",
        "outputId": "04c1ff42-5e55-44b8-df92-37f0d7869d86"
      },
      "execution_count": 43,
      "outputs": [
        {
          "output_type": "execute_result",
          "data": {
            "text/plain": [
              "tensor([ 3.,  4., 10.], requires_grad=True)"
            ]
          },
          "metadata": {},
          "execution_count": 43
        }
      ]
    },
    {
      "cell_type": "markdown",
      "source": [
        "##### 단일 숫자 대신 벡터를 입력해 그레디언트를 다시 구했다.\n",
        "##### 이제, sum을 추가해, 벡터가 입력되었을 때, 스칼라값을 출력하도록 만들어주자."
      ],
      "metadata": {
        "id": "pr-wA4QigUEL"
      }
    },
    {
      "cell_type": "code",
      "source": [
        "def f(x): return (x**2).sum()\n",
        "yt = f(xt)\n",
        "yt"
      ],
      "metadata": {
        "colab": {
          "base_uri": "https://localhost:8080/"
        },
        "id": "E-B-WLFmgPZr",
        "outputId": "1b46964a-bc27-4968-f6e1-bc2cc4f47394"
      },
      "execution_count": 44,
      "outputs": [
        {
          "output_type": "execute_result",
          "data": {
            "text/plain": [
              "tensor(125., grad_fn=<SumBackward0>)"
            ]
          },
          "metadata": {},
          "execution_count": 44
        }
      ]
    },
    {
      "cell_type": "code",
      "source": [
        "yt.backward()\n",
        "xt.grad"
      ],
      "metadata": {
        "colab": {
          "base_uri": "https://localhost:8080/"
        },
        "id": "t8lYrPtLgiIH",
        "outputId": "c8a7fa35-bf98-4e19-9a45-f934018856c6"
      },
      "execution_count": 45,
      "outputs": [
        {
          "output_type": "execute_result",
          "data": {
            "text/plain": [
              "tensor([ 6.,  8., 20.])"
            ]
          },
          "metadata": {},
          "execution_count": 45
        }
      ]
    },
    {
      "cell_type": "markdown",
      "source": [
        "##### * 그레디언트는 함수의 기울기만을 나타낸다. 따라서, 파라미터를 얼마나 조정해야 하는지를 알려주지는 않는다. 그렇다면 어떻게 알 수 있을까?"
      ],
      "metadata": {
        "id": "OvSiMZxbgoJA"
      }
    },
    {
      "cell_type": "markdown",
      "source": [
        "## 4.4.2 학습률을 사용해 단계 밟아 나가기\n",
        "### 경사가 가파르면 조정을 더 많이, 경사가 완만하면 최적의 값에 가까울 것 같은데...\n",
        "##### 학습률(LR: learning rate) 이라는 작은 값을 그레디언트에 곱해보자.(대부분 0.001 ~ 0.1 정도로 선택)"
      ],
      "metadata": {
        "id": "J0y5aOWWg0-f"
      }
    },
    {
      "cell_type": "code",
      "source": [
        "# w -= w.grad * lr"
      ],
      "metadata": {
        "id": "3EvrM2xngkYH"
      },
      "execution_count": 46,
      "outputs": []
    },
    {
      "cell_type": "markdown",
      "source": [
        "##### 이러한 과정은 보통 '최적화 단계(optimization step)'를 사용한 파라미터의 '갱신 단계(stepping)'라고 한다.\n",
        "##### * 너무 작은 학습률 -> 많은 단계 수행 -> 연산량 증가, 오래 걸림\n",
        "##### ** 너무 큰 학습률 -> 손실이 더 심해짐\n",
        "##### *** 따라서, 적당한 크기의 학습률을 사용하는 것이 중요."
      ],
      "metadata": {
        "id": "dvluDU6ch0lE"
      }
    },
    {
      "cell_type": "markdown",
      "source": [
        "## 4.4.3 SGD를 활용한 시작부터 끝까지를 보여주는 예제"
      ],
      "metadata": {
        "id": "1MYga7YGiVHn"
      }
    },
    {
      "cell_type": "code",
      "source": [
        "time = torch.arange(0, 20).float(); time"
      ],
      "metadata": {
        "colab": {
          "base_uri": "https://localhost:8080/"
        },
        "id": "bnlIMcddhfN2",
        "outputId": "f91ca23e-94f3-4182-975f-5284da7094e0"
      },
      "execution_count": 47,
      "outputs": [
        {
          "output_type": "execute_result",
          "data": {
            "text/plain": [
              "tensor([ 0.,  1.,  2.,  3.,  4.,  5.,  6.,  7.,  8.,  9., 10., 11., 12., 13.,\n",
              "        14., 15., 16., 17., 18., 19.])"
            ]
          },
          "metadata": {},
          "execution_count": 47
        }
      ]
    },
    {
      "cell_type": "code",
      "source": [
        "speed = torch.randn(20)*3 + 0.75*(time-9.5)**2 + 1\n",
        "plt.scatter(time, speed);"
      ],
      "metadata": {
        "colab": {
          "base_uri": "https://localhost:8080/",
          "height": 265
        },
        "id": "WJ8jGikxifuE",
        "outputId": "425498e2-c36e-4fe9-a239-390acfd6a804"
      },
      "execution_count": 48,
      "outputs": [
        {
          "output_type": "display_data",
          "data": {
            "text/plain": [
              "<Figure size 432x288 with 1 Axes>"
            ],
            "image/png": "[encoded data removed]"
          },
          "metadata": {
            "needs_background": "light"
          }
        }
      ]
    },
    {
      "cell_type": "markdown",
      "source": [
        "##### * 수작업 측정은 정확하지 않을 수 있어, 임의의 노이즈도 약간 추가함."
      ],
      "metadata": {
        "id": "JEJqwYAzipYk"
      }
    },
    {
      "cell_type": "code",
      "source": [
        "def f(t, params):\n",
        "  a,b,c = params\n",
        "  return a*(t**2) + (b*t) + c"
      ],
      "metadata": {
        "id": "BpgV0Lbcim6O"
      },
      "execution_count": 49,
      "outputs": []
    },
    {
      "cell_type": "code",
      "source": [
        "def mse(preds, targets): return ((preds-targets)**2).mean().sqrt()"
      ],
      "metadata": {
        "id": "35xwbqVWjIag"
      },
      "execution_count": 50,
      "outputs": []
    },
    {
      "cell_type": "markdown",
      "source": [
        "### 1단계: 파라미터 초기화"
      ],
      "metadata": {
        "id": "OX0VPN8-jedE"
      }
    },
    {
      "cell_type": "code",
      "source": [
        "params = torch.randn(3).requires_grad_()"
      ],
      "metadata": {
        "id": "OgQayU7ajdM9"
      },
      "execution_count": 51,
      "outputs": []
    },
    {
      "cell_type": "markdown",
      "source": [
        "### 2단계: 예측 계산"
      ],
      "metadata": {
        "id": "RYRMbTp1jmWv"
      }
    },
    {
      "cell_type": "code",
      "source": [
        "# 함수에 입력과 파라미터를 넣어서 예측 계산\n",
        "preds = f(time, params)"
      ],
      "metadata": {
        "id": "eSroYxwgjlrn"
      },
      "execution_count": 52,
      "outputs": []
    },
    {
      "cell_type": "code",
      "source": [
        "# 예측과 실제 타깃의 유사도를 그래프로 확인하는 간단한 함수를 만든다.\n",
        "def show_preds(preds, ax=None):\n",
        "  if ax is None: ax=plt.subplots()[1]\n",
        "  ax.scatter(time, speed)\n",
        "  ax.scatter(time, to_np(preds), color='red')\n",
        "  ax.set_ylim(-300, 100)"
      ],
      "metadata": {
        "id": "_w0PdJLyjqK6"
      },
      "execution_count": 53,
      "outputs": []
    },
    {
      "cell_type": "code",
      "source": [
        "show_preds(preds)"
      ],
      "metadata": {
        "colab": {
          "base_uri": "https://localhost:8080/",
          "height": 269
        },
        "id": "Hdu904zhkAdA",
        "outputId": "75c18c27-15ed-4284-ba43-d167d91c8858"
      },
      "execution_count": 54,
      "outputs": [
        {
          "output_type": "display_data",
          "data": {
            "text/plain": [
              "<Figure size 432x288 with 1 Axes>"
            ],
            "image/png": "[encoded data removed]"
          },
          "metadata": {
            "needs_background": "light"
          }
        }
      ]
    },
    {
      "cell_type": "markdown",
      "source": [
        "##### 예측과 타깃이 완전히 다르다!?"
      ],
      "metadata": {
        "id": "txN0U_T5kDIg"
      }
    },
    {
      "cell_type": "markdown",
      "source": [
        "### 3단계: 손실 계산"
      ],
      "metadata": {
        "id": "m5O0mPjgkN7m"
      }
    },
    {
      "cell_type": "code",
      "source": [
        "# 손실 계산\n",
        "loss = mse(preds, speed)\n",
        "loss"
      ],
      "metadata": {
        "colab": {
          "base_uri": "https://localhost:8080/"
        },
        "id": "SxqowaXTkCaA",
        "outputId": "06a9a712-8482-496a-c3df-7733e0c16aa2"
      },
      "execution_count": 55,
      "outputs": [
        {
          "output_type": "execute_result",
          "data": {
            "text/plain": [
              "tensor(36.3867, grad_fn=<SqrtBackward0>)"
            ]
          },
          "metadata": {},
          "execution_count": 55
        }
      ]
    },
    {
      "cell_type": "markdown",
      "source": [
        "##### 이제 계산된 손실값을 줄여서 성능을 높이는 것을 목표로 한다.(그래디언트 먼저 알아야함)"
      ],
      "metadata": {
        "id": "sKi1YINEkc93"
      }
    },
    {
      "cell_type": "markdown",
      "source": [
        "### 4단계: 그레디언트 계산\n",
        "##### 파라미터 값이 바뀌어야 하는 정도를 추정하는 그레디언트를 계산한다."
      ],
      "metadata": {
        "id": "5sKm3SZdkkIY"
      }
    },
    {
      "cell_type": "code",
      "source": [
        "loss.backward()\n",
        "params.grad"
      ],
      "metadata": {
        "colab": {
          "base_uri": "https://localhost:8080/"
        },
        "id": "g7DgkLoykT08",
        "outputId": "97011522-40de-4ec0-cbe7-c2b80c2e2e2d"
      },
      "execution_count": 56,
      "outputs": [
        {
          "output_type": "execute_result",
          "data": {
            "text/plain": [
              "tensor([121.4236,   7.8287,   0.2894])"
            ]
          },
          "metadata": {},
          "execution_count": 56
        }
      ]
    },
    {
      "cell_type": "code",
      "source": [
        "params.grad * 1e-5"
      ],
      "metadata": {
        "colab": {
          "base_uri": "https://localhost:8080/"
        },
        "id": "TMMUY3ddktra",
        "outputId": "6f203b1c-f2ae-4485-ee9e-a580efcd84f2"
      },
      "execution_count": 57,
      "outputs": [
        {
          "output_type": "execute_result",
          "data": {
            "text/plain": [
              "tensor([1.2142e-03, 7.8287e-05, 2.8935e-06])"
            ]
          },
          "metadata": {},
          "execution_count": 57
        }
      ]
    },
    {
      "cell_type": "markdown",
      "source": [
        "##### 1e-5는 학습률.(0.00001)"
      ],
      "metadata": {
        "id": "gg0VMsFokyUw"
      }
    },
    {
      "cell_type": "code",
      "source": [
        "params"
      ],
      "metadata": {
        "colab": {
          "base_uri": "https://localhost:8080/"
        },
        "id": "JYDQOvvYkwWD",
        "outputId": "d70281c6-3b72-41a9-e8a7-27230428dd01"
      },
      "execution_count": 58,
      "outputs": [
        {
          "output_type": "execute_result",
          "data": {
            "text/plain": [
              "tensor([ 0.3171, -0.4227,  0.9989], requires_grad=True)"
            ]
          },
          "metadata": {},
          "execution_count": 58
        }
      ]
    },
    {
      "cell_type": "markdown",
      "source": [
        "### 5단계: 가중치를 한 단계 갱신하기"
      ],
      "metadata": {
        "id": "-86vNtcgk6Yp"
      }
    },
    {
      "cell_type": "code",
      "source": [
        "# 계산된 그레디언트에 기반하여 파라미터 값을 갱신\n",
        "lr = 1e-5\n",
        "params.data -= lr * params.grad.data\n",
        "params.grad = None"
      ],
      "metadata": {
        "id": "8B0BnZBjk4Ki"
      },
      "execution_count": 59,
      "outputs": []
    },
    {
      "cell_type": "markdown",
      "source": [
        "##### 손실이 개선되었는지 확인해보자."
      ],
      "metadata": {
        "id": "WaGurU1ClK6e"
      }
    },
    {
      "cell_type": "code",
      "source": [
        "preds = f(time, params)\n",
        "mse(preds, speed)"
      ],
      "metadata": {
        "colab": {
          "base_uri": "https://localhost:8080/"
        },
        "id": "ZiF108l4lGdZ",
        "outputId": "2a0e6352-bf09-4adf-e06f-0430fce15191"
      },
      "execution_count": 60,
      "outputs": [
        {
          "output_type": "execute_result",
          "data": {
            "text/plain": [
              "tensor(36.2390, grad_fn=<SqrtBackward0>)"
            ]
          },
          "metadata": {},
          "execution_count": 60
        }
      ]
    },
    {
      "cell_type": "code",
      "source": [
        "# 그리기\n",
        "show_preds(preds)"
      ],
      "metadata": {
        "colab": {
          "base_uri": "https://localhost:8080/",
          "height": 269
        },
        "id": "P-1LD0WIlRGH",
        "outputId": "f178051b-3d24-4166-b1d0-175d6356b112"
      },
      "execution_count": 61,
      "outputs": [
        {
          "output_type": "display_data",
          "data": {
            "text/plain": [
              "<Figure size 432x288 with 1 Axes>"
            ],
            "image/png": "[encoded data removed]"
          },
          "metadata": {
            "needs_background": "light"
          }
        }
      ]
    },
    {
      "cell_type": "markdown",
      "source": [
        "##### 지금까지의 과정을 수차례 반복해야 하므로 모든 과정을 담은 함수를 만든다."
      ],
      "metadata": {
        "id": "DqApU7BhlYKS"
      }
    },
    {
      "cell_type": "code",
      "source": [
        "def apply_step(params, prn=True):\n",
        "  preds = f(time, params)\n",
        "  loss = mse(preds, speed)\n",
        "  loss.backward()\n",
        "  params.data -= lr * params.grad.data\n",
        "  params.grad = None\n",
        "  if prn: print(loss.item())\n",
        "  return preds"
      ],
      "metadata": {
        "id": "zFhZZrNulUGh"
      },
      "execution_count": 62,
      "outputs": []
    },
    {
      "cell_type": "markdown",
      "source": [
        "### 6단계: 과정 반복하기"
      ],
      "metadata": {
        "id": "piZjF3wlluOc"
      }
    },
    {
      "cell_type": "code",
      "source": [
        "for i in range(10): apply_step(params)"
      ],
      "metadata": {
        "colab": {
          "base_uri": "https://localhost:8080/"
        },
        "id": "CQ-WAe7alr1X",
        "outputId": "67df34bf-a235-4cca-eff2-e115f7b3aa3b"
      },
      "execution_count": 63,
      "outputs": [
        {
          "output_type": "stream",
          "name": "stdout",
          "text": [
            "36.238956451416016\n",
            "36.092281341552734\n",
            "35.946712493896484\n",
            "35.802249908447266\n",
            "35.65890121459961\n",
            "35.51667785644531\n",
            "35.37557601928711\n",
            "35.2356071472168\n",
            "35.096771240234375\n",
            "34.959068298339844\n"
          ]
        }
      ]
    },
    {
      "cell_type": "markdown",
      "source": [
        "##### 2차 함수의 모양이 잡혀가는 과정을 파악하자."
      ],
      "metadata": {
        "id": "bAvZnbuimdah"
      }
    },
    {
      "cell_type": "code",
      "source": [
        "_, axs = plt.subplots(1, 4, figsize=(12, 3))\n",
        "for ax in axs: show_preds(apply_step(params, False), ax)\n",
        "plt.tight_layout()"
      ],
      "metadata": {
        "colab": {
          "base_uri": "https://localhost:8080/",
          "height": 225
        },
        "id": "j7p_PyoEl66s",
        "outputId": "cc544cb1-637f-4216-c103-f99a92cc91a8"
      },
      "execution_count": 64,
      "outputs": [
        {
          "output_type": "display_data",
          "data": {
            "text/plain": [
              "<Figure size 864x216 with 4 Axes>"
            ],
            "image/png": "[encoded data removed]"
          },
          "metadata": {
            "needs_background": "light"
          }
        }
      ]
    },
    {
      "cell_type": "markdown",
      "source": [
        "### 7단계: 학습 종료\n",
        "#####  10번의 에포크 후 학습을 종료했다. 임의로 정한 횟수이기 때문에 큰 의미는 없지만, 실전에는 학습용과 검증용 데이터셋에 대한 손실 및 평가 지표를 주시하면서 학습 종료 시점을 결정해야한다."
      ],
      "metadata": {
        "id": "FrtIfMmam0Bk"
      }
    },
    {
      "cell_type": "markdown",
      "source": [
        "## 잠시 복습\n",
        "##### 1. 파라미터 초기화\n",
        "##### 2. 예측 계산\n",
        "##### 3. 손실 계산\n",
        "##### 4. 그레디언트 계산\n",
        "##### 5. 가중치를 한 단계 갱신\n",
        "##### 6. 과정 반복\n",
        "##### 7. 학습 종료"
      ],
      "metadata": {
        "id": "MUZuCxbjnULH"
      }
    },
    {
      "cell_type": "code",
      "source": [],
      "metadata": {
        "id": "x-r4ZZ_emzcP"
      },
      "execution_count": 64,
      "outputs": []
    }
  ]
}