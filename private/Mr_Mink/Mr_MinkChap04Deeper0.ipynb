{
  "nbformat": 4,
  "nbformat_minor": 0,
  "metadata": {
    "colab": {
      "provenance": [],
      "authorship_tag": "ABX9TyMsFK/71WkTBayGYxtL/Z7X",
      "include_colab_link": true
    },
    "kernelspec": {
      "name": "python3",
      "display_name": "Python 3"
    },
    "language_info": {
      "name": "python"
    }
  },
  "cells": [
    {
      "cell_type": "markdown",
      "metadata": {
        "id": "view-in-github",
        "colab_type": "text"
      },
      "source": [
        "<a href=\"https://colab.research.google.com/github/hs0224/a-professor-student-research-club/blob/main/private/Mr_MinkChap04Deeper0.ipynb\" target=\"_parent\"><img src=\"https://colab.research.google.com/assets/colab-badge.svg\" alt=\"Open In Colab\"/></a>"
      ]
    },
    {
      "cell_type": "markdown",
      "source": [
        "# 4장 숫자 분류기의 학습 내부 들여다보기\n",
        "##### * 3장은 윤리관련 내용..."
      ],
      "metadata": {
        "id": "knQvL89wMB8t"
      }
    },
    {
      "cell_type": "code",
      "execution_count": null,
      "metadata": {
        "id": "Y7x7CO6nL7r7"
      },
      "outputs": [],
      "source": []
    }
  ]
}