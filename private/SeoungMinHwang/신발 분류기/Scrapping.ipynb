{
 "cells": [
  {
   "cell_type": "markdown",
   "id": "0621e72c",
   "metadata": {},
   "source": [
    "# 크림 사이트에서 신발 스크래핑하는 스크립트"
   ]
  },
  {
   "cell_type": "code",
   "execution_count": 20,
   "id": "757e0528",
   "metadata": {},
   "outputs": [
    {
     "name": "stderr",
     "output_type": "stream",
     "text": [
      "<ipython-input-20-5201b6de7007>:30: DeprecationWarning: executable_path has been deprecated, please pass in a Service object\n",
      "  driver = webdriver.Chrome(path)   #-> 창 있이 실행\n"
     ]
    },
    {
     "name": "stdout",
     "output_type": "stream",
     "text": [
      "스크래핑 할 신발 이름을 검색하세요 컨버스\n"
     ]
    }
   ],
   "source": [
    "import time\n",
    "import shutil\n",
    "import datetime\n",
    "import urllib.request\n",
    "import os\n",
    "import cv2\n",
    "import numpy as np\n",
    "from bs4 import BeautifulSoup\n",
    "from pathlib import Path\n",
    "from selenium import webdriver\n",
    "from selenium.webdriver.common.by import By\n",
    "from selenium.webdriver.common.desired_capabilities import DesiredCapabilities\n",
    "from selenium.webdriver.support.ui import Select\n",
    "from PIL import Image\n",
    "\n",
    "def doScrollDown(whileSeconds):\n",
    "    '''매개변수로 받은 초단위동안 브라우져 아래로 스크롤 하는 함수'''\n",
    "    start = datetime.datetime.now()\n",
    "    end = start + datetime.timedelta(seconds=whileSeconds)\n",
    "    while True:\n",
    "        driver.execute_script('window.scrollTo(0, document.body.scrollHeight);')\n",
    "        time.sleep(1)\n",
    "        if datetime.datetime.now() > end:\n",
    "            break\n",
    "            \n",
    "            \n",
    "path = \"C:\\/chromedriver.exe\"\n",
    "\n",
    "#driver = webdriver.Chrome(path, options = options) -> 창 없이 실행\n",
    "driver = webdriver.Chrome(path)   #-> 창 있이 실행 \n",
    "driver.get('https://kream.co.kr/')\n",
    "driver.find_element(By.XPATH, '//*[@id=\"__layout\"]/div/div[1]/div[2]/div/div[1]/div').click()\n",
    "\n",
    "search_shoose = input('스크래핑 할 신발 이름을 검색하세요 ')\n",
    "path = f'./data_set/{search_shoose}'\n",
    "os.mkdir(path)\n",
    "driver.find_element(By.XPATH,\n",
    "'//*[@id=\"__layout\"]/div/div[1]/div[2]/div/div[5]/div/div/div[2]/div[1]/div/div/div/input').send_keys(search_shoose)\n",
    "\n",
    "driver.find_element(By.XPATH,\n",
    "'//*[@id=\"__layout\"]/div/div[1]/div[2]/div/div[5]/div/div/div[2]/div[1]/div/div/div/input').send_keys('\\n')\n",
    "\n",
    "#5초동안 스크롤 다운 \n",
    "doScrollDown(5)\n",
    "\n",
    "count = 1\n",
    "while count <= 150:\n",
    "    img = driver.find_elements(By.CLASS_NAME, 'product_img')[count].find_element(By.CSS_SELECTOR, 'source').get_attribute('srcset')\n",
    "    urllib.request.urlretrieve(img, f\"{path}/{count}.png\")\n",
    "    count+= 1"
   ]
  },
  {
   "cell_type": "code",
   "execution_count": null,
   "id": "af71194c",
   "metadata": {},
   "outputs": [],
   "source": []
  },
  {
   "cell_type": "code",
   "execution_count": null,
   "id": "9e5e46ca",
   "metadata": {},
   "outputs": [],
   "source": []
  }
 ],
 "metadata": {
  "kernelspec": {
   "display_name": "Python 3",
   "language": "python",
   "name": "python3"
  },
  "language_info": {
   "codemirror_mode": {
    "name": "ipython",
    "version": 3
   },
   "file_extension": ".py",
   "mimetype": "text/x-python",
   "name": "python",
   "nbconvert_exporter": "python",
   "pygments_lexer": "ipython3",
   "version": "3.8.8"
  }
 },
 "nbformat": 4,
 "nbformat_minor": 5
}
